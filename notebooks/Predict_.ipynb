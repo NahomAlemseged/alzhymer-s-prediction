{
 "cells": [
  {
   "cell_type": "markdown",
   "metadata": {},
   "source": [
    "### IMPORT LIBRARIES"
   ]
  },
  {
   "cell_type": "code",
   "execution_count": 4,
   "metadata": {},
   "outputs": [],
   "source": [
    "import pandas as pd\n",
    "import numpy as np\n",
    "import tensorflow.keras as tf\n",
    "from tensorflow.keras.layers import Dense, Flatten\n",
    "from tensorflow.keras.models import Sequential\n",
    "from sklearn.model_selection import train_test_split\n",
    "from xgboost import XGBClassifier\n",
    "from sklearn.metrics import classification_report,f1_score,accuracy_score,roc_auc_score,roc_curve"
   ]
  },
  {
   "cell_type": "markdown",
   "metadata": {},
   "source": [
    "### IMPORT DATASET"
   ]
  },
  {
   "cell_type": "code",
   "execution_count": 5,
   "metadata": {},
   "outputs": [],
   "source": [
    "x= pd.read_csv(\"../data/X_train.csv\") \n",
    "y = pd.read_csv(\"../data/Y_train.csv\")\n",
    "x_test = pd.read_csv(\"../data/X_test.csv\")"
   ]
  },
  {
   "cell_type": "code",
   "execution_count": 6,
   "metadata": {},
   "outputs": [
    {
     "data": {
      "text/plain": [
       "Outcome\n",
       "AD         303\n",
       "C           97\n",
       "dtype: int64"
      ]
     },
     "execution_count": 6,
     "metadata": {},
     "output_type": "execute_result"
    }
   ],
   "source": [
    "y_trial = pd.read_csv(\"../data/Y_train.csv\")\n",
    "y_trial.value_counts()"
   ]
  },
  {
   "cell_type": "code",
   "execution_count": 7,
   "metadata": {},
   "outputs": [],
   "source": [
    "y.replace({'C':0,'AD':1}, inplace = True)"
   ]
  },
  {
   "cell_type": "code",
   "execution_count": 8,
   "metadata": {},
   "outputs": [],
   "source": [
    "x_train, x_valid, y_train, y_valid = train_test_split(x, y, test_size=0.25, shuffle= True, random_state=42)"
   ]
  },
  {
   "cell_type": "code",
   "execution_count": 60,
   "metadata": {},
   "outputs": [],
   "source": [
    "def ae_reduce(x_train, x_valid):\n",
    "    n_input = len(x_train.columns)\n",
    "    # n_hidden = len(x_train.columns)\n",
    "    n_latent = 190\n",
    "    epoch = 200\n",
    "    lr = 1e-3\n",
    "    encoder = Sequential([\n",
    "        Dense(n_input, activation='selu', input_dim=n_input),\n",
    "        # Dense(n_hidden, activation='selu'),\n",
    "        Dense(n_latent, activation='selu')\n",
    "    ])\n",
    "    decoder = Sequential([\n",
    "        # Dense(n_hidden, activation='selu'),\n",
    "        Dense(n_input, activation='selu')\n",
    "    ])\n",
    "    stacked_ae = Sequential([encoder,decoder])\n",
    "    checkpoint_cb = tf.callbacks.ModelCheckpoint(\"my__model.h5\",save_best_only=True)\n",
    "    early_stopping_cb = tf.callbacks.EarlyStopping(patience=3,restore_best_weights=True)\n",
    "    stacked_ae.compile(optimizer = tf.optimizers.Adam(learning_rate = lr), loss = tf.losses.mean_squared_error, metrics='accuracy')\n",
    "    # history = stacked_ae.fit(x_train, x_train, epochs=epoch, validation_data=[X_test, X_test],callbacks=[checkpoint_cb, early_stopping_cb])\n",
    "    history = stacked_ae.fit(x_train, x_train, epochs=epoch, validation_data=[x_valid, x_valid], verbose=0)\n",
    "    train_encoded = encoder.predict(x_train)\n",
    "    full_encoded = stacked_ae.predict(x_train)\n",
    "    test_encoded = encoder.predict(x_valid)\n",
    "    # print('mse:',mean_squared_error(stacked_ae.predict(full_encoded), x_train))\n",
    "    train_encoded = pd.DataFrame(train_encoded)\n",
    "    test_encoded = pd.DataFrame(test_encoded)\n",
    "    train_encoded['train_status'] = 'train' \n",
    "    test_encoded['train_status'] = 'test'\n",
    "    df_ae = pd.concat([train_encoded, test_encoded], axis = 0)\n",
    "    return df_ae"
   ]
  },
  {
   "cell_type": "code",
   "execution_count": 62,
   "metadata": {},
   "outputs": [
    {
     "name": "stdout",
     "output_type": "stream",
     "text": [
      "Epoch 1/200\n",
      "10/10 [==============================] - 4s 120ms/step - loss: 2.6556 - accuracy: 0.0033 - val_loss: 0.5566 - val_accuracy: 0.0900\n",
      "Epoch 2/200\n",
      "10/10 [==============================] - 0s 43ms/step - loss: 0.3810 - accuracy: 0.0967 - val_loss: 0.2711 - val_accuracy: 0.2300\n",
      "Epoch 3/200\n",
      "10/10 [==============================] - 0s 43ms/step - loss: 0.2265 - accuracy: 0.2500 - val_loss: 0.1770 - val_accuracy: 0.2300\n",
      "Epoch 4/200\n",
      "10/10 [==============================] - 0s 41ms/step - loss: 0.1657 - accuracy: 0.2067 - val_loss: 0.1562 - val_accuracy: 0.0900\n",
      "Epoch 5/200\n",
      "10/10 [==============================] - 0s 35ms/step - loss: 0.1488 - accuracy: 0.0800 - val_loss: 0.1385 - val_accuracy: 0.2100\n",
      "Epoch 6/200\n",
      "10/10 [==============================] - 1s 105ms/step - loss: 0.1379 - accuracy: 0.2067 - val_loss: 0.1354 - val_accuracy: 0.2800\n",
      "Epoch 7/200\n",
      "10/10 [==============================] - 1s 56ms/step - loss: 0.1331 - accuracy: 0.2800 - val_loss: 0.1303 - val_accuracy: 0.2100\n",
      "Epoch 8/200\n",
      "10/10 [==============================] - 0s 22ms/step - loss: 0.1296 - accuracy: 0.2000 - val_loss: 0.1278 - val_accuracy: 0.3000\n",
      "Epoch 9/200\n",
      "10/10 [==============================] - 0s 16ms/step - loss: 0.1272 - accuracy: 0.2333 - val_loss: 0.1266 - val_accuracy: 0.3500\n",
      "Epoch 10/200\n",
      "10/10 [==============================] - 0s 15ms/step - loss: 0.1254 - accuracy: 0.2933 - val_loss: 0.1269 - val_accuracy: 0.3400\n",
      "Epoch 11/200\n",
      "10/10 [==============================] - 0s 15ms/step - loss: 0.1249 - accuracy: 0.2200 - val_loss: 0.1267 - val_accuracy: 0.1500\n",
      "Epoch 12/200\n",
      "10/10 [==============================] - 0s 45ms/step - loss: 0.1243 - accuracy: 0.2433 - val_loss: 0.1239 - val_accuracy: 0.3500\n",
      "Epoch 13/200\n",
      "10/10 [==============================] - 0s 33ms/step - loss: 0.1233 - accuracy: 0.2667 - val_loss: 0.1233 - val_accuracy: 0.2300\n",
      "Epoch 14/200\n",
      "10/10 [==============================] - 1s 87ms/step - loss: 0.1229 - accuracy: 0.2867 - val_loss: 0.1233 - val_accuracy: 0.3400\n",
      "Epoch 15/200\n",
      "10/10 [==============================] - 1s 69ms/step - loss: 0.1215 - accuracy: 0.3067 - val_loss: 0.1226 - val_accuracy: 0.3300\n",
      "Epoch 16/200\n",
      "10/10 [==============================] - 0s 47ms/step - loss: 0.1201 - accuracy: 0.2567 - val_loss: 0.1214 - val_accuracy: 0.2500\n",
      "Epoch 17/200\n",
      "10/10 [==============================] - 1s 75ms/step - loss: 0.1191 - accuracy: 0.2967 - val_loss: 0.1220 - val_accuracy: 0.2800\n",
      "Epoch 18/200\n",
      "10/10 [==============================] - 0s 40ms/step - loss: 0.1187 - accuracy: 0.2933 - val_loss: 0.1237 - val_accuracy: 0.3600\n",
      "Epoch 19/200\n",
      "10/10 [==============================] - 0s 29ms/step - loss: 0.1181 - accuracy: 0.3167 - val_loss: 0.1193 - val_accuracy: 0.2800\n",
      "Epoch 20/200\n",
      "10/10 [==============================] - 0s 27ms/step - loss: 0.1165 - accuracy: 0.2867 - val_loss: 0.1190 - val_accuracy: 0.3200\n",
      "Epoch 21/200\n",
      "10/10 [==============================] - 0s 21ms/step - loss: 0.1168 - accuracy: 0.3333 - val_loss: 0.1189 - val_accuracy: 0.3200\n",
      "Epoch 22/200\n",
      "10/10 [==============================] - 0s 24ms/step - loss: 0.1161 - accuracy: 0.2833 - val_loss: 0.1198 - val_accuracy: 0.2600\n",
      "Epoch 23/200\n",
      "10/10 [==============================] - 0s 30ms/step - loss: 0.1166 - accuracy: 0.2867 - val_loss: 0.1179 - val_accuracy: 0.3500\n",
      "Epoch 24/200\n",
      "10/10 [==============================] - 0s 24ms/step - loss: 0.1146 - accuracy: 0.3067 - val_loss: 0.1169 - val_accuracy: 0.3300\n",
      "Epoch 25/200\n",
      "10/10 [==============================] - 0s 34ms/step - loss: 0.1136 - accuracy: 0.3200 - val_loss: 0.1167 - val_accuracy: 0.3500\n",
      "Epoch 26/200\n",
      "10/10 [==============================] - 0s 32ms/step - loss: 0.1126 - accuracy: 0.3233 - val_loss: 0.1162 - val_accuracy: 0.3400\n",
      "Epoch 27/200\n",
      "10/10 [==============================] - 0s 27ms/step - loss: 0.1124 - accuracy: 0.3433 - val_loss: 0.1181 - val_accuracy: 0.3500\n",
      "Epoch 28/200\n",
      "10/10 [==============================] - 0s 20ms/step - loss: 0.1122 - accuracy: 0.3100 - val_loss: 0.1167 - val_accuracy: 0.3500\n",
      "Epoch 29/200\n",
      "10/10 [==============================] - 0s 34ms/step - loss: 0.1117 - accuracy: 0.3433 - val_loss: 0.1150 - val_accuracy: 0.3700\n",
      "Epoch 30/200\n",
      "10/10 [==============================] - 0s 21ms/step - loss: 0.1109 - accuracy: 0.3533 - val_loss: 0.1147 - val_accuracy: 0.3200\n",
      "Epoch 31/200\n",
      "10/10 [==============================] - 0s 21ms/step - loss: 0.1103 - accuracy: 0.3200 - val_loss: 0.1152 - val_accuracy: 0.3200\n",
      "Epoch 32/200\n",
      "10/10 [==============================] - 0s 22ms/step - loss: 0.1101 - accuracy: 0.3233 - val_loss: 0.1144 - val_accuracy: 0.2600\n",
      "Epoch 33/200\n",
      "10/10 [==============================] - 1s 64ms/step - loss: 0.1093 - accuracy: 0.3233 - val_loss: 0.1143 - val_accuracy: 0.3000\n",
      "Epoch 34/200\n",
      "10/10 [==============================] - 0s 20ms/step - loss: 0.1086 - accuracy: 0.3300 - val_loss: 0.1132 - val_accuracy: 0.2500\n",
      "Epoch 35/200\n",
      "10/10 [==============================] - 0s 12ms/step - loss: 0.1081 - accuracy: 0.3400 - val_loss: 0.1139 - val_accuracy: 0.3700\n",
      "Epoch 36/200\n",
      "10/10 [==============================] - 0s 14ms/step - loss: 0.1084 - accuracy: 0.3300 - val_loss: 0.1139 - val_accuracy: 0.3400\n",
      "Epoch 37/200\n",
      "10/10 [==============================] - 0s 12ms/step - loss: 0.1075 - accuracy: 0.3667 - val_loss: 0.1113 - val_accuracy: 0.3100\n",
      "Epoch 38/200\n",
      "10/10 [==============================] - 0s 21ms/step - loss: 0.1062 - accuracy: 0.3700 - val_loss: 0.1122 - val_accuracy: 0.2400\n",
      "Epoch 39/200\n",
      "10/10 [==============================] - 0s 40ms/step - loss: 0.1058 - accuracy: 0.3633 - val_loss: 0.1114 - val_accuracy: 0.3500\n",
      "Epoch 40/200\n",
      "10/10 [==============================] - 1s 63ms/step - loss: 0.1052 - accuracy: 0.3733 - val_loss: 0.1125 - val_accuracy: 0.3700\n",
      "Epoch 41/200\n",
      "10/10 [==============================] - 0s 50ms/step - loss: 0.1049 - accuracy: 0.3600 - val_loss: 0.1097 - val_accuracy: 0.3800\n",
      "Epoch 42/200\n",
      "10/10 [==============================] - 0s 51ms/step - loss: 0.1038 - accuracy: 0.3867 - val_loss: 0.1099 - val_accuracy: 0.3100\n",
      "Epoch 43/200\n",
      "10/10 [==============================] - 1s 51ms/step - loss: 0.1035 - accuracy: 0.3667 - val_loss: 0.1093 - val_accuracy: 0.3400\n",
      "Epoch 44/200\n",
      "10/10 [==============================] - 0s 39ms/step - loss: 0.1033 - accuracy: 0.3700 - val_loss: 0.1090 - val_accuracy: 0.3500\n",
      "Epoch 45/200\n",
      "10/10 [==============================] - 0s 27ms/step - loss: 0.1030 - accuracy: 0.3867 - val_loss: 0.1088 - val_accuracy: 0.3800\n",
      "Epoch 46/200\n",
      "10/10 [==============================] - 0s 23ms/step - loss: 0.1025 - accuracy: 0.3733 - val_loss: 0.1084 - val_accuracy: 0.2600\n",
      "Epoch 47/200\n",
      "10/10 [==============================] - 0s 35ms/step - loss: 0.1018 - accuracy: 0.3567 - val_loss: 0.1099 - val_accuracy: 0.3700\n",
      "Epoch 48/200\n",
      "10/10 [==============================] - 0s 40ms/step - loss: 0.1012 - accuracy: 0.3833 - val_loss: 0.1087 - val_accuracy: 0.3900\n",
      "Epoch 49/200\n",
      "10/10 [==============================] - 0s 32ms/step - loss: 0.1010 - accuracy: 0.3800 - val_loss: 0.1084 - val_accuracy: 0.3600\n",
      "Epoch 50/200\n",
      "10/10 [==============================] - 0s 34ms/step - loss: 0.1000 - accuracy: 0.3833 - val_loss: 0.1064 - val_accuracy: 0.3800\n",
      "Epoch 51/200\n",
      "10/10 [==============================] - 0s 38ms/step - loss: 0.0996 - accuracy: 0.3900 - val_loss: 0.1059 - val_accuracy: 0.3400\n",
      "Epoch 52/200\n",
      "10/10 [==============================] - 0s 44ms/step - loss: 0.0983 - accuracy: 0.4200 - val_loss: 0.1049 - val_accuracy: 0.2700\n",
      "Epoch 53/200\n",
      "10/10 [==============================] - 0s 35ms/step - loss: 0.0973 - accuracy: 0.3700 - val_loss: 0.1051 - val_accuracy: 0.3700\n",
      "Epoch 54/200\n",
      "10/10 [==============================] - 0s 41ms/step - loss: 0.0971 - accuracy: 0.4167 - val_loss: 0.1055 - val_accuracy: 0.3700\n",
      "Epoch 55/200\n",
      "10/10 [==============================] - 0s 39ms/step - loss: 0.0970 - accuracy: 0.4067 - val_loss: 0.1041 - val_accuracy: 0.3600\n",
      "Epoch 56/200\n",
      "10/10 [==============================] - 0s 39ms/step - loss: 0.0961 - accuracy: 0.3933 - val_loss: 0.1049 - val_accuracy: 0.3500\n",
      "Epoch 57/200\n",
      "10/10 [==============================] - 0s 32ms/step - loss: 0.0953 - accuracy: 0.3967 - val_loss: 0.1030 - val_accuracy: 0.3600\n",
      "Epoch 58/200\n",
      "10/10 [==============================] - 0s 27ms/step - loss: 0.0947 - accuracy: 0.3833 - val_loss: 0.1036 - val_accuracy: 0.3800\n",
      "Epoch 59/200\n",
      "10/10 [==============================] - 0s 26ms/step - loss: 0.0941 - accuracy: 0.4133 - val_loss: 0.1028 - val_accuracy: 0.3500\n",
      "Epoch 60/200\n",
      "10/10 [==============================] - 0s 26ms/step - loss: 0.0935 - accuracy: 0.4067 - val_loss: 0.1034 - val_accuracy: 0.3700\n",
      "Epoch 61/200\n",
      "10/10 [==============================] - 0s 31ms/step - loss: 0.0933 - accuracy: 0.3867 - val_loss: 0.1022 - val_accuracy: 0.3700\n",
      "Epoch 62/200\n",
      "10/10 [==============================] - 0s 32ms/step - loss: 0.0927 - accuracy: 0.4033 - val_loss: 0.1021 - val_accuracy: 0.3500\n",
      "Epoch 63/200\n",
      "10/10 [==============================] - 0s 35ms/step - loss: 0.0920 - accuracy: 0.4200 - val_loss: 0.1007 - val_accuracy: 0.3300\n",
      "Epoch 64/200\n",
      "10/10 [==============================] - 0s 42ms/step - loss: 0.0910 - accuracy: 0.4033 - val_loss: 0.1008 - val_accuracy: 0.3300\n",
      "Epoch 65/200\n",
      "10/10 [==============================] - 0s 35ms/step - loss: 0.0905 - accuracy: 0.4033 - val_loss: 0.1011 - val_accuracy: 0.3300\n",
      "Epoch 66/200\n",
      "10/10 [==============================] - 0s 29ms/step - loss: 0.0905 - accuracy: 0.4067 - val_loss: 0.0996 - val_accuracy: 0.3400\n",
      "Epoch 67/200\n",
      "10/10 [==============================] - 0s 50ms/step - loss: 0.0898 - accuracy: 0.3833 - val_loss: 0.1001 - val_accuracy: 0.3500\n",
      "Epoch 68/200\n",
      "10/10 [==============================] - 0s 49ms/step - loss: 0.0897 - accuracy: 0.4233 - val_loss: 0.1010 - val_accuracy: 0.3800\n",
      "Epoch 69/200\n",
      "10/10 [==============================] - 0s 24ms/step - loss: 0.0884 - accuracy: 0.4167 - val_loss: 0.0998 - val_accuracy: 0.3600\n",
      "Epoch 70/200\n",
      "10/10 [==============================] - 0s 28ms/step - loss: 0.0885 - accuracy: 0.4267 - val_loss: 0.0994 - val_accuracy: 0.3600\n",
      "Epoch 71/200\n",
      "10/10 [==============================] - 0s 22ms/step - loss: 0.0878 - accuracy: 0.4167 - val_loss: 0.0986 - val_accuracy: 0.4000\n",
      "Epoch 72/200\n",
      "10/10 [==============================] - 0s 18ms/step - loss: 0.0872 - accuracy: 0.4233 - val_loss: 0.0988 - val_accuracy: 0.4000\n",
      "Epoch 73/200\n",
      "10/10 [==============================] - 0s 26ms/step - loss: 0.0864 - accuracy: 0.4033 - val_loss: 0.0993 - val_accuracy: 0.3400\n",
      "Epoch 74/200\n",
      "10/10 [==============================] - 0s 34ms/step - loss: 0.0862 - accuracy: 0.4033 - val_loss: 0.0967 - val_accuracy: 0.3600\n",
      "Epoch 75/200\n",
      "10/10 [==============================] - 0s 27ms/step - loss: 0.0847 - accuracy: 0.4433 - val_loss: 0.0976 - val_accuracy: 0.3600\n",
      "Epoch 76/200\n",
      "10/10 [==============================] - 0s 33ms/step - loss: 0.0844 - accuracy: 0.4267 - val_loss: 0.0966 - val_accuracy: 0.3300\n",
      "Epoch 77/200\n",
      "10/10 [==============================] - 0s 31ms/step - loss: 0.0832 - accuracy: 0.4467 - val_loss: 0.0953 - val_accuracy: 0.3400\n",
      "Epoch 78/200\n",
      "10/10 [==============================] - 0s 38ms/step - loss: 0.0827 - accuracy: 0.4567 - val_loss: 0.0954 - val_accuracy: 0.3600\n",
      "Epoch 79/200\n",
      "10/10 [==============================] - 0s 32ms/step - loss: 0.0823 - accuracy: 0.4200 - val_loss: 0.0960 - val_accuracy: 0.3200\n",
      "Epoch 80/200\n",
      "10/10 [==============================] - 0s 39ms/step - loss: 0.0820 - accuracy: 0.4200 - val_loss: 0.0946 - val_accuracy: 0.3800\n",
      "Epoch 81/200\n",
      "10/10 [==============================] - 0s 35ms/step - loss: 0.0814 - accuracy: 0.4433 - val_loss: 0.0933 - val_accuracy: 0.3700\n",
      "Epoch 82/200\n",
      "10/10 [==============================] - 0s 34ms/step - loss: 0.0802 - accuracy: 0.4400 - val_loss: 0.0938 - val_accuracy: 0.3600\n",
      "Epoch 83/200\n",
      "10/10 [==============================] - 0s 30ms/step - loss: 0.0798 - accuracy: 0.4533 - val_loss: 0.0938 - val_accuracy: 0.3500\n",
      "Epoch 84/200\n",
      "10/10 [==============================] - 0s 24ms/step - loss: 0.0795 - accuracy: 0.4567 - val_loss: 0.0933 - val_accuracy: 0.3800\n",
      "Epoch 85/200\n",
      "10/10 [==============================] - 0s 24ms/step - loss: 0.0789 - accuracy: 0.4433 - val_loss: 0.0928 - val_accuracy: 0.3500\n",
      "Epoch 86/200\n",
      "10/10 [==============================] - 0s 35ms/step - loss: 0.0779 - accuracy: 0.4433 - val_loss: 0.0928 - val_accuracy: 0.3100\n",
      "Epoch 87/200\n",
      "10/10 [==============================] - 0s 32ms/step - loss: 0.0777 - accuracy: 0.4400 - val_loss: 0.0925 - val_accuracy: 0.3800\n",
      "Epoch 88/200\n",
      "10/10 [==============================] - 0s 39ms/step - loss: 0.0774 - accuracy: 0.4200 - val_loss: 0.0907 - val_accuracy: 0.3500\n",
      "Epoch 89/200\n",
      "10/10 [==============================] - 0s 47ms/step - loss: 0.0761 - accuracy: 0.4400 - val_loss: 0.0905 - val_accuracy: 0.3800\n",
      "Epoch 90/200\n",
      "10/10 [==============================] - 0s 46ms/step - loss: 0.0755 - accuracy: 0.4233 - val_loss: 0.0911 - val_accuracy: 0.3200\n",
      "Epoch 91/200\n",
      "10/10 [==============================] - 0s 32ms/step - loss: 0.0750 - accuracy: 0.4667 - val_loss: 0.0892 - val_accuracy: 0.3500\n",
      "Epoch 92/200\n",
      "10/10 [==============================] - 0s 38ms/step - loss: 0.0740 - accuracy: 0.4733 - val_loss: 0.0893 - val_accuracy: 0.4100\n",
      "Epoch 93/200\n",
      "10/10 [==============================] - 0s 38ms/step - loss: 0.0737 - accuracy: 0.4367 - val_loss: 0.0910 - val_accuracy: 0.3800\n",
      "Epoch 94/200\n",
      "10/10 [==============================] - 0s 24ms/step - loss: 0.0733 - accuracy: 0.4467 - val_loss: 0.0887 - val_accuracy: 0.4000\n",
      "Epoch 95/200\n",
      "10/10 [==============================] - 0s 30ms/step - loss: 0.0719 - accuracy: 0.4833 - val_loss: 0.0892 - val_accuracy: 0.3600\n",
      "Epoch 96/200\n",
      "10/10 [==============================] - 0s 27ms/step - loss: 0.0726 - accuracy: 0.4633 - val_loss: 0.0886 - val_accuracy: 0.4000\n",
      "Epoch 97/200\n",
      "10/10 [==============================] - 0s 28ms/step - loss: 0.0724 - accuracy: 0.4567 - val_loss: 0.0895 - val_accuracy: 0.3900\n",
      "Epoch 98/200\n",
      "10/10 [==============================] - 0s 38ms/step - loss: 0.0722 - accuracy: 0.4400 - val_loss: 0.0893 - val_accuracy: 0.4000\n",
      "Epoch 99/200\n",
      "10/10 [==============================] - 0s 36ms/step - loss: 0.0710 - accuracy: 0.4433 - val_loss: 0.0884 - val_accuracy: 0.3800\n",
      "Epoch 100/200\n",
      "10/10 [==============================] - 0s 41ms/step - loss: 0.0710 - accuracy: 0.4467 - val_loss: 0.0883 - val_accuracy: 0.3900\n",
      "Epoch 101/200\n",
      "10/10 [==============================] - 0s 41ms/step - loss: 0.0701 - accuracy: 0.4600 - val_loss: 0.0876 - val_accuracy: 0.3400\n",
      "Epoch 102/200\n",
      "10/10 [==============================] - 0s 46ms/step - loss: 0.0693 - accuracy: 0.4433 - val_loss: 0.0865 - val_accuracy: 0.4000\n",
      "Epoch 103/200\n",
      "10/10 [==============================] - 0s 44ms/step - loss: 0.0683 - accuracy: 0.4400 - val_loss: 0.0862 - val_accuracy: 0.3900\n",
      "Epoch 104/200\n",
      "10/10 [==============================] - 0s 39ms/step - loss: 0.0678 - accuracy: 0.4500 - val_loss: 0.0855 - val_accuracy: 0.4100\n",
      "Epoch 105/200\n",
      "10/10 [==============================] - 0s 27ms/step - loss: 0.0675 - accuracy: 0.4467 - val_loss: 0.0848 - val_accuracy: 0.4100\n",
      "Epoch 106/200\n",
      "10/10 [==============================] - 0s 31ms/step - loss: 0.0669 - accuracy: 0.4567 - val_loss: 0.0855 - val_accuracy: 0.3100\n",
      "Epoch 107/200\n",
      "10/10 [==============================] - 0s 29ms/step - loss: 0.0663 - accuracy: 0.4867 - val_loss: 0.0840 - val_accuracy: 0.3800\n",
      "Epoch 108/200\n",
      "10/10 [==============================] - 0s 24ms/step - loss: 0.0658 - accuracy: 0.4800 - val_loss: 0.0850 - val_accuracy: 0.4000\n",
      "Epoch 109/200\n",
      "10/10 [==============================] - 0s 29ms/step - loss: 0.0665 - accuracy: 0.4433 - val_loss: 0.0847 - val_accuracy: 0.4300\n",
      "Epoch 110/200\n",
      "10/10 [==============================] - 0s 34ms/step - loss: 0.0661 - accuracy: 0.4767 - val_loss: 0.0844 - val_accuracy: 0.3700\n",
      "Epoch 111/200\n",
      "10/10 [==============================] - 0s 27ms/step - loss: 0.0651 - accuracy: 0.4700 - val_loss: 0.0842 - val_accuracy: 0.4000\n",
      "Epoch 112/200\n",
      "10/10 [==============================] - 0s 31ms/step - loss: 0.0643 - accuracy: 0.4600 - val_loss: 0.0831 - val_accuracy: 0.3700\n",
      "Epoch 113/200\n",
      "10/10 [==============================] - 0s 43ms/step - loss: 0.0637 - accuracy: 0.4700 - val_loss: 0.0824 - val_accuracy: 0.3800\n",
      "Epoch 114/200\n",
      "10/10 [==============================] - 0s 34ms/step - loss: 0.0630 - accuracy: 0.4633 - val_loss: 0.0821 - val_accuracy: 0.3500\n",
      "Epoch 115/200\n",
      "10/10 [==============================] - 0s 28ms/step - loss: 0.0624 - accuracy: 0.4700 - val_loss: 0.0822 - val_accuracy: 0.3700\n",
      "Epoch 116/200\n",
      "10/10 [==============================] - 0s 39ms/step - loss: 0.0622 - accuracy: 0.4900 - val_loss: 0.0827 - val_accuracy: 0.3100\n",
      "Epoch 117/200\n",
      "10/10 [==============================] - 0s 39ms/step - loss: 0.0621 - accuracy: 0.4900 - val_loss: 0.0821 - val_accuracy: 0.3400\n",
      "Epoch 118/200\n",
      "10/10 [==============================] - 0s 29ms/step - loss: 0.0620 - accuracy: 0.4733 - val_loss: 0.0828 - val_accuracy: 0.3800\n",
      "Epoch 119/200\n",
      "10/10 [==============================] - 0s 40ms/step - loss: 0.0619 - accuracy: 0.4833 - val_loss: 0.0820 - val_accuracy: 0.3900\n",
      "Epoch 120/200\n",
      "10/10 [==============================] - 0s 31ms/step - loss: 0.0611 - accuracy: 0.4800 - val_loss: 0.0812 - val_accuracy: 0.4200\n",
      "Epoch 121/200\n",
      "10/10 [==============================] - 0s 27ms/step - loss: 0.0600 - accuracy: 0.4800 - val_loss: 0.0803 - val_accuracy: 0.4000\n",
      "Epoch 122/200\n",
      "10/10 [==============================] - 0s 35ms/step - loss: 0.0597 - accuracy: 0.4933 - val_loss: 0.0800 - val_accuracy: 0.3700\n",
      "Epoch 123/200\n",
      "10/10 [==============================] - 0s 47ms/step - loss: 0.0593 - accuracy: 0.4800 - val_loss: 0.0807 - val_accuracy: 0.3300\n",
      "Epoch 124/200\n",
      "10/10 [==============================] - 0s 50ms/step - loss: 0.0591 - accuracy: 0.4567 - val_loss: 0.0795 - val_accuracy: 0.4300\n",
      "Epoch 125/200\n",
      "10/10 [==============================] - 0s 46ms/step - loss: 0.0586 - accuracy: 0.4900 - val_loss: 0.0800 - val_accuracy: 0.3000\n",
      "Epoch 126/200\n",
      "10/10 [==============================] - 0s 42ms/step - loss: 0.0588 - accuracy: 0.5033 - val_loss: 0.0793 - val_accuracy: 0.3300\n",
      "Epoch 127/200\n",
      "10/10 [==============================] - 0s 41ms/step - loss: 0.0584 - accuracy: 0.4833 - val_loss: 0.0789 - val_accuracy: 0.4000\n",
      "Epoch 128/200\n",
      "10/10 [==============================] - 0s 34ms/step - loss: 0.0579 - accuracy: 0.4967 - val_loss: 0.0790 - val_accuracy: 0.4000\n",
      "Epoch 129/200\n",
      "10/10 [==============================] - 0s 25ms/step - loss: 0.0571 - accuracy: 0.5167 - val_loss: 0.0788 - val_accuracy: 0.3700\n",
      "Epoch 130/200\n",
      "10/10 [==============================] - 0s 20ms/step - loss: 0.0566 - accuracy: 0.4767 - val_loss: 0.0791 - val_accuracy: 0.4000\n",
      "Epoch 131/200\n",
      "10/10 [==============================] - 0s 18ms/step - loss: 0.0566 - accuracy: 0.5000 - val_loss: 0.0776 - val_accuracy: 0.3300\n",
      "Epoch 132/200\n",
      "10/10 [==============================] - 0s 21ms/step - loss: 0.0560 - accuracy: 0.4767 - val_loss: 0.0777 - val_accuracy: 0.4000\n",
      "Epoch 133/200\n",
      "10/10 [==============================] - 0s 23ms/step - loss: 0.0556 - accuracy: 0.4767 - val_loss: 0.0779 - val_accuracy: 0.4200\n",
      "Epoch 134/200\n",
      "10/10 [==============================] - 0s 31ms/step - loss: 0.0556 - accuracy: 0.4900 - val_loss: 0.0773 - val_accuracy: 0.3900\n",
      "Epoch 135/200\n",
      "10/10 [==============================] - 0s 15ms/step - loss: 0.0554 - accuracy: 0.4867 - val_loss: 0.0776 - val_accuracy: 0.4300\n",
      "Epoch 136/200\n",
      "10/10 [==============================] - 0s 24ms/step - loss: 0.0547 - accuracy: 0.4967 - val_loss: 0.0765 - val_accuracy: 0.3900\n",
      "Epoch 137/200\n",
      "10/10 [==============================] - 0s 23ms/step - loss: 0.0544 - accuracy: 0.5033 - val_loss: 0.0770 - val_accuracy: 0.3900\n",
      "Epoch 138/200\n",
      "10/10 [==============================] - 0s 22ms/step - loss: 0.0544 - accuracy: 0.5100 - val_loss: 0.0789 - val_accuracy: 0.4200\n",
      "Epoch 139/200\n",
      "10/10 [==============================] - 0s 24ms/step - loss: 0.0549 - accuracy: 0.5067 - val_loss: 0.0783 - val_accuracy: 0.4300\n",
      "Epoch 140/200\n",
      "10/10 [==============================] - 0s 20ms/step - loss: 0.0547 - accuracy: 0.4967 - val_loss: 0.0781 - val_accuracy: 0.4600\n",
      "Epoch 141/200\n",
      "10/10 [==============================] - 0s 28ms/step - loss: 0.0540 - accuracy: 0.5300 - val_loss: 0.0764 - val_accuracy: 0.4300\n",
      "Epoch 142/200\n",
      "10/10 [==============================] - 0s 21ms/step - loss: 0.0528 - accuracy: 0.4967 - val_loss: 0.0751 - val_accuracy: 0.4000\n",
      "Epoch 143/200\n",
      "10/10 [==============================] - 0s 32ms/step - loss: 0.0525 - accuracy: 0.5167 - val_loss: 0.0762 - val_accuracy: 0.3900\n",
      "Epoch 144/200\n",
      "10/10 [==============================] - 0s 18ms/step - loss: 0.0527 - accuracy: 0.5067 - val_loss: 0.0749 - val_accuracy: 0.3700\n",
      "Epoch 145/200\n",
      "10/10 [==============================] - 0s 18ms/step - loss: 0.0517 - accuracy: 0.5333 - val_loss: 0.0738 - val_accuracy: 0.4000\n",
      "Epoch 146/200\n",
      "10/10 [==============================] - 0s 14ms/step - loss: 0.0514 - accuracy: 0.4967 - val_loss: 0.0751 - val_accuracy: 0.4000\n",
      "Epoch 147/200\n",
      "10/10 [==============================] - 0s 19ms/step - loss: 0.0515 - accuracy: 0.5033 - val_loss: 0.0746 - val_accuracy: 0.3500\n",
      "Epoch 148/200\n",
      "10/10 [==============================] - 0s 14ms/step - loss: 0.0506 - accuracy: 0.5467 - val_loss: 0.0742 - val_accuracy: 0.4500\n",
      "Epoch 149/200\n",
      "10/10 [==============================] - 0s 16ms/step - loss: 0.0504 - accuracy: 0.5267 - val_loss: 0.0725 - val_accuracy: 0.4100\n",
      "Epoch 150/200\n",
      "10/10 [==============================] - 0s 21ms/step - loss: 0.0496 - accuracy: 0.5200 - val_loss: 0.0729 - val_accuracy: 0.3500\n",
      "Epoch 151/200\n",
      "10/10 [==============================] - 0s 16ms/step - loss: 0.0493 - accuracy: 0.5333 - val_loss: 0.0730 - val_accuracy: 0.3800\n",
      "Epoch 152/200\n",
      "10/10 [==============================] - 0s 19ms/step - loss: 0.0490 - accuracy: 0.5067 - val_loss: 0.0725 - val_accuracy: 0.4400\n",
      "Epoch 153/200\n",
      "10/10 [==============================] - 0s 15ms/step - loss: 0.0491 - accuracy: 0.5100 - val_loss: 0.0735 - val_accuracy: 0.4500\n",
      "Epoch 154/200\n",
      "10/10 [==============================] - 0s 20ms/step - loss: 0.0493 - accuracy: 0.5300 - val_loss: 0.0728 - val_accuracy: 0.3600\n",
      "Epoch 155/200\n",
      "10/10 [==============================] - 0s 20ms/step - loss: 0.0485 - accuracy: 0.5200 - val_loss: 0.0724 - val_accuracy: 0.3800\n",
      "Epoch 156/200\n",
      "10/10 [==============================] - 0s 15ms/step - loss: 0.0480 - accuracy: 0.5200 - val_loss: 0.0728 - val_accuracy: 0.3400\n",
      "Epoch 157/200\n",
      "10/10 [==============================] - 0s 23ms/step - loss: 0.0483 - accuracy: 0.5000 - val_loss: 0.0730 - val_accuracy: 0.4000\n",
      "Epoch 158/200\n",
      "10/10 [==============================] - 0s 15ms/step - loss: 0.0483 - accuracy: 0.5100 - val_loss: 0.0725 - val_accuracy: 0.3600\n",
      "Epoch 159/200\n",
      "10/10 [==============================] - 0s 21ms/step - loss: 0.0489 - accuracy: 0.5400 - val_loss: 0.0722 - val_accuracy: 0.3500\n",
      "Epoch 160/200\n",
      "10/10 [==============================] - 0s 32ms/step - loss: 0.0475 - accuracy: 0.5133 - val_loss: 0.0724 - val_accuracy: 0.3800\n",
      "Epoch 161/200\n",
      "10/10 [==============================] - 0s 18ms/step - loss: 0.0473 - accuracy: 0.5333 - val_loss: 0.0715 - val_accuracy: 0.4800\n",
      "Epoch 162/200\n",
      "10/10 [==============================] - 0s 20ms/step - loss: 0.0462 - accuracy: 0.5367 - val_loss: 0.0704 - val_accuracy: 0.4400\n",
      "Epoch 163/200\n",
      "10/10 [==============================] - 0s 17ms/step - loss: 0.0465 - accuracy: 0.5400 - val_loss: 0.0708 - val_accuracy: 0.5000\n",
      "Epoch 164/200\n",
      "10/10 [==============================] - 0s 20ms/step - loss: 0.0460 - accuracy: 0.5267 - val_loss: 0.0707 - val_accuracy: 0.4800\n",
      "Epoch 165/200\n",
      "10/10 [==============================] - 0s 20ms/step - loss: 0.0458 - accuracy: 0.5200 - val_loss: 0.0706 - val_accuracy: 0.4300\n",
      "Epoch 166/200\n",
      "10/10 [==============================] - 0s 16ms/step - loss: 0.0454 - accuracy: 0.5467 - val_loss: 0.0700 - val_accuracy: 0.4400\n",
      "Epoch 167/200\n",
      "10/10 [==============================] - 0s 11ms/step - loss: 0.0451 - accuracy: 0.5400 - val_loss: 0.0704 - val_accuracy: 0.3900\n",
      "Epoch 168/200\n",
      "10/10 [==============================] - 0s 14ms/step - loss: 0.0452 - accuracy: 0.5633 - val_loss: 0.0709 - val_accuracy: 0.4100\n",
      "Epoch 169/200\n",
      "10/10 [==============================] - 0s 17ms/step - loss: 0.0451 - accuracy: 0.5200 - val_loss: 0.0700 - val_accuracy: 0.3700\n",
      "Epoch 170/200\n",
      "10/10 [==============================] - 0s 14ms/step - loss: 0.0447 - accuracy: 0.5367 - val_loss: 0.0695 - val_accuracy: 0.4300\n",
      "Epoch 171/200\n",
      "10/10 [==============================] - 0s 15ms/step - loss: 0.0442 - accuracy: 0.5633 - val_loss: 0.0695 - val_accuracy: 0.3600\n",
      "Epoch 172/200\n",
      "10/10 [==============================] - 0s 21ms/step - loss: 0.0442 - accuracy: 0.5167 - val_loss: 0.0693 - val_accuracy: 0.3700\n",
      "Epoch 173/200\n",
      "10/10 [==============================] - 0s 19ms/step - loss: 0.0439 - accuracy: 0.5433 - val_loss: 0.0697 - val_accuracy: 0.4800\n",
      "Epoch 174/200\n",
      "10/10 [==============================] - 0s 22ms/step - loss: 0.0439 - accuracy: 0.5267 - val_loss: 0.0681 - val_accuracy: 0.4500\n",
      "Epoch 175/200\n",
      "10/10 [==============================] - 0s 15ms/step - loss: 0.0439 - accuracy: 0.5500 - val_loss: 0.0687 - val_accuracy: 0.3900\n",
      "Epoch 176/200\n",
      "10/10 [==============================] - 0s 24ms/step - loss: 0.0444 - accuracy: 0.5267 - val_loss: 0.0687 - val_accuracy: 0.4100\n",
      "Epoch 177/200\n",
      "10/10 [==============================] - 0s 19ms/step - loss: 0.0431 - accuracy: 0.5433 - val_loss: 0.0686 - val_accuracy: 0.4200\n",
      "Epoch 178/200\n",
      "10/10 [==============================] - 0s 21ms/step - loss: 0.0430 - accuracy: 0.5500 - val_loss: 0.0694 - val_accuracy: 0.3900\n",
      "Epoch 179/200\n",
      "10/10 [==============================] - 0s 22ms/step - loss: 0.0432 - accuracy: 0.5467 - val_loss: 0.0684 - val_accuracy: 0.4800\n",
      "Epoch 180/200\n",
      "10/10 [==============================] - 0s 18ms/step - loss: 0.0421 - accuracy: 0.5500 - val_loss: 0.0681 - val_accuracy: 0.4000\n",
      "Epoch 181/200\n",
      "10/10 [==============================] - 0s 19ms/step - loss: 0.0418 - accuracy: 0.5500 - val_loss: 0.0683 - val_accuracy: 0.3800\n",
      "Epoch 182/200\n",
      "10/10 [==============================] - 0s 20ms/step - loss: 0.0419 - accuracy: 0.5567 - val_loss: 0.0667 - val_accuracy: 0.4200\n",
      "Epoch 183/200\n",
      "10/10 [==============================] - 0s 19ms/step - loss: 0.0409 - accuracy: 0.5633 - val_loss: 0.0680 - val_accuracy: 0.4000\n",
      "Epoch 184/200\n",
      "10/10 [==============================] - 0s 30ms/step - loss: 0.0413 - accuracy: 0.5567 - val_loss: 0.0680 - val_accuracy: 0.4200\n",
      "Epoch 185/200\n",
      "10/10 [==============================] - 0s 18ms/step - loss: 0.0423 - accuracy: 0.5533 - val_loss: 0.0676 - val_accuracy: 0.4400\n",
      "Epoch 186/200\n",
      "10/10 [==============================] - 0s 17ms/step - loss: 0.0415 - accuracy: 0.5667 - val_loss: 0.0663 - val_accuracy: 0.4500\n",
      "Epoch 187/200\n",
      "10/10 [==============================] - 0s 23ms/step - loss: 0.0407 - accuracy: 0.5733 - val_loss: 0.0672 - val_accuracy: 0.5100\n",
      "Epoch 188/200\n",
      "10/10 [==============================] - 0s 21ms/step - loss: 0.0410 - accuracy: 0.5533 - val_loss: 0.0658 - val_accuracy: 0.4900\n",
      "Epoch 189/200\n",
      "10/10 [==============================] - 0s 17ms/step - loss: 0.0404 - accuracy: 0.5833 - val_loss: 0.0668 - val_accuracy: 0.4500\n",
      "Epoch 190/200\n",
      "10/10 [==============================] - 0s 21ms/step - loss: 0.0403 - accuracy: 0.5633 - val_loss: 0.0662 - val_accuracy: 0.4500\n",
      "Epoch 191/200\n",
      "10/10 [==============================] - 0s 18ms/step - loss: 0.0395 - accuracy: 0.5500 - val_loss: 0.0663 - val_accuracy: 0.4400\n",
      "Epoch 192/200\n",
      "10/10 [==============================] - 0s 15ms/step - loss: 0.0399 - accuracy: 0.5867 - val_loss: 0.0656 - val_accuracy: 0.3800\n",
      "Epoch 193/200\n",
      "10/10 [==============================] - 0s 24ms/step - loss: 0.0392 - accuracy: 0.5733 - val_loss: 0.0662 - val_accuracy: 0.4100\n",
      "Epoch 194/200\n",
      "10/10 [==============================] - 0s 16ms/step - loss: 0.0390 - accuracy: 0.5733 - val_loss: 0.0651 - val_accuracy: 0.4200\n",
      "Epoch 195/200\n",
      "10/10 [==============================] - 0s 16ms/step - loss: 0.0388 - accuracy: 0.5767 - val_loss: 0.0653 - val_accuracy: 0.4300\n",
      "Epoch 196/200\n",
      "10/10 [==============================] - 0s 19ms/step - loss: 0.0385 - accuracy: 0.5733 - val_loss: 0.0656 - val_accuracy: 0.4400\n",
      "Epoch 197/200\n",
      "10/10 [==============================] - 0s 17ms/step - loss: 0.0389 - accuracy: 0.5633 - val_loss: 0.0657 - val_accuracy: 0.4400\n",
      "Epoch 198/200\n",
      "10/10 [==============================] - 0s 17ms/step - loss: 0.0387 - accuracy: 0.5833 - val_loss: 0.0651 - val_accuracy: 0.4700\n",
      "Epoch 199/200\n",
      "10/10 [==============================] - 0s 16ms/step - loss: 0.0382 - accuracy: 0.5567 - val_loss: 0.0653 - val_accuracy: 0.4200\n",
      "Epoch 200/200\n",
      "10/10 [==============================] - 0s 19ms/step - loss: 0.0383 - accuracy: 0.5667 - val_loss: 0.0636 - val_accuracy: 0.4600\n",
      "10/10 [==============================] - 0s 5ms/step\n",
      "10/10 [==============================] - 0s 3ms/step\n",
      "4/4 [==============================] - 0s 6ms/step\n"
     ]
    }
   ],
   "source": [
    "df_ae = ae_reduce(x_train, x_valid)"
   ]
  },
  {
   "cell_type": "code",
   "execution_count": 64,
   "metadata": {},
   "outputs": [
    {
     "data": {
      "text/plain": [
       "train    300\n",
       "test     100\n",
       "Name: train_status, dtype: int64"
      ]
     },
     "execution_count": 64,
     "metadata": {},
     "output_type": "execute_result"
    }
   ],
   "source": [
    "df_ae['train_status'].value_counts()"
   ]
  },
  {
   "cell_type": "markdown",
   "metadata": {},
   "source": [
    "### PCA"
   ]
  },
  {
   "cell_type": "code",
   "execution_count": 65,
   "metadata": {},
   "outputs": [],
   "source": [
    "from sklearn.decomposition import PCA\n",
    "pca = PCA(n_components=57)\n"
   ]
  },
  {
   "cell_type": "code",
   "execution_count": 216,
   "metadata": {},
   "outputs": [
    {
     "data": {
      "text/html": [
       "<div>\n",
       "<style scoped>\n",
       "    .dataframe tbody tr th:only-of-type {\n",
       "        vertical-align: middle;\n",
       "    }\n",
       "\n",
       "    .dataframe tbody tr th {\n",
       "        vertical-align: top;\n",
       "    }\n",
       "\n",
       "    .dataframe thead th {\n",
       "        text-align: right;\n",
       "    }\n",
       "</style>\n",
       "<table border=\"1\" class=\"dataframe\">\n",
       "  <thead>\n",
       "    <tr style=\"text-align: right;\">\n",
       "      <th></th>\n",
       "      <th>Outcome</th>\n",
       "    </tr>\n",
       "  </thead>\n",
       "  <tbody>\n",
       "    <tr>\n",
       "      <th>0</th>\n",
       "      <td>0</td>\n",
       "    </tr>\n",
       "    <tr>\n",
       "      <th>1</th>\n",
       "      <td>1</td>\n",
       "    </tr>\n",
       "    <tr>\n",
       "      <th>2</th>\n",
       "      <td>0</td>\n",
       "    </tr>\n",
       "    <tr>\n",
       "      <th>3</th>\n",
       "      <td>0</td>\n",
       "    </tr>\n",
       "    <tr>\n",
       "      <th>4</th>\n",
       "      <td>1</td>\n",
       "    </tr>\n",
       "    <tr>\n",
       "      <th>...</th>\n",
       "      <td>...</td>\n",
       "    </tr>\n",
       "    <tr>\n",
       "      <th>395</th>\n",
       "      <td>1</td>\n",
       "    </tr>\n",
       "    <tr>\n",
       "      <th>396</th>\n",
       "      <td>1</td>\n",
       "    </tr>\n",
       "    <tr>\n",
       "      <th>397</th>\n",
       "      <td>1</td>\n",
       "    </tr>\n",
       "    <tr>\n",
       "      <th>398</th>\n",
       "      <td>1</td>\n",
       "    </tr>\n",
       "    <tr>\n",
       "      <th>399</th>\n",
       "      <td>1</td>\n",
       "    </tr>\n",
       "  </tbody>\n",
       "</table>\n",
       "<p>400 rows × 1 columns</p>\n",
       "</div>"
      ],
      "text/plain": [
       "     Outcome\n",
       "0          0\n",
       "1          1\n",
       "2          0\n",
       "3          0\n",
       "4          1\n",
       "..       ...\n",
       "395        1\n",
       "396        1\n",
       "397        1\n",
       "398        1\n",
       "399        1\n",
       "\n",
       "[400 rows x 1 columns]"
      ]
     },
     "execution_count": 216,
     "metadata": {},
     "output_type": "execute_result"
    }
   ],
   "source": [
    "y"
   ]
  },
  {
   "cell_type": "code",
   "execution_count": 236,
   "metadata": {},
   "outputs": [],
   "source": [
    "x_viz = pca.fit_transform(x)\n",
    "x_viz = pd.DataFrame(x_viz)\n",
    "y = pd.DataFrame(y)\n",
    "# x_viz_1 = pd.concat([x_viz,y], axis = 1)"
   ]
  },
  {
   "cell_type": "code",
   "execution_count": 252,
   "metadata": {},
   "outputs": [
    {
     "data": {
      "text/plain": [
       "Outcome\n",
       "1          303\n",
       "0           97\n",
       "dtype: int64"
      ]
     },
     "execution_count": 252,
     "metadata": {},
     "output_type": "execute_result"
    }
   ],
   "source": [
    "y.value_counts()"
   ]
  },
  {
   "cell_type": "code",
   "execution_count": null,
   "metadata": {},
   "outputs": [],
   "source": [
    "from sklearn.decomposition import PCA\n",
    "pca = PCA(n_components=2)"
   ]
  },
  {
   "cell_type": "code",
   "execution_count": 305,
   "metadata": {},
   "outputs": [],
   "source": [
    "df_viz = pd.concat([x_viz,y], axis = 1)"
   ]
  },
  {
   "cell_type": "code",
   "execution_count": 310,
   "metadata": {},
   "outputs": [],
   "source": [
    "df_viz['Outcome'] = df_viz['Outcome'].replace({0:\"Control\",1:\"Disease\"})"
   ]
  },
  {
   "cell_type": "code",
   "execution_count": 311,
   "metadata": {},
   "outputs": [
    {
     "data": {
      "text/plain": [
       "<AxesSubplot: xlabel='0', ylabel='1'>"
      ]
     },
     "execution_count": 311,
     "metadata": {},
     "output_type": "execute_result"
    },
    {
     "data": {
      "image/png": "[encoded data removed]",
      "text/plain": [
       "<Figure size 640x480 with 1 Axes>"
      ]
     },
     "metadata": {},
     "output_type": "display_data"
    }
   ],
   "source": [
    "# !pip install seaborn\n",
    "import seaborn as sns\n",
    "sns.scatterplot(data=df_viz, x=0, y=1, hue=\"Outcome\")"
   ]
  },
  {
   "cell_type": "code",
   "execution_count": 67,
   "metadata": {},
   "outputs": [],
   "source": [
    "x_pca_train = pca.fit_transform(x_train)\n",
    "x_pca_valid = pca.transform(x_valid)"
   ]
  },
  {
   "cell_type": "code",
   "execution_count": 68,
   "metadata": {},
   "outputs": [
    {
     "name": "stdout",
     "output_type": "stream",
     "text": [
      "0.7077119103739355\n"
     ]
    }
   ],
   "source": [
    "print(sum(pca.explained_variance_ratio_))"
   ]
  },
  {
   "cell_type": "code",
   "execution_count": 90,
   "metadata": {},
   "outputs": [
    {
     "name": "stderr",
     "output_type": "stream",
     "text": [
      "C:\\Users\\nahomw\\AppData\\Local\\Temp\\ipykernel_27772\\1910710096.py:2: SettingWithCopyWarning: \n",
      "A value is trying to be set on a copy of a slice from a DataFrame\n",
      "\n",
      "See the caveats in the documentation: https://pandas.pydata.org/pandas-docs/stable/user_guide/indexing.html#returning-a-view-versus-a-copy\n",
      "  train_ae_x.drop(columns = ['train_status'], inplace = True)\n"
     ]
    }
   ],
   "source": [
    "train_ae_x = df_ae.loc[df_ae['train_status'] =='train']\n",
    "train_ae_x.drop(columns = ['train_status'], inplace = True)"
   ]
  },
  {
   "cell_type": "code",
   "execution_count": 92,
   "metadata": {},
   "outputs": [
    {
     "data": {
      "text/html": [
       "<div>\n",
       "<style scoped>\n",
       "    .dataframe tbody tr th:only-of-type {\n",
       "        vertical-align: middle;\n",
       "    }\n",
       "\n",
       "    .dataframe tbody tr th {\n",
       "        vertical-align: top;\n",
       "    }\n",
       "\n",
       "    .dataframe thead th {\n",
       "        text-align: right;\n",
       "    }\n",
       "</style>\n",
       "<table border=\"1\" class=\"dataframe\">\n",
       "  <thead>\n",
       "    <tr style=\"text-align: right;\">\n",
       "      <th></th>\n",
       "      <th>0</th>\n",
       "      <th>1</th>\n",
       "      <th>2</th>\n",
       "      <th>3</th>\n",
       "      <th>4</th>\n",
       "      <th>5</th>\n",
       "      <th>6</th>\n",
       "      <th>7</th>\n",
       "      <th>8</th>\n",
       "      <th>9</th>\n",
       "      <th>...</th>\n",
       "      <th>180</th>\n",
       "      <th>181</th>\n",
       "      <th>182</th>\n",
       "      <th>183</th>\n",
       "      <th>184</th>\n",
       "      <th>185</th>\n",
       "      <th>186</th>\n",
       "      <th>187</th>\n",
       "      <th>188</th>\n",
       "      <th>189</th>\n",
       "    </tr>\n",
       "  </thead>\n",
       "  <tbody>\n",
       "    <tr>\n",
       "      <th>0</th>\n",
       "      <td>0.286011</td>\n",
       "      <td>-1.681617</td>\n",
       "      <td>-1.607033</td>\n",
       "      <td>0.750308</td>\n",
       "      <td>-1.291434</td>\n",
       "      <td>1.755265</td>\n",
       "      <td>0.011078</td>\n",
       "      <td>-1.658436</td>\n",
       "      <td>-1.562615</td>\n",
       "      <td>-1.720451</td>\n",
       "      <td>...</td>\n",
       "      <td>-0.557999</td>\n",
       "      <td>-1.172544</td>\n",
       "      <td>-0.967577</td>\n",
       "      <td>0.428967</td>\n",
       "      <td>0.268811</td>\n",
       "      <td>0.264306</td>\n",
       "      <td>-1.747202</td>\n",
       "      <td>-1.462740</td>\n",
       "      <td>-1.147379</td>\n",
       "      <td>0.752695</td>\n",
       "    </tr>\n",
       "    <tr>\n",
       "      <th>1</th>\n",
       "      <td>0.379294</td>\n",
       "      <td>-1.636155</td>\n",
       "      <td>-1.430053</td>\n",
       "      <td>0.630301</td>\n",
       "      <td>-0.142524</td>\n",
       "      <td>1.089372</td>\n",
       "      <td>1.083219</td>\n",
       "      <td>-1.715190</td>\n",
       "      <td>-1.554196</td>\n",
       "      <td>-1.694621</td>\n",
       "      <td>...</td>\n",
       "      <td>-1.087803</td>\n",
       "      <td>-1.303281</td>\n",
       "      <td>0.116535</td>\n",
       "      <td>0.707242</td>\n",
       "      <td>0.798143</td>\n",
       "      <td>-0.133823</td>\n",
       "      <td>-1.748160</td>\n",
       "      <td>-1.463585</td>\n",
       "      <td>-1.401313</td>\n",
       "      <td>1.455236</td>\n",
       "    </tr>\n",
       "    <tr>\n",
       "      <th>2</th>\n",
       "      <td>0.908696</td>\n",
       "      <td>-1.671099</td>\n",
       "      <td>-1.611066</td>\n",
       "      <td>0.448563</td>\n",
       "      <td>-1.218104</td>\n",
       "      <td>1.052349</td>\n",
       "      <td>1.213578</td>\n",
       "      <td>-1.715072</td>\n",
       "      <td>-1.459007</td>\n",
       "      <td>-1.719276</td>\n",
       "      <td>...</td>\n",
       "      <td>-0.763722</td>\n",
       "      <td>-0.655116</td>\n",
       "      <td>-0.695699</td>\n",
       "      <td>0.586953</td>\n",
       "      <td>0.099654</td>\n",
       "      <td>0.991306</td>\n",
       "      <td>-1.745728</td>\n",
       "      <td>-1.481762</td>\n",
       "      <td>-1.468218</td>\n",
       "      <td>0.993800</td>\n",
       "    </tr>\n",
       "    <tr>\n",
       "      <th>3</th>\n",
       "      <td>-0.392862</td>\n",
       "      <td>-1.670521</td>\n",
       "      <td>-1.219733</td>\n",
       "      <td>0.046698</td>\n",
       "      <td>-0.861674</td>\n",
       "      <td>0.661535</td>\n",
       "      <td>1.135326</td>\n",
       "      <td>-1.712400</td>\n",
       "      <td>-1.599550</td>\n",
       "      <td>-1.719556</td>\n",
       "      <td>...</td>\n",
       "      <td>-0.424196</td>\n",
       "      <td>-1.246706</td>\n",
       "      <td>-0.386247</td>\n",
       "      <td>0.707216</td>\n",
       "      <td>0.873591</td>\n",
       "      <td>1.810715</td>\n",
       "      <td>-1.733457</td>\n",
       "      <td>-1.134984</td>\n",
       "      <td>-1.673585</td>\n",
       "      <td>0.206294</td>\n",
       "    </tr>\n",
       "    <tr>\n",
       "      <th>4</th>\n",
       "      <td>0.403591</td>\n",
       "      <td>-1.712968</td>\n",
       "      <td>-1.476937</td>\n",
       "      <td>0.282476</td>\n",
       "      <td>-0.952883</td>\n",
       "      <td>1.081380</td>\n",
       "      <td>0.250162</td>\n",
       "      <td>-1.697196</td>\n",
       "      <td>-1.433646</td>\n",
       "      <td>-1.711076</td>\n",
       "      <td>...</td>\n",
       "      <td>-0.512201</td>\n",
       "      <td>-1.409165</td>\n",
       "      <td>0.225623</td>\n",
       "      <td>0.659767</td>\n",
       "      <td>-0.270583</td>\n",
       "      <td>0.488124</td>\n",
       "      <td>-1.739537</td>\n",
       "      <td>-1.380277</td>\n",
       "      <td>-1.557396</td>\n",
       "      <td>1.012737</td>\n",
       "    </tr>\n",
       "    <tr>\n",
       "      <th>...</th>\n",
       "      <td>...</td>\n",
       "      <td>...</td>\n",
       "      <td>...</td>\n",
       "      <td>...</td>\n",
       "      <td>...</td>\n",
       "      <td>...</td>\n",
       "      <td>...</td>\n",
       "      <td>...</td>\n",
       "      <td>...</td>\n",
       "      <td>...</td>\n",
       "      <td>...</td>\n",
       "      <td>...</td>\n",
       "      <td>...</td>\n",
       "      <td>...</td>\n",
       "      <td>...</td>\n",
       "      <td>...</td>\n",
       "      <td>...</td>\n",
       "      <td>...</td>\n",
       "      <td>...</td>\n",
       "      <td>...</td>\n",
       "      <td>...</td>\n",
       "    </tr>\n",
       "    <tr>\n",
       "      <th>295</th>\n",
       "      <td>0.881916</td>\n",
       "      <td>-1.662267</td>\n",
       "      <td>-1.500192</td>\n",
       "      <td>0.046194</td>\n",
       "      <td>-0.984068</td>\n",
       "      <td>1.051335</td>\n",
       "      <td>1.308702</td>\n",
       "      <td>-1.704325</td>\n",
       "      <td>-1.473874</td>\n",
       "      <td>-1.721303</td>\n",
       "      <td>...</td>\n",
       "      <td>-0.521498</td>\n",
       "      <td>-1.007404</td>\n",
       "      <td>-0.879530</td>\n",
       "      <td>0.250384</td>\n",
       "      <td>0.821218</td>\n",
       "      <td>1.525253</td>\n",
       "      <td>-1.736708</td>\n",
       "      <td>-1.050555</td>\n",
       "      <td>-1.057167</td>\n",
       "      <td>0.206922</td>\n",
       "    </tr>\n",
       "    <tr>\n",
       "      <th>296</th>\n",
       "      <td>0.674289</td>\n",
       "      <td>-1.692174</td>\n",
       "      <td>-1.542225</td>\n",
       "      <td>1.152259</td>\n",
       "      <td>-0.841977</td>\n",
       "      <td>1.320291</td>\n",
       "      <td>0.506080</td>\n",
       "      <td>-1.669426</td>\n",
       "      <td>-1.598777</td>\n",
       "      <td>-1.692820</td>\n",
       "      <td>...</td>\n",
       "      <td>-0.947423</td>\n",
       "      <td>-1.367081</td>\n",
       "      <td>-0.877269</td>\n",
       "      <td>0.022208</td>\n",
       "      <td>0.860660</td>\n",
       "      <td>1.165986</td>\n",
       "      <td>-1.742857</td>\n",
       "      <td>-1.476454</td>\n",
       "      <td>-1.378397</td>\n",
       "      <td>1.315948</td>\n",
       "    </tr>\n",
       "    <tr>\n",
       "      <th>297</th>\n",
       "      <td>0.546966</td>\n",
       "      <td>-1.686088</td>\n",
       "      <td>-1.386902</td>\n",
       "      <td>-0.474575</td>\n",
       "      <td>-0.745600</td>\n",
       "      <td>0.885027</td>\n",
       "      <td>1.557217</td>\n",
       "      <td>-1.653044</td>\n",
       "      <td>-1.476545</td>\n",
       "      <td>-1.727185</td>\n",
       "      <td>...</td>\n",
       "      <td>-0.689841</td>\n",
       "      <td>-1.416341</td>\n",
       "      <td>0.129194</td>\n",
       "      <td>1.018297</td>\n",
       "      <td>1.110545</td>\n",
       "      <td>1.066289</td>\n",
       "      <td>-1.745026</td>\n",
       "      <td>-1.387244</td>\n",
       "      <td>-1.461599</td>\n",
       "      <td>1.134802</td>\n",
       "    </tr>\n",
       "    <tr>\n",
       "      <th>298</th>\n",
       "      <td>0.583664</td>\n",
       "      <td>-1.660465</td>\n",
       "      <td>-1.564322</td>\n",
       "      <td>0.571392</td>\n",
       "      <td>-1.122003</td>\n",
       "      <td>1.088288</td>\n",
       "      <td>0.730211</td>\n",
       "      <td>-1.685058</td>\n",
       "      <td>-1.592363</td>\n",
       "      <td>-1.707006</td>\n",
       "      <td>...</td>\n",
       "      <td>-1.003026</td>\n",
       "      <td>-1.418858</td>\n",
       "      <td>-0.260910</td>\n",
       "      <td>-0.065412</td>\n",
       "      <td>1.285587</td>\n",
       "      <td>0.488780</td>\n",
       "      <td>-1.750642</td>\n",
       "      <td>-1.579210</td>\n",
       "      <td>-1.328196</td>\n",
       "      <td>1.324674</td>\n",
       "    </tr>\n",
       "    <tr>\n",
       "      <th>299</th>\n",
       "      <td>-0.025244</td>\n",
       "      <td>-1.672403</td>\n",
       "      <td>-1.548496</td>\n",
       "      <td>0.728325</td>\n",
       "      <td>-1.372018</td>\n",
       "      <td>1.746526</td>\n",
       "      <td>0.411782</td>\n",
       "      <td>-1.710202</td>\n",
       "      <td>-1.464592</td>\n",
       "      <td>-1.733416</td>\n",
       "      <td>...</td>\n",
       "      <td>-0.954379</td>\n",
       "      <td>-0.793743</td>\n",
       "      <td>-0.711619</td>\n",
       "      <td>1.058451</td>\n",
       "      <td>1.775981</td>\n",
       "      <td>0.813672</td>\n",
       "      <td>-1.747427</td>\n",
       "      <td>-1.438802</td>\n",
       "      <td>-1.464731</td>\n",
       "      <td>0.319901</td>\n",
       "    </tr>\n",
       "  </tbody>\n",
       "</table>\n",
       "<p>300 rows × 190 columns</p>\n",
       "</div>"
      ],
      "text/plain": [
       "          0         1         2         3         4         5         6    \\\n",
       "0    0.286011 -1.681617 -1.607033  0.750308 -1.291434  1.755265  0.011078   \n",
       "1    0.379294 -1.636155 -1.430053  0.630301 -0.142524  1.089372  1.083219   \n",
       "2    0.908696 -1.671099 -1.611066  0.448563 -1.218104  1.052349  1.213578   \n",
       "3   -0.392862 -1.670521 -1.219733  0.046698 -0.861674  0.661535  1.135326   \n",
       "4    0.403591 -1.712968 -1.476937  0.282476 -0.952883  1.081380  0.250162   \n",
       "..        ...       ...       ...       ...       ...       ...       ...   \n",
       "295  0.881916 -1.662267 -1.500192  0.046194 -0.984068  1.051335  1.308702   \n",
       "296  0.674289 -1.692174 -1.542225  1.152259 -0.841977  1.320291  0.506080   \n",
       "297  0.546966 -1.686088 -1.386902 -0.474575 -0.745600  0.885027  1.557217   \n",
       "298  0.583664 -1.660465 -1.564322  0.571392 -1.122003  1.088288  0.730211   \n",
       "299 -0.025244 -1.672403 -1.548496  0.728325 -1.372018  1.746526  0.411782   \n",
       "\n",
       "          7         8         9    ...       180       181       182  \\\n",
       "0   -1.658436 -1.562615 -1.720451  ... -0.557999 -1.172544 -0.967577   \n",
       "1   -1.715190 -1.554196 -1.694621  ... -1.087803 -1.303281  0.116535   \n",
       "2   -1.715072 -1.459007 -1.719276  ... -0.763722 -0.655116 -0.695699   \n",
       "3   -1.712400 -1.599550 -1.719556  ... -0.424196 -1.246706 -0.386247   \n",
       "4   -1.697196 -1.433646 -1.711076  ... -0.512201 -1.409165  0.225623   \n",
       "..        ...       ...       ...  ...       ...       ...       ...   \n",
       "295 -1.704325 -1.473874 -1.721303  ... -0.521498 -1.007404 -0.879530   \n",
       "296 -1.669426 -1.598777 -1.692820  ... -0.947423 -1.367081 -0.877269   \n",
       "297 -1.653044 -1.476545 -1.727185  ... -0.689841 -1.416341  0.129194   \n",
       "298 -1.685058 -1.592363 -1.707006  ... -1.003026 -1.418858 -0.260910   \n",
       "299 -1.710202 -1.464592 -1.733416  ... -0.954379 -0.793743 -0.711619   \n",
       "\n",
       "          183       184       185       186       187       188       189  \n",
       "0    0.428967  0.268811  0.264306 -1.747202 -1.462740 -1.147379  0.752695  \n",
       "1    0.707242  0.798143 -0.133823 -1.748160 -1.463585 -1.401313  1.455236  \n",
       "2    0.586953  0.099654  0.991306 -1.745728 -1.481762 -1.468218  0.993800  \n",
       "3    0.707216  0.873591  1.810715 -1.733457 -1.134984 -1.673585  0.206294  \n",
       "4    0.659767 -0.270583  0.488124 -1.739537 -1.380277 -1.557396  1.012737  \n",
       "..        ...       ...       ...       ...       ...       ...       ...  \n",
       "295  0.250384  0.821218  1.525253 -1.736708 -1.050555 -1.057167  0.206922  \n",
       "296  0.022208  0.860660  1.165986 -1.742857 -1.476454 -1.378397  1.315948  \n",
       "297  1.018297  1.110545  1.066289 -1.745026 -1.387244 -1.461599  1.134802  \n",
       "298 -0.065412  1.285587  0.488780 -1.750642 -1.579210 -1.328196  1.324674  \n",
       "299  1.058451  1.775981  0.813672 -1.747427 -1.438802 -1.464731  0.319901  \n",
       "\n",
       "[300 rows x 190 columns]"
      ]
     },
     "execution_count": 92,
     "metadata": {},
     "output_type": "execute_result"
    }
   ],
   "source": [
    "train_ae_x"
   ]
  },
  {
   "cell_type": "code",
   "execution_count": 81,
   "metadata": {},
   "outputs": [
    {
     "data": {
      "text/plain": [
       "[0      True\n",
       " 1      True\n",
       " 2      True\n",
       " 3      True\n",
       " 4      True\n",
       "       ...  \n",
       " 95    False\n",
       " 96    False\n",
       " 97    False\n",
       " 98    False\n",
       " 99    False\n",
       " Name: train_status, Length: 400, dtype: bool]"
      ]
     },
     "execution_count": 81,
     "metadata": {},
     "output_type": "execute_result"
    }
   ],
   "source": [
    "train_ae_x = df_ae.loc[df_ae['train_status'] =='train']\n",
    "train_ae_x.drop(columns = ['train_status'], inplace = True)"
   ]
  },
  {
   "cell_type": "code",
   "execution_count": 103,
   "metadata": {},
   "outputs": [],
   "source": [
    "def pca_reduce(x_train, x_valid):\n",
    "        pca = PCA(n_components=57)\n",
    "        x_pca_train = pca.fit_transform(x_train)\n",
    "        x_pca_valid = pca.transform(x_valid)\n",
    "        x_pca_train = pd.DataFrame(x_pca_train)\n",
    "        x_pca_valid = pd.DataFrame(x_pca_valid)\n",
    "        x_pca_train['train_status'] = 'train' \n",
    "        x_pca_valid['train_status'] = 'test'\n",
    "        df_pca = pd.concat([x_pca_train, x_pca_valid], axis = 0)\n",
    "        return df_pca"
   ]
  },
  {
   "cell_type": "code",
   "execution_count": 108,
   "metadata": {},
   "outputs": [
    {
     "data": {
      "text/html": [
       "<div>\n",
       "<style scoped>\n",
       "    .dataframe tbody tr th:only-of-type {\n",
       "        vertical-align: middle;\n",
       "    }\n",
       "\n",
       "    .dataframe tbody tr th {\n",
       "        vertical-align: top;\n",
       "    }\n",
       "\n",
       "    .dataframe thead th {\n",
       "        text-align: right;\n",
       "    }\n",
       "</style>\n",
       "<table border=\"1\" class=\"dataframe\">\n",
       "  <thead>\n",
       "    <tr style=\"text-align: right;\">\n",
       "      <th></th>\n",
       "      <th>0</th>\n",
       "      <th>1</th>\n",
       "      <th>2</th>\n",
       "      <th>3</th>\n",
       "      <th>4</th>\n",
       "      <th>5</th>\n",
       "      <th>6</th>\n",
       "      <th>7</th>\n",
       "      <th>8</th>\n",
       "      <th>9</th>\n",
       "      <th>...</th>\n",
       "      <th>48</th>\n",
       "      <th>49</th>\n",
       "      <th>50</th>\n",
       "      <th>51</th>\n",
       "      <th>52</th>\n",
       "      <th>53</th>\n",
       "      <th>54</th>\n",
       "      <th>55</th>\n",
       "      <th>56</th>\n",
       "      <th>train_status</th>\n",
       "    </tr>\n",
       "  </thead>\n",
       "  <tbody>\n",
       "    <tr>\n",
       "      <th>0</th>\n",
       "      <td>-1.471503</td>\n",
       "      <td>-0.938684</td>\n",
       "      <td>0.722844</td>\n",
       "      <td>-1.080448</td>\n",
       "      <td>-0.550212</td>\n",
       "      <td>-0.456904</td>\n",
       "      <td>-0.594158</td>\n",
       "      <td>0.299010</td>\n",
       "      <td>-0.345354</td>\n",
       "      <td>-0.259012</td>\n",
       "      <td>...</td>\n",
       "      <td>-0.545007</td>\n",
       "      <td>-0.893105</td>\n",
       "      <td>0.532089</td>\n",
       "      <td>0.522779</td>\n",
       "      <td>-0.052114</td>\n",
       "      <td>-0.028399</td>\n",
       "      <td>-0.059819</td>\n",
       "      <td>-0.057401</td>\n",
       "      <td>-0.657473</td>\n",
       "      <td>train</td>\n",
       "    </tr>\n",
       "    <tr>\n",
       "      <th>1</th>\n",
       "      <td>0.597896</td>\n",
       "      <td>0.749902</td>\n",
       "      <td>-0.545454</td>\n",
       "      <td>-2.120778</td>\n",
       "      <td>0.061519</td>\n",
       "      <td>-0.388359</td>\n",
       "      <td>0.616536</td>\n",
       "      <td>0.116393</td>\n",
       "      <td>-0.117526</td>\n",
       "      <td>-0.922683</td>\n",
       "      <td>...</td>\n",
       "      <td>0.327284</td>\n",
       "      <td>-0.074456</td>\n",
       "      <td>0.650318</td>\n",
       "      <td>-0.026963</td>\n",
       "      <td>0.519379</td>\n",
       "      <td>0.172174</td>\n",
       "      <td>0.193085</td>\n",
       "      <td>-0.282714</td>\n",
       "      <td>-0.995653</td>\n",
       "      <td>train</td>\n",
       "    </tr>\n",
       "    <tr>\n",
       "      <th>2</th>\n",
       "      <td>1.661038</td>\n",
       "      <td>0.402187</td>\n",
       "      <td>-0.044178</td>\n",
       "      <td>-0.678541</td>\n",
       "      <td>-0.215063</td>\n",
       "      <td>-0.526773</td>\n",
       "      <td>-0.060653</td>\n",
       "      <td>0.985703</td>\n",
       "      <td>-0.430016</td>\n",
       "      <td>-0.696795</td>\n",
       "      <td>...</td>\n",
       "      <td>0.690787</td>\n",
       "      <td>-0.034156</td>\n",
       "      <td>-0.475457</td>\n",
       "      <td>-0.791914</td>\n",
       "      <td>0.400384</td>\n",
       "      <td>0.595436</td>\n",
       "      <td>-0.051831</td>\n",
       "      <td>-0.457005</td>\n",
       "      <td>-0.679141</td>\n",
       "      <td>train</td>\n",
       "    </tr>\n",
       "    <tr>\n",
       "      <th>3</th>\n",
       "      <td>2.520373</td>\n",
       "      <td>-0.526457</td>\n",
       "      <td>0.834462</td>\n",
       "      <td>2.881337</td>\n",
       "      <td>-1.429538</td>\n",
       "      <td>1.487006</td>\n",
       "      <td>-0.232425</td>\n",
       "      <td>0.340083</td>\n",
       "      <td>0.237961</td>\n",
       "      <td>-0.114992</td>\n",
       "      <td>...</td>\n",
       "      <td>-0.094980</td>\n",
       "      <td>-0.318086</td>\n",
       "      <td>0.226651</td>\n",
       "      <td>0.078899</td>\n",
       "      <td>-0.500580</td>\n",
       "      <td>-0.383087</td>\n",
       "      <td>-0.585835</td>\n",
       "      <td>0.790962</td>\n",
       "      <td>-0.124492</td>\n",
       "      <td>train</td>\n",
       "    </tr>\n",
       "    <tr>\n",
       "      <th>4</th>\n",
       "      <td>-1.255171</td>\n",
       "      <td>0.281806</td>\n",
       "      <td>0.305122</td>\n",
       "      <td>0.278138</td>\n",
       "      <td>0.877982</td>\n",
       "      <td>0.599567</td>\n",
       "      <td>-1.711069</td>\n",
       "      <td>0.710685</td>\n",
       "      <td>-0.092102</td>\n",
       "      <td>-0.224902</td>\n",
       "      <td>...</td>\n",
       "      <td>-0.677101</td>\n",
       "      <td>0.341953</td>\n",
       "      <td>0.489739</td>\n",
       "      <td>0.256139</td>\n",
       "      <td>1.013076</td>\n",
       "      <td>-0.023266</td>\n",
       "      <td>0.132844</td>\n",
       "      <td>0.097535</td>\n",
       "      <td>0.356303</td>\n",
       "      <td>train</td>\n",
       "    </tr>\n",
       "    <tr>\n",
       "      <th>...</th>\n",
       "      <td>...</td>\n",
       "      <td>...</td>\n",
       "      <td>...</td>\n",
       "      <td>...</td>\n",
       "      <td>...</td>\n",
       "      <td>...</td>\n",
       "      <td>...</td>\n",
       "      <td>...</td>\n",
       "      <td>...</td>\n",
       "      <td>...</td>\n",
       "      <td>...</td>\n",
       "      <td>...</td>\n",
       "      <td>...</td>\n",
       "      <td>...</td>\n",
       "      <td>...</td>\n",
       "      <td>...</td>\n",
       "      <td>...</td>\n",
       "      <td>...</td>\n",
       "      <td>...</td>\n",
       "      <td>...</td>\n",
       "      <td>...</td>\n",
       "    </tr>\n",
       "    <tr>\n",
       "      <th>95</th>\n",
       "      <td>0.250600</td>\n",
       "      <td>0.519219</td>\n",
       "      <td>1.023173</td>\n",
       "      <td>0.915650</td>\n",
       "      <td>1.006372</td>\n",
       "      <td>0.617418</td>\n",
       "      <td>-0.088070</td>\n",
       "      <td>-0.300852</td>\n",
       "      <td>0.157686</td>\n",
       "      <td>0.642070</td>\n",
       "      <td>...</td>\n",
       "      <td>0.232269</td>\n",
       "      <td>-0.112554</td>\n",
       "      <td>0.062340</td>\n",
       "      <td>0.333561</td>\n",
       "      <td>-0.100245</td>\n",
       "      <td>0.087601</td>\n",
       "      <td>-0.401799</td>\n",
       "      <td>0.047381</td>\n",
       "      <td>0.417175</td>\n",
       "      <td>test</td>\n",
       "    </tr>\n",
       "    <tr>\n",
       "      <th>96</th>\n",
       "      <td>1.267989</td>\n",
       "      <td>-0.913610</td>\n",
       "      <td>0.256582</td>\n",
       "      <td>-0.345304</td>\n",
       "      <td>-1.081689</td>\n",
       "      <td>0.917660</td>\n",
       "      <td>0.181186</td>\n",
       "      <td>-0.575468</td>\n",
       "      <td>0.276676</td>\n",
       "      <td>0.031298</td>\n",
       "      <td>...</td>\n",
       "      <td>0.128917</td>\n",
       "      <td>-0.497415</td>\n",
       "      <td>-1.057189</td>\n",
       "      <td>0.884635</td>\n",
       "      <td>0.099020</td>\n",
       "      <td>0.289597</td>\n",
       "      <td>0.149911</td>\n",
       "      <td>0.058205</td>\n",
       "      <td>-0.782336</td>\n",
       "      <td>test</td>\n",
       "    </tr>\n",
       "    <tr>\n",
       "      <th>97</th>\n",
       "      <td>-0.038408</td>\n",
       "      <td>0.269255</td>\n",
       "      <td>0.966371</td>\n",
       "      <td>-0.778252</td>\n",
       "      <td>0.730750</td>\n",
       "      <td>-0.204290</td>\n",
       "      <td>0.505082</td>\n",
       "      <td>-1.373290</td>\n",
       "      <td>0.878629</td>\n",
       "      <td>0.333496</td>\n",
       "      <td>...</td>\n",
       "      <td>-0.185657</td>\n",
       "      <td>-0.811218</td>\n",
       "      <td>0.012346</td>\n",
       "      <td>0.095360</td>\n",
       "      <td>0.174385</td>\n",
       "      <td>-0.156357</td>\n",
       "      <td>-0.189497</td>\n",
       "      <td>-0.042771</td>\n",
       "      <td>-1.077269</td>\n",
       "      <td>test</td>\n",
       "    </tr>\n",
       "    <tr>\n",
       "      <th>98</th>\n",
       "      <td>-0.073523</td>\n",
       "      <td>0.212095</td>\n",
       "      <td>0.826139</td>\n",
       "      <td>0.077370</td>\n",
       "      <td>-0.960395</td>\n",
       "      <td>0.301680</td>\n",
       "      <td>-0.671235</td>\n",
       "      <td>-0.432688</td>\n",
       "      <td>0.755138</td>\n",
       "      <td>0.426795</td>\n",
       "      <td>...</td>\n",
       "      <td>0.046492</td>\n",
       "      <td>-0.222965</td>\n",
       "      <td>0.387004</td>\n",
       "      <td>0.450156</td>\n",
       "      <td>0.016386</td>\n",
       "      <td>-0.320359</td>\n",
       "      <td>0.592497</td>\n",
       "      <td>0.631707</td>\n",
       "      <td>-1.317769</td>\n",
       "      <td>test</td>\n",
       "    </tr>\n",
       "    <tr>\n",
       "      <th>99</th>\n",
       "      <td>-1.877034</td>\n",
       "      <td>0.119229</td>\n",
       "      <td>0.038170</td>\n",
       "      <td>0.389429</td>\n",
       "      <td>-0.738118</td>\n",
       "      <td>-0.888248</td>\n",
       "      <td>1.093840</td>\n",
       "      <td>0.141660</td>\n",
       "      <td>0.447398</td>\n",
       "      <td>-0.707813</td>\n",
       "      <td>...</td>\n",
       "      <td>0.101897</td>\n",
       "      <td>-0.036665</td>\n",
       "      <td>-0.563530</td>\n",
       "      <td>-0.713930</td>\n",
       "      <td>-0.059573</td>\n",
       "      <td>0.590022</td>\n",
       "      <td>0.047072</td>\n",
       "      <td>0.167958</td>\n",
       "      <td>0.000909</td>\n",
       "      <td>test</td>\n",
       "    </tr>\n",
       "  </tbody>\n",
       "</table>\n",
       "<p>400 rows × 58 columns</p>\n",
       "</div>"
      ],
      "text/plain": [
       "           0         1         2         3         4         5         6  \\\n",
       "0  -1.471503 -0.938684  0.722844 -1.080448 -0.550212 -0.456904 -0.594158   \n",
       "1   0.597896  0.749902 -0.545454 -2.120778  0.061519 -0.388359  0.616536   \n",
       "2   1.661038  0.402187 -0.044178 -0.678541 -0.215063 -0.526773 -0.060653   \n",
       "3   2.520373 -0.526457  0.834462  2.881337 -1.429538  1.487006 -0.232425   \n",
       "4  -1.255171  0.281806  0.305122  0.278138  0.877982  0.599567 -1.711069   \n",
       "..       ...       ...       ...       ...       ...       ...       ...   \n",
       "95  0.250600  0.519219  1.023173  0.915650  1.006372  0.617418 -0.088070   \n",
       "96  1.267989 -0.913610  0.256582 -0.345304 -1.081689  0.917660  0.181186   \n",
       "97 -0.038408  0.269255  0.966371 -0.778252  0.730750 -0.204290  0.505082   \n",
       "98 -0.073523  0.212095  0.826139  0.077370 -0.960395  0.301680 -0.671235   \n",
       "99 -1.877034  0.119229  0.038170  0.389429 -0.738118 -0.888248  1.093840   \n",
       "\n",
       "           7         8         9  ...        48        49        50        51  \\\n",
       "0   0.299010 -0.345354 -0.259012  ... -0.545007 -0.893105  0.532089  0.522779   \n",
       "1   0.116393 -0.117526 -0.922683  ...  0.327284 -0.074456  0.650318 -0.026963   \n",
       "2   0.985703 -0.430016 -0.696795  ...  0.690787 -0.034156 -0.475457 -0.791914   \n",
       "3   0.340083  0.237961 -0.114992  ... -0.094980 -0.318086  0.226651  0.078899   \n",
       "4   0.710685 -0.092102 -0.224902  ... -0.677101  0.341953  0.489739  0.256139   \n",
       "..       ...       ...       ...  ...       ...       ...       ...       ...   \n",
       "95 -0.300852  0.157686  0.642070  ...  0.232269 -0.112554  0.062340  0.333561   \n",
       "96 -0.575468  0.276676  0.031298  ...  0.128917 -0.497415 -1.057189  0.884635   \n",
       "97 -1.373290  0.878629  0.333496  ... -0.185657 -0.811218  0.012346  0.095360   \n",
       "98 -0.432688  0.755138  0.426795  ...  0.046492 -0.222965  0.387004  0.450156   \n",
       "99  0.141660  0.447398 -0.707813  ...  0.101897 -0.036665 -0.563530 -0.713930   \n",
       "\n",
       "          52        53        54        55        56  train_status  \n",
       "0  -0.052114 -0.028399 -0.059819 -0.057401 -0.657473         train  \n",
       "1   0.519379  0.172174  0.193085 -0.282714 -0.995653         train  \n",
       "2   0.400384  0.595436 -0.051831 -0.457005 -0.679141         train  \n",
       "3  -0.500580 -0.383087 -0.585835  0.790962 -0.124492         train  \n",
       "4   1.013076 -0.023266  0.132844  0.097535  0.356303         train  \n",
       "..       ...       ...       ...       ...       ...           ...  \n",
       "95 -0.100245  0.087601 -0.401799  0.047381  0.417175          test  \n",
       "96  0.099020  0.289597  0.149911  0.058205 -0.782336          test  \n",
       "97  0.174385 -0.156357 -0.189497 -0.042771 -1.077269          test  \n",
       "98  0.016386 -0.320359  0.592497  0.631707 -1.317769          test  \n",
       "99 -0.059573  0.590022  0.047072  0.167958  0.000909          test  \n",
       "\n",
       "[400 rows x 58 columns]"
      ]
     },
     "execution_count": 108,
     "metadata": {},
     "output_type": "execute_result"
    }
   ],
   "source": [
    "df_pca = pca_reduce(x_train, x_valid)\n",
    "df_pca\n"
   ]
  },
  {
   "cell_type": "code",
   "execution_count": 110,
   "metadata": {},
   "outputs": [],
   "source": [
    "from sklearn.linear_model import LogisticRegression\n",
    "def logit_mod(df):\n",
    "    train_encoded = df.loc[df['train_status'] =='train']\n",
    "    train_encoded.drop(columns = ['train_status'], inplace = True)\n",
    "    test_encoded = df.loc[df['train_status'] =='test']\n",
    "    test_encoded.drop(columns = ['train_status'], inplace = True)\n",
    "    model_logit = LogisticRegression(solver='liblinear', random_state=0).fit(train_encoded,y_train)\n",
    "    print('classification_report:',classification_report(model_logit.predict(train_encoded),y_train))\n",
    "    print('classification_report:',classification_report(model_logit.predict(test_encoded),y_valid))"
   ]
  },
  {
   "cell_type": "code",
   "execution_count": 113,
   "metadata": {},
   "outputs": [
    {
     "name": "stdout",
     "output_type": "stream",
     "text": [
      "classification_report:               precision    recall  f1-score   support\n",
      "\n",
      "           0       0.96      1.00      0.98        68\n",
      "           1       1.00      0.99      0.99       232\n",
      "\n",
      "    accuracy                           0.99       300\n",
      "   macro avg       0.98      0.99      0.99       300\n",
      "weighted avg       0.99      0.99      0.99       300\n",
      "\n",
      "classification_report:               precision    recall  f1-score   support\n",
      "\n",
      "           0       0.85      0.92      0.88        24\n",
      "           1       0.97      0.95      0.96        76\n",
      "\n",
      "    accuracy                           0.94       100\n",
      "   macro avg       0.91      0.93      0.92       100\n",
      "weighted avg       0.94      0.94      0.94       100\n",
      "\n"
     ]
    },
    {
     "name": "stderr",
     "output_type": "stream",
     "text": [
      "C:\\Users\\nahomw\\AppData\\Local\\Temp\\ipykernel_27772\\1884567426.py:4: SettingWithCopyWarning: \n",
      "A value is trying to be set on a copy of a slice from a DataFrame\n",
      "\n",
      "See the caveats in the documentation: https://pandas.pydata.org/pandas-docs/stable/user_guide/indexing.html#returning-a-view-versus-a-copy\n",
      "  train_encoded.drop(columns = ['train_status'], inplace = True)\n",
      "C:\\Users\\nahomw\\AppData\\Local\\Temp\\ipykernel_27772\\1884567426.py:6: SettingWithCopyWarning: \n",
      "A value is trying to be set on a copy of a slice from a DataFrame\n",
      "\n",
      "See the caveats in the documentation: https://pandas.pydata.org/pandas-docs/stable/user_guide/indexing.html#returning-a-view-versus-a-copy\n",
      "  test_encoded.drop(columns = ['train_status'], inplace = True)\n",
      "c:\\Users\\nahomw\\Anaconda3\\envs\\alzhymer\\lib\\site-packages\\sklearn\\utils\\validation.py:63: DataConversionWarning: A column-vector y was passed when a 1d array was expected. Please change the shape of y to (n_samples, ), for example using ravel().\n",
      "  return f(*args, **kwargs)\n"
     ]
    }
   ],
   "source": [
    "logit_mod(df_ae)"
   ]
  },
  {
   "cell_type": "code",
   "execution_count": 22,
   "metadata": {},
   "outputs": [
    {
     "name": "stdout",
     "output_type": "stream",
     "text": [
      "classification_report:               precision    recall  f1-score   support\n",
      "\n",
      "           0       0.91      1.00      0.95        21\n",
      "           1       1.00      0.97      0.98        59\n",
      "\n",
      "    accuracy                           0.97        80\n",
      "   macro avg       0.96      0.98      0.97        80\n",
      "weighted avg       0.98      0.97      0.98        80\n",
      "\n"
     ]
    }
   ],
   "source": [
    "print('classification_report:',classification_report(xgb_unbalanced.predict(x_pca_valid),y_valid))"
   ]
  },
  {
   "cell_type": "code",
   "execution_count": 44,
   "metadata": {},
   "outputs": [
    {
     "name": "stderr",
     "output_type": "stream",
     "text": [
      "c:\\Users\\nahomw\\Anaconda3\\envs\\alzhymer\\lib\\site-packages\\sklearn\\utils\\validation.py:63: DataConversionWarning: A column-vector y was passed when a 1d array was expected. Please change the shape of y to (n_samples, ), for example using ravel().\n",
      "  return f(*args, **kwargs)\n"
     ]
    }
   ],
   "source": [
    "from sklearn.linear_model import LogisticRegression\n",
    "model_logit = LogisticRegression(solver='liblinear', random_state=0).fit(x_pca_train,y_train)"
   ]
  },
  {
   "cell_type": "code",
   "execution_count": 47,
   "metadata": {},
   "outputs": [
    {
     "name": "stdout",
     "output_type": "stream",
     "text": [
      "classification_report:               precision    recall  f1-score   support\n",
      "\n",
      "           0       1.00      0.99      0.99        74\n",
      "           1       1.00      1.00      1.00       246\n",
      "\n",
      "    accuracy                           1.00       320\n",
      "   macro avg       1.00      0.99      1.00       320\n",
      "weighted avg       1.00      1.00      1.00       320\n",
      "\n"
     ]
    }
   ],
   "source": [
    "print('classification_report:',classification_report(y_train, model_logit.predict(x_pca_train)))"
   ]
  },
  {
   "cell_type": "code",
   "execution_count": 46,
   "metadata": {},
   "outputs": [
    {
     "name": "stdout",
     "output_type": "stream",
     "text": [
      "classification_report:               precision    recall  f1-score   support\n",
      "\n",
      "           0       0.91      0.91      0.91        23\n",
      "           1       0.96      0.96      0.96        57\n",
      "\n",
      "    accuracy                           0.95        80\n",
      "   macro avg       0.94      0.94      0.94        80\n",
      "weighted avg       0.95      0.95      0.95        80\n",
      "\n"
     ]
    }
   ],
   "source": [
    "print('classification_report:',classification_report(y_valid, model_logit.predict(x_pca_valid)))"
   ]
  },
  {
   "cell_type": "code",
   "execution_count": 23,
   "metadata": {},
   "outputs": [
    {
     "name": "stdout",
     "output_type": "stream",
     "text": [
      "classification_report:               precision    recall  f1-score   support\n",
      "\n",
      "           0       1.00      0.91      0.95        23\n",
      "           1       0.97      1.00      0.98        57\n",
      "\n",
      "    accuracy                           0.97        80\n",
      "   macro avg       0.98      0.96      0.97        80\n",
      "weighted avg       0.98      0.97      0.97        80\n",
      "\n"
     ]
    },
    {
     "name": "stderr",
     "output_type": "stream",
     "text": [
      "c:\\Users\\nahomw\\Anaconda3\\envs\\alzhymer\\lib\\site-packages\\sklearn\\utils\\validation.py:63: DataConversionWarning: A column-vector y was passed when a 1d array was expected. Please change the shape of y to (n_samples, ), for example using ravel().\n",
      "  return f(*args, **kwargs)\n"
     ]
    }
   ],
   "source": [
    "from sklearn import svm\n",
    "pca_svc = svm.SVC()\n",
    "pca_svc.fit(x_pca_train, y_train)\n",
    "print('classification_report:',classification_report(y_valid, pca_svc.predict(x_pca_valid)))"
   ]
  },
  {
   "cell_type": "markdown",
   "metadata": {},
   "source": [
    "### XGboost Classifier"
   ]
  },
  {
   "cell_type": "markdown",
   "metadata": {},
   "source": [
    "#### Grid-search CV"
   ]
  },
  {
   "cell_type": "code",
   "execution_count": 199,
   "metadata": {},
   "outputs": [],
   "source": [
    "from sklearn.model_selection import GridSearchCV\n",
    "estimator = XGBClassifier(\n",
    "    objective= 'binary:logistic',\n",
    "    nthread=4,\n",
    "    seed=42\n",
    ")\n",
    "parameters = {\n",
    "    'max_depth': range (2, 7, 1),\n",
    "    'n_estimators': range(60, 220, 40),\n",
    "    'learning_rate': [0.1, 0.05, 0.01, 0.001]\n",
    "    # 'alpha':[0.01,0.1,1,10]\n",
    "}\n"
   ]
  },
  {
   "cell_type": "code",
   "execution_count": 200,
   "metadata": {},
   "outputs": [],
   "source": [
    "grid_search = GridSearchCV(\n",
    "    estimator=estimator,\n",
    "    param_grid=parameters,\n",
    "    scoring = 'roc_auc',\n",
    "    n_jobs = 10,\n",
    "    cv = 10,\n",
    "    verbose=True\n",
    ")"
   ]
  },
  {
   "cell_type": "code",
   "execution_count": 201,
   "metadata": {},
   "outputs": [
    {
     "name": "stdout",
     "output_type": "stream",
     "text": [
      "Fitting 10 folds for each of 80 candidates, totalling 800 fits\n"
     ]
    },
    {
     "data": {
      "text/plain": [
       "GridSearchCV(cv=10,\n",
       "             estimator=XGBClassifier(base_score=None, booster=None,\n",
       "                                     callbacks=None, colsample_bylevel=None,\n",
       "                                     colsample_bynode=None,\n",
       "                                     colsample_bytree=None,\n",
       "                                     early_stopping_rounds=None,\n",
       "                                     enable_categorical=False, eval_metric=None,\n",
       "                                     feature_types=None, gamma=None,\n",
       "                                     gpu_id=None, grow_policy=None,\n",
       "                                     importance_type=None,\n",
       "                                     interaction_constraints=None,\n",
       "                                     learning_rate=None...\n",
       "                                     max_cat_to_onehot=None,\n",
       "                                     max_delta_step=None, max_depth=None,\n",
       "                                     max_leaves=None, min_child_weight=None,\n",
       "                                     missing=nan, monotone_constraints=None,\n",
       "                                     n_estimators=100, n_jobs=None, nthread=4,\n",
       "                                     num_parallel_tree=None, predictor=None, ...),\n",
       "             n_jobs=10,\n",
       "             param_grid={'learning_rate': [0.1, 0.05, 0.01, 0.001],\n",
       "                         'max_depth': range(2, 7),\n",
       "                         'n_estimators': range(60, 220, 40)},\n",
       "             scoring='roc_auc', verbose=True)"
      ]
     },
     "execution_count": 201,
     "metadata": {},
     "output_type": "execute_result"
    }
   ],
   "source": [
    "grid_search.fit(train_encoded,y_train)"
   ]
  },
  {
   "cell_type": "code",
   "execution_count": 202,
   "metadata": {},
   "outputs": [
    {
     "data": {
      "text/plain": [
       "XGBClassifier(base_score=None, booster=None, callbacks=None,\n",
       "              colsample_bylevel=None, colsample_bynode=None,\n",
       "              colsample_bytree=None, early_stopping_rounds=None,\n",
       "              enable_categorical=False, eval_metric=None, feature_types=None,\n",
       "              gamma=None, gpu_id=None, grow_policy=None, importance_type=None,\n",
       "              interaction_constraints=None, learning_rate=0.1, max_bin=None,\n",
       "              max_cat_threshold=None, max_cat_to_onehot=None,\n",
       "              max_delta_step=None, max_depth=3, max_leaves=None,\n",
       "              min_child_weight=None, missing=nan, monotone_constraints=None,\n",
       "              n_estimators=180, n_jobs=None, nthread=4, num_parallel_tree=None,\n",
       "              predictor=None, ...)"
      ]
     },
     "execution_count": 202,
     "metadata": {},
     "output_type": "execute_result"
    }
   ],
   "source": [
    "grid_search.best_estimator_"
   ]
  },
  {
   "cell_type": "code",
   "execution_count": 156,
   "metadata": {},
   "outputs": [
    {
     "data": {
      "text/plain": [
       "XGBClassifier(alpha=1, base_score=None, booster=None, callbacks=None,\n",
       "              colsample_bylevel=None, colsample_bynode=None,\n",
       "              colsample_bytree=None, early_stopping_rounds=None,\n",
       "              enable_categorical=False, eval_metric=None, feature_types=None,\n",
       "              gamma=None, gpu_id=None, grow_policy=None, importance_type=None,\n",
       "              interaction_constraints=None, learning_rate=0.05, max_bin=None,\n",
       "              max_cat_threshold=None, max_cat_to_onehot=None,\n",
       "              max_delta_step=None, max_depth=2, max_leaves=None,\n",
       "              min_child_weight=None, missing=nan, monotone_constraints=None,\n",
       "              n_estimators=100, n_jobs=None, num_parallel_tree=None,\n",
       "              predictor=None, ...)"
      ]
     },
     "execution_count": 156,
     "metadata": {},
     "output_type": "execute_result"
    }
   ],
   "source": [
    "xgb_unbalanced = XGBClassifier(n_estimators=100,max_depth=2, learning_rate=0.05, alpha=1)\n",
    "xgb_unbalanced.fit(train_encoded,y_train)"
   ]
  },
  {
   "cell_type": "code",
   "execution_count": 157,
   "metadata": {},
   "outputs": [
    {
     "name": "stdout",
     "output_type": "stream",
     "text": [
      "classification_report:               precision    recall  f1-score   support\n",
      "\n",
      "           0       1.00      0.85      0.92        71\n",
      "           1       0.95      1.00      0.98       229\n",
      "\n",
      "    accuracy                           0.96       300\n",
      "   macro avg       0.98      0.92      0.95       300\n",
      "weighted avg       0.97      0.96      0.96       300\n",
      "\n"
     ]
    }
   ],
   "source": [
    "print('classification_report:',classification_report(y_train, xgb_unbalanced.predict(train_encoded)))"
   ]
  },
  {
   "cell_type": "code",
   "execution_count": 158,
   "metadata": {},
   "outputs": [
    {
     "name": "stdout",
     "output_type": "stream",
     "text": [
      "classification_report:               precision    recall  f1-score   support\n",
      "\n",
      "           0       1.00      0.77      0.87        26\n",
      "           1       0.93      1.00      0.96        74\n",
      "\n",
      "    accuracy                           0.94       100\n",
      "   macro avg       0.96      0.88      0.92       100\n",
      "weighted avg       0.94      0.94      0.94       100\n",
      "\n"
     ]
    }
   ],
   "source": [
    "print('classification_report:',classification_report(y_valid, xgb_unbalanced.predict(test_encoded)))"
   ]
  },
  {
   "cell_type": "code",
   "execution_count": null,
   "metadata": {},
   "outputs": [],
   "source": [
    "\n",
    "xgb_unbalanced.fit(train_encoded,y_train)"
   ]
  },
  {
   "cell_type": "code",
   "execution_count": 40,
   "metadata": {},
   "outputs": [
    {
     "name": "stdout",
     "output_type": "stream",
     "text": [
      "Fitting 10 folds for each of 128 candidates, totalling 1280 fits\n"
     ]
    },
    {
     "ename": "KeyboardInterrupt",
     "evalue": "",
     "output_type": "error",
     "traceback": [
      "\u001b[1;31m---------------------------------------------------------------------------\u001b[0m",
      "\u001b[1;31mKeyboardInterrupt\u001b[0m                         Traceback (most recent call last)",
      "Cell \u001b[1;32mIn[40], line 1\u001b[0m\n\u001b[1;32m----> 1\u001b[0m \u001b[43mgrid_search\u001b[49m\u001b[38;5;241;43m.\u001b[39;49m\u001b[43mfit\u001b[49m\u001b[43m(\u001b[49m\u001b[43mx_valid\u001b[49m\u001b[43m,\u001b[49m\u001b[43my_valid\u001b[49m\u001b[43m)\u001b[49m\n",
      "File \u001b[1;32mc:\\Users\\nahomw\\Anaconda3\\envs\\alzhymer\\lib\\site-packages\\sklearn\\utils\\validation.py:63\u001b[0m, in \u001b[0;36m_deprecate_positional_args.<locals>._inner_deprecate_positional_args.<locals>.inner_f\u001b[1;34m(*args, **kwargs)\u001b[0m\n\u001b[0;32m     61\u001b[0m extra_args \u001b[39m=\u001b[39m \u001b[39mlen\u001b[39m(args) \u001b[39m-\u001b[39m \u001b[39mlen\u001b[39m(all_args)\n\u001b[0;32m     62\u001b[0m \u001b[39mif\u001b[39;00m extra_args \u001b[39m<\u001b[39m\u001b[39m=\u001b[39m \u001b[39m0\u001b[39m:\n\u001b[1;32m---> 63\u001b[0m     \u001b[39mreturn\u001b[39;00m f(\u001b[39m*\u001b[39;49margs, \u001b[39m*\u001b[39;49m\u001b[39m*\u001b[39;49mkwargs)\n\u001b[0;32m     65\u001b[0m \u001b[39m# extra_args > 0\u001b[39;00m\n\u001b[0;32m     66\u001b[0m args_msg \u001b[39m=\u001b[39m [\u001b[39m'\u001b[39m\u001b[39m{}\u001b[39;00m\u001b[39m=\u001b[39m\u001b[39m{}\u001b[39;00m\u001b[39m'\u001b[39m\u001b[39m.\u001b[39mformat(name, arg)\n\u001b[0;32m     67\u001b[0m             \u001b[39mfor\u001b[39;00m name, arg \u001b[39min\u001b[39;00m \u001b[39mzip\u001b[39m(kwonly_args[:extra_args],\n\u001b[0;32m     68\u001b[0m                                  args[\u001b[39m-\u001b[39mextra_args:])]\n",
      "File \u001b[1;32mc:\\Users\\nahomw\\Anaconda3\\envs\\alzhymer\\lib\\site-packages\\sklearn\\model_selection\\_search.py:841\u001b[0m, in \u001b[0;36mBaseSearchCV.fit\u001b[1;34m(self, X, y, groups, **fit_params)\u001b[0m\n\u001b[0;32m    835\u001b[0m     results \u001b[39m=\u001b[39m \u001b[39mself\u001b[39m\u001b[39m.\u001b[39m_format_results(\n\u001b[0;32m    836\u001b[0m         all_candidate_params, n_splits, all_out,\n\u001b[0;32m    837\u001b[0m         all_more_results)\n\u001b[0;32m    839\u001b[0m     \u001b[39mreturn\u001b[39;00m results\n\u001b[1;32m--> 841\u001b[0m \u001b[39mself\u001b[39;49m\u001b[39m.\u001b[39;49m_run_search(evaluate_candidates)\n\u001b[0;32m    843\u001b[0m \u001b[39m# multimetric is determined here because in the case of a callable\u001b[39;00m\n\u001b[0;32m    844\u001b[0m \u001b[39m# self.scoring the return type is only known after calling\u001b[39;00m\n\u001b[0;32m    845\u001b[0m first_test_score \u001b[39m=\u001b[39m all_out[\u001b[39m0\u001b[39m][\u001b[39m'\u001b[39m\u001b[39mtest_scores\u001b[39m\u001b[39m'\u001b[39m]\n",
      "File \u001b[1;32mc:\\Users\\nahomw\\Anaconda3\\envs\\alzhymer\\lib\\site-packages\\sklearn\\model_selection\\_search.py:1296\u001b[0m, in \u001b[0;36mGridSearchCV._run_search\u001b[1;34m(self, evaluate_candidates)\u001b[0m\n\u001b[0;32m   1294\u001b[0m \u001b[39mdef\u001b[39;00m \u001b[39m_run_search\u001b[39m(\u001b[39mself\u001b[39m, evaluate_candidates):\n\u001b[0;32m   1295\u001b[0m \u001b[39m    \u001b[39m\u001b[39m\"\"\"Search all candidates in param_grid\"\"\"\u001b[39;00m\n\u001b[1;32m-> 1296\u001b[0m     evaluate_candidates(ParameterGrid(\u001b[39mself\u001b[39;49m\u001b[39m.\u001b[39;49mparam_grid))\n",
      "File \u001b[1;32mc:\\Users\\nahomw\\Anaconda3\\envs\\alzhymer\\lib\\site-packages\\sklearn\\model_selection\\_search.py:795\u001b[0m, in \u001b[0;36mBaseSearchCV.fit.<locals>.evaluate_candidates\u001b[1;34m(candidate_params, cv, more_results)\u001b[0m\n\u001b[0;32m    790\u001b[0m \u001b[39mif\u001b[39;00m \u001b[39mself\u001b[39m\u001b[39m.\u001b[39mverbose \u001b[39m>\u001b[39m \u001b[39m0\u001b[39m:\n\u001b[0;32m    791\u001b[0m     \u001b[39mprint\u001b[39m(\u001b[39m\"\u001b[39m\u001b[39mFitting \u001b[39m\u001b[39m{0}\u001b[39;00m\u001b[39m folds for each of \u001b[39m\u001b[39m{1}\u001b[39;00m\u001b[39m candidates,\u001b[39m\u001b[39m\"\u001b[39m\n\u001b[0;32m    792\u001b[0m           \u001b[39m\"\u001b[39m\u001b[39m totalling \u001b[39m\u001b[39m{2}\u001b[39;00m\u001b[39m fits\u001b[39m\u001b[39m\"\u001b[39m\u001b[39m.\u001b[39mformat(\n\u001b[0;32m    793\u001b[0m               n_splits, n_candidates, n_candidates \u001b[39m*\u001b[39m n_splits))\n\u001b[1;32m--> 795\u001b[0m out \u001b[39m=\u001b[39m parallel(delayed(_fit_and_score)(clone(base_estimator),\n\u001b[0;32m    796\u001b[0m                                        X, y,\n\u001b[0;32m    797\u001b[0m                                        train\u001b[39m=\u001b[39;49mtrain, test\u001b[39m=\u001b[39;49mtest,\n\u001b[0;32m    798\u001b[0m                                        parameters\u001b[39m=\u001b[39;49mparameters,\n\u001b[0;32m    799\u001b[0m                                        split_progress\u001b[39m=\u001b[39;49m(\n\u001b[0;32m    800\u001b[0m                                            split_idx,\n\u001b[0;32m    801\u001b[0m                                            n_splits),\n\u001b[0;32m    802\u001b[0m                                        candidate_progress\u001b[39m=\u001b[39;49m(\n\u001b[0;32m    803\u001b[0m                                            cand_idx,\n\u001b[0;32m    804\u001b[0m                                            n_candidates),\n\u001b[0;32m    805\u001b[0m                                        \u001b[39m*\u001b[39;49m\u001b[39m*\u001b[39;49mfit_and_score_kwargs)\n\u001b[0;32m    806\u001b[0m                \u001b[39mfor\u001b[39;49;00m (cand_idx, parameters),\n\u001b[0;32m    807\u001b[0m                    (split_idx, (train, test)) \u001b[39min\u001b[39;49;00m product(\n\u001b[0;32m    808\u001b[0m                    \u001b[39menumerate\u001b[39;49m(candidate_params),\n\u001b[0;32m    809\u001b[0m                    \u001b[39menumerate\u001b[39;49m(cv\u001b[39m.\u001b[39;49msplit(X, y, groups))))\n\u001b[0;32m    811\u001b[0m \u001b[39mif\u001b[39;00m \u001b[39mlen\u001b[39m(out) \u001b[39m<\u001b[39m \u001b[39m1\u001b[39m:\n\u001b[0;32m    812\u001b[0m     \u001b[39mraise\u001b[39;00m \u001b[39mValueError\u001b[39;00m(\u001b[39m'\u001b[39m\u001b[39mNo fits were performed. \u001b[39m\u001b[39m'\u001b[39m\n\u001b[0;32m    813\u001b[0m                      \u001b[39m'\u001b[39m\u001b[39mWas the CV iterator empty? \u001b[39m\u001b[39m'\u001b[39m\n\u001b[0;32m    814\u001b[0m                      \u001b[39m'\u001b[39m\u001b[39mWere there no candidates?\u001b[39m\u001b[39m'\u001b[39m)\n",
      "File \u001b[1;32mc:\\Users\\nahomw\\Anaconda3\\envs\\alzhymer\\lib\\site-packages\\joblib\\parallel.py:1098\u001b[0m, in \u001b[0;36mParallel.__call__\u001b[1;34m(self, iterable)\u001b[0m\n\u001b[0;32m   1095\u001b[0m     \u001b[39mself\u001b[39m\u001b[39m.\u001b[39m_iterating \u001b[39m=\u001b[39m \u001b[39mFalse\u001b[39;00m\n\u001b[0;32m   1097\u001b[0m \u001b[39mwith\u001b[39;00m \u001b[39mself\u001b[39m\u001b[39m.\u001b[39m_backend\u001b[39m.\u001b[39mretrieval_context():\n\u001b[1;32m-> 1098\u001b[0m     \u001b[39mself\u001b[39;49m\u001b[39m.\u001b[39;49mretrieve()\n\u001b[0;32m   1099\u001b[0m \u001b[39m# Make sure that we get a last message telling us we are done\u001b[39;00m\n\u001b[0;32m   1100\u001b[0m elapsed_time \u001b[39m=\u001b[39m time\u001b[39m.\u001b[39mtime() \u001b[39m-\u001b[39m \u001b[39mself\u001b[39m\u001b[39m.\u001b[39m_start_time\n",
      "File \u001b[1;32mc:\\Users\\nahomw\\Anaconda3\\envs\\alzhymer\\lib\\site-packages\\joblib\\parallel.py:975\u001b[0m, in \u001b[0;36mParallel.retrieve\u001b[1;34m(self)\u001b[0m\n\u001b[0;32m    973\u001b[0m \u001b[39mtry\u001b[39;00m:\n\u001b[0;32m    974\u001b[0m     \u001b[39mif\u001b[39;00m \u001b[39mgetattr\u001b[39m(\u001b[39mself\u001b[39m\u001b[39m.\u001b[39m_backend, \u001b[39m'\u001b[39m\u001b[39msupports_timeout\u001b[39m\u001b[39m'\u001b[39m, \u001b[39mFalse\u001b[39;00m):\n\u001b[1;32m--> 975\u001b[0m         \u001b[39mself\u001b[39m\u001b[39m.\u001b[39m_output\u001b[39m.\u001b[39mextend(job\u001b[39m.\u001b[39;49mget(timeout\u001b[39m=\u001b[39;49m\u001b[39mself\u001b[39;49m\u001b[39m.\u001b[39;49mtimeout))\n\u001b[0;32m    976\u001b[0m     \u001b[39melse\u001b[39;00m:\n\u001b[0;32m    977\u001b[0m         \u001b[39mself\u001b[39m\u001b[39m.\u001b[39m_output\u001b[39m.\u001b[39mextend(job\u001b[39m.\u001b[39mget())\n",
      "File \u001b[1;32mc:\\Users\\nahomw\\Anaconda3\\envs\\alzhymer\\lib\\site-packages\\joblib\\_parallel_backends.py:567\u001b[0m, in \u001b[0;36mLokyBackend.wrap_future_result\u001b[1;34m(future, timeout)\u001b[0m\n\u001b[0;32m    564\u001b[0m \u001b[39m\u001b[39m\u001b[39m\"\"\"Wrapper for Future.result to implement the same behaviour as\u001b[39;00m\n\u001b[0;32m    565\u001b[0m \u001b[39mAsyncResults.get from multiprocessing.\"\"\"\u001b[39;00m\n\u001b[0;32m    566\u001b[0m \u001b[39mtry\u001b[39;00m:\n\u001b[1;32m--> 567\u001b[0m     \u001b[39mreturn\u001b[39;00m future\u001b[39m.\u001b[39;49mresult(timeout\u001b[39m=\u001b[39;49mtimeout)\n\u001b[0;32m    568\u001b[0m \u001b[39mexcept\u001b[39;00m CfTimeoutError \u001b[39mas\u001b[39;00m e:\n\u001b[0;32m    569\u001b[0m     \u001b[39mraise\u001b[39;00m \u001b[39mTimeoutError\u001b[39;00m \u001b[39mfrom\u001b[39;00m \u001b[39me\u001b[39;00m\n",
      "File \u001b[1;32mc:\\Users\\nahomw\\Anaconda3\\envs\\alzhymer\\lib\\concurrent\\futures\\_base.py:439\u001b[0m, in \u001b[0;36mFuture.result\u001b[1;34m(self, timeout)\u001b[0m\n\u001b[0;32m    436\u001b[0m \u001b[39melif\u001b[39;00m \u001b[39mself\u001b[39m\u001b[39m.\u001b[39m_state \u001b[39m==\u001b[39m FINISHED:\n\u001b[0;32m    437\u001b[0m     \u001b[39mreturn\u001b[39;00m \u001b[39mself\u001b[39m\u001b[39m.\u001b[39m__get_result()\n\u001b[1;32m--> 439\u001b[0m \u001b[39mself\u001b[39;49m\u001b[39m.\u001b[39;49m_condition\u001b[39m.\u001b[39;49mwait(timeout)\n\u001b[0;32m    441\u001b[0m \u001b[39mif\u001b[39;00m \u001b[39mself\u001b[39m\u001b[39m.\u001b[39m_state \u001b[39min\u001b[39;00m [CANCELLED, CANCELLED_AND_NOTIFIED]:\n\u001b[0;32m    442\u001b[0m     \u001b[39mraise\u001b[39;00m CancelledError()\n",
      "File \u001b[1;32mc:\\Users\\nahomw\\Anaconda3\\envs\\alzhymer\\lib\\threading.py:302\u001b[0m, in \u001b[0;36mCondition.wait\u001b[1;34m(self, timeout)\u001b[0m\n\u001b[0;32m    300\u001b[0m \u001b[39mtry\u001b[39;00m:    \u001b[39m# restore state no matter what (e.g., KeyboardInterrupt)\u001b[39;00m\n\u001b[0;32m    301\u001b[0m     \u001b[39mif\u001b[39;00m timeout \u001b[39mis\u001b[39;00m \u001b[39mNone\u001b[39;00m:\n\u001b[1;32m--> 302\u001b[0m         waiter\u001b[39m.\u001b[39;49macquire()\n\u001b[0;32m    303\u001b[0m         gotit \u001b[39m=\u001b[39m \u001b[39mTrue\u001b[39;00m\n\u001b[0;32m    304\u001b[0m     \u001b[39melse\u001b[39;00m:\n",
      "\u001b[1;31mKeyboardInterrupt\u001b[0m: "
     ]
    }
   ],
   "source": [
    "grid_search.fit(x_valid,y_valid)"
   ]
  },
  {
   "cell_type": "code",
   "execution_count": 200,
   "metadata": {},
   "outputs": [
    {
     "data": {
      "text/plain": [
       "XGBClassifier(base_score=None, booster=None, callbacks=None,\n",
       "              colsample_bylevel=None, colsample_bynode=None,\n",
       "              colsample_bytree=None, early_stopping_rounds=None,\n",
       "              enable_categorical=False, eval_metric=None, feature_types=None,\n",
       "              gamma=None, gpu_id=None, grow_policy=None, importance_type=None,\n",
       "              interaction_constraints=None, learning_rate=0.1, max_bin=None,\n",
       "              max_cat_threshold=None, max_cat_to_onehot=None,\n",
       "              max_delta_step=None, max_depth=2, max_leaves=None,\n",
       "              min_child_weight=None, missing=nan, monotone_constraints=None,\n",
       "              n_estimators=60, n_jobs=None, num_parallel_tree=None,\n",
       "              predictor=None, random_state=None, ...)"
      ]
     },
     "execution_count": 200,
     "metadata": {},
     "output_type": "execute_result"
    }
   ],
   "source": [
    "xgb_raw = XGBClassifier( n_estimators=60,max_depth=2, learning_rate=0.1)\n",
    "xgb_raw.fit(x_train,y_train)"
   ]
  },
  {
   "cell_type": "code",
   "execution_count": 201,
   "metadata": {},
   "outputs": [
    {
     "name": "stdout",
     "output_type": "stream",
     "text": [
      "classification_report:               precision    recall  f1-score   support\n",
      "\n",
      "           0       1.00      0.99      0.99        74\n",
      "           1       1.00      1.00      1.00       246\n",
      "\n",
      "    accuracy                           1.00       320\n",
      "   macro avg       1.00      0.99      1.00       320\n",
      "weighted avg       1.00      1.00      1.00       320\n",
      "\n"
     ]
    }
   ],
   "source": [
    "print('classification_report:',classification_report(y_train, xgb_raw.predict(x_train)))"
   ]
  },
  {
   "cell_type": "code",
   "execution_count": 202,
   "metadata": {},
   "outputs": [
    {
     "name": "stdout",
     "output_type": "stream",
     "text": [
      "classification_report:               precision    recall  f1-score   support\n",
      "\n",
      "           0       1.00      0.57      0.72        23\n",
      "           1       0.85      1.00      0.92        57\n",
      "\n",
      "    accuracy                           0.88        80\n",
      "   macro avg       0.93      0.78      0.82        80\n",
      "weighted avg       0.89      0.88      0.86        80\n",
      "\n"
     ]
    }
   ],
   "source": [
    "print('classification_report:',classification_report(y_valid, xgb_raw.predict(x_valid)))"
   ]
  },
  {
   "cell_type": "markdown",
   "metadata": {},
   "source": [
    "### Random Forest"
   ]
  },
  {
   "cell_type": "code",
   "execution_count": 138,
   "metadata": {},
   "outputs": [
    {
     "name": "stderr",
     "output_type": "stream",
     "text": [
      "C:\\Users\\nahomw\\AppData\\Local\\Temp\\ipykernel_26636\\3946408733.py:3: DataConversionWarning: A column-vector y was passed when a 1d array was expected. Please change the shape of y to (n_samples,), for example using ravel().\n",
      "  rf_mod.fit(x_train,y_train)\n"
     ]
    },
    {
     "data": {
      "text/plain": [
       "RandomForestClassifier()"
      ]
     },
     "execution_count": 138,
     "metadata": {},
     "output_type": "execute_result"
    }
   ],
   "source": [
    "from sklearn.ensemble import RandomForestClassifier\n",
    "rf_mod = RandomForestClassifier()\n",
    "rf_mod.fit(x_train,y_train)\n"
   ]
  },
  {
   "cell_type": "code",
   "execution_count": 139,
   "metadata": {},
   "outputs": [
    {
     "name": "stdout",
     "output_type": "stream",
     "text": [
      "classification_report:               precision    recall  f1-score   support\n",
      "\n",
      "           0       1.00      1.00      1.00        71\n",
      "           1       1.00      1.00      1.00       229\n",
      "\n",
      "    accuracy                           1.00       300\n",
      "   macro avg       1.00      1.00      1.00       300\n",
      "weighted avg       1.00      1.00      1.00       300\n",
      "\n"
     ]
    }
   ],
   "source": [
    "\n",
    "print('classification_report:',classification_report(y_train, rf_mod.predict(x_train)))"
   ]
  },
  {
   "cell_type": "code",
   "execution_count": 60,
   "metadata": {},
   "outputs": [
    {
     "ename": "ValueError",
     "evalue": "X has 360 features, but DecisionTreeClassifier is expecting 190 features as input.",
     "output_type": "error",
     "traceback": [
      "\u001b[1;31m---------------------------------------------------------------------------\u001b[0m",
      "\u001b[1;31mValueError\u001b[0m                                Traceback (most recent call last)",
      "Cell \u001b[1;32mIn[60], line 1\u001b[0m\n\u001b[1;32m----> 1\u001b[0m \u001b[38;5;28mprint\u001b[39m(\u001b[38;5;124m'\u001b[39m\u001b[38;5;124mclassification_report:\u001b[39m\u001b[38;5;124m'\u001b[39m,classification_report(y_valid, \u001b[43mrf_mod\u001b[49m\u001b[38;5;241;43m.\u001b[39;49m\u001b[43mpredict\u001b[49m\u001b[43m(\u001b[49m\u001b[43mx_valid\u001b[49m\u001b[43m)\u001b[49m))\n",
      "File \u001b[1;32mc:\\Users\\nahomw\\Anaconda3\\envs\\alzhymer\\lib\\site-packages\\sklearn\\ensemble\\_forest.py:630\u001b[0m, in \u001b[0;36mForestClassifier.predict\u001b[1;34m(self, X)\u001b[0m\n\u001b[0;32m    609\u001b[0m \u001b[39mdef\u001b[39;00m \u001b[39mpredict\u001b[39m(\u001b[39mself\u001b[39m, X):\n\u001b[0;32m    610\u001b[0m \u001b[39m    \u001b[39m\u001b[39m\"\"\"\u001b[39;00m\n\u001b[0;32m    611\u001b[0m \u001b[39m    Predict class for X.\u001b[39;00m\n\u001b[0;32m    612\u001b[0m \n\u001b[1;32m   (...)\u001b[0m\n\u001b[0;32m    628\u001b[0m \u001b[39m        The predicted classes.\u001b[39;00m\n\u001b[0;32m    629\u001b[0m \u001b[39m    \"\"\"\u001b[39;00m\n\u001b[1;32m--> 630\u001b[0m     proba \u001b[39m=\u001b[39m \u001b[39mself\u001b[39;49m\u001b[39m.\u001b[39;49mpredict_proba(X)\n\u001b[0;32m    632\u001b[0m     \u001b[39mif\u001b[39;00m \u001b[39mself\u001b[39m\u001b[39m.\u001b[39mn_outputs_ \u001b[39m==\u001b[39m \u001b[39m1\u001b[39m:\n\u001b[0;32m    633\u001b[0m         \u001b[39mreturn\u001b[39;00m \u001b[39mself\u001b[39m\u001b[39m.\u001b[39mclasses_\u001b[39m.\u001b[39mtake(np\u001b[39m.\u001b[39margmax(proba, axis\u001b[39m=\u001b[39m\u001b[39m1\u001b[39m), axis\u001b[39m=\u001b[39m\u001b[39m0\u001b[39m)\n",
      "File \u001b[1;32mc:\\Users\\nahomw\\Anaconda3\\envs\\alzhymer\\lib\\site-packages\\sklearn\\ensemble\\_forest.py:674\u001b[0m, in \u001b[0;36mForestClassifier.predict_proba\u001b[1;34m(self, X)\u001b[0m\n\u001b[0;32m    672\u001b[0m check_is_fitted(\u001b[39mself\u001b[39m)\n\u001b[0;32m    673\u001b[0m \u001b[39m# Check data\u001b[39;00m\n\u001b[1;32m--> 674\u001b[0m X \u001b[39m=\u001b[39m \u001b[39mself\u001b[39;49m\u001b[39m.\u001b[39;49m_validate_X_predict(X)\n\u001b[0;32m    676\u001b[0m \u001b[39m# Assign chunk of trees to jobs\u001b[39;00m\n\u001b[0;32m    677\u001b[0m n_jobs, _, _ \u001b[39m=\u001b[39m _partition_estimators(\u001b[39mself\u001b[39m\u001b[39m.\u001b[39mn_estimators, \u001b[39mself\u001b[39m\u001b[39m.\u001b[39mn_jobs)\n",
      "File \u001b[1;32mc:\\Users\\nahomw\\Anaconda3\\envs\\alzhymer\\lib\\site-packages\\sklearn\\ensemble\\_forest.py:422\u001b[0m, in \u001b[0;36mBaseForest._validate_X_predict\u001b[1;34m(self, X)\u001b[0m\n\u001b[0;32m    418\u001b[0m \u001b[39m\u001b[39m\u001b[39m\"\"\"\u001b[39;00m\n\u001b[0;32m    419\u001b[0m \u001b[39mValidate X whenever one tries to predict, apply, predict_proba.\"\"\"\u001b[39;00m\n\u001b[0;32m    420\u001b[0m check_is_fitted(\u001b[39mself\u001b[39m)\n\u001b[1;32m--> 422\u001b[0m \u001b[39mreturn\u001b[39;00m \u001b[39mself\u001b[39;49m\u001b[39m.\u001b[39;49mestimators_[\u001b[39m0\u001b[39;49m]\u001b[39m.\u001b[39;49m_validate_X_predict(X, check_input\u001b[39m=\u001b[39;49m\u001b[39mTrue\u001b[39;49;00m)\n",
      "File \u001b[1;32mc:\\Users\\nahomw\\Anaconda3\\envs\\alzhymer\\lib\\site-packages\\sklearn\\tree\\_classes.py:407\u001b[0m, in \u001b[0;36mBaseDecisionTree._validate_X_predict\u001b[1;34m(self, X, check_input)\u001b[0m\n\u001b[0;32m    405\u001b[0m \u001b[39m\u001b[39m\u001b[39m\"\"\"Validate the training data on predict (probabilities).\"\"\"\u001b[39;00m\n\u001b[0;32m    406\u001b[0m \u001b[39mif\u001b[39;00m check_input:\n\u001b[1;32m--> 407\u001b[0m     X \u001b[39m=\u001b[39m \u001b[39mself\u001b[39;49m\u001b[39m.\u001b[39;49m_validate_data(X, dtype\u001b[39m=\u001b[39;49mDTYPE, accept_sparse\u001b[39m=\u001b[39;49m\u001b[39m\"\u001b[39;49m\u001b[39mcsr\u001b[39;49m\u001b[39m\"\u001b[39;49m,\n\u001b[0;32m    408\u001b[0m                             reset\u001b[39m=\u001b[39;49m\u001b[39mFalse\u001b[39;49;00m)\n\u001b[0;32m    409\u001b[0m     \u001b[39mif\u001b[39;00m issparse(X) \u001b[39mand\u001b[39;00m (X\u001b[39m.\u001b[39mindices\u001b[39m.\u001b[39mdtype \u001b[39m!=\u001b[39m np\u001b[39m.\u001b[39mintc \u001b[39mor\u001b[39;00m\n\u001b[0;32m    410\u001b[0m                         X\u001b[39m.\u001b[39mindptr\u001b[39m.\u001b[39mdtype \u001b[39m!=\u001b[39m np\u001b[39m.\u001b[39mintc):\n\u001b[0;32m    411\u001b[0m         \u001b[39mraise\u001b[39;00m \u001b[39mValueError\u001b[39;00m(\u001b[39m\"\u001b[39m\u001b[39mNo support for np.int64 index based \u001b[39m\u001b[39m\"\u001b[39m\n\u001b[0;32m    412\u001b[0m                          \u001b[39m\"\u001b[39m\u001b[39msparse matrices\u001b[39m\u001b[39m\"\u001b[39m)\n",
      "File \u001b[1;32mc:\\Users\\nahomw\\Anaconda3\\envs\\alzhymer\\lib\\site-packages\\sklearn\\base.py:437\u001b[0m, in \u001b[0;36mBaseEstimator._validate_data\u001b[1;34m(self, X, y, reset, validate_separately, **check_params)\u001b[0m\n\u001b[0;32m    434\u001b[0m     out \u001b[39m=\u001b[39m X, y\n\u001b[0;32m    436\u001b[0m \u001b[39mif\u001b[39;00m check_params\u001b[39m.\u001b[39mget(\u001b[39m'\u001b[39m\u001b[39mensure_2d\u001b[39m\u001b[39m'\u001b[39m, \u001b[39mTrue\u001b[39;00m):\n\u001b[1;32m--> 437\u001b[0m     \u001b[39mself\u001b[39;49m\u001b[39m.\u001b[39;49m_check_n_features(X, reset\u001b[39m=\u001b[39;49mreset)\n\u001b[0;32m    439\u001b[0m \u001b[39mreturn\u001b[39;00m out\n",
      "File \u001b[1;32mc:\\Users\\nahomw\\Anaconda3\\envs\\alzhymer\\lib\\site-packages\\sklearn\\base.py:365\u001b[0m, in \u001b[0;36mBaseEstimator._check_n_features\u001b[1;34m(self, X, reset)\u001b[0m\n\u001b[0;32m    362\u001b[0m     \u001b[39mreturn\u001b[39;00m\n\u001b[0;32m    364\u001b[0m \u001b[39mif\u001b[39;00m n_features \u001b[39m!=\u001b[39m \u001b[39mself\u001b[39m\u001b[39m.\u001b[39mn_features_in_:\n\u001b[1;32m--> 365\u001b[0m     \u001b[39mraise\u001b[39;00m \u001b[39mValueError\u001b[39;00m(\n\u001b[0;32m    366\u001b[0m         \u001b[39mf\u001b[39m\u001b[39m\"\u001b[39m\u001b[39mX has \u001b[39m\u001b[39m{\u001b[39;00mn_features\u001b[39m}\u001b[39;00m\u001b[39m features, but \u001b[39m\u001b[39m{\u001b[39;00m\u001b[39mself\u001b[39m\u001b[39m.\u001b[39m\u001b[39m__class__\u001b[39m\u001b[39m.\u001b[39m\u001b[39m__name__\u001b[39m\u001b[39m}\u001b[39;00m\u001b[39m \u001b[39m\u001b[39m\"\u001b[39m\n\u001b[0;32m    367\u001b[0m         \u001b[39mf\u001b[39m\u001b[39m\"\u001b[39m\u001b[39mis expecting \u001b[39m\u001b[39m{\u001b[39;00m\u001b[39mself\u001b[39m\u001b[39m.\u001b[39mn_features_in_\u001b[39m}\u001b[39;00m\u001b[39m features as input.\u001b[39m\u001b[39m\"\u001b[39m)\n",
      "\u001b[1;31mValueError\u001b[0m: X has 360 features, but DecisionTreeClassifier is expecting 190 features as input."
     ]
    }
   ],
   "source": [
    "print('classification_report:',classification_report(y_valid, rf_mod.predict(x_valid)))"
   ]
  },
  {
   "cell_type": "code",
   "execution_count": 140,
   "metadata": {},
   "outputs": [
    {
     "name": "stderr",
     "output_type": "stream",
     "text": [
      "C:\\Users\\nahomw\\AppData\\Local\\Temp\\ipykernel_26636\\779682960.py:1: DataConversionWarning: A column-vector y was passed when a 1d array was expected. Please change the shape of y to (n_samples,), for example using ravel().\n",
      "  rf_mod.fit(x_train,y_train)\n"
     ]
    },
    {
     "name": "stdout",
     "output_type": "stream",
     "text": [
      "classification_report:               precision    recall  f1-score   support\n",
      "\n",
      "           0       1.00      0.35      0.51        26\n",
      "           1       0.81      1.00      0.90        74\n",
      "\n",
      "    accuracy                           0.83       100\n",
      "   macro avg       0.91      0.67      0.71       100\n",
      "weighted avg       0.86      0.83      0.80       100\n",
      "\n"
     ]
    }
   ],
   "source": [
    "rf_mod.fit(x_train,y_train)\n",
    "print('classification_report:',classification_report(y_valid, rf_mod.predict(x_valid)))"
   ]
  },
  {
   "cell_type": "code",
   "execution_count": 145,
   "metadata": {},
   "outputs": [
    {
     "name": "stderr",
     "output_type": "stream",
     "text": [
      "C:\\Users\\nahomw\\AppData\\Local\\Temp\\ipykernel_26636\\1162444599.py:2: DataConversionWarning: A column-vector y was passed when a 1d array was expected. Please change the shape of y to (n_samples,), for example using ravel().\n",
      "  rf_mod_red.fit(train_encoded,y_train)\n"
     ]
    },
    {
     "name": "stdout",
     "output_type": "stream",
     "text": [
      "classification_report:               precision    recall  f1-score   support\n",
      "\n",
      "           0       1.00      0.50      0.67        26\n",
      "           1       0.85      1.00      0.92        74\n",
      "\n",
      "    accuracy                           0.87       100\n",
      "   macro avg       0.93      0.75      0.79       100\n",
      "weighted avg       0.89      0.87      0.85       100\n",
      "\n"
     ]
    }
   ],
   "source": [
    "rf_mod_red = RandomForestClassifier()\n",
    "rf_mod_red.fit(train_encoded,y_train)\n",
    "print('classification_report:',classification_report(y_valid, rf_mod_red.predict(test_encoded)))"
   ]
  },
  {
   "cell_type": "code",
   "execution_count": 144,
   "metadata": {},
   "outputs": [
    {
     "ename": "NameError",
     "evalue": "name 'y_test' is not defined",
     "output_type": "error",
     "traceback": [
      "\u001b[1;31m---------------------------------------------------------------------------\u001b[0m",
      "\u001b[1;31mNameError\u001b[0m                                 Traceback (most recent call last)",
      "Cell \u001b[1;32mIn[144], line 1\u001b[0m\n\u001b[1;32m----> 1\u001b[0m \u001b[38;5;28mprint\u001b[39m(\u001b[38;5;124m'\u001b[39m\u001b[38;5;124mclassification_report:\u001b[39m\u001b[38;5;124m'\u001b[39m,classification_report(\u001b[43my_test\u001b[49m, rf_mod_red\u001b[38;5;241m.\u001b[39mpredict(test_encoded)))\n",
      "\u001b[1;31mNameError\u001b[0m: name 'y_test' is not defined"
     ]
    }
   ],
   "source": [
    "print('classification_report:',classification_report(y_test, rf_mod_red.predict(test_encoded)))"
   ]
  },
  {
   "cell_type": "code",
   "execution_count": 143,
   "metadata": {},
   "outputs": [
    {
     "name": "stdout",
     "output_type": "stream",
     "text": [
      "10/10 [==============================] - 0s 4ms/step\n",
      "Accuracy: 0.03624933359362187\n"
     ]
    }
   ],
   "source": [
    "print('Accuracy:',mean_squared_error(stacked_ae.predict(x_train), x_train))"
   ]
  },
  {
   "cell_type": "markdown",
   "metadata": {},
   "source": [
    "### Logistic Regression"
   ]
  },
  {
   "cell_type": "code",
   "execution_count": 44,
   "metadata": {},
   "outputs": [
    {
     "name": "stderr",
     "output_type": "stream",
     "text": [
      "c:\\Users\\nahomw\\Anaconda3\\envs\\alzhymer\\lib\\site-packages\\sklearn\\utils\\validation.py:63: DataConversionWarning: A column-vector y was passed when a 1d array was expected. Please change the shape of y to (n_samples, ), for example using ravel().\n",
      "  return f(*args, **kwargs)\n"
     ]
    }
   ],
   "source": [
    "from sklearn.linear_model import LogisticRegression\n",
    "model_logit = LogisticRegression(solver='liblinear', random_state=0).fit(train_encoded, y_train)"
   ]
  },
  {
   "cell_type": "code",
   "execution_count": 45,
   "metadata": {},
   "outputs": [
    {
     "name": "stdout",
     "output_type": "stream",
     "text": [
      "classification_report:               precision    recall  f1-score   support\n",
      "\n",
      "           0       0.91      0.87      0.89        23\n",
      "           1       0.95      0.96      0.96        57\n",
      "\n",
      "    accuracy                           0.94        80\n",
      "   macro avg       0.93      0.92      0.92        80\n",
      "weighted avg       0.94      0.94      0.94        80\n",
      "\n"
     ]
    }
   ],
   "source": [
    "# model.predict(test_encoded, y_valid)\n",
    "print('classification_report:',classification_report(y_valid, model_logit.predict(test_encoded)))\n",
    "# print('classification_report:',classification_report(y_train, model_logit.predict(train_encoded)))"
   ]
  },
  {
   "cell_type": "code",
   "execution_count": 3,
   "metadata": {},
   "outputs": [
    {
     "ename": "NameError",
     "evalue": "name 'x_train' is not defined",
     "output_type": "error",
     "traceback": [
      "\u001b[1;31m---------------------------------------------------------------------------\u001b[0m",
      "\u001b[1;31mNameError\u001b[0m                                 Traceback (most recent call last)",
      "Cell \u001b[1;32mIn[3], line 5\u001b[0m\n\u001b[0;32m      3\u001b[0m model_lda \u001b[38;5;241m=\u001b[39m LinearDiscriminantAnalysis()\n\u001b[0;32m      4\u001b[0m \u001b[38;5;66;03m# model_qda.fit(train_encoded, y_train)\u001b[39;00m\n\u001b[1;32m----> 5\u001b[0m model_lda\u001b[38;5;241m.\u001b[39mfit(\u001b[43mx_train\u001b[49m, y_train)\n\u001b[0;32m      6\u001b[0m \u001b[38;5;28mprint\u001b[39m(\u001b[38;5;124m'\u001b[39m\u001b[38;5;124mclassification_report:\u001b[39m\u001b[38;5;124m'\u001b[39m,classification_report(y_valid, model_lda\u001b[38;5;241m.\u001b[39mpredict(x_valid)))\n",
      "\u001b[1;31mNameError\u001b[0m: name 'x_train' is not defined"
     ]
    }
   ],
   "source": [
    "from sklearn.discriminant_analysis import LinearDiscriminantAnalysis, QuadraticDiscriminantAnalysis\n",
    "model_qda = QuadraticDiscriminantAnalysis()\n",
    "model_lda = LinearDiscriminantAnalysis()\n",
    "# model_qda.fit(train_encoded, y_train)\n",
    "model_lda.fit(x_train, y_train)\n",
    "print('classification_report:',classification_report(y_valid, model_lda.predict(x_valid)))\n"
   ]
  },
  {
   "cell_type": "markdown",
   "metadata": {},
   "source": [
    "### SVC (linear and quadratic)"
   ]
  },
  {
   "cell_type": "code",
   "execution_count": 179,
   "metadata": {},
   "outputs": [
    {
     "name": "stdout",
     "output_type": "stream",
     "text": [
      "classification_report:               precision    recall  f1-score   support\n",
      "\n",
      "           0       1.00      0.91      0.95        23\n",
      "           1       0.97      1.00      0.98        57\n",
      "\n",
      "    accuracy                           0.97        80\n",
      "   macro avg       0.98      0.96      0.97        80\n",
      "weighted avg       0.98      0.97      0.97        80\n",
      "\n"
     ]
    },
    {
     "name": "stderr",
     "output_type": "stream",
     "text": [
      "c:\\Users\\nahomw\\Anaconda3\\envs\\alzhymer\\lib\\site-packages\\sklearn\\utils\\validation.py:63: DataConversionWarning: A column-vector y was passed when a 1d array was expected. Please change the shape of y to (n_samples, ), for example using ravel().\n",
      "  return f(*args, **kwargs)\n"
     ]
    }
   ],
   "source": [
    "from sklearn import svm\n",
    "model_svc = svm.SVC()\n",
    "model_svc.fit(train_encoded, y_train)\n",
    "print('classification_report:',classification_report(y_valid, model_svc.predict(test_encoded)))"
   ]
  },
  {
   "cell_type": "code",
   "execution_count": 180,
   "metadata": {},
   "outputs": [
    {
     "name": "stdout",
     "output_type": "stream",
     "text": [
      "classification_report:               precision    recall  f1-score   support\n",
      "\n",
      "           0       0.98      0.73      0.84        74\n",
      "           1       0.92      1.00      0.96       246\n",
      "\n",
      "    accuracy                           0.93       320\n",
      "   macro avg       0.95      0.86      0.90       320\n",
      "weighted avg       0.94      0.93      0.93       320\n",
      "\n"
     ]
    }
   ],
   "source": [
    "print('classification_report:',classification_report(y_train, model_svc.predict(train_encoded)))"
   ]
  },
  {
   "cell_type": "code",
   "execution_count": 47,
   "metadata": {},
   "outputs": [
    {
     "name": "stdout",
     "output_type": "stream",
     "text": [
      "classification_report:               precision    recall  f1-score   support\n",
      "\n",
      "           0       0.00      0.00      0.00        74\n",
      "           1       0.77      1.00      0.87       246\n",
      "\n",
      "    accuracy                           0.77       320\n",
      "   macro avg       0.38      0.50      0.43       320\n",
      "weighted avg       0.59      0.77      0.67       320\n",
      "\n"
     ]
    },
    {
     "name": "stderr",
     "output_type": "stream",
     "text": [
      "c:\\Users\\nahomw\\Anaconda3\\envs\\alzhymer\\lib\\site-packages\\sklearn\\utils\\validation.py:63: DataConversionWarning: A column-vector y was passed when a 1d array was expected. Please change the shape of y to (n_samples, ), for example using ravel().\n",
      "  return f(*args, **kwargs)\n",
      "c:\\Users\\nahomw\\Anaconda3\\envs\\alzhymer\\lib\\site-packages\\sklearn\\metrics\\_classification.py:1248: UndefinedMetricWarning: Precision and F-score are ill-defined and being set to 0.0 in labels with no predicted samples. Use `zero_division` parameter to control this behavior.\n",
      "  _warn_prf(average, modifier, msg_start, len(result))\n",
      "c:\\Users\\nahomw\\Anaconda3\\envs\\alzhymer\\lib\\site-packages\\sklearn\\metrics\\_classification.py:1248: UndefinedMetricWarning: Precision and F-score are ill-defined and being set to 0.0 in labels with no predicted samples. Use `zero_division` parameter to control this behavior.\n",
      "  _warn_prf(average, modifier, msg_start, len(result))\n",
      "c:\\Users\\nahomw\\Anaconda3\\envs\\alzhymer\\lib\\site-packages\\sklearn\\metrics\\_classification.py:1248: UndefinedMetricWarning: Precision and F-score are ill-defined and being set to 0.0 in labels with no predicted samples. Use `zero_division` parameter to control this behavior.\n",
      "  _warn_prf(average, modifier, msg_start, len(result))\n"
     ]
    }
   ],
   "source": [
    "model_svc.fit(train_encoded, y_train)\n",
    "print('classification_report:',classification_report(y_train, model_svc.predict(train_encoded)))"
   ]
  },
  {
   "cell_type": "code",
   "execution_count": 159,
   "metadata": {},
   "outputs": [
    {
     "name": "stdout",
     "output_type": "stream",
     "text": [
      "13/13 [==============================] - 0s 3ms/step\n"
     ]
    },
    {
     "data": {
      "text/plain": [
       "(400, 190)"
      ]
     },
     "execution_count": 159,
     "metadata": {},
     "output_type": "execute_result"
    }
   ],
   "source": [
    "test_2_encoded = encoder.predict(x_test)\n",
    "test_2_encoded.shape"
   ]
  },
  {
   "cell_type": "code",
   "execution_count": 160,
   "metadata": {},
   "outputs": [
    {
     "data": {
      "text/plain": [
       "(400, 190)"
      ]
     },
     "execution_count": 160,
     "metadata": {},
     "output_type": "execute_result"
    }
   ],
   "source": [
    "test_2_encoded.shape"
   ]
  },
  {
   "cell_type": "code",
   "execution_count": null,
   "metadata": {},
   "outputs": [],
   "source": [
    "accuracy_score()"
   ]
  },
  {
   "cell_type": "code",
   "execution_count": 161,
   "metadata": {},
   "outputs": [],
   "source": [
    "test_2_encoded = encoder.predict(x_test)\n",
    "to_file = xgb_unbalanced.predict(test_2_encoded)\n",
    "# to_file_svm = model_svc.predict(test_2_encoded)"
   ]
  },
  {
   "cell_type": "code",
   "execution_count": 162,
   "metadata": {},
   "outputs": [
    {
     "data": {
      "text/html": [
       "<div>\n",
       "<style scoped>\n",
       "    .dataframe tbody tr th:only-of-type {\n",
       "        vertical-align: middle;\n",
       "    }\n",
       "\n",
       "    .dataframe tbody tr th {\n",
       "        vertical-align: top;\n",
       "    }\n",
       "\n",
       "    .dataframe thead th {\n",
       "        text-align: right;\n",
       "    }\n",
       "</style>\n",
       "<table border=\"1\" class=\"dataframe\">\n",
       "  <thead>\n",
       "    <tr style=\"text-align: right;\">\n",
       "      <th></th>\n",
       "      <th>prediction</th>\n",
       "    </tr>\n",
       "  </thead>\n",
       "  <tbody>\n",
       "    <tr>\n",
       "      <th>0</th>\n",
       "      <td>1</td>\n",
       "    </tr>\n",
       "    <tr>\n",
       "      <th>1</th>\n",
       "      <td>1</td>\n",
       "    </tr>\n",
       "    <tr>\n",
       "      <th>2</th>\n",
       "      <td>1</td>\n",
       "    </tr>\n",
       "    <tr>\n",
       "      <th>3</th>\n",
       "      <td>0</td>\n",
       "    </tr>\n",
       "    <tr>\n",
       "      <th>4</th>\n",
       "      <td>1</td>\n",
       "    </tr>\n",
       "    <tr>\n",
       "      <th>...</th>\n",
       "      <td>...</td>\n",
       "    </tr>\n",
       "    <tr>\n",
       "      <th>395</th>\n",
       "      <td>1</td>\n",
       "    </tr>\n",
       "    <tr>\n",
       "      <th>396</th>\n",
       "      <td>1</td>\n",
       "    </tr>\n",
       "    <tr>\n",
       "      <th>397</th>\n",
       "      <td>1</td>\n",
       "    </tr>\n",
       "    <tr>\n",
       "      <th>398</th>\n",
       "      <td>1</td>\n",
       "    </tr>\n",
       "    <tr>\n",
       "      <th>399</th>\n",
       "      <td>1</td>\n",
       "    </tr>\n",
       "  </tbody>\n",
       "</table>\n",
       "<p>400 rows × 1 columns</p>\n",
       "</div>"
      ],
      "text/plain": [
       "     prediction\n",
       "0             1\n",
       "1             1\n",
       "2             1\n",
       "3             0\n",
       "4             1\n",
       "..          ...\n",
       "395           1\n",
       "396           1\n",
       "397           1\n",
       "398           1\n",
       "399           1\n",
       "\n",
       "[400 rows x 1 columns]"
      ]
     },
     "execution_count": 162,
     "metadata": {},
     "output_type": "execute_result"
    }
   ],
   "source": [
    "df_final = pd.DataFrame(to_file)\n",
    "df_final.columns = ['prediction']\n",
    "df_final"
   ]
  },
  {
   "cell_type": "code",
   "execution_count": 27,
   "metadata": {},
   "outputs": [],
   "source": [
    "df_prev = pd.read_csv(\"test_alz_pred.csv\")"
   ]
  },
  {
   "cell_type": "code",
   "execution_count": 163,
   "metadata": {},
   "outputs": [],
   "source": [
    "import pandas as pd\n",
    "df_final['prediction'].replace({0:'C',1:'AD'}, inplace = True)"
   ]
  },
  {
   "cell_type": "code",
   "execution_count": 164,
   "metadata": {},
   "outputs": [
    {
     "data": {
      "text/plain": [
       "(  prediction\n",
       " 0          C\n",
       " 1         AD\n",
       " 2          C\n",
       " 3          C\n",
       " 4         AD,\n",
       "   prediction\n",
       " 0         AD\n",
       " 1         AD\n",
       " 2         AD\n",
       " 3          C\n",
       " 4         AD)"
      ]
     },
     "execution_count": 164,
     "metadata": {},
     "output_type": "execute_result"
    }
   ],
   "source": [
    "df_prev.head(), df_final.head()"
   ]
  },
  {
   "cell_type": "code",
   "execution_count": 167,
   "metadata": {},
   "outputs": [
    {
     "data": {
      "text/plain": [
       "0.7"
      ]
     },
     "execution_count": 167,
     "metadata": {},
     "output_type": "execute_result"
    }
   ],
   "source": [
    "from sklearn.metrics import mean_squared_error, accuracy_score, confusion_matrix\n",
    "accuracy_score(df_final, df_prev)\n"
   ]
  },
  {
   "cell_type": "code",
   "execution_count": 168,
   "metadata": {},
   "outputs": [
    {
     "data": {
      "text/plain": [
       "prediction\n",
       "AD            333\n",
       "C              67\n",
       "dtype: int64"
      ]
     },
     "execution_count": 168,
     "metadata": {},
     "output_type": "execute_result"
    }
   ],
   "source": [
    "df_final.value_counts()"
   ]
  },
  {
   "cell_type": "code",
   "execution_count": 171,
   "metadata": {},
   "outputs": [
    {
     "data": {
      "text/plain": [
       "XGBClassifier(alpha=1, base_score=None, booster=None, callbacks=None,\n",
       "              colsample_bylevel=None, colsample_bynode=None,\n",
       "              colsample_bytree=None, early_stopping_rounds=None,\n",
       "              enable_categorical=False, eval_metric=None, feature_types=None,\n",
       "              gamma=None, gpu_id=None, grow_policy=None, importance_type=None,\n",
       "              interaction_constraints=None, learning_rate=0.05, max_bin=None,\n",
       "              max_cat_threshold=None, max_cat_to_onehot=None,\n",
       "              max_delta_step=None, max_depth=2, max_leaves=None,\n",
       "              min_child_weight=None, missing=nan, monotone_constraints=None,\n",
       "              n_estimators=100, n_jobs=None, num_parallel_tree=None,\n",
       "              predictor=None, ...)"
      ]
     },
     "execution_count": 171,
     "metadata": {},
     "output_type": "execute_result"
    }
   ],
   "source": [
    "xgb_unbalanced = XGBClassifier(n_estimators=100,max_depth=2, learning_rate=0.05, alpha=1)\n",
    "xgb_unbalanced.fit(x,y)"
   ]
  },
  {
   "cell_type": "code",
   "execution_count": 187,
   "metadata": {},
   "outputs": [
    {
     "name": "stderr",
     "output_type": "stream",
     "text": [
      "C:\\Users\\nahomw\\AppData\\Local\\Temp\\ipykernel_26636\\3150718206.py:3: FutureWarning: The frame.append method is deprecated and will be removed from pandas in a future version. Use pandas.concat instead.\n",
      "  train_test_encoded = train_encoded.append(test_encoded)\n"
     ]
    }
   ],
   "source": [
    "train_encoded = pd.DataFrame(train_encoded)\n",
    "test_encoded = pd.DataFrame(test_encoded)\n",
    "train_test_encoded = train_encoded.append(test_encoded)"
   ]
  },
  {
   "cell_type": "code",
   "execution_count": 188,
   "metadata": {},
   "outputs": [
    {
     "data": {
      "text/plain": [
       "(400, 190)"
      ]
     },
     "execution_count": 188,
     "metadata": {},
     "output_type": "execute_result"
    }
   ],
   "source": [
    "train_test_encoded.shape"
   ]
  },
  {
   "cell_type": "code",
   "execution_count": 190,
   "metadata": {},
   "outputs": [
    {
     "name": "stderr",
     "output_type": "stream",
     "text": [
      "C:\\Users\\nahomw\\AppData\\Local\\Temp\\ipykernel_26636\\2982698167.py:3: FutureWarning: The frame.append method is deprecated and will be removed from pandas in a future version. Use pandas.concat instead.\n",
      "  train_test_y = y_train.append(y_valid)\n"
     ]
    }
   ],
   "source": [
    "y_train = pd.DataFrame(y_train)\n",
    "y_valid = pd.DataFrame(y_valid)\n",
    "train_test_y = y_train.append(y_valid)"
   ]
  },
  {
   "cell_type": "code",
   "execution_count": 191,
   "metadata": {},
   "outputs": [
    {
     "data": {
      "text/plain": [
       "((400, 190), (400, 1))"
      ]
     },
     "execution_count": 191,
     "metadata": {},
     "output_type": "execute_result"
    }
   ],
   "source": [
    "train_test_encoded.shape, train_test_y.shape"
   ]
  },
  {
   "cell_type": "code",
   "execution_count": 192,
   "metadata": {},
   "outputs": [
    {
     "data": {
      "text/plain": [
       "XGBClassifier(alpha=1, base_score=None, booster=None, callbacks=None,\n",
       "              colsample_bylevel=None, colsample_bynode=None,\n",
       "              colsample_bytree=None, early_stopping_rounds=None,\n",
       "              enable_categorical=False, eval_metric=None, feature_types=None,\n",
       "              gamma=None, gpu_id=None, grow_policy=None, importance_type=None,\n",
       "              interaction_constraints=None, learning_rate=0.05, max_bin=None,\n",
       "              max_cat_threshold=None, max_cat_to_onehot=None,\n",
       "              max_delta_step=None, max_depth=2, max_leaves=None,\n",
       "              min_child_weight=None, missing=nan, monotone_constraints=None,\n",
       "              n_estimators=100, n_jobs=None, num_parallel_tree=None,\n",
       "              predictor=None, ...)"
      ]
     },
     "execution_count": 192,
     "metadata": {},
     "output_type": "execute_result"
    }
   ],
   "source": [
    "xgb_unbalanced = XGBClassifier(n_estimators=100,max_depth=2, learning_rate=0.05, alpha=1)\n",
    "xgb_unbalanced.fit(train_test_encoded,train_test_y)"
   ]
  },
  {
   "cell_type": "code",
   "execution_count": 312,
   "metadata": {},
   "outputs": [
    {
     "name": "stdout",
     "output_type": "stream",
     "text": [
      "13/13 [==============================] - 0s 7ms/step\n"
     ]
    }
   ],
   "source": [
    "test_2_encoded = encoder.predict(x_test)\n",
    "to_file = xgb_unbalanced.predict(test_2_encoded)"
   ]
  },
  {
   "cell_type": "code",
   "execution_count": 194,
   "metadata": {},
   "outputs": [
    {
     "data": {
      "text/plain": [
       "array([1, 1, 1, 0, 1, 1, 1, 1, 0, 1, 1, 1, 1, 1, 1, 1, 1, 1, 1, 1, 1, 1,\n",
       "       1, 1, 0, 1, 1, 1, 1, 0, 1, 0, 1, 1, 0, 1, 1, 1, 1, 0, 1, 1, 1, 1,\n",
       "       1, 1, 1, 1, 1, 1, 0, 1, 1, 1, 1, 1, 0, 1, 1, 1, 1, 1, 1, 1, 1, 1,\n",
       "       0, 1, 1, 1, 1, 1, 1, 1, 1, 1, 1, 1, 1, 0, 1, 1, 1, 1, 1, 0, 1, 1,\n",
       "       1, 1, 1, 1, 1, 1, 1, 1, 1, 1, 1, 0, 1, 0, 1, 1, 1, 0, 1, 0, 1, 1,\n",
       "       0, 1, 1, 1, 1, 1, 1, 1, 1, 1, 1, 1, 1, 1, 1, 1, 1, 1, 1, 1, 1, 1,\n",
       "       1, 1, 1, 1, 1, 1, 0, 1, 1, 1, 1, 1, 1, 1, 1, 1, 1, 1, 1, 1, 1, 1,\n",
       "       1, 1, 1, 1, 1, 1, 1, 1, 1, 1, 1, 1, 1, 0, 1, 1, 1, 1, 1, 1, 1, 0,\n",
       "       1, 1, 0, 0, 1, 1, 0, 1, 0, 1, 1, 1, 1, 1, 0, 0, 1, 1, 1, 1, 1, 1,\n",
       "       0, 1, 1, 1, 0, 1, 0, 0, 1, 1, 1, 1, 1, 1, 0, 1, 0, 0, 1, 1, 1, 0,\n",
       "       1, 1, 1, 1, 1, 1, 1, 1, 1, 0, 1, 1, 1, 1, 1, 1, 1, 1, 1, 1, 1, 1,\n",
       "       1, 1, 1, 1, 1, 1, 1, 1, 1, 1, 0, 1, 1, 1, 0, 1, 1, 1, 0, 1, 0, 1,\n",
       "       1, 1, 0, 1, 1, 1, 1, 1, 0, 1, 1, 1, 0, 1, 1, 1, 0, 1, 0, 1, 1, 1,\n",
       "       0, 1, 1, 0, 1, 1, 1, 1, 1, 1, 1, 1, 0, 1, 1, 0, 0, 0, 1, 1, 1, 0,\n",
       "       1, 1, 0, 1, 1, 1, 1, 1, 1, 1, 1, 1, 1, 1, 1, 0, 0, 1, 1, 1, 1, 1,\n",
       "       1, 0, 0, 1, 0, 1, 0, 1, 1, 0, 0, 1, 1, 1, 0, 1, 1, 0, 1, 0, 1, 0,\n",
       "       1, 1, 1, 0, 1, 1, 1, 1, 1, 1, 1, 0, 1, 0, 1, 1, 1, 1, 1, 1, 1, 0,\n",
       "       1, 1, 0, 1, 1, 0, 0, 1, 1, 0, 1, 0, 1, 1, 0, 1, 1, 1, 0, 1, 1, 1,\n",
       "       1, 1, 1, 1])"
      ]
     },
     "execution_count": 194,
     "metadata": {},
     "output_type": "execute_result"
    }
   ],
   "source": [
    "to_file"
   ]
  },
  {
   "cell_type": "code",
   "execution_count": 196,
   "metadata": {},
   "outputs": [],
   "source": [
    "import pandas as pd\n",
    "df_prev = pd.DataFrame(to_file)\n",
    "df_prev.replace({0:'C',1:'AD'}, inplace = True)"
   ]
  },
  {
   "cell_type": "code",
   "execution_count": 197,
   "metadata": {},
   "outputs": [
    {
     "data": {
      "text/plain": [
       "0.97"
      ]
     },
     "execution_count": 197,
     "metadata": {},
     "output_type": "execute_result"
    }
   ],
   "source": [
    "from sklearn.metrics import mean_squared_error, accuracy_score, confusion_matrix\n",
    "accuracy_score(df_final, df_prev)\n"
   ]
  },
  {
   "cell_type": "code",
   "execution_count": 198,
   "metadata": {},
   "outputs": [],
   "source": [
    "df_prev.to_csv('test_alz_pred_1.csv',index = False)"
   ]
  },
  {
   "cell_type": "code",
   "execution_count": 178,
   "metadata": {},
   "outputs": [
    {
     "data": {
      "text/plain": [
       "prediction\n",
       "AD            313\n",
       "C              87\n",
       "dtype: int64"
      ]
     },
     "execution_count": 178,
     "metadata": {},
     "output_type": "execute_result"
    }
   ],
   "source": [
    "df_final.value_counts()"
   ]
  },
  {
   "cell_type": "code",
   "execution_count": 313,
   "metadata": {},
   "outputs": [
    {
     "data": {
      "text/plain": [
       "1    325\n",
       "0     75\n",
       "dtype: int64"
      ]
     },
     "execution_count": 313,
     "metadata": {},
     "output_type": "execute_result"
    }
   ],
   "source": [
    "pd.DataFrame(to_file).value_counts()"
   ]
  },
  {
   "cell_type": "code",
   "execution_count": null,
   "metadata": {},
   "outputs": [],
   "source": []
  }
 ],
 "metadata": {
  "kernelspec": {
   "display_name": "Python 3.8.13 ('alzhymer')",
   "language": "python",
   "name": "python3"
  },
  "language_info": {
   "codemirror_mode": {
    "name": "ipython",
    "version": 3
   },
   "file_extension": ".py",
   "mimetype": "text/x-python",
   "name": "python",
   "nbconvert_exporter": "python",
   "pygments_lexer": "ipython3",
   "version": "3.8.13"
  },
  "orig_nbformat": 4,
  "vscode": {
   "interpreter": {
    "hash": "3f1032128968871d824ee9c779ab00a79d70df1ba9e588c74f3e40dbe0492ce7"
   }
  }
 },
 "nbformat": 4,
 "nbformat_minor": 2
}
