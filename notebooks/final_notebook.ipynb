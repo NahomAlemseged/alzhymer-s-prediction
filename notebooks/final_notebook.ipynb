{
 "cells": [
  {
   "cell_type": "code",
   "execution_count": 11,
   "metadata": {},
   "outputs": [],
   "source": [
    "import pandas as pd\n",
    "import numpy as np\n",
    "from sklearn.linear_model import LogisticRegressionCV, ElasticNet, ElasticNetCV,Ridge,LogisticRegression\n",
    "import tensorflow.keras as tf\n",
    "from sklearn.discriminant_analysis import LinearDiscriminantAnalysis, QuadraticDiscriminantAnalysis\n",
    "from tensorflow.keras.layers import Dense, Flatten\n",
    "from tensorflow.keras.models import Sequential\n",
    "from sklearn.model_selection import train_test_split\n",
    "from xgboost import XGBClassifier\n",
    "from sklearn.metrics import classification_report,f1_score,accuracy_score,roc_auc_score,roc_curve\n",
    "from functions import *\n",
    "import warnings\n",
    "warnings.filterwarnings('ignore')"
   ]
  },
  {
   "cell_type": "code",
   "execution_count": 12,
   "metadata": {},
   "outputs": [],
   "source": [
    "x= pd.read_csv(\"../data/X_train.csv\") \n",
    "y = pd.read_csv(\"../data/Y_train.csv\")\n",
    "x_test = pd.read_csv(\"../data/X_test.csv\")"
   ]
  },
  {
   "cell_type": "code",
   "execution_count": 13,
   "metadata": {},
   "outputs": [
    {
     "data": {
      "text/plain": [
       "Outcome\n",
       "AD         303\n",
       "C           97\n",
       "dtype: int64"
      ]
     },
     "execution_count": 13,
     "metadata": {},
     "output_type": "execute_result"
    }
   ],
   "source": [
    "y_trial = pd.read_csv(\"../data/Y_train.csv\")\n",
    "y_trial.value_counts()"
   ]
  },
  {
   "cell_type": "code",
   "execution_count": 14,
   "metadata": {},
   "outputs": [],
   "source": [
    "y.replace({'C':0,'AD':1}, inplace = True)"
   ]
  },
  {
   "cell_type": "code",
   "execution_count": 15,
   "metadata": {},
   "outputs": [],
   "source": [
    "x_train, x_valid, y_train, y_valid = train_test_split(x, y, test_size=0.25, shuffle= True, random_state=1)"
   ]
  },
  {
   "cell_type": "markdown",
   "metadata": {},
   "source": [
    "### METHOD 1: ELASTIC NET CV WITH LOGIT"
   ]
  },
  {
   "cell_type": "markdown",
   "metadata": {},
   "source": [
    "### Elastic net with logisticregressionCV"
   ]
  },
  {
   "cell_type": "code",
   "execution_count": 16,
   "metadata": {},
   "outputs": [],
   "source": [
    "from sklearn.linear_model import LogisticRegressionCV, ElasticNet, ElasticNetCV\n",
    "from sklearn.linear_model import RidgeClassifier\n",
    "from sklearn.model_selection import RepeatedKFold, GridSearchCV"
   ]
  },
  {
   "cell_type": "code",
   "execution_count": 17,
   "metadata": {},
   "outputs": [
    {
     "name": "stdout",
     "output_type": "stream",
     "text": [
      "10/10 [==============================] - 0s 2ms/step\n",
      "10/10 [==============================] - 0s 2ms/step\n",
      "4/4 [==============================] - 0s 3ms/step\n"
     ]
    }
   ],
   "source": [
    "from sklearn.decomposition import PCA\n",
    "reduced = dim_red()\n",
    "df_pca = reduced.pca_reduce(x_train, x_valid)\n",
    "df_ae = reduced.ae_reduce(x_train, x_valid)"
   ]
  },
  {
   "cell_type": "markdown",
   "metadata": {},
   "source": [
    "### Predictions and comparison"
   ]
  },
  {
   "cell_type": "markdown",
   "metadata": {},
   "source": [
    "#### Elastic net"
   ]
  },
  {
   "cell_type": "code",
   "execution_count": 18,
   "metadata": {},
   "outputs": [],
   "source": [
    "x_train_ = x_train\n",
    "x_valid_ = x_valid\n",
    "x_train_['train_status'] = 'train' \n",
    "x_valid_['train_status'] = 'test'\n",
    "df = pd.concat([x_train_,x_valid_], axis=0)"
   ]
  },
  {
   "cell_type": "code",
   "execution_count": 19,
   "metadata": {},
   "outputs": [
    {
     "name": "stdout",
     "output_type": "stream",
     "text": [
      "Train classificationreport:               precision    recall  f1-score   support\n",
      "\n",
      "         0.0       0.88      1.00      0.94        68\n",
      "         1.0       1.00      0.96      0.98       232\n",
      "\n",
      "    accuracy                           0.97       300\n",
      "   macro avg       0.94      0.98      0.96       300\n",
      "weighted avg       0.97      0.97      0.97       300\n",
      "\n",
      "Test classification_report:               precision    recall  f1-score   support\n",
      "\n",
      "         0.0       0.90      1.00      0.95        18\n",
      "         1.0       1.00      0.98      0.99        82\n",
      "\n",
      "    accuracy                           0.98       100\n",
      "   macro avg       0.95      0.99      0.97       100\n",
      "weighted avg       0.98      0.98      0.98       100\n",
      "\n"
     ]
    }
   ],
   "source": [
    "model = models()\n",
    "elastic_mod = model.models_(df = df, model = 'elastic',y_train = y_train, y_valid = y_valid)"
   ]
  },
  {
   "cell_type": "markdown",
   "metadata": {},
   "source": [
    "### Logistic regression (PCA)"
   ]
  },
  {
   "cell_type": "code",
   "execution_count": 20,
   "metadata": {},
   "outputs": [
    {
     "name": "stdout",
     "output_type": "stream",
     "text": [
      "Train classificationreport:               precision    recall  f1-score   support\n",
      "\n",
      "           0       0.88      0.97      0.93        70\n",
      "           1       0.99      0.96      0.98       230\n",
      "\n",
      "    accuracy                           0.96       300\n",
      "   macro avg       0.94      0.97      0.95       300\n",
      "weighted avg       0.97      0.96      0.96       300\n",
      "\n",
      "Test classification_report:               precision    recall  f1-score   support\n",
      "\n",
      "           0       0.90      0.95      0.92        19\n",
      "           1       0.99      0.98      0.98        81\n",
      "\n",
      "    accuracy                           0.97       100\n",
      "   macro avg       0.94      0.96      0.95       100\n",
      "weighted avg       0.97      0.97      0.97       100\n",
      "\n"
     ]
    }
   ],
   "source": [
    "logit_mod = model.models_(df = df_pca, model = 'log_reg',y_train = y_train, y_valid = y_valid)"
   ]
  },
  {
   "cell_type": "markdown",
   "metadata": {},
   "source": [
    "### Logistic regression (Autoencoder)"
   ]
  },
  {
   "cell_type": "code",
   "execution_count": 21,
   "metadata": {},
   "outputs": [
    {
     "name": "stdout",
     "output_type": "stream",
     "text": [
      "Train classificationreport:               precision    recall  f1-score   support\n",
      "\n",
      "           0       0.84      0.98      0.91        66\n",
      "           1       1.00      0.95      0.97       234\n",
      "\n",
      "    accuracy                           0.96       300\n",
      "   macro avg       0.92      0.97      0.94       300\n",
      "weighted avg       0.96      0.96      0.96       300\n",
      "\n",
      "Test classification_report:               precision    recall  f1-score   support\n",
      "\n",
      "           0       0.90      0.86      0.88        21\n",
      "           1       0.96      0.97      0.97        79\n",
      "\n",
      "    accuracy                           0.95       100\n",
      "   macro avg       0.93      0.92      0.92       100\n",
      "weighted avg       0.95      0.95      0.95       100\n",
      "\n"
     ]
    }
   ],
   "source": [
    "logit_mod = model.models_(df = df_ae, model = 'log_reg',y_train = y_train, y_valid = y_valid)"
   ]
  },
  {
   "cell_type": "markdown",
   "metadata": {},
   "source": [
    "### Linear Discriminant Analysis (LDA) "
   ]
  },
  {
   "cell_type": "markdown",
   "metadata": {},
   "source": [
    "### PCA reduced data"
   ]
  },
  {
   "cell_type": "code",
   "execution_count": 22,
   "metadata": {},
   "outputs": [
    {
     "name": "stdout",
     "output_type": "stream",
     "text": [
      "Train classificationreport:               precision    recall  f1-score   support\n",
      "\n",
      "           0       0.83      0.97      0.90        66\n",
      "           1       0.99      0.94      0.97       234\n",
      "\n",
      "    accuracy                           0.95       300\n",
      "   macro avg       0.91      0.96      0.93       300\n",
      "weighted avg       0.96      0.95      0.95       300\n",
      "\n",
      "Test classification_report:               precision    recall  f1-score   support\n",
      "\n",
      "           0       0.90      0.95      0.92        19\n",
      "           1       0.99      0.98      0.98        81\n",
      "\n",
      "    accuracy                           0.97       100\n",
      "   macro avg       0.94      0.96      0.95       100\n",
      "weighted avg       0.97      0.97      0.97       100\n",
      "\n"
     ]
    }
   ],
   "source": [
    "lda_mod = model.models_(df = df_pca, model = 'lda',y_train = y_train, y_valid = y_valid)"
   ]
  },
  {
   "cell_type": "markdown",
   "metadata": {},
   "source": [
    "### Autoencoder reduced data"
   ]
  },
  {
   "cell_type": "code",
   "execution_count": 23,
   "metadata": {},
   "outputs": [
    {
     "name": "stdout",
     "output_type": "stream",
     "text": [
      "Train classificationreport:               precision    recall  f1-score   support\n",
      "\n",
      "           0       0.88      0.96      0.92        71\n",
      "           1       0.99      0.96      0.97       229\n",
      "\n",
      "    accuracy                           0.96       300\n",
      "   macro avg       0.93      0.96      0.95       300\n",
      "weighted avg       0.96      0.96      0.96       300\n",
      "\n",
      "Test classification_report:               precision    recall  f1-score   support\n",
      "\n",
      "           0       0.85      0.89      0.87        19\n",
      "           1       0.97      0.96      0.97        81\n",
      "\n",
      "    accuracy                           0.95       100\n",
      "   macro avg       0.91      0.93      0.92       100\n",
      "weighted avg       0.95      0.95      0.95       100\n",
      "\n"
     ]
    }
   ],
   "source": [
    "lda_mod = model.models_(df = df_ae, model = 'lda',y_train = y_train, y_valid = y_valid)"
   ]
  },
  {
   "cell_type": "markdown",
   "metadata": {},
   "source": [
    "### Random Forest Classifier"
   ]
  },
  {
   "cell_type": "markdown",
   "metadata": {},
   "source": [
    "### PCA Reduced"
   ]
  },
  {
   "cell_type": "code",
   "execution_count": 24,
   "metadata": {},
   "outputs": [
    {
     "name": "stdout",
     "output_type": "stream",
     "text": [
      "Train classificationreport:               precision    recall  f1-score   support\n",
      "\n",
      "           0       0.81      1.00      0.89        62\n",
      "           1       1.00      0.94      0.97       238\n",
      "\n",
      "    accuracy                           0.95       300\n",
      "   macro avg       0.90      0.97      0.93       300\n",
      "weighted avg       0.96      0.95      0.95       300\n",
      "\n",
      "Test classification_report:               precision    recall  f1-score   support\n",
      "\n",
      "           0       0.75      1.00      0.86        15\n",
      "           1       1.00      0.94      0.97        85\n",
      "\n",
      "    accuracy                           0.95       100\n",
      "   macro avg       0.88      0.97      0.91       100\n",
      "weighted avg       0.96      0.95      0.95       100\n",
      "\n"
     ]
    }
   ],
   "source": [
    "rfc_mod = model.models_(df = df_pca, model = 'rfc',y_train = y_train, y_valid = y_valid)"
   ]
  },
  {
   "cell_type": "markdown",
   "metadata": {},
   "source": [
    "### Autoencoder Reduced"
   ]
  },
  {
   "cell_type": "code",
   "execution_count": 25,
   "metadata": {},
   "outputs": [
    {
     "name": "stdout",
     "output_type": "stream",
     "text": [
      "Train classificationreport:               precision    recall  f1-score   support\n",
      "\n",
      "           0       0.83      1.00      0.91        64\n",
      "           1       1.00      0.94      0.97       236\n",
      "\n",
      "    accuracy                           0.96       300\n",
      "   macro avg       0.92      0.97      0.94       300\n",
      "weighted avg       0.96      0.96      0.96       300\n",
      "\n",
      "Test classification_report:               precision    recall  f1-score   support\n",
      "\n",
      "           0       0.60      1.00      0.75        12\n",
      "           1       1.00      0.91      0.95        88\n",
      "\n",
      "    accuracy                           0.92       100\n",
      "   macro avg       0.80      0.95      0.85       100\n",
      "weighted avg       0.95      0.92      0.93       100\n",
      "\n"
     ]
    }
   ],
   "source": [
    "rfc_mod = model.models_(df = df_ae, model = 'rfc',y_train = y_train, y_valid = y_valid)"
   ]
  },
  {
   "cell_type": "markdown",
   "metadata": {},
   "source": [
    "### XGBOOST "
   ]
  },
  {
   "cell_type": "markdown",
   "metadata": {},
   "source": [
    "### PCA reduced"
   ]
  },
  {
   "cell_type": "code",
   "execution_count": 26,
   "metadata": {},
   "outputs": [
    {
     "name": "stdout",
     "output_type": "stream",
     "text": [
      "Train classificationreport:               precision    recall  f1-score   support\n",
      "\n",
      "           0       0.84      0.98      0.91        66\n",
      "           1       1.00      0.95      0.97       234\n",
      "\n",
      "    accuracy                           0.96       300\n",
      "   macro avg       0.92      0.97      0.94       300\n",
      "weighted avg       0.96      0.96      0.96       300\n",
      "\n",
      "Test classification_report:               precision    recall  f1-score   support\n",
      "\n",
      "           0       0.80      0.89      0.84        18\n",
      "           1       0.97      0.95      0.96        82\n",
      "\n",
      "    accuracy                           0.94       100\n",
      "   macro avg       0.89      0.92      0.90       100\n",
      "weighted avg       0.94      0.94      0.94       100\n",
      "\n"
     ]
    }
   ],
   "source": [
    "xgb_mod = model.models_(df = df_pca, model = 'xgb',y_train = y_train, y_valid = y_valid)"
   ]
  },
  {
   "cell_type": "markdown",
   "metadata": {},
   "source": [
    "### Autoencoder reduced"
   ]
  },
  {
   "cell_type": "code",
   "execution_count": 27,
   "metadata": {},
   "outputs": [
    {
     "name": "stdout",
     "output_type": "stream",
     "text": [
      "Train classificationreport:               precision    recall  f1-score   support\n",
      "\n",
      "           0       0.88      1.00      0.94        68\n",
      "           1       1.00      0.96      0.98       232\n",
      "\n",
      "    accuracy                           0.97       300\n",
      "   macro avg       0.94      0.98      0.96       300\n",
      "weighted avg       0.97      0.97      0.97       300\n",
      "\n",
      "Test classification_report:               precision    recall  f1-score   support\n",
      "\n",
      "           0       0.75      0.88      0.81        17\n",
      "           1       0.97      0.94      0.96        83\n",
      "\n",
      "    accuracy                           0.93       100\n",
      "   macro avg       0.86      0.91      0.88       100\n",
      "weighted avg       0.94      0.93      0.93       100\n",
      "\n"
     ]
    }
   ],
   "source": [
    "xgb_mod = model.models_(df = df_ae, model = 'xgb',y_train = y_train, y_valid = y_valid)"
   ]
  },
  {
   "cell_type": "code",
   "execution_count": null,
   "metadata": {},
   "outputs": [],
   "source": []
  },
  {
   "cell_type": "code",
   "execution_count": null,
   "metadata": {},
   "outputs": [],
   "source": []
  },
  {
   "cell_type": "code",
   "execution_count": null,
   "metadata": {},
   "outputs": [],
   "source": []
  }
 ],
 "metadata": {
  "kernelspec": {
   "display_name": "Python 3.8.13 ('alzhymer')",
   "language": "python",
   "name": "python3"
  },
  "language_info": {
   "codemirror_mode": {
    "name": "ipython",
    "version": 3
   },
   "file_extension": ".py",
   "mimetype": "text/x-python",
   "name": "python",
   "nbconvert_exporter": "python",
   "pygments_lexer": "ipython3",
   "version": "3.8.13"
  },
  "orig_nbformat": 4,
  "vscode": {
   "interpreter": {
    "hash": "3f1032128968871d824ee9c779ab00a79d70df1ba9e588c74f3e40dbe0492ce7"
   }
  }
 },
 "nbformat": 4,
 "nbformat_minor": 2
}
