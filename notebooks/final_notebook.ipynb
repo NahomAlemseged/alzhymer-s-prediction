{
 "cells": [
  {
   "cell_type": "code",
   "execution_count": 1,
   "metadata": {},
   "outputs": [],
   "source": [
    "import pandas as pd\n",
    "import numpy as np\n",
    "from sklearn.linear_model import LogisticRegressionCV, ElasticNet, ElasticNetCV,Ridge,LogisticRegression\n",
    "import tensorflow.keras as tf\n",
    "from sklearn.discriminant_analysis import LinearDiscriminantAnalysis, QuadraticDiscriminantAnalysis\n",
    "from tensorflow.keras.layers import Dense, Flatten\n",
    "from tensorflow.keras.models import Sequential\n",
    "from sklearn.model_selection import train_test_split\n",
    "from xgboost import XGBClassifier\n",
    "from sklearn.metrics import classification_report,f1_score,accuracy_score,roc_auc_score,roc_curve\n",
    "from functions import *\n"
   ]
  },
  {
   "cell_type": "code",
   "execution_count": 2,
   "metadata": {},
   "outputs": [],
   "source": [
    "x= pd.read_csv(\"../data/X_train.csv\") \n",
    "y = pd.read_csv(\"../data/Y_train.csv\")\n",
    "x_test = pd.read_csv(\"../data/X_test.csv\")"
   ]
  },
  {
   "cell_type": "code",
   "execution_count": 3,
   "metadata": {},
   "outputs": [
    {
     "data": {
      "text/plain": [
       "Outcome\n",
       "AD         303\n",
       "C           97\n",
       "dtype: int64"
      ]
     },
     "execution_count": 3,
     "metadata": {},
     "output_type": "execute_result"
    }
   ],
   "source": [
    "y_trial = pd.read_csv(\"../data/Y_train.csv\")\n",
    "y_trial.value_counts()"
   ]
  },
  {
   "cell_type": "code",
   "execution_count": 4,
   "metadata": {},
   "outputs": [],
   "source": [
    "y.replace({'C':0,'AD':1}, inplace = True)"
   ]
  },
  {
   "cell_type": "code",
   "execution_count": 5,
   "metadata": {},
   "outputs": [],
   "source": [
    "x_train, x_valid, y_train, y_valid = train_test_split(x, y, test_size=0.25, shuffle= True, random_state=1)"
   ]
  },
  {
   "cell_type": "markdown",
   "metadata": {},
   "source": [
    "### METHOD 1: ELASTIC NET CV WITH LOGIT"
   ]
  },
  {
   "cell_type": "markdown",
   "metadata": {},
   "source": [
    "### Elastic net with logisticregressionCV"
   ]
  },
  {
   "cell_type": "code",
   "execution_count": 6,
   "metadata": {},
   "outputs": [],
   "source": [
    "from sklearn.linear_model import LogisticRegressionCV, ElasticNet, ElasticNetCV\n",
    "from sklearn.linear_model import RidgeClassifier\n",
    "from sklearn.model_selection import RepeatedKFold, GridSearchCV"
   ]
  },
  {
   "cell_type": "code",
   "execution_count": 7,
   "metadata": {},
   "outputs": [
    {
     "name": "stdout",
     "output_type": "stream",
     "text": [
      "Epoch 1/200\n",
      "10/10 [==============================] - 1s 31ms/step - loss: 4.3121 - accuracy: 0.0567 - val_loss: 2.3712 - val_accuracy: 0.1500\n",
      "Epoch 2/200\n",
      "10/10 [==============================] - 0s 9ms/step - loss: 1.4608 - accuracy: 0.1067 - val_loss: 0.6498 - val_accuracy: 0.0300\n",
      "Epoch 3/200\n",
      "10/10 [==============================] - 0s 8ms/step - loss: 0.4199 - accuracy: 0.1167 - val_loss: 0.2285 - val_accuracy: 0.3100\n",
      "Epoch 4/200\n",
      "10/10 [==============================] - 0s 8ms/step - loss: 0.1859 - accuracy: 0.3033 - val_loss: 0.1542 - val_accuracy: 0.3300\n",
      "Epoch 5/200\n",
      "10/10 [==============================] - 0s 8ms/step - loss: 0.1450 - accuracy: 0.3167 - val_loss: 0.1393 - val_accuracy: 0.3800\n",
      "Epoch 6/200\n",
      "10/10 [==============================] - 0s 9ms/step - loss: 0.1335 - accuracy: 0.3067 - val_loss: 0.1294 - val_accuracy: 0.2900\n",
      "Epoch 7/200\n",
      "10/10 [==============================] - 0s 9ms/step - loss: 0.1253 - accuracy: 0.2667 - val_loss: 0.1219 - val_accuracy: 0.1900\n",
      "Epoch 8/200\n",
      "10/10 [==============================] - 0s 9ms/step - loss: 0.1205 - accuracy: 0.2767 - val_loss: 0.1216 - val_accuracy: 0.1800\n",
      "Epoch 9/200\n",
      "10/10 [==============================] - 0s 9ms/step - loss: 0.1190 - accuracy: 0.2967 - val_loss: 0.1247 - val_accuracy: 0.3000\n",
      "Epoch 10/200\n",
      "10/10 [==============================] - 0s 7ms/step - loss: 0.1179 - accuracy: 0.3133 - val_loss: 0.1187 - val_accuracy: 0.3500\n",
      "Epoch 11/200\n",
      "10/10 [==============================] - 0s 8ms/step - loss: 0.1162 - accuracy: 0.3367 - val_loss: 0.1229 - val_accuracy: 0.3500\n",
      "Epoch 12/200\n",
      "10/10 [==============================] - 0s 8ms/step - loss: 0.1194 - accuracy: 0.3433 - val_loss: 0.1190 - val_accuracy: 0.3900\n",
      "Epoch 13/200\n",
      "10/10 [==============================] - 0s 8ms/step - loss: 0.1169 - accuracy: 0.3267 - val_loss: 0.1175 - val_accuracy: 0.3400\n",
      "Epoch 14/200\n",
      "10/10 [==============================] - 0s 9ms/step - loss: 0.1163 - accuracy: 0.2967 - val_loss: 0.1195 - val_accuracy: 0.3100\n",
      "Epoch 15/200\n",
      "10/10 [==============================] - 0s 8ms/step - loss: 0.1159 - accuracy: 0.2933 - val_loss: 0.1179 - val_accuracy: 0.3900\n",
      "Epoch 16/200\n",
      "10/10 [==============================] - 0s 7ms/step - loss: 0.1159 - accuracy: 0.3267 - val_loss: 0.1161 - val_accuracy: 0.3700\n",
      "Epoch 17/200\n",
      "10/10 [==============================] - 0s 8ms/step - loss: 0.1149 - accuracy: 0.3167 - val_loss: 0.1159 - val_accuracy: 0.3700\n",
      "Epoch 18/200\n",
      "10/10 [==============================] - 0s 8ms/step - loss: 0.1133 - accuracy: 0.3100 - val_loss: 0.1169 - val_accuracy: 0.3000\n",
      "Epoch 19/200\n",
      "10/10 [==============================] - 0s 8ms/step - loss: 0.1127 - accuracy: 0.3300 - val_loss: 0.1157 - val_accuracy: 0.2700\n",
      "Epoch 20/200\n",
      "10/10 [==============================] - 0s 8ms/step - loss: 0.1127 - accuracy: 0.3167 - val_loss: 0.1144 - val_accuracy: 0.3800\n",
      "Epoch 21/200\n",
      "10/10 [==============================] - 0s 8ms/step - loss: 0.1131 - accuracy: 0.3333 - val_loss: 0.1194 - val_accuracy: 0.3700\n",
      "Epoch 22/200\n",
      "10/10 [==============================] - 0s 8ms/step - loss: 0.1135 - accuracy: 0.3267 - val_loss: 0.1165 - val_accuracy: 0.3800\n",
      "Epoch 23/200\n",
      "10/10 [==============================] - 0s 7ms/step - loss: 0.1117 - accuracy: 0.3367 - val_loss: 0.1141 - val_accuracy: 0.3400\n",
      "Epoch 24/200\n",
      "10/10 [==============================] - 0s 8ms/step - loss: 0.1121 - accuracy: 0.3167 - val_loss: 0.1154 - val_accuracy: 0.3500\n",
      "Epoch 25/200\n",
      "10/10 [==============================] - 0s 8ms/step - loss: 0.1131 - accuracy: 0.3300 - val_loss: 0.1157 - val_accuracy: 0.3100\n",
      "Epoch 26/200\n",
      "10/10 [==============================] - 0s 8ms/step - loss: 0.1115 - accuracy: 0.3200 - val_loss: 0.1143 - val_accuracy: 0.3700\n",
      "Epoch 27/200\n",
      "10/10 [==============================] - 0s 8ms/step - loss: 0.1110 - accuracy: 0.3433 - val_loss: 0.1142 - val_accuracy: 0.3800\n",
      "Epoch 28/200\n",
      "10/10 [==============================] - 0s 9ms/step - loss: 0.1109 - accuracy: 0.3300 - val_loss: 0.1133 - val_accuracy: 0.3300\n",
      "Epoch 29/200\n",
      "10/10 [==============================] - 0s 8ms/step - loss: 0.1106 - accuracy: 0.3267 - val_loss: 0.1136 - val_accuracy: 0.3300\n",
      "Epoch 30/200\n",
      "10/10 [==============================] - 0s 7ms/step - loss: 0.1104 - accuracy: 0.3400 - val_loss: 0.1158 - val_accuracy: 0.2800\n",
      "Epoch 31/200\n",
      "10/10 [==============================] - 0s 9ms/step - loss: 0.1106 - accuracy: 0.3333 - val_loss: 0.1155 - val_accuracy: 0.2400\n",
      "Epoch 32/200\n",
      "10/10 [==============================] - 0s 8ms/step - loss: 0.1105 - accuracy: 0.3333 - val_loss: 0.1148 - val_accuracy: 0.3700\n",
      "Epoch 33/200\n",
      "10/10 [==============================] - 0s 8ms/step - loss: 0.1101 - accuracy: 0.3433 - val_loss: 0.1142 - val_accuracy: 0.3600\n",
      "Epoch 34/200\n",
      "10/10 [==============================] - 0s 8ms/step - loss: 0.1099 - accuracy: 0.3400 - val_loss: 0.1175 - val_accuracy: 0.3300\n",
      "Epoch 35/200\n",
      "10/10 [==============================] - 0s 8ms/step - loss: 0.1107 - accuracy: 0.3267 - val_loss: 0.1138 - val_accuracy: 0.3000\n",
      "Epoch 36/200\n",
      "10/10 [==============================] - 0s 8ms/step - loss: 0.1095 - accuracy: 0.3200 - val_loss: 0.1130 - val_accuracy: 0.3800\n",
      "Epoch 37/200\n",
      "10/10 [==============================] - 0s 8ms/step - loss: 0.1093 - accuracy: 0.3233 - val_loss: 0.1132 - val_accuracy: 0.3600\n",
      "Epoch 38/200\n",
      "10/10 [==============================] - 0s 10ms/step - loss: 0.1080 - accuracy: 0.3400 - val_loss: 0.1118 - val_accuracy: 0.3900\n",
      "Epoch 39/200\n",
      "10/10 [==============================] - 0s 8ms/step - loss: 0.1085 - accuracy: 0.3333 - val_loss: 0.1138 - val_accuracy: 0.3900\n",
      "Epoch 40/200\n",
      "10/10 [==============================] - 0s 8ms/step - loss: 0.1089 - accuracy: 0.3367 - val_loss: 0.1114 - val_accuracy: 0.3700\n",
      "Epoch 41/200\n",
      "10/10 [==============================] - 0s 8ms/step - loss: 0.1081 - accuracy: 0.3433 - val_loss: 0.1121 - val_accuracy: 0.3500\n",
      "Epoch 42/200\n",
      "10/10 [==============================] - 0s 8ms/step - loss: 0.1077 - accuracy: 0.3300 - val_loss: 0.1111 - val_accuracy: 0.3800\n",
      "Epoch 43/200\n",
      "10/10 [==============================] - 0s 8ms/step - loss: 0.1078 - accuracy: 0.3333 - val_loss: 0.1131 - val_accuracy: 0.3700\n",
      "Epoch 44/200\n",
      "10/10 [==============================] - 0s 9ms/step - loss: 0.1083 - accuracy: 0.3367 - val_loss: 0.1132 - val_accuracy: 0.3900\n",
      "Epoch 45/200\n",
      "10/10 [==============================] - 0s 9ms/step - loss: 0.1079 - accuracy: 0.3367 - val_loss: 0.1104 - val_accuracy: 0.3800\n",
      "Epoch 46/200\n",
      "10/10 [==============================] - 0s 9ms/step - loss: 0.1070 - accuracy: 0.3433 - val_loss: 0.1111 - val_accuracy: 0.3700\n",
      "Epoch 47/200\n",
      "10/10 [==============================] - 0s 9ms/step - loss: 0.1064 - accuracy: 0.3500 - val_loss: 0.1101 - val_accuracy: 0.3800\n",
      "Epoch 48/200\n",
      "10/10 [==============================] - 0s 9ms/step - loss: 0.1060 - accuracy: 0.3467 - val_loss: 0.1103 - val_accuracy: 0.4000\n",
      "Epoch 49/200\n",
      "10/10 [==============================] - 0s 9ms/step - loss: 0.1063 - accuracy: 0.3533 - val_loss: 0.1110 - val_accuracy: 0.3800\n",
      "Epoch 50/200\n",
      "10/10 [==============================] - 0s 9ms/step - loss: 0.1073 - accuracy: 0.3533 - val_loss: 0.1106 - val_accuracy: 0.3800\n",
      "Epoch 51/200\n",
      "10/10 [==============================] - 0s 8ms/step - loss: 0.1066 - accuracy: 0.3567 - val_loss: 0.1106 - val_accuracy: 0.3700\n",
      "Epoch 52/200\n",
      "10/10 [==============================] - 0s 8ms/step - loss: 0.1060 - accuracy: 0.3567 - val_loss: 0.1101 - val_accuracy: 0.4000\n",
      "Epoch 53/200\n",
      "10/10 [==============================] - 0s 8ms/step - loss: 0.1059 - accuracy: 0.3633 - val_loss: 0.1104 - val_accuracy: 0.4000\n",
      "Epoch 54/200\n",
      "10/10 [==============================] - 0s 8ms/step - loss: 0.1064 - accuracy: 0.3467 - val_loss: 0.1097 - val_accuracy: 0.3900\n",
      "Epoch 55/200\n",
      "10/10 [==============================] - 0s 9ms/step - loss: 0.1060 - accuracy: 0.3600 - val_loss: 0.1105 - val_accuracy: 0.3800\n",
      "Epoch 56/200\n",
      "10/10 [==============================] - 0s 8ms/step - loss: 0.1058 - accuracy: 0.3500 - val_loss: 0.1094 - val_accuracy: 0.4100\n",
      "Epoch 57/200\n",
      "10/10 [==============================] - 0s 8ms/step - loss: 0.1055 - accuracy: 0.3633 - val_loss: 0.1092 - val_accuracy: 0.3700\n",
      "Epoch 58/200\n",
      "10/10 [==============================] - 0s 9ms/step - loss: 0.1051 - accuracy: 0.3467 - val_loss: 0.1089 - val_accuracy: 0.3800\n",
      "Epoch 59/200\n",
      "10/10 [==============================] - 0s 8ms/step - loss: 0.1051 - accuracy: 0.3433 - val_loss: 0.1096 - val_accuracy: 0.3400\n",
      "Epoch 60/200\n",
      "10/10 [==============================] - 0s 8ms/step - loss: 0.1055 - accuracy: 0.3200 - val_loss: 0.1096 - val_accuracy: 0.3900\n",
      "Epoch 61/200\n",
      "10/10 [==============================] - 0s 8ms/step - loss: 0.1055 - accuracy: 0.3533 - val_loss: 0.1093 - val_accuracy: 0.3900\n",
      "Epoch 62/200\n",
      "10/10 [==============================] - 0s 7ms/step - loss: 0.1055 - accuracy: 0.3567 - val_loss: 0.1106 - val_accuracy: 0.4200\n",
      "Epoch 63/200\n",
      "10/10 [==============================] - 0s 8ms/step - loss: 0.1050 - accuracy: 0.3533 - val_loss: 0.1092 - val_accuracy: 0.4000\n",
      "Epoch 64/200\n",
      "10/10 [==============================] - 0s 8ms/step - loss: 0.1045 - accuracy: 0.3633 - val_loss: 0.1091 - val_accuracy: 0.3900\n",
      "Epoch 65/200\n",
      "10/10 [==============================] - 0s 8ms/step - loss: 0.1045 - accuracy: 0.3567 - val_loss: 0.1094 - val_accuracy: 0.3300\n",
      "Epoch 66/200\n",
      "10/10 [==============================] - 0s 8ms/step - loss: 0.1046 - accuracy: 0.3333 - val_loss: 0.1095 - val_accuracy: 0.3800\n",
      "Epoch 67/200\n",
      "10/10 [==============================] - 0s 8ms/step - loss: 0.1045 - accuracy: 0.3667 - val_loss: 0.1090 - val_accuracy: 0.3800\n",
      "Epoch 68/200\n",
      "10/10 [==============================] - 0s 8ms/step - loss: 0.1041 - accuracy: 0.3567 - val_loss: 0.1085 - val_accuracy: 0.4100\n",
      "Epoch 69/200\n",
      "10/10 [==============================] - 0s 8ms/step - loss: 0.1041 - accuracy: 0.3700 - val_loss: 0.1085 - val_accuracy: 0.3900\n",
      "Epoch 70/200\n",
      "10/10 [==============================] - 0s 8ms/step - loss: 0.1044 - accuracy: 0.3567 - val_loss: 0.1092 - val_accuracy: 0.3900\n",
      "Epoch 71/200\n",
      "10/10 [==============================] - 0s 8ms/step - loss: 0.1046 - accuracy: 0.3467 - val_loss: 0.1095 - val_accuracy: 0.3700\n",
      "Epoch 72/200\n",
      "10/10 [==============================] - 0s 8ms/step - loss: 0.1049 - accuracy: 0.3400 - val_loss: 0.1098 - val_accuracy: 0.3900\n",
      "Epoch 73/200\n",
      "10/10 [==============================] - 0s 8ms/step - loss: 0.1047 - accuracy: 0.3700 - val_loss: 0.1089 - val_accuracy: 0.3700\n",
      "Epoch 74/200\n",
      "10/10 [==============================] - 0s 8ms/step - loss: 0.1035 - accuracy: 0.3467 - val_loss: 0.1086 - val_accuracy: 0.3300\n",
      "Epoch 75/200\n",
      "10/10 [==============================] - 0s 8ms/step - loss: 0.1034 - accuracy: 0.3600 - val_loss: 0.1083 - val_accuracy: 0.4100\n",
      "Epoch 76/200\n",
      "10/10 [==============================] - 0s 8ms/step - loss: 0.1035 - accuracy: 0.3667 - val_loss: 0.1078 - val_accuracy: 0.4000\n",
      "Epoch 77/200\n",
      "10/10 [==============================] - 0s 8ms/step - loss: 0.1032 - accuracy: 0.3500 - val_loss: 0.1086 - val_accuracy: 0.4000\n",
      "Epoch 78/200\n",
      "10/10 [==============================] - 0s 8ms/step - loss: 0.1030 - accuracy: 0.3700 - val_loss: 0.1075 - val_accuracy: 0.3800\n",
      "Epoch 79/200\n",
      "10/10 [==============================] - 0s 7ms/step - loss: 0.1027 - accuracy: 0.3500 - val_loss: 0.1078 - val_accuracy: 0.3900\n",
      "Epoch 80/200\n",
      "10/10 [==============================] - 0s 8ms/step - loss: 0.1029 - accuracy: 0.3633 - val_loss: 0.1077 - val_accuracy: 0.4200\n",
      "Epoch 81/200\n",
      "10/10 [==============================] - 0s 7ms/step - loss: 0.1030 - accuracy: 0.3667 - val_loss: 0.1085 - val_accuracy: 0.3500\n",
      "Epoch 82/200\n",
      "10/10 [==============================] - 0s 7ms/step - loss: 0.1027 - accuracy: 0.3633 - val_loss: 0.1070 - val_accuracy: 0.4100\n",
      "Epoch 83/200\n",
      "10/10 [==============================] - 0s 8ms/step - loss: 0.1025 - accuracy: 0.3600 - val_loss: 0.1069 - val_accuracy: 0.4000\n",
      "Epoch 84/200\n",
      "10/10 [==============================] - 0s 8ms/step - loss: 0.1024 - accuracy: 0.3667 - val_loss: 0.1072 - val_accuracy: 0.4400\n",
      "Epoch 85/200\n",
      "10/10 [==============================] - 0s 8ms/step - loss: 0.1022 - accuracy: 0.3600 - val_loss: 0.1072 - val_accuracy: 0.3700\n",
      "Epoch 86/200\n",
      "10/10 [==============================] - 0s 7ms/step - loss: 0.1018 - accuracy: 0.3633 - val_loss: 0.1077 - val_accuracy: 0.4000\n",
      "Epoch 87/200\n",
      "10/10 [==============================] - 0s 8ms/step - loss: 0.1023 - accuracy: 0.3667 - val_loss: 0.1064 - val_accuracy: 0.3800\n",
      "Epoch 88/200\n",
      "10/10 [==============================] - 0s 8ms/step - loss: 0.1020 - accuracy: 0.3600 - val_loss: 0.1083 - val_accuracy: 0.4100\n",
      "Epoch 89/200\n",
      "10/10 [==============================] - 0s 8ms/step - loss: 0.1022 - accuracy: 0.3700 - val_loss: 0.1080 - val_accuracy: 0.3900\n",
      "Epoch 90/200\n",
      "10/10 [==============================] - 0s 8ms/step - loss: 0.1018 - accuracy: 0.3433 - val_loss: 0.1064 - val_accuracy: 0.4300\n",
      "Epoch 91/200\n",
      "10/10 [==============================] - 0s 8ms/step - loss: 0.1010 - accuracy: 0.3533 - val_loss: 0.1058 - val_accuracy: 0.4200\n",
      "Epoch 92/200\n",
      "10/10 [==============================] - 0s 11ms/step - loss: 0.1011 - accuracy: 0.3733 - val_loss: 0.1060 - val_accuracy: 0.4200\n",
      "Epoch 93/200\n",
      "10/10 [==============================] - 0s 10ms/step - loss: 0.1012 - accuracy: 0.3700 - val_loss: 0.1062 - val_accuracy: 0.4100\n",
      "Epoch 94/200\n",
      "10/10 [==============================] - 0s 8ms/step - loss: 0.1011 - accuracy: 0.3767 - val_loss: 0.1064 - val_accuracy: 0.4300\n",
      "Epoch 95/200\n",
      "10/10 [==============================] - 0s 8ms/step - loss: 0.1006 - accuracy: 0.3567 - val_loss: 0.1055 - val_accuracy: 0.4200\n",
      "Epoch 96/200\n",
      "10/10 [==============================] - 0s 8ms/step - loss: 0.1002 - accuracy: 0.3833 - val_loss: 0.1056 - val_accuracy: 0.4300\n",
      "Epoch 97/200\n",
      "10/10 [==============================] - 0s 8ms/step - loss: 0.1002 - accuracy: 0.3667 - val_loss: 0.1061 - val_accuracy: 0.4200\n",
      "Epoch 98/200\n",
      "10/10 [==============================] - 0s 8ms/step - loss: 0.1000 - accuracy: 0.3833 - val_loss: 0.1054 - val_accuracy: 0.4100\n",
      "Epoch 99/200\n",
      "10/10 [==============================] - 0s 9ms/step - loss: 0.0999 - accuracy: 0.3333 - val_loss: 0.1055 - val_accuracy: 0.4800\n",
      "Epoch 100/200\n",
      "10/10 [==============================] - 0s 8ms/step - loss: 0.0998 - accuracy: 0.3600 - val_loss: 0.1059 - val_accuracy: 0.4400\n",
      "Epoch 101/200\n",
      "10/10 [==============================] - 0s 12ms/step - loss: 0.1001 - accuracy: 0.3567 - val_loss: 0.1056 - val_accuracy: 0.4500\n",
      "Epoch 102/200\n",
      "10/10 [==============================] - 0s 9ms/step - loss: 0.0999 - accuracy: 0.3667 - val_loss: 0.1059 - val_accuracy: 0.4000\n",
      "Epoch 103/200\n",
      "10/10 [==============================] - 0s 8ms/step - loss: 0.0997 - accuracy: 0.3633 - val_loss: 0.1047 - val_accuracy: 0.3600\n",
      "Epoch 104/200\n",
      "10/10 [==============================] - 0s 8ms/step - loss: 0.0994 - accuracy: 0.3800 - val_loss: 0.1065 - val_accuracy: 0.4100\n",
      "Epoch 105/200\n",
      "10/10 [==============================] - 0s 8ms/step - loss: 0.0995 - accuracy: 0.3633 - val_loss: 0.1044 - val_accuracy: 0.4200\n",
      "Epoch 106/200\n",
      "10/10 [==============================] - 0s 8ms/step - loss: 0.0993 - accuracy: 0.3733 - val_loss: 0.1051 - val_accuracy: 0.4200\n",
      "Epoch 107/200\n",
      "10/10 [==============================] - 0s 8ms/step - loss: 0.0991 - accuracy: 0.3500 - val_loss: 0.1050 - val_accuracy: 0.4200\n",
      "Epoch 108/200\n",
      "10/10 [==============================] - 0s 7ms/step - loss: 0.0988 - accuracy: 0.3800 - val_loss: 0.1051 - val_accuracy: 0.4000\n",
      "Epoch 109/200\n",
      "10/10 [==============================] - 0s 8ms/step - loss: 0.0988 - accuracy: 0.3833 - val_loss: 0.1043 - val_accuracy: 0.4500\n",
      "Epoch 110/200\n",
      "10/10 [==============================] - 0s 8ms/step - loss: 0.0990 - accuracy: 0.3600 - val_loss: 0.1051 - val_accuracy: 0.4200\n",
      "Epoch 111/200\n",
      "10/10 [==============================] - 0s 7ms/step - loss: 0.0985 - accuracy: 0.3700 - val_loss: 0.1047 - val_accuracy: 0.3800\n",
      "Epoch 112/200\n",
      "10/10 [==============================] - 0s 7ms/step - loss: 0.0981 - accuracy: 0.3833 - val_loss: 0.1050 - val_accuracy: 0.4200\n",
      "Epoch 113/200\n",
      "10/10 [==============================] - 0s 7ms/step - loss: 0.0982 - accuracy: 0.3633 - val_loss: 0.1043 - val_accuracy: 0.4200\n",
      "Epoch 114/200\n",
      "10/10 [==============================] - 0s 13ms/step - loss: 0.0975 - accuracy: 0.3833 - val_loss: 0.1037 - val_accuracy: 0.4400\n",
      "Epoch 115/200\n",
      "10/10 [==============================] - 0s 8ms/step - loss: 0.0978 - accuracy: 0.3733 - val_loss: 0.1056 - val_accuracy: 0.3400\n",
      "Epoch 116/200\n",
      "10/10 [==============================] - 0s 7ms/step - loss: 0.0981 - accuracy: 0.3733 - val_loss: 0.1033 - val_accuracy: 0.3800\n",
      "Epoch 117/200\n",
      "10/10 [==============================] - 0s 7ms/step - loss: 0.0975 - accuracy: 0.3700 - val_loss: 0.1037 - val_accuracy: 0.4600\n",
      "Epoch 118/200\n",
      "10/10 [==============================] - 0s 7ms/step - loss: 0.0973 - accuracy: 0.3700 - val_loss: 0.1040 - val_accuracy: 0.3800\n",
      "Epoch 119/200\n",
      "10/10 [==============================] - 0s 7ms/step - loss: 0.0972 - accuracy: 0.3600 - val_loss: 0.1034 - val_accuracy: 0.4300\n",
      "Epoch 120/200\n",
      "10/10 [==============================] - 0s 8ms/step - loss: 0.0970 - accuracy: 0.3533 - val_loss: 0.1030 - val_accuracy: 0.4500\n",
      "Epoch 121/200\n",
      "10/10 [==============================] - 0s 7ms/step - loss: 0.0965 - accuracy: 0.3767 - val_loss: 0.1028 - val_accuracy: 0.4300\n",
      "Epoch 122/200\n",
      "10/10 [==============================] - 0s 7ms/step - loss: 0.0960 - accuracy: 0.3700 - val_loss: 0.1033 - val_accuracy: 0.4400\n",
      "Epoch 123/200\n",
      "10/10 [==============================] - 0s 7ms/step - loss: 0.0959 - accuracy: 0.3633 - val_loss: 0.1023 - val_accuracy: 0.4500\n",
      "Epoch 124/200\n",
      "10/10 [==============================] - 0s 7ms/step - loss: 0.0955 - accuracy: 0.3800 - val_loss: 0.1026 - val_accuracy: 0.4500\n",
      "Epoch 125/200\n",
      "10/10 [==============================] - 0s 7ms/step - loss: 0.0952 - accuracy: 0.3833 - val_loss: 0.1022 - val_accuracy: 0.4300\n",
      "Epoch 126/200\n",
      "10/10 [==============================] - 0s 8ms/step - loss: 0.0948 - accuracy: 0.3667 - val_loss: 0.1025 - val_accuracy: 0.3700\n",
      "Epoch 127/200\n",
      "10/10 [==============================] - 0s 8ms/step - loss: 0.0949 - accuracy: 0.3700 - val_loss: 0.1032 - val_accuracy: 0.4300\n",
      "Epoch 128/200\n",
      "10/10 [==============================] - 0s 7ms/step - loss: 0.0949 - accuracy: 0.3733 - val_loss: 0.1025 - val_accuracy: 0.3500\n",
      "Epoch 129/200\n",
      "10/10 [==============================] - 0s 7ms/step - loss: 0.0949 - accuracy: 0.3533 - val_loss: 0.1020 - val_accuracy: 0.4500\n",
      "Epoch 130/200\n",
      "10/10 [==============================] - 0s 8ms/step - loss: 0.0950 - accuracy: 0.3733 - val_loss: 0.1020 - val_accuracy: 0.4600\n",
      "Epoch 131/200\n",
      "10/10 [==============================] - 0s 7ms/step - loss: 0.0950 - accuracy: 0.3467 - val_loss: 0.1020 - val_accuracy: 0.3700\n",
      "Epoch 132/200\n",
      "10/10 [==============================] - 0s 8ms/step - loss: 0.0950 - accuracy: 0.3700 - val_loss: 0.1029 - val_accuracy: 0.4800\n",
      "Epoch 133/200\n",
      "10/10 [==============================] - 0s 7ms/step - loss: 0.0950 - accuracy: 0.3500 - val_loss: 0.1019 - val_accuracy: 0.4300\n",
      "Epoch 134/200\n",
      "10/10 [==============================] - 0s 8ms/step - loss: 0.0943 - accuracy: 0.3567 - val_loss: 0.1021 - val_accuracy: 0.4300\n",
      "Epoch 135/200\n",
      "10/10 [==============================] - 0s 8ms/step - loss: 0.0937 - accuracy: 0.3567 - val_loss: 0.1009 - val_accuracy: 0.3600\n",
      "Epoch 136/200\n",
      "10/10 [==============================] - 0s 7ms/step - loss: 0.0932 - accuracy: 0.3700 - val_loss: 0.1009 - val_accuracy: 0.4700\n",
      "Epoch 137/200\n",
      "10/10 [==============================] - 0s 7ms/step - loss: 0.0938 - accuracy: 0.3600 - val_loss: 0.1009 - val_accuracy: 0.4100\n",
      "Epoch 138/200\n",
      "10/10 [==============================] - 0s 8ms/step - loss: 0.0928 - accuracy: 0.3767 - val_loss: 0.1021 - val_accuracy: 0.4200\n",
      "Epoch 139/200\n",
      "10/10 [==============================] - 0s 8ms/step - loss: 0.0933 - accuracy: 0.3433 - val_loss: 0.1006 - val_accuracy: 0.4100\n",
      "Epoch 140/200\n",
      "10/10 [==============================] - 0s 8ms/step - loss: 0.0929 - accuracy: 0.3800 - val_loss: 0.1014 - val_accuracy: 0.4800\n",
      "Epoch 141/200\n",
      "10/10 [==============================] - 0s 7ms/step - loss: 0.0925 - accuracy: 0.3500 - val_loss: 0.1006 - val_accuracy: 0.4500\n",
      "Epoch 142/200\n",
      "10/10 [==============================] - 0s 8ms/step - loss: 0.0922 - accuracy: 0.3667 - val_loss: 0.1005 - val_accuracy: 0.3700\n",
      "Epoch 143/200\n",
      "10/10 [==============================] - 0s 8ms/step - loss: 0.0924 - accuracy: 0.3267 - val_loss: 0.1030 - val_accuracy: 0.4400\n",
      "Epoch 144/200\n",
      "10/10 [==============================] - 0s 8ms/step - loss: 0.0934 - accuracy: 0.3600 - val_loss: 0.1019 - val_accuracy: 0.4500\n",
      "Epoch 145/200\n",
      "10/10 [==============================] - 0s 8ms/step - loss: 0.0930 - accuracy: 0.3600 - val_loss: 0.1016 - val_accuracy: 0.4200\n",
      "Epoch 146/200\n",
      "10/10 [==============================] - 0s 7ms/step - loss: 0.0924 - accuracy: 0.3533 - val_loss: 0.1002 - val_accuracy: 0.4800\n",
      "Epoch 147/200\n",
      "10/10 [==============================] - 0s 8ms/step - loss: 0.0913 - accuracy: 0.3833 - val_loss: 0.0993 - val_accuracy: 0.4600\n",
      "Epoch 148/200\n",
      "10/10 [==============================] - 0s 7ms/step - loss: 0.0908 - accuracy: 0.3867 - val_loss: 0.0997 - val_accuracy: 0.4100\n",
      "Epoch 149/200\n",
      "10/10 [==============================] - 0s 7ms/step - loss: 0.0906 - accuracy: 0.3533 - val_loss: 0.0996 - val_accuracy: 0.3900\n",
      "Epoch 150/200\n",
      "10/10 [==============================] - 0s 9ms/step - loss: 0.0907 - accuracy: 0.3500 - val_loss: 0.0998 - val_accuracy: 0.4700\n",
      "Epoch 151/200\n",
      "10/10 [==============================] - 0s 7ms/step - loss: 0.0907 - accuracy: 0.3633 - val_loss: 0.0995 - val_accuracy: 0.4300\n",
      "Epoch 152/200\n",
      "10/10 [==============================] - 0s 7ms/step - loss: 0.0902 - accuracy: 0.3867 - val_loss: 0.0990 - val_accuracy: 0.4200\n",
      "Epoch 153/200\n",
      "10/10 [==============================] - 0s 7ms/step - loss: 0.0898 - accuracy: 0.3667 - val_loss: 0.0985 - val_accuracy: 0.4000\n",
      "Epoch 154/200\n",
      "10/10 [==============================] - 0s 8ms/step - loss: 0.0893 - accuracy: 0.3533 - val_loss: 0.0985 - val_accuracy: 0.4100\n",
      "Epoch 155/200\n",
      "10/10 [==============================] - 0s 8ms/step - loss: 0.0895 - accuracy: 0.3633 - val_loss: 0.0983 - val_accuracy: 0.4400\n",
      "Epoch 156/200\n",
      "10/10 [==============================] - 0s 7ms/step - loss: 0.0888 - accuracy: 0.3567 - val_loss: 0.0984 - val_accuracy: 0.4500\n",
      "Epoch 157/200\n",
      "10/10 [==============================] - 0s 7ms/step - loss: 0.0892 - accuracy: 0.3933 - val_loss: 0.0981 - val_accuracy: 0.4100\n",
      "Epoch 158/200\n",
      "10/10 [==============================] - 0s 7ms/step - loss: 0.0885 - accuracy: 0.3533 - val_loss: 0.0982 - val_accuracy: 0.4100\n",
      "Epoch 159/200\n",
      "10/10 [==============================] - 0s 9ms/step - loss: 0.0890 - accuracy: 0.3533 - val_loss: 0.0983 - val_accuracy: 0.3500\n",
      "Epoch 160/200\n",
      "10/10 [==============================] - 0s 7ms/step - loss: 0.0891 - accuracy: 0.3833 - val_loss: 0.0978 - val_accuracy: 0.4200\n",
      "Epoch 161/200\n",
      "10/10 [==============================] - 0s 7ms/step - loss: 0.0883 - accuracy: 0.3467 - val_loss: 0.0976 - val_accuracy: 0.4500\n",
      "Epoch 162/200\n",
      "10/10 [==============================] - 0s 8ms/step - loss: 0.0883 - accuracy: 0.3500 - val_loss: 0.1009 - val_accuracy: 0.4100\n",
      "Epoch 163/200\n",
      "10/10 [==============================] - 0s 7ms/step - loss: 0.0888 - accuracy: 0.3600 - val_loss: 0.0981 - val_accuracy: 0.4200\n",
      "Epoch 164/200\n",
      "10/10 [==============================] - 0s 7ms/step - loss: 0.0875 - accuracy: 0.3567 - val_loss: 0.0981 - val_accuracy: 0.4500\n",
      "Epoch 165/200\n",
      "10/10 [==============================] - 0s 8ms/step - loss: 0.0881 - accuracy: 0.3733 - val_loss: 0.0977 - val_accuracy: 0.3800\n",
      "Epoch 166/200\n",
      "10/10 [==============================] - 0s 8ms/step - loss: 0.0874 - accuracy: 0.3533 - val_loss: 0.0969 - val_accuracy: 0.4400\n",
      "Epoch 167/200\n",
      "10/10 [==============================] - 0s 7ms/step - loss: 0.0867 - accuracy: 0.3833 - val_loss: 0.0971 - val_accuracy: 0.4400\n",
      "Epoch 168/200\n",
      "10/10 [==============================] - 0s 8ms/step - loss: 0.0870 - accuracy: 0.3633 - val_loss: 0.0969 - val_accuracy: 0.4500\n",
      "Epoch 169/200\n",
      "10/10 [==============================] - 0s 7ms/step - loss: 0.0869 - accuracy: 0.3667 - val_loss: 0.0976 - val_accuracy: 0.4500\n",
      "Epoch 170/200\n",
      "10/10 [==============================] - 0s 8ms/step - loss: 0.0871 - accuracy: 0.3800 - val_loss: 0.0981 - val_accuracy: 0.3800\n",
      "Epoch 171/200\n",
      "10/10 [==============================] - 0s 7ms/step - loss: 0.0870 - accuracy: 0.3767 - val_loss: 0.0971 - val_accuracy: 0.4100\n",
      "Epoch 172/200\n",
      "10/10 [==============================] - 0s 7ms/step - loss: 0.0862 - accuracy: 0.3833 - val_loss: 0.0958 - val_accuracy: 0.4500\n",
      "Epoch 173/200\n",
      "10/10 [==============================] - 0s 22ms/step - loss: 0.0858 - accuracy: 0.3800 - val_loss: 0.0961 - val_accuracy: 0.4100\n",
      "Epoch 174/200\n",
      "10/10 [==============================] - 0s 11ms/step - loss: 0.0854 - accuracy: 0.3733 - val_loss: 0.0960 - val_accuracy: 0.4500\n",
      "Epoch 175/200\n",
      "10/10 [==============================] - 0s 8ms/step - loss: 0.0854 - accuracy: 0.3800 - val_loss: 0.0961 - val_accuracy: 0.4300\n",
      "Epoch 176/200\n",
      "10/10 [==============================] - 0s 8ms/step - loss: 0.0855 - accuracy: 0.3733 - val_loss: 0.0959 - val_accuracy: 0.3700\n",
      "Epoch 177/200\n",
      "10/10 [==============================] - 0s 7ms/step - loss: 0.0853 - accuracy: 0.3767 - val_loss: 0.0956 - val_accuracy: 0.4000\n",
      "Epoch 178/200\n",
      "10/10 [==============================] - 0s 6ms/step - loss: 0.0850 - accuracy: 0.3600 - val_loss: 0.0959 - val_accuracy: 0.3800\n",
      "Epoch 179/200\n",
      "10/10 [==============================] - 0s 7ms/step - loss: 0.0848 - accuracy: 0.3633 - val_loss: 0.0964 - val_accuracy: 0.3500\n",
      "Epoch 180/200\n",
      "10/10 [==============================] - 0s 7ms/step - loss: 0.0844 - accuracy: 0.3533 - val_loss: 0.0953 - val_accuracy: 0.3800\n",
      "Epoch 181/200\n",
      "10/10 [==============================] - 0s 7ms/step - loss: 0.0840 - accuracy: 0.3633 - val_loss: 0.0955 - val_accuracy: 0.4500\n",
      "Epoch 182/200\n",
      "10/10 [==============================] - 0s 7ms/step - loss: 0.0839 - accuracy: 0.3800 - val_loss: 0.0953 - val_accuracy: 0.3500\n",
      "Epoch 183/200\n",
      "10/10 [==============================] - 0s 9ms/step - loss: 0.0843 - accuracy: 0.3500 - val_loss: 0.0952 - val_accuracy: 0.4000\n",
      "Epoch 184/200\n",
      "10/10 [==============================] - 0s 8ms/step - loss: 0.0839 - accuracy: 0.3500 - val_loss: 0.0950 - val_accuracy: 0.4000\n",
      "Epoch 185/200\n",
      "10/10 [==============================] - 0s 9ms/step - loss: 0.0837 - accuracy: 0.3700 - val_loss: 0.0948 - val_accuracy: 0.4000\n",
      "Epoch 186/200\n",
      "10/10 [==============================] - 0s 8ms/step - loss: 0.0835 - accuracy: 0.3833 - val_loss: 0.0942 - val_accuracy: 0.3800\n",
      "Epoch 187/200\n",
      "10/10 [==============================] - 0s 7ms/step - loss: 0.0827 - accuracy: 0.3667 - val_loss: 0.0946 - val_accuracy: 0.3400\n",
      "Epoch 188/200\n",
      "10/10 [==============================] - 0s 7ms/step - loss: 0.0833 - accuracy: 0.3600 - val_loss: 0.0945 - val_accuracy: 0.4700\n",
      "Epoch 189/200\n",
      "10/10 [==============================] - 0s 7ms/step - loss: 0.0828 - accuracy: 0.3967 - val_loss: 0.0947 - val_accuracy: 0.3400\n",
      "Epoch 190/200\n",
      "10/10 [==============================] - 0s 7ms/step - loss: 0.0829 - accuracy: 0.3700 - val_loss: 0.0948 - val_accuracy: 0.3700\n",
      "Epoch 191/200\n",
      "10/10 [==============================] - 0s 8ms/step - loss: 0.0830 - accuracy: 0.3667 - val_loss: 0.0951 - val_accuracy: 0.3700\n",
      "Epoch 192/200\n",
      "10/10 [==============================] - 0s 7ms/step - loss: 0.0828 - accuracy: 0.3700 - val_loss: 0.0940 - val_accuracy: 0.3400\n",
      "Epoch 193/200\n",
      "10/10 [==============================] - 0s 7ms/step - loss: 0.0822 - accuracy: 0.3667 - val_loss: 0.0939 - val_accuracy: 0.4100\n",
      "Epoch 194/200\n",
      "10/10 [==============================] - 0s 7ms/step - loss: 0.0834 - accuracy: 0.3867 - val_loss: 0.0950 - val_accuracy: 0.4500\n",
      "Epoch 195/200\n",
      "10/10 [==============================] - 0s 8ms/step - loss: 0.0831 - accuracy: 0.3800 - val_loss: 0.0952 - val_accuracy: 0.3100\n",
      "Epoch 196/200\n",
      "10/10 [==============================] - 0s 7ms/step - loss: 0.0820 - accuracy: 0.3633 - val_loss: 0.0940 - val_accuracy: 0.4300\n",
      "Epoch 197/200\n",
      "10/10 [==============================] - 0s 7ms/step - loss: 0.0817 - accuracy: 0.3800 - val_loss: 0.0937 - val_accuracy: 0.4000\n",
      "Epoch 198/200\n",
      "10/10 [==============================] - 0s 8ms/step - loss: 0.0815 - accuracy: 0.3700 - val_loss: 0.0940 - val_accuracy: 0.3500\n",
      "Epoch 199/200\n",
      "10/10 [==============================] - 0s 8ms/step - loss: 0.0816 - accuracy: 0.3900 - val_loss: 0.0937 - val_accuracy: 0.3800\n",
      "Epoch 200/200\n",
      "10/10 [==============================] - 0s 8ms/step - loss: 0.0810 - accuracy: 0.3700 - val_loss: 0.0935 - val_accuracy: 0.3400\n",
      "10/10 [==============================] - 0s 2ms/step\n",
      "10/10 [==============================] - 0s 2ms/step\n",
      "4/4 [==============================] - 0s 3ms/step\n"
     ]
    }
   ],
   "source": [
    "from sklearn.decomposition import PCA\n",
    "reduced = dim_red()\n",
    "df_pca = reduced.pca_reduce(x_train, x_valid)\n",
    "df_ae = reduced.ae_reduce(x_train, x_valid)"
   ]
  },
  {
   "cell_type": "markdown",
   "metadata": {},
   "source": [
    "### Predictions and comparison"
   ]
  },
  {
   "cell_type": "markdown",
   "metadata": {},
   "source": [
    "#### Elastic net"
   ]
  },
  {
   "cell_type": "code",
   "execution_count": 8,
   "metadata": {},
   "outputs": [
    {
     "name": "stderr",
     "output_type": "stream",
     "text": [
      "C:\\Users\\nahomw\\AppData\\Local\\Temp\\ipykernel_28520\\2791257728.py:3: SettingWithCopyWarning: \n",
      "A value is trying to be set on a copy of a slice from a DataFrame.\n",
      "Try using .loc[row_indexer,col_indexer] = value instead\n",
      "\n",
      "See the caveats in the documentation: https://pandas.pydata.org/pandas-docs/stable/user_guide/indexing.html#returning-a-view-versus-a-copy\n",
      "  x_train_['train_status'] = 'train'\n",
      "C:\\Users\\nahomw\\AppData\\Local\\Temp\\ipykernel_28520\\2791257728.py:4: SettingWithCopyWarning: \n",
      "A value is trying to be set on a copy of a slice from a DataFrame.\n",
      "Try using .loc[row_indexer,col_indexer] = value instead\n",
      "\n",
      "See the caveats in the documentation: https://pandas.pydata.org/pandas-docs/stable/user_guide/indexing.html#returning-a-view-versus-a-copy\n",
      "  x_valid_['train_status'] = 'test'\n"
     ]
    }
   ],
   "source": [
    "x_train_ = x_train\n",
    "x_valid_ = x_valid\n",
    "x_train_['train_status'] = 'train' \n",
    "x_valid_['train_status'] = 'test'\n",
    "df = pd.concat([x_train_,x_valid_], axis=0)"
   ]
  },
  {
   "cell_type": "code",
   "execution_count": 9,
   "metadata": {},
   "outputs": [
    {
     "name": "stderr",
     "output_type": "stream",
     "text": [
      "c:\\Users\\nahomw\\Desktop\\tutorials\\codes_personal\\ml_projects\\alzhymers_prediction\\notebooks\\functions.py:71: SettingWithCopyWarning: \n",
      "A value is trying to be set on a copy of a slice from a DataFrame\n",
      "\n",
      "See the caveats in the documentation: https://pandas.pydata.org/pandas-docs/stable/user_guide/indexing.html#returning-a-view-versus-a-copy\n",
      "  train_encoded.drop(columns = ['train_status'], inplace = True)\n",
      "c:\\Users\\nahomw\\Desktop\\tutorials\\codes_personal\\ml_projects\\alzhymers_prediction\\notebooks\\functions.py:73: SettingWithCopyWarning: \n",
      "A value is trying to be set on a copy of a slice from a DataFrame\n",
      "\n",
      "See the caveats in the documentation: https://pandas.pydata.org/pandas-docs/stable/user_guide/indexing.html#returning-a-view-versus-a-copy\n",
      "  test_encoded.drop(columns = ['train_status'], inplace = True)\n",
      "c:\\Users\\nahomw\\Anaconda3\\envs\\alzhymer\\lib\\site-packages\\sklearn\\linear_model\\_coordinate_descent.py:530: ConvergenceWarning: Objective did not converge. You might want to increase the number of iterations. Duality gap: 7.031496238554423, tolerance: 0.005723666666666665\n",
      "  model = cd_fast.enet_coordinate_descent(\n"
     ]
    },
    {
     "name": "stdout",
     "output_type": "stream",
     "text": [
      "Train classificationreport:               precision    recall  f1-score   support\n",
      "\n",
      "         0.0       0.88      1.00      0.94        68\n",
      "         1.0       1.00      0.96      0.98       232\n",
      "\n",
      "    accuracy                           0.97       300\n",
      "   macro avg       0.94      0.98      0.96       300\n",
      "weighted avg       0.97      0.97      0.97       300\n",
      "\n",
      "Test classification_report:               precision    recall  f1-score   support\n",
      "\n",
      "         0.0       0.90      1.00      0.95        18\n",
      "         1.0       1.00      0.98      0.99        82\n",
      "\n",
      "    accuracy                           0.98       100\n",
      "   macro avg       0.95      0.99      0.97       100\n",
      "weighted avg       0.98      0.98      0.98       100\n",
      "\n"
     ]
    }
   ],
   "source": [
    "model = models()\n",
    "elastic_mod = model.models_(df = df, model = 'elastic',y_train = y_train, y_valid = y_valid)"
   ]
  },
  {
   "cell_type": "markdown",
   "metadata": {},
   "source": [
    "### Logistic regression (PCA)"
   ]
  },
  {
   "cell_type": "code",
   "execution_count": 10,
   "metadata": {},
   "outputs": [
    {
     "name": "stdout",
     "output_type": "stream",
     "text": [
      "Train classificationreport:               precision    recall  f1-score   support\n",
      "\n",
      "           0       0.88      0.97      0.93        70\n",
      "           1       0.99      0.96      0.98       230\n",
      "\n",
      "    accuracy                           0.96       300\n",
      "   macro avg       0.94      0.97      0.95       300\n",
      "weighted avg       0.97      0.96      0.96       300\n",
      "\n",
      "Test classification_report:               precision    recall  f1-score   support\n",
      "\n",
      "           0       0.90      0.95      0.92        19\n",
      "           1       0.99      0.98      0.98        81\n",
      "\n",
      "    accuracy                           0.97       100\n",
      "   macro avg       0.94      0.96      0.95       100\n",
      "weighted avg       0.97      0.97      0.97       100\n",
      "\n"
     ]
    },
    {
     "name": "stderr",
     "output_type": "stream",
     "text": [
      "c:\\Users\\nahomw\\Desktop\\tutorials\\codes_personal\\ml_projects\\alzhymers_prediction\\notebooks\\functions.py:71: SettingWithCopyWarning: \n",
      "A value is trying to be set on a copy of a slice from a DataFrame\n",
      "\n",
      "See the caveats in the documentation: https://pandas.pydata.org/pandas-docs/stable/user_guide/indexing.html#returning-a-view-versus-a-copy\n",
      "  train_encoded.drop(columns = ['train_status'], inplace = True)\n",
      "c:\\Users\\nahomw\\Desktop\\tutorials\\codes_personal\\ml_projects\\alzhymers_prediction\\notebooks\\functions.py:73: SettingWithCopyWarning: \n",
      "A value is trying to be set on a copy of a slice from a DataFrame\n",
      "\n",
      "See the caveats in the documentation: https://pandas.pydata.org/pandas-docs/stable/user_guide/indexing.html#returning-a-view-versus-a-copy\n",
      "  test_encoded.drop(columns = ['train_status'], inplace = True)\n",
      "c:\\Users\\nahomw\\Anaconda3\\envs\\alzhymer\\lib\\site-packages\\sklearn\\utils\\validation.py:63: DataConversionWarning: A column-vector y was passed when a 1d array was expected. Please change the shape of y to (n_samples, ), for example using ravel().\n",
      "  return f(*args, **kwargs)\n",
      "c:\\Users\\nahomw\\Anaconda3\\envs\\alzhymer\\lib\\site-packages\\sklearn\\utils\\validation.py:63: DataConversionWarning: A column-vector y was passed when a 1d array was expected. Please change the shape of y to (n_samples, ), for example using ravel().\n",
      "  return f(*args, **kwargs)\n"
     ]
    }
   ],
   "source": [
    "logit_mod = model.models_(df = df_pca, model = 'log_reg',y_train = y_train, y_valid = y_valid)"
   ]
  },
  {
   "cell_type": "markdown",
   "metadata": {},
   "source": [
    "### Logistic regression (Autoencoder)"
   ]
  },
  {
   "cell_type": "code",
   "execution_count": 11,
   "metadata": {},
   "outputs": [
    {
     "name": "stderr",
     "output_type": "stream",
     "text": [
      "c:\\Users\\nahomw\\Desktop\\tutorials\\codes_personal\\ml_projects\\alzhymers_prediction\\notebooks\\functions.py:71: SettingWithCopyWarning: \n",
      "A value is trying to be set on a copy of a slice from a DataFrame\n",
      "\n",
      "See the caveats in the documentation: https://pandas.pydata.org/pandas-docs/stable/user_guide/indexing.html#returning-a-view-versus-a-copy\n",
      "  train_encoded.drop(columns = ['train_status'], inplace = True)\n",
      "c:\\Users\\nahomw\\Desktop\\tutorials\\codes_personal\\ml_projects\\alzhymers_prediction\\notebooks\\functions.py:73: SettingWithCopyWarning: \n",
      "A value is trying to be set on a copy of a slice from a DataFrame\n",
      "\n",
      "See the caveats in the documentation: https://pandas.pydata.org/pandas-docs/stable/user_guide/indexing.html#returning-a-view-versus-a-copy\n",
      "  test_encoded.drop(columns = ['train_status'], inplace = True)\n",
      "c:\\Users\\nahomw\\Anaconda3\\envs\\alzhymer\\lib\\site-packages\\sklearn\\utils\\validation.py:63: DataConversionWarning: A column-vector y was passed when a 1d array was expected. Please change the shape of y to (n_samples, ), for example using ravel().\n",
      "  return f(*args, **kwargs)\n"
     ]
    },
    {
     "name": "stdout",
     "output_type": "stream",
     "text": [
      "Train classificationreport:               precision    recall  f1-score   support\n",
      "\n",
      "           0       0.81      0.95      0.87        65\n",
      "           1       0.99      0.94      0.96       235\n",
      "\n",
      "    accuracy                           0.94       300\n",
      "   macro avg       0.90      0.95      0.92       300\n",
      "weighted avg       0.95      0.94      0.94       300\n",
      "\n",
      "Test classification_report:               precision    recall  f1-score   support\n",
      "\n",
      "           0       0.85      0.94      0.89        18\n",
      "           1       0.99      0.96      0.98        82\n",
      "\n",
      "    accuracy                           0.96       100\n",
      "   macro avg       0.92      0.95      0.94       100\n",
      "weighted avg       0.96      0.96      0.96       100\n",
      "\n"
     ]
    },
    {
     "name": "stderr",
     "output_type": "stream",
     "text": [
      "c:\\Users\\nahomw\\Anaconda3\\envs\\alzhymer\\lib\\site-packages\\sklearn\\utils\\validation.py:63: DataConversionWarning: A column-vector y was passed when a 1d array was expected. Please change the shape of y to (n_samples, ), for example using ravel().\n",
      "  return f(*args, **kwargs)\n"
     ]
    }
   ],
   "source": [
    "logit_mod = model.models_(df = df_ae, model = 'log_reg',y_train = y_train, y_valid = y_valid)"
   ]
  },
  {
   "cell_type": "markdown",
   "metadata": {},
   "source": [
    "### Linear Discriminant Analysis (LDA) "
   ]
  },
  {
   "cell_type": "markdown",
   "metadata": {},
   "source": [
    "### PCA reduced data"
   ]
  },
  {
   "cell_type": "code",
   "execution_count": 12,
   "metadata": {},
   "outputs": [
    {
     "name": "stdout",
     "output_type": "stream",
     "text": [
      "Train classificationreport:               precision    recall  f1-score   support\n",
      "\n",
      "           0       0.83      0.97      0.90        66\n",
      "           1       0.99      0.94      0.97       234\n",
      "\n",
      "    accuracy                           0.95       300\n",
      "   macro avg       0.91      0.96      0.93       300\n",
      "weighted avg       0.96      0.95      0.95       300\n",
      "\n",
      "Test classification_report:               precision    recall  f1-score   support\n",
      "\n",
      "           0       0.90      0.95      0.92        19\n",
      "           1       0.99      0.98      0.98        81\n",
      "\n",
      "    accuracy                           0.97       100\n",
      "   macro avg       0.94      0.96      0.95       100\n",
      "weighted avg       0.97      0.97      0.97       100\n",
      "\n"
     ]
    },
    {
     "name": "stderr",
     "output_type": "stream",
     "text": [
      "c:\\Users\\nahomw\\Desktop\\tutorials\\codes_personal\\ml_projects\\alzhymers_prediction\\notebooks\\functions.py:71: SettingWithCopyWarning: \n",
      "A value is trying to be set on a copy of a slice from a DataFrame\n",
      "\n",
      "See the caveats in the documentation: https://pandas.pydata.org/pandas-docs/stable/user_guide/indexing.html#returning-a-view-versus-a-copy\n",
      "  train_encoded.drop(columns = ['train_status'], inplace = True)\n",
      "c:\\Users\\nahomw\\Desktop\\tutorials\\codes_personal\\ml_projects\\alzhymers_prediction\\notebooks\\functions.py:73: SettingWithCopyWarning: \n",
      "A value is trying to be set on a copy of a slice from a DataFrame\n",
      "\n",
      "See the caveats in the documentation: https://pandas.pydata.org/pandas-docs/stable/user_guide/indexing.html#returning-a-view-versus-a-copy\n",
      "  test_encoded.drop(columns = ['train_status'], inplace = True)\n",
      "c:\\Users\\nahomw\\Anaconda3\\envs\\alzhymer\\lib\\site-packages\\sklearn\\utils\\validation.py:63: DataConversionWarning: A column-vector y was passed when a 1d array was expected. Please change the shape of y to (n_samples, ), for example using ravel().\n",
      "  return f(*args, **kwargs)\n"
     ]
    }
   ],
   "source": [
    "lda_mod = model.models_(df = df_pca, model = 'lda',y_train = y_train, y_valid = y_valid)"
   ]
  },
  {
   "cell_type": "markdown",
   "metadata": {},
   "source": [
    "### Autoencoder reduced data"
   ]
  },
  {
   "cell_type": "code",
   "execution_count": 13,
   "metadata": {},
   "outputs": [
    {
     "name": "stderr",
     "output_type": "stream",
     "text": [
      "c:\\Users\\nahomw\\Desktop\\tutorials\\codes_personal\\ml_projects\\alzhymers_prediction\\notebooks\\functions.py:71: SettingWithCopyWarning: \n",
      "A value is trying to be set on a copy of a slice from a DataFrame\n",
      "\n",
      "See the caveats in the documentation: https://pandas.pydata.org/pandas-docs/stable/user_guide/indexing.html#returning-a-view-versus-a-copy\n",
      "  train_encoded.drop(columns = ['train_status'], inplace = True)\n",
      "c:\\Users\\nahomw\\Desktop\\tutorials\\codes_personal\\ml_projects\\alzhymers_prediction\\notebooks\\functions.py:73: SettingWithCopyWarning: \n",
      "A value is trying to be set on a copy of a slice from a DataFrame\n",
      "\n",
      "See the caveats in the documentation: https://pandas.pydata.org/pandas-docs/stable/user_guide/indexing.html#returning-a-view-versus-a-copy\n",
      "  test_encoded.drop(columns = ['train_status'], inplace = True)\n",
      "c:\\Users\\nahomw\\Anaconda3\\envs\\alzhymer\\lib\\site-packages\\sklearn\\utils\\validation.py:63: DataConversionWarning: A column-vector y was passed when a 1d array was expected. Please change the shape of y to (n_samples, ), for example using ravel().\n",
      "  return f(*args, **kwargs)\n"
     ]
    },
    {
     "name": "stdout",
     "output_type": "stream",
     "text": [
      "Train classificationreport:               precision    recall  f1-score   support\n",
      "\n",
      "           0       0.83      0.97      0.90        66\n",
      "           1       0.99      0.94      0.97       234\n",
      "\n",
      "    accuracy                           0.95       300\n",
      "   macro avg       0.91      0.96      0.93       300\n",
      "weighted avg       0.96      0.95      0.95       300\n",
      "\n",
      "Test classification_report:               precision    recall  f1-score   support\n",
      "\n",
      "           0       0.80      0.84      0.82        19\n",
      "           1       0.96      0.95      0.96        81\n",
      "\n",
      "    accuracy                           0.93       100\n",
      "   macro avg       0.88      0.90      0.89       100\n",
      "weighted avg       0.93      0.93      0.93       100\n",
      "\n"
     ]
    }
   ],
   "source": [
    "lda_mod = model.models_(df = df_ae, model = 'lda',y_train = y_train, y_valid = y_valid)"
   ]
  },
  {
   "cell_type": "markdown",
   "metadata": {},
   "source": [
    "### Random Forest Classifier"
   ]
  },
  {
   "cell_type": "markdown",
   "metadata": {},
   "source": [
    "### PCA Reduced"
   ]
  },
  {
   "cell_type": "code",
   "execution_count": 14,
   "metadata": {},
   "outputs": [
    {
     "name": "stderr",
     "output_type": "stream",
     "text": [
      "c:\\Users\\nahomw\\Desktop\\tutorials\\codes_personal\\ml_projects\\alzhymers_prediction\\notebooks\\functions.py:71: SettingWithCopyWarning: \n",
      "A value is trying to be set on a copy of a slice from a DataFrame\n",
      "\n",
      "See the caveats in the documentation: https://pandas.pydata.org/pandas-docs/stable/user_guide/indexing.html#returning-a-view-versus-a-copy\n",
      "  train_encoded.drop(columns = ['train_status'], inplace = True)\n",
      "c:\\Users\\nahomw\\Desktop\\tutorials\\codes_personal\\ml_projects\\alzhymers_prediction\\notebooks\\functions.py:73: SettingWithCopyWarning: \n",
      "A value is trying to be set on a copy of a slice from a DataFrame\n",
      "\n",
      "See the caveats in the documentation: https://pandas.pydata.org/pandas-docs/stable/user_guide/indexing.html#returning-a-view-versus-a-copy\n",
      "  test_encoded.drop(columns = ['train_status'], inplace = True)\n",
      "c:\\Users\\nahomw\\Desktop\\tutorials\\codes_personal\\ml_projects\\alzhymers_prediction\\notebooks\\functions.py:86: DataConversionWarning: A column-vector y was passed when a 1d array was expected. Please change the shape of y to (n_samples,), for example using ravel().\n",
      "  model_.fit(train_encoded, y_train)\n"
     ]
    },
    {
     "name": "stdout",
     "output_type": "stream",
     "text": [
      "Train classificationreport:               precision    recall  f1-score   support\n",
      "\n",
      "           0       0.79      1.00      0.88        61\n",
      "           1       1.00      0.93      0.97       239\n",
      "\n",
      "    accuracy                           0.95       300\n",
      "   macro avg       0.90      0.97      0.92       300\n",
      "weighted avg       0.96      0.95      0.95       300\n",
      "\n",
      "Test classification_report:               precision    recall  f1-score   support\n",
      "\n",
      "           0       0.70      1.00      0.82        14\n",
      "           1       1.00      0.93      0.96        86\n",
      "\n",
      "    accuracy                           0.94       100\n",
      "   macro avg       0.85      0.97      0.89       100\n",
      "weighted avg       0.96      0.94      0.94       100\n",
      "\n"
     ]
    }
   ],
   "source": [
    "rfc_mod = model.models_(df = df_pca, model = 'rfc',y_train = y_train, y_valid = y_valid)"
   ]
  },
  {
   "cell_type": "markdown",
   "metadata": {},
   "source": [
    "### Autoencoder Reduced"
   ]
  },
  {
   "cell_type": "code",
   "execution_count": 15,
   "metadata": {},
   "outputs": [
    {
     "name": "stdout",
     "output_type": "stream",
     "text": [
      "Train classificationreport:               precision    recall  f1-score   support\n",
      "\n",
      "           0       0.79      1.00      0.88        61\n",
      "           1       1.00      0.93      0.97       239\n",
      "\n",
      "    accuracy                           0.95       300\n",
      "   macro avg       0.90      0.97      0.92       300\n",
      "weighted avg       0.96      0.95      0.95       300\n",
      "\n",
      "Test classification_report:               precision    recall  f1-score   support\n",
      "\n",
      "           0       0.55      1.00      0.71        11\n",
      "           1       1.00      0.90      0.95        89\n",
      "\n",
      "    accuracy                           0.91       100\n",
      "   macro avg       0.78      0.95      0.83       100\n",
      "weighted avg       0.95      0.91      0.92       100\n",
      "\n"
     ]
    },
    {
     "name": "stderr",
     "output_type": "stream",
     "text": [
      "c:\\Users\\nahomw\\Desktop\\tutorials\\codes_personal\\ml_projects\\alzhymers_prediction\\notebooks\\functions.py:71: SettingWithCopyWarning: \n",
      "A value is trying to be set on a copy of a slice from a DataFrame\n",
      "\n",
      "See the caveats in the documentation: https://pandas.pydata.org/pandas-docs/stable/user_guide/indexing.html#returning-a-view-versus-a-copy\n",
      "  train_encoded.drop(columns = ['train_status'], inplace = True)\n",
      "c:\\Users\\nahomw\\Desktop\\tutorials\\codes_personal\\ml_projects\\alzhymers_prediction\\notebooks\\functions.py:73: SettingWithCopyWarning: \n",
      "A value is trying to be set on a copy of a slice from a DataFrame\n",
      "\n",
      "See the caveats in the documentation: https://pandas.pydata.org/pandas-docs/stable/user_guide/indexing.html#returning-a-view-versus-a-copy\n",
      "  test_encoded.drop(columns = ['train_status'], inplace = True)\n",
      "c:\\Users\\nahomw\\Desktop\\tutorials\\codes_personal\\ml_projects\\alzhymers_prediction\\notebooks\\functions.py:86: DataConversionWarning: A column-vector y was passed when a 1d array was expected. Please change the shape of y to (n_samples,), for example using ravel().\n",
      "  model_.fit(train_encoded, y_train)\n"
     ]
    }
   ],
   "source": [
    "rfc_mod = model.models_(df = df_ae, model = 'rfc',y_train = y_train, y_valid = y_valid)"
   ]
  },
  {
   "cell_type": "markdown",
   "metadata": {},
   "source": [
    "### XGBOOST "
   ]
  },
  {
   "cell_type": "markdown",
   "metadata": {},
   "source": [
    "### PCA reduced"
   ]
  },
  {
   "cell_type": "code",
   "execution_count": 16,
   "metadata": {},
   "outputs": [
    {
     "name": "stderr",
     "output_type": "stream",
     "text": [
      "c:\\Users\\nahomw\\Desktop\\tutorials\\codes_personal\\ml_projects\\alzhymers_prediction\\notebooks\\functions.py:71: SettingWithCopyWarning: \n",
      "A value is trying to be set on a copy of a slice from a DataFrame\n",
      "\n",
      "See the caveats in the documentation: https://pandas.pydata.org/pandas-docs/stable/user_guide/indexing.html#returning-a-view-versus-a-copy\n",
      "  train_encoded.drop(columns = ['train_status'], inplace = True)\n",
      "c:\\Users\\nahomw\\Desktop\\tutorials\\codes_personal\\ml_projects\\alzhymers_prediction\\notebooks\\functions.py:73: SettingWithCopyWarning: \n",
      "A value is trying to be set on a copy of a slice from a DataFrame\n",
      "\n",
      "See the caveats in the documentation: https://pandas.pydata.org/pandas-docs/stable/user_guide/indexing.html#returning-a-view-versus-a-copy\n",
      "  test_encoded.drop(columns = ['train_status'], inplace = True)\n"
     ]
    },
    {
     "name": "stdout",
     "output_type": "stream",
     "text": [
      "Train classificationreport:               precision    recall  f1-score   support\n",
      "\n",
      "           0       0.84      0.98      0.91        66\n",
      "           1       1.00      0.95      0.97       234\n",
      "\n",
      "    accuracy                           0.96       300\n",
      "   macro avg       0.92      0.97      0.94       300\n",
      "weighted avg       0.96      0.96      0.96       300\n",
      "\n",
      "Test classification_report:               precision    recall  f1-score   support\n",
      "\n",
      "           0       0.80      0.89      0.84        18\n",
      "           1       0.97      0.95      0.96        82\n",
      "\n",
      "    accuracy                           0.94       100\n",
      "   macro avg       0.89      0.92      0.90       100\n",
      "weighted avg       0.94      0.94      0.94       100\n",
      "\n"
     ]
    }
   ],
   "source": [
    "xgb_mod = model.models_(df = df_pca, model = 'xgb',y_train = y_train, y_valid = y_valid)"
   ]
  },
  {
   "cell_type": "markdown",
   "metadata": {},
   "source": [
    "### Autoencoder reduced"
   ]
  },
  {
   "cell_type": "code",
   "execution_count": 17,
   "metadata": {},
   "outputs": [
    {
     "name": "stderr",
     "output_type": "stream",
     "text": [
      "c:\\Users\\nahomw\\Desktop\\tutorials\\codes_personal\\ml_projects\\alzhymers_prediction\\notebooks\\functions.py:71: SettingWithCopyWarning: \n",
      "A value is trying to be set on a copy of a slice from a DataFrame\n",
      "\n",
      "See the caveats in the documentation: https://pandas.pydata.org/pandas-docs/stable/user_guide/indexing.html#returning-a-view-versus-a-copy\n",
      "  train_encoded.drop(columns = ['train_status'], inplace = True)\n",
      "c:\\Users\\nahomw\\Desktop\\tutorials\\codes_personal\\ml_projects\\alzhymers_prediction\\notebooks\\functions.py:73: SettingWithCopyWarning: \n",
      "A value is trying to be set on a copy of a slice from a DataFrame\n",
      "\n",
      "See the caveats in the documentation: https://pandas.pydata.org/pandas-docs/stable/user_guide/indexing.html#returning-a-view-versus-a-copy\n",
      "  test_encoded.drop(columns = ['train_status'], inplace = True)\n"
     ]
    },
    {
     "name": "stdout",
     "output_type": "stream",
     "text": [
      "Train classificationreport:               precision    recall  f1-score   support\n",
      "\n",
      "           0       0.87      1.00      0.93        67\n",
      "           1       1.00      0.96      0.98       233\n",
      "\n",
      "    accuracy                           0.97       300\n",
      "   macro avg       0.94      0.98      0.95       300\n",
      "weighted avg       0.97      0.97      0.97       300\n",
      "\n",
      "Test classification_report:               precision    recall  f1-score   support\n",
      "\n",
      "           0       0.70      0.88      0.78        16\n",
      "           1       0.97      0.93      0.95        84\n",
      "\n",
      "    accuracy                           0.92       100\n",
      "   macro avg       0.84      0.90      0.86       100\n",
      "weighted avg       0.93      0.92      0.92       100\n",
      "\n"
     ]
    }
   ],
   "source": [
    "xgb_mod = model.models_(df = df_ae, model = 'xgb',y_train = y_train, y_valid = y_valid)"
   ]
  },
  {
   "cell_type": "code",
   "execution_count": null,
   "metadata": {},
   "outputs": [],
   "source": []
  }
 ],
 "metadata": {
  "kernelspec": {
   "display_name": "Python 3.8.13 ('alzhymer')",
   "language": "python",
   "name": "python3"
  },
  "language_info": {
   "codemirror_mode": {
    "name": "ipython",
    "version": 3
   },
   "file_extension": ".py",
   "mimetype": "text/x-python",
   "name": "python",
   "nbconvert_exporter": "python",
   "pygments_lexer": "ipython3",
   "version": "3.8.13"
  },
  "orig_nbformat": 4,
  "vscode": {
   "interpreter": {
    "hash": "3f1032128968871d824ee9c779ab00a79d70df1ba9e588c74f3e40dbe0492ce7"
   }
  }
 },
 "nbformat": 4,
 "nbformat_minor": 2
}
