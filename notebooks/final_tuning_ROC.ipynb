{
 "cells": [
  {
   "cell_type": "code",
   "execution_count": 6,
   "metadata": {},
   "outputs": [],
   "source": [
    "import pandas as pd\n",
    "import numpy as np\n",
    "import tensorflow.keras as tf\n",
    "from tensorflow.keras.layers import Dense, Flatten\n",
    "from tensorflow.keras.models import Sequential\n",
    "from sklearn.model_selection import train_test_split\n",
    "from xgboost import XGBClassifier\n",
    "from sklearn.metrics import classification_report,f1_score,accuracy_score,roc_auc_score,roc_curve\n",
    "import warnings\n",
    "warnings.filterwarnings('ignore')"
   ]
  },
  {
   "cell_type": "code",
   "execution_count": 7,
   "metadata": {},
   "outputs": [],
   "source": [
    "x= pd.read_csv(\"../data/X_train.csv\") \n",
    "y = pd.read_csv(\"../data/Y_train.csv\")\n",
    "x_test = pd.read_csv(\"../data/X_test.csv\")"
   ]
  },
  {
   "cell_type": "code",
   "execution_count": 8,
   "metadata": {},
   "outputs": [
    {
     "data": {
      "text/plain": [
       "Outcome\n",
       "AD         303\n",
       "C           97\n",
       "dtype: int64"
      ]
     },
     "execution_count": 8,
     "metadata": {},
     "output_type": "execute_result"
    }
   ],
   "source": [
    "y_trial = pd.read_csv(\"../data/Y_train.csv\")\n",
    "y_trial.value_counts()"
   ]
  },
  {
   "cell_type": "code",
   "execution_count": 9,
   "metadata": {},
   "outputs": [],
   "source": [
    "# from sklearn.preprocessing import StandardScaler\n",
    "# scaler = StandardScaler()\n",
    "# x = scaler.fit_transform(x)\n",
    "# x_test = scaler.fit_transform(x_test)"
   ]
  },
  {
   "cell_type": "code",
   "execution_count": 10,
   "metadata": {},
   "outputs": [],
   "source": [
    "y.replace({'C':0,'AD':1}, inplace = True)"
   ]
  },
  {
   "cell_type": "code",
   "execution_count": 11,
   "metadata": {},
   "outputs": [],
   "source": [
    "x_train, x_valid, y_train, y_valid = train_test_split(x, y, test_size=0.25, shuffle= True, random_state=1)"
   ]
  },
  {
   "cell_type": "markdown",
   "metadata": {},
   "source": [
    "### METHOD 1: ELASTIC NET CV WITH LOGIT"
   ]
  },
  {
   "cell_type": "markdown",
   "metadata": {},
   "source": [
    "### Elastic net with logisticregressionCV"
   ]
  },
  {
   "cell_type": "code",
   "execution_count": 12,
   "metadata": {},
   "outputs": [],
   "source": [
    "from sklearn.linear_model import LogisticRegressionCV, ElasticNet, ElasticNetCV\n",
    "from sklearn.linear_model import RidgeClassifier\n",
    "from sklearn.model_selection import RepeatedKFold, GridSearchCV"
   ]
  },
  {
   "cell_type": "markdown",
   "metadata": {},
   "source": [
    "### Tuning hyperparameter for Elastic net"
   ]
  },
  {
   "cell_type": "code",
   "execution_count": 4,
   "metadata": {},
   "outputs": [],
   "source": [
    "model = ElasticNet()\n",
    "# define model evaluation method\n",
    "cv = RepeatedKFold(n_splits=10, n_repeats=3, random_state=1)\n",
    "# define grid\n",
    "grid = dict()\n",
    "grid['alpha'] = [1e-5, 1e-4, 1e-3, 1e-2, 1e-1, 0.0, 1.0, 10.0, 100.0]\n",
    "grid['l1_ratio'] = np.arange(0, 1, 0.01)\n",
    "# define search\n",
    "search = GridSearchCV(model, grid, cv=cv, n_jobs=-1)\n",
    "# perform the search\n",
    "results = search.fit(x_train, y_train)\n",
    "# summarize\n",
    "print('MAE: %.3f' % results.best_score_)\n",
    "print('Config: %s' % results.best_params_)"
   ]
  },
  {
   "cell_type": "markdown",
   "metadata": {},
   "source": [
    "### Fiting the model using best parameters for elastic net"
   ]
  },
  {
   "cell_type": "code",
   "execution_count": 13,
   "metadata": {},
   "outputs": [],
   "source": [
    "model_elastic = ElasticNet(alpha=0.1, l1_ratio=0.00)\n",
    "# fit model_elastic\n",
    "model_elastic.fit(x_train, y_train)\n",
    "\n",
    "# make a prediction\n",
    "yhat_train = model_elastic.predict(x_train)\n",
    "yhat = model_elastic.predict(x_valid)\n",
    "# summarize prediction\n"
   ]
  },
  {
   "cell_type": "code",
   "execution_count": 5,
   "metadata": {},
   "outputs": [],
   "source": [
    "# elasticNet_pred_Prob = model_elastic.predict_proba(x_valid)[:,1]"
   ]
  },
  {
   "cell_type": "code",
   "execution_count": 14,
   "metadata": {},
   "outputs": [],
   "source": [
    "yhat = pd.DataFrame(yhat)\n",
    "yhat = round(abs(yhat))\n",
    "yhat_train = pd.DataFrame(yhat_train)\n",
    "yhat_train = round(abs(yhat_train))"
   ]
  },
  {
   "cell_type": "code",
   "execution_count": 15,
   "metadata": {},
   "outputs": [
    {
     "name": "stdout",
     "output_type": "stream",
     "text": [
      "classification_report train:               precision    recall  f1-score   support\n",
      "\n",
      "         0.0       0.88      1.00      0.94        68\n",
      "         1.0       1.00      0.96      0.98       232\n",
      "\n",
      "    accuracy                           0.97       300\n",
      "   macro avg       0.94      0.98      0.96       300\n",
      "weighted avg       0.97      0.97      0.97       300\n",
      "\n",
      "classification_report test:               precision    recall  f1-score   support\n",
      "\n",
      "         0.0       0.90      1.00      0.95        18\n",
      "         1.0       1.00      0.98      0.99        82\n",
      "\n",
      "    accuracy                           0.98       100\n",
      "   macro avg       0.95      0.99      0.97       100\n",
      "weighted avg       0.98      0.98      0.98       100\n",
      "\n"
     ]
    }
   ],
   "source": [
    "print('classification_report train:',classification_report(yhat_train,y_train))\n",
    "print('classification_report test:',classification_report(yhat,y_valid))"
   ]
  },
  {
   "cell_type": "code",
   "execution_count": 16,
   "metadata": {},
   "outputs": [],
   "source": [
    "from sklearn.linear_model import Ridge\n",
    "n_alphas = 200\n",
    "clf = Ridge()\n",
    "alphas = np.logspace(-6, 6, n_alphas)\n",
    "\n",
    "coefs = []\n",
    "for a in alphas:\n",
    "    clf.set_params(alpha=a)\n",
    "    clf.fit(x, y)\n",
    "    coefs.append(clf.coef_)"
   ]
  },
  {
   "cell_type": "code",
   "execution_count": 17,
   "metadata": {},
   "outputs": [
    {
     "data": {
      "text/plain": [
       "(200, 1, 360)"
      ]
     },
     "execution_count": 17,
     "metadata": {},
     "output_type": "execute_result"
    }
   ],
   "source": [
    "coefs = np.array(coefs)\n",
    "coefs.shape"
   ]
  },
  {
   "cell_type": "code",
   "execution_count": 18,
   "metadata": {},
   "outputs": [],
   "source": [
    "coefs = np.array(coefs)\n",
    "coefs.shape\n",
    "coefs = coefs.reshape(n_alphas,360)"
   ]
  },
  {
   "cell_type": "code",
   "execution_count": 19,
   "metadata": {},
   "outputs": [
    {
     "data": {
      "text/plain": [
       "(2.5118864315095823e-07,\n",
       " 3981071.7055349695,\n",
       " -0.4306922529195575,\n",
       " 0.7355213526182813)"
      ]
     },
     "execution_count": 19,
     "metadata": {},
     "output_type": "execute_result"
    },
    {
     "data": {
      "image/png": "[encoded data removed]",
      "text/plain": [
       "<Figure size 2000x600 with 1 Axes>"
      ]
     },
     "metadata": {},
     "output_type": "display_data"
    }
   ],
   "source": [
    "import matplotlib.pyplot as plt\n",
    "plt.figure(figsize=(20, 6))\n",
    "plt.subplot(121)\n",
    "ax = plt.gca()\n",
    "ax.plot(alphas, coefs)\n",
    "ax.set_xscale(\"log\")\n",
    "plt.xlabel(\"alpha\")\n",
    "plt.ylabel(\"weights\")\n",
    "plt.title(\"Ridge coefficients as a function of the regularization\")\n",
    "plt.axis(\"tight\")\n"
   ]
  },
  {
   "cell_type": "code",
   "execution_count": 20,
   "metadata": {},
   "outputs": [],
   "source": [
    "from sklearn.linear_model import Ridge\n",
    "model_ridge = Ridge().fit(x_train, y_train)\n",
    "# fit model_ridge\n",
    "# make a prediction\n",
    "yhat_train = model_ridge.predict(x_train)\n",
    "yhat = model_ridge.predict(x_valid)\n",
    "# summarize prediction\n"
   ]
  },
  {
   "cell_type": "code",
   "execution_count": 66,
   "metadata": {},
   "outputs": [],
   "source": [
    "yhat_1 = []\n",
    "if yhat.any()>0.5:\n",
    "    yhat_1.append(1)\n",
    "else:\n",
    "    yhat_1.append(0)"
   ]
  },
  {
   "cell_type": "code",
   "execution_count": 67,
   "metadata": {},
   "outputs": [
    {
     "data": {
      "text/plain": [
       "[1]"
      ]
     },
     "execution_count": 67,
     "metadata": {},
     "output_type": "execute_result"
    }
   ],
   "source": [
    "yhat_1"
   ]
  },
  {
   "cell_type": "markdown",
   "metadata": {},
   "source": [
    "### METHOD 2: DIMENSIONALITY REDUCTION USING PCA,AE, THEN FIT TO LOGISTIC VS SVM "
   ]
  },
  {
   "cell_type": "code",
   "execution_count": 69,
   "metadata": {},
   "outputs": [
    {
     "data": {
      "text/plain": [
       "array([ 30,  40,  50,  60,  70,  80,  90, 100, 110, 120, 130, 140, 150,\n",
       "       160, 170, 180, 190, 200, 210, 220, 230, 240, 250, 260, 270, 280,\n",
       "       290, 300])"
      ]
     },
     "execution_count": 69,
     "metadata": {},
     "output_type": "execute_result"
    }
   ],
   "source": [
    "dim = np.arange(30,len(x_train)+1, 10)\n",
    "dim"
   ]
  },
  {
   "cell_type": "code",
   "execution_count": 21,
   "metadata": {},
   "outputs": [],
   "source": [
    "from sklearn.decomposition import PCA\n",
    "from sklearn.linear_model import LogisticRegression\n",
    "accur = []\n",
    "for i in dim:\n",
    "    pca = PCA(n_components=i)\n",
    "    # pca.fit_transform(x)\n",
    "    x_pca_train = pca.fit_transform(x_train)\n",
    "    x_pca_valid = pca.transform(x_valid)\n",
    "    model_logit = LogisticRegression(solver='liblinear', random_state=0).fit(x_pca_train,y_train)\n",
    "    accur.append(accuracy_score(model_logit.predict(x_pca_valid),y_valid)) \n"
   ]
  },
  {
   "cell_type": "code",
   "execution_count": 130,
   "metadata": {},
   "outputs": [
    {
     "data": {
      "text/plain": [
       "Text(0, 0.5, 'Accuracy (Logistic Regression)')"
      ]
     },
     "execution_count": 130,
     "metadata": {},
     "output_type": "execute_result"
    },
    {
     "data": {
      "image/png": "[encoded data removed]",
      "text/plain": [
       "<Figure size 640x480 with 1 Axes>"
      ]
     },
     "metadata": {},
     "output_type": "display_data"
    }
   ],
   "source": [
    "plt.plot(dim, accur)\n",
    "plt.xlabel(\"Principal Components\")\n",
    "plt.ylabel(\"Accuracy (Logistic Regression)\")"
   ]
  },
  {
   "cell_type": "code",
   "execution_count": 170,
   "metadata": {},
   "outputs": [
    {
     "name": "stdout",
     "output_type": "stream",
     "text": [
      "0.6812667190891014\n"
     ]
    }
   ],
   "source": [
    "from sklearn.decomposition import PCA\n",
    "from sklearn.linear_model import LogisticRegression\n",
    "pca = PCA(n_components=57)\n",
    "pca.fit_transform(x)\n",
    "print(sum(pca.explained_variance_ratio_))\n"
   ]
  },
  {
   "cell_type": "code",
   "execution_count": 172,
   "metadata": {},
   "outputs": [
    {
     "name": "stdout",
     "output_type": "stream",
     "text": [
      "classification_report:               precision    recall  f1-score   support\n",
      "\n",
      "           0       0.88      0.97      0.93        70\n",
      "           1       0.99      0.96      0.98       230\n",
      "\n",
      "    accuracy                           0.96       300\n",
      "   macro avg       0.94      0.97      0.95       300\n",
      "weighted avg       0.97      0.96      0.96       300\n",
      "\n",
      "classification_report:               precision    recall  f1-score   support\n",
      "\n",
      "           0       0.90      0.95      0.92        19\n",
      "           1       0.99      0.98      0.98        81\n",
      "\n",
      "    accuracy                           0.97       100\n",
      "   macro avg       0.94      0.96      0.95       100\n",
      "weighted avg       0.97      0.97      0.97       100\n",
      "\n",
      "accuracy: 0.97\n"
     ]
    },
    {
     "name": "stderr",
     "output_type": "stream",
     "text": [
      "c:\\Users\\nahomw\\Anaconda3\\envs\\alzhymer\\lib\\site-packages\\sklearn\\utils\\validation.py:63: DataConversionWarning: A column-vector y was passed when a 1d array was expected. Please change the shape of y to (n_samples, ), for example using ravel().\n",
      "  return f(*args, **kwargs)\n"
     ]
    }
   ],
   "source": [
    "x_pca_train = pca.fit_transform(x_train)\n",
    "x_pca_valid = pca.transform(x_valid)\n",
    "x_pca_test = pca.transform(x_test)\n",
    "model_logit = LogisticRegression(solver='liblinear', random_state=0).fit(x_pca_train,y_train)\n",
    "print('classification_report:',classification_report(model_logit.predict(x_pca_train),y_train))\n",
    "print('classification_report:',classification_report(model_logit.predict(x_pca_valid),y_valid))\n",
    "print('accuracy:', accuracy_score(model_logit.predict(x_pca_valid),y_valid))"
   ]
  },
  {
   "cell_type": "code",
   "execution_count": 16,
   "metadata": {},
   "outputs": [
    {
     "name": "stdout",
     "output_type": "stream",
     "text": [
      "classification_report:               precision    recall  f1-score   support\n",
      "\n",
      "           0       1.00      1.00      1.00        77\n",
      "           1       1.00      1.00      1.00       223\n",
      "\n",
      "    accuracy                           1.00       300\n",
      "   macro avg       1.00      1.00      1.00       300\n",
      "weighted avg       1.00      1.00      1.00       300\n",
      "\n",
      "classification_report:               precision    recall  f1-score   support\n",
      "\n",
      "           0       0.90      0.86      0.88        21\n",
      "           1       0.96      0.97      0.97        79\n",
      "\n",
      "    accuracy                           0.95       100\n",
      "   macro avg       0.93      0.92      0.92       100\n",
      "weighted avg       0.95      0.95      0.95       100\n",
      "\n"
     ]
    },
    {
     "name": "stderr",
     "output_type": "stream",
     "text": [
      "c:\\Users\\nahomw\\Anaconda3\\envs\\alzhymer\\lib\\site-packages\\sklearn\\utils\\validation.py:63: DataConversionWarning: A column-vector y was passed when a 1d array was expected. Please change the shape of y to (n_samples, ), for example using ravel().\n",
      "  return f(*args, **kwargs)\n"
     ]
    }
   ],
   "source": [
    "model_logit_gross = LogisticRegression(solver='liblinear', random_state=0).fit(x_train,y_train)\n",
    "print('classification_report:',classification_report(model_logit_gross.predict(x_train),y_train))\n",
    "print('classification_report:',classification_report(model_logit_gross.predict(x_valid),y_valid))"
   ]
  },
  {
   "cell_type": "code",
   "execution_count": 173,
   "metadata": {},
   "outputs": [
    {
     "name": "stdout",
     "output_type": "stream",
     "text": [
      "classification_report:               precision    recall  f1-score   support\n",
      "\n",
      "           0       1.00      0.87      0.93        77\n",
      "           1       0.96      1.00      0.98       223\n",
      "\n",
      "    accuracy                           0.97       300\n",
      "   macro avg       0.98      0.94      0.95       300\n",
      "weighted avg       0.97      0.97      0.97       300\n",
      "\n",
      "classification_report:               precision    recall  f1-score   support\n",
      "\n",
      "           0       1.00      0.90      0.95        20\n",
      "           1       0.98      1.00      0.99        80\n",
      "\n",
      "    accuracy                           0.98       100\n",
      "   macro avg       0.99      0.95      0.97       100\n",
      "weighted avg       0.98      0.98      0.98       100\n",
      "\n"
     ]
    },
    {
     "name": "stderr",
     "output_type": "stream",
     "text": [
      "c:\\Users\\nahomw\\Anaconda3\\envs\\alzhymer\\lib\\site-packages\\sklearn\\utils\\validation.py:63: DataConversionWarning: A column-vector y was passed when a 1d array was expected. Please change the shape of y to (n_samples, ), for example using ravel().\n",
      "  return f(*args, **kwargs)\n"
     ]
    }
   ],
   "source": [
    "from sklearn import svm\n",
    "pca_svc = svm.SVC()\n",
    "pca_svc.fit(x_pca_train, y_train)\n",
    "print('classification_report:',classification_report(y_train, pca_svc.predict(x_pca_train)))\n",
    "print('classification_report:',classification_report(y_valid, pca_svc.predict(x_pca_valid)))"
   ]
  },
  {
   "cell_type": "code",
   "execution_count": 183,
   "metadata": {},
   "outputs": [
    {
     "data": {
      "text/plain": [
       "(400, 57)"
      ]
     },
     "execution_count": 183,
     "metadata": {},
     "output_type": "execute_result"
    }
   ],
   "source": [
    "x_pca_test.shape"
   ]
  },
  {
   "cell_type": "code",
   "execution_count": null,
   "metadata": {},
   "outputs": [],
   "source": []
  },
  {
   "cell_type": "markdown",
   "metadata": {},
   "source": [
    "##### Therefore, 57 principal components would result in the best performance in relation to dimensionality reduction. Comparing logistic regression with linear support classifier, logistic regression has a test accuracy of 97% while svc has 98%"
   ]
  },
  {
   "cell_type": "code",
   "execution_count": 210,
   "metadata": {},
   "outputs": [],
   "source": [
    "import random\n",
    "accur_ae = []\n",
    "def comp_ae(n_latent):\n",
    "    random.seed(0)\n",
    "    n_input = len(x_train.columns)\n",
    "    n_hidden = len(x_train.columns)\n",
    "    n_latent = 70\n",
    "    epoch = 200\n",
    "    lr = 1e-3\n",
    "    encoder = Sequential([\n",
    "        Dense(n_input, activation='selu', input_dim=n_input),\n",
    "        # Dense(n_hidden, activation='selu'),\n",
    "        Dense(n_latent, activation='selu')\n",
    "    ])\n",
    "    decoder = Sequential([\n",
    "        # Dense(n_hidden, activation='selu'),\n",
    "        Dense(n_input, activation='selu')\n",
    "    ])\n",
    "    stacked_ae = Sequential([encoder,decoder])\n",
    "    checkpoint_cb = tf.callbacks.ModelCheckpoint(\"my__model.h5\",save_best_only=True)\n",
    "    early_stopping_cb = tf.callbacks.EarlyStopping(patience=3,restore_best_weights=True)\n",
    "    stacked_ae.compile(optimizer = tf.optimizers.Adam(learning_rate = lr), loss = tf.losses.mean_squared_error, metrics='accuracy')\n",
    "    # history = stacked_ae.fit(x_train, x_train, epochs=epoch, validation_data=[X_test, X_test],callbacks=[checkpoint_cb, early_stopping_cb])\n",
    "    history = stacked_ae.fit(x_train, x_train, epochs=epoch, validation_data=[x_valid, x_valid])\n",
    "    train_encoded = encoder.predict(x_train)\n",
    "    full_encoded = stacked_ae.predict(x_train)\n",
    "    test_encoded = encoder.predict(x_valid)\n",
    "    model_logit_ae = LogisticRegression(solver='liblinear', random_state=0).fit(train_encoded,y_train)\n",
    "    return(accuracy_score(model_logit_ae.predict(test_encoded),y_valid))\n",
    "    "
   ]
  },
  {
   "cell_type": "code",
   "execution_count": 174,
   "metadata": {},
   "outputs": [
    {
     "name": "stdout",
     "output_type": "stream",
     "text": [
      "Epoch 1/200\n",
      "10/10 [==============================] - 2s 57ms/step - loss: 4.2421 - accuracy: 0.0000e+00 - val_loss: 2.0588 - val_accuracy: 0.0000e+00\n",
      "Epoch 2/200\n",
      "10/10 [==============================] - 0s 28ms/step - loss: 1.2106 - accuracy: 0.0267 - val_loss: 0.5142 - val_accuracy: 0.0800\n",
      "Epoch 3/200\n",
      "10/10 [==============================] - 0s 23ms/step - loss: 0.3499 - accuracy: 0.1867 - val_loss: 0.2165 - val_accuracy: 0.3200\n",
      "Epoch 4/200\n",
      "10/10 [==============================] - 0s 22ms/step - loss: 0.1825 - accuracy: 0.2867 - val_loss: 0.1586 - val_accuracy: 0.1700\n",
      "Epoch 5/200\n",
      "10/10 [==============================] - 0s 24ms/step - loss: 0.1474 - accuracy: 0.1633 - val_loss: 0.1383 - val_accuracy: 0.2200\n",
      "Epoch 6/200\n",
      "10/10 [==============================] - 0s 24ms/step - loss: 0.1299 - accuracy: 0.1600 - val_loss: 0.1275 - val_accuracy: 0.3200\n",
      "Epoch 7/200\n",
      "10/10 [==============================] - 0s 21ms/step - loss: 0.1215 - accuracy: 0.2500 - val_loss: 0.1251 - val_accuracy: 0.3100\n",
      "Epoch 8/200\n",
      "10/10 [==============================] - 0s 27ms/step - loss: 0.1199 - accuracy: 0.2733 - val_loss: 0.1217 - val_accuracy: 0.3400\n",
      "Epoch 9/200\n",
      "10/10 [==============================] - 0s 26ms/step - loss: 0.1188 - accuracy: 0.2733 - val_loss: 0.1223 - val_accuracy: 0.3400\n",
      "Epoch 10/200\n",
      "10/10 [==============================] - 0s 23ms/step - loss: 0.1176 - accuracy: 0.2400 - val_loss: 0.1228 - val_accuracy: 0.3200\n",
      "Epoch 11/200\n",
      "10/10 [==============================] - 0s 21ms/step - loss: 0.1177 - accuracy: 0.2533 - val_loss: 0.1213 - val_accuracy: 0.3600\n",
      "Epoch 12/200\n",
      "10/10 [==============================] - 0s 19ms/step - loss: 0.1174 - accuracy: 0.2767 - val_loss: 0.1220 - val_accuracy: 0.2300\n",
      "Epoch 13/200\n",
      "10/10 [==============================] - 0s 26ms/step - loss: 0.1172 - accuracy: 0.2667 - val_loss: 0.1206 - val_accuracy: 0.3200\n",
      "Epoch 14/200\n",
      "10/10 [==============================] - 0s 17ms/step - loss: 0.1158 - accuracy: 0.3033 - val_loss: 0.1188 - val_accuracy: 0.3700\n",
      "Epoch 15/200\n",
      "10/10 [==============================] - 0s 24ms/step - loss: 0.1148 - accuracy: 0.2833 - val_loss: 0.1185 - val_accuracy: 0.3500\n",
      "Epoch 16/200\n",
      "10/10 [==============================] - 0s 36ms/step - loss: 0.1155 - accuracy: 0.2800 - val_loss: 0.1185 - val_accuracy: 0.3500\n",
      "Epoch 17/200\n",
      "10/10 [==============================] - 0s 34ms/step - loss: 0.1152 - accuracy: 0.3000 - val_loss: 0.1181 - val_accuracy: 0.3500\n",
      "Epoch 18/200\n",
      "10/10 [==============================] - 0s 41ms/step - loss: 0.1148 - accuracy: 0.2933 - val_loss: 0.1210 - val_accuracy: 0.2900\n",
      "Epoch 19/200\n",
      "10/10 [==============================] - 0s 50ms/step - loss: 0.1149 - accuracy: 0.2867 - val_loss: 0.1175 - val_accuracy: 0.2200\n",
      "Epoch 20/200\n",
      "10/10 [==============================] - 0s 52ms/step - loss: 0.1145 - accuracy: 0.2633 - val_loss: 0.1194 - val_accuracy: 0.3600\n",
      "Epoch 21/200\n",
      "10/10 [==============================] - 0s 40ms/step - loss: 0.1144 - accuracy: 0.3067 - val_loss: 0.1188 - val_accuracy: 0.3600\n",
      "Epoch 22/200\n",
      "10/10 [==============================] - 0s 44ms/step - loss: 0.1129 - accuracy: 0.3200 - val_loss: 0.1161 - val_accuracy: 0.3500\n",
      "Epoch 23/200\n",
      "10/10 [==============================] - 0s 42ms/step - loss: 0.1120 - accuracy: 0.3167 - val_loss: 0.1165 - val_accuracy: 0.3600\n",
      "Epoch 24/200\n",
      "10/10 [==============================] - 0s 41ms/step - loss: 0.1120 - accuracy: 0.3100 - val_loss: 0.1165 - val_accuracy: 0.3300\n",
      "Epoch 25/200\n",
      "10/10 [==============================] - 0s 32ms/step - loss: 0.1118 - accuracy: 0.3067 - val_loss: 0.1156 - val_accuracy: 0.3100\n",
      "Epoch 26/200\n",
      "10/10 [==============================] - 0s 33ms/step - loss: 0.1110 - accuracy: 0.3233 - val_loss: 0.1147 - val_accuracy: 0.3700\n",
      "Epoch 27/200\n",
      "10/10 [==============================] - 0s 31ms/step - loss: 0.1111 - accuracy: 0.3333 - val_loss: 0.1163 - val_accuracy: 0.3700\n",
      "Epoch 28/200\n",
      "10/10 [==============================] - 0s 34ms/step - loss: 0.1110 - accuracy: 0.3100 - val_loss: 0.1143 - val_accuracy: 0.3200\n",
      "Epoch 29/200\n",
      "10/10 [==============================] - 0s 43ms/step - loss: 0.1103 - accuracy: 0.3033 - val_loss: 0.1152 - val_accuracy: 0.3900\n",
      "Epoch 30/200\n",
      "10/10 [==============================] - 0s 47ms/step - loss: 0.1098 - accuracy: 0.3333 - val_loss: 0.1147 - val_accuracy: 0.3900\n",
      "Epoch 31/200\n",
      "10/10 [==============================] - 0s 44ms/step - loss: 0.1106 - accuracy: 0.3367 - val_loss: 0.1140 - val_accuracy: 0.3600\n",
      "Epoch 32/200\n",
      "10/10 [==============================] - 0s 43ms/step - loss: 0.1104 - accuracy: 0.3267 - val_loss: 0.1143 - val_accuracy: 0.3600\n",
      "Epoch 33/200\n",
      "10/10 [==============================] - 0s 44ms/step - loss: 0.1096 - accuracy: 0.3367 - val_loss: 0.1125 - val_accuracy: 0.3900\n",
      "Epoch 34/200\n",
      "10/10 [==============================] - 0s 43ms/step - loss: 0.1085 - accuracy: 0.3400 - val_loss: 0.1144 - val_accuracy: 0.3700\n",
      "Epoch 35/200\n",
      "10/10 [==============================] - 1s 72ms/step - loss: 0.1092 - accuracy: 0.3167 - val_loss: 0.1144 - val_accuracy: 0.3800\n",
      "Epoch 36/200\n",
      "10/10 [==============================] - 0s 45ms/step - loss: 0.1094 - accuracy: 0.3200 - val_loss: 0.1137 - val_accuracy: 0.3700\n",
      "Epoch 37/200\n",
      "10/10 [==============================] - 0s 38ms/step - loss: 0.1090 - accuracy: 0.3300 - val_loss: 0.1122 - val_accuracy: 0.3800\n",
      "Epoch 38/200\n",
      "10/10 [==============================] - 0s 38ms/step - loss: 0.1082 - accuracy: 0.3300 - val_loss: 0.1128 - val_accuracy: 0.3700\n",
      "Epoch 39/200\n",
      "10/10 [==============================] - 0s 41ms/step - loss: 0.1082 - accuracy: 0.3400 - val_loss: 0.1129 - val_accuracy: 0.3100\n",
      "Epoch 40/200\n",
      "10/10 [==============================] - 0s 41ms/step - loss: 0.1079 - accuracy: 0.3133 - val_loss: 0.1126 - val_accuracy: 0.3700\n",
      "Epoch 41/200\n",
      "10/10 [==============================] - 0s 44ms/step - loss: 0.1073 - accuracy: 0.3167 - val_loss: 0.1142 - val_accuracy: 0.3800\n",
      "Epoch 42/200\n",
      "10/10 [==============================] - 0s 36ms/step - loss: 0.1075 - accuracy: 0.3233 - val_loss: 0.1136 - val_accuracy: 0.3700\n",
      "Epoch 43/200\n",
      "10/10 [==============================] - 0s 38ms/step - loss: 0.1075 - accuracy: 0.3233 - val_loss: 0.1119 - val_accuracy: 0.3800\n",
      "Epoch 44/200\n",
      "10/10 [==============================] - 0s 37ms/step - loss: 0.1067 - accuracy: 0.3133 - val_loss: 0.1110 - val_accuracy: 0.3800\n",
      "Epoch 45/200\n",
      "10/10 [==============================] - 0s 38ms/step - loss: 0.1066 - accuracy: 0.3267 - val_loss: 0.1114 - val_accuracy: 0.3800\n",
      "Epoch 46/200\n",
      "10/10 [==============================] - 0s 40ms/step - loss: 0.1061 - accuracy: 0.3367 - val_loss: 0.1111 - val_accuracy: 0.3900\n",
      "Epoch 47/200\n",
      "10/10 [==============================] - 0s 32ms/step - loss: 0.1066 - accuracy: 0.3367 - val_loss: 0.1109 - val_accuracy: 0.3800\n",
      "Epoch 48/200\n",
      "10/10 [==============================] - 0s 39ms/step - loss: 0.1063 - accuracy: 0.3233 - val_loss: 0.1110 - val_accuracy: 0.3700\n",
      "Epoch 49/200\n",
      "10/10 [==============================] - 0s 39ms/step - loss: 0.1058 - accuracy: 0.3333 - val_loss: 0.1104 - val_accuracy: 0.3900\n",
      "Epoch 50/200\n",
      "10/10 [==============================] - 0s 31ms/step - loss: 0.1054 - accuracy: 0.3267 - val_loss: 0.1103 - val_accuracy: 0.4000\n",
      "Epoch 51/200\n",
      "10/10 [==============================] - 0s 29ms/step - loss: 0.1057 - accuracy: 0.3400 - val_loss: 0.1102 - val_accuracy: 0.3300\n",
      "Epoch 52/200\n",
      "10/10 [==============================] - 0s 21ms/step - loss: 0.1059 - accuracy: 0.3133 - val_loss: 0.1100 - val_accuracy: 0.3800\n",
      "Epoch 53/200\n",
      "10/10 [==============================] - 0s 27ms/step - loss: 0.1052 - accuracy: 0.3400 - val_loss: 0.1108 - val_accuracy: 0.3600\n",
      "Epoch 54/200\n",
      "10/10 [==============================] - 0s 23ms/step - loss: 0.1053 - accuracy: 0.3400 - val_loss: 0.1114 - val_accuracy: 0.3600\n",
      "Epoch 55/200\n",
      "10/10 [==============================] - 0s 21ms/step - loss: 0.1065 - accuracy: 0.3433 - val_loss: 0.1147 - val_accuracy: 0.3700\n",
      "Epoch 56/200\n",
      "10/10 [==============================] - 0s 20ms/step - loss: 0.1067 - accuracy: 0.3400 - val_loss: 0.1107 - val_accuracy: 0.3800\n",
      "Epoch 57/200\n",
      "10/10 [==============================] - 0s 19ms/step - loss: 0.1058 - accuracy: 0.3433 - val_loss: 0.1093 - val_accuracy: 0.4000\n",
      "Epoch 58/200\n",
      "10/10 [==============================] - 0s 19ms/step - loss: 0.1050 - accuracy: 0.3500 - val_loss: 0.1102 - val_accuracy: 0.3400\n",
      "Epoch 59/200\n",
      "10/10 [==============================] - 0s 19ms/step - loss: 0.1049 - accuracy: 0.3533 - val_loss: 0.1097 - val_accuracy: 0.3900\n",
      "Epoch 60/200\n",
      "10/10 [==============================] - 0s 17ms/step - loss: 0.1044 - accuracy: 0.3433 - val_loss: 0.1097 - val_accuracy: 0.3900\n",
      "Epoch 61/200\n",
      "10/10 [==============================] - 0s 18ms/step - loss: 0.1044 - accuracy: 0.3400 - val_loss: 0.1089 - val_accuracy: 0.3900\n",
      "Epoch 62/200\n",
      "10/10 [==============================] - 0s 25ms/step - loss: 0.1041 - accuracy: 0.3500 - val_loss: 0.1091 - val_accuracy: 0.3800\n",
      "Epoch 63/200\n",
      "10/10 [==============================] - 0s 20ms/step - loss: 0.1037 - accuracy: 0.3433 - val_loss: 0.1089 - val_accuracy: 0.3300\n",
      "Epoch 64/200\n",
      "10/10 [==============================] - 0s 19ms/step - loss: 0.1041 - accuracy: 0.3300 - val_loss: 0.1083 - val_accuracy: 0.3800\n",
      "Epoch 65/200\n",
      "10/10 [==============================] - 0s 19ms/step - loss: 0.1033 - accuracy: 0.3467 - val_loss: 0.1077 - val_accuracy: 0.3900\n",
      "Epoch 66/200\n",
      "10/10 [==============================] - 0s 14ms/step - loss: 0.1032 - accuracy: 0.3333 - val_loss: 0.1077 - val_accuracy: 0.3800\n",
      "Epoch 67/200\n",
      "10/10 [==============================] - 0s 13ms/step - loss: 0.1031 - accuracy: 0.3367 - val_loss: 0.1074 - val_accuracy: 0.3700\n",
      "Epoch 68/200\n",
      "10/10 [==============================] - 0s 13ms/step - loss: 0.1031 - accuracy: 0.3433 - val_loss: 0.1079 - val_accuracy: 0.3800\n",
      "Epoch 69/200\n",
      "10/10 [==============================] - 0s 13ms/step - loss: 0.1034 - accuracy: 0.3533 - val_loss: 0.1076 - val_accuracy: 0.4000\n",
      "Epoch 70/200\n",
      "10/10 [==============================] - 0s 13ms/step - loss: 0.1031 - accuracy: 0.3400 - val_loss: 0.1073 - val_accuracy: 0.3800\n",
      "Epoch 71/200\n",
      "10/10 [==============================] - 0s 12ms/step - loss: 0.1025 - accuracy: 0.3500 - val_loss: 0.1070 - val_accuracy: 0.4000\n",
      "Epoch 72/200\n",
      "10/10 [==============================] - 0s 12ms/step - loss: 0.1023 - accuracy: 0.3600 - val_loss: 0.1080 - val_accuracy: 0.3800\n",
      "Epoch 73/200\n",
      "10/10 [==============================] - 0s 11ms/step - loss: 0.1028 - accuracy: 0.3500 - val_loss: 0.1077 - val_accuracy: 0.3900\n",
      "Epoch 74/200\n",
      "10/10 [==============================] - 0s 12ms/step - loss: 0.1023 - accuracy: 0.3467 - val_loss: 0.1069 - val_accuracy: 0.4000\n",
      "Epoch 75/200\n",
      "10/10 [==============================] - 0s 13ms/step - loss: 0.1022 - accuracy: 0.3400 - val_loss: 0.1074 - val_accuracy: 0.3900\n",
      "Epoch 76/200\n",
      "10/10 [==============================] - 0s 13ms/step - loss: 0.1019 - accuracy: 0.3333 - val_loss: 0.1072 - val_accuracy: 0.3900\n",
      "Epoch 77/200\n",
      "10/10 [==============================] - 0s 13ms/step - loss: 0.1025 - accuracy: 0.3600 - val_loss: 0.1065 - val_accuracy: 0.3900\n",
      "Epoch 78/200\n",
      "10/10 [==============================] - 0s 13ms/step - loss: 0.1019 - accuracy: 0.3667 - val_loss: 0.1066 - val_accuracy: 0.4000\n",
      "Epoch 79/200\n",
      "10/10 [==============================] - 0s 12ms/step - loss: 0.1016 - accuracy: 0.3400 - val_loss: 0.1060 - val_accuracy: 0.4100\n",
      "Epoch 80/200\n",
      "10/10 [==============================] - 0s 12ms/step - loss: 0.1016 - accuracy: 0.3633 - val_loss: 0.1068 - val_accuracy: 0.3900\n",
      "Epoch 81/200\n",
      "10/10 [==============================] - 0s 20ms/step - loss: 0.1015 - accuracy: 0.3633 - val_loss: 0.1066 - val_accuracy: 0.3900\n",
      "Epoch 82/200\n",
      "10/10 [==============================] - 0s 18ms/step - loss: 0.1013 - accuracy: 0.3467 - val_loss: 0.1072 - val_accuracy: 0.4000\n",
      "Epoch 83/200\n",
      "10/10 [==============================] - 0s 12ms/step - loss: 0.1015 - accuracy: 0.3600 - val_loss: 0.1067 - val_accuracy: 0.3500\n",
      "Epoch 84/200\n",
      "10/10 [==============================] - 0s 12ms/step - loss: 0.1015 - accuracy: 0.3533 - val_loss: 0.1063 - val_accuracy: 0.4000\n",
      "Epoch 85/200\n",
      "10/10 [==============================] - 0s 13ms/step - loss: 0.1009 - accuracy: 0.3600 - val_loss: 0.1056 - val_accuracy: 0.3800\n",
      "Epoch 86/200\n",
      "10/10 [==============================] - 0s 13ms/step - loss: 0.1003 - accuracy: 0.3767 - val_loss: 0.1053 - val_accuracy: 0.3900\n",
      "Epoch 87/200\n",
      "10/10 [==============================] - 0s 13ms/step - loss: 0.1001 - accuracy: 0.3567 - val_loss: 0.1055 - val_accuracy: 0.3900\n",
      "Epoch 88/200\n",
      "10/10 [==============================] - 0s 12ms/step - loss: 0.1001 - accuracy: 0.3433 - val_loss: 0.1056 - val_accuracy: 0.4000\n",
      "Epoch 89/200\n",
      "10/10 [==============================] - 0s 13ms/step - loss: 0.1002 - accuracy: 0.3533 - val_loss: 0.1051 - val_accuracy: 0.4100\n",
      "Epoch 90/200\n",
      "10/10 [==============================] - 0s 12ms/step - loss: 0.1002 - accuracy: 0.3567 - val_loss: 0.1054 - val_accuracy: 0.4000\n",
      "Epoch 91/200\n",
      "10/10 [==============================] - 0s 13ms/step - loss: 0.1001 - accuracy: 0.3467 - val_loss: 0.1048 - val_accuracy: 0.4100\n",
      "Epoch 92/200\n",
      "10/10 [==============================] - 0s 12ms/step - loss: 0.0999 - accuracy: 0.3667 - val_loss: 0.1060 - val_accuracy: 0.4000\n",
      "Epoch 93/200\n",
      "10/10 [==============================] - 0s 13ms/step - loss: 0.1002 - accuracy: 0.3633 - val_loss: 0.1056 - val_accuracy: 0.4200\n",
      "Epoch 94/200\n",
      "10/10 [==============================] - 0s 13ms/step - loss: 0.0990 - accuracy: 0.3867 - val_loss: 0.1048 - val_accuracy: 0.3900\n",
      "Epoch 95/200\n",
      "10/10 [==============================] - 0s 13ms/step - loss: 0.0994 - accuracy: 0.3500 - val_loss: 0.1046 - val_accuracy: 0.3900\n",
      "Epoch 96/200\n",
      "10/10 [==============================] - 0s 14ms/step - loss: 0.0990 - accuracy: 0.3733 - val_loss: 0.1045 - val_accuracy: 0.4000\n",
      "Epoch 97/200\n",
      "10/10 [==============================] - 0s 12ms/step - loss: 0.0989 - accuracy: 0.3733 - val_loss: 0.1042 - val_accuracy: 0.4000\n",
      "Epoch 98/200\n",
      "10/10 [==============================] - 0s 14ms/step - loss: 0.0987 - accuracy: 0.3433 - val_loss: 0.1040 - val_accuracy: 0.4000\n",
      "Epoch 99/200\n",
      "10/10 [==============================] - 0s 13ms/step - loss: 0.0982 - accuracy: 0.3700 - val_loss: 0.1047 - val_accuracy: 0.4100\n",
      "Epoch 100/200\n",
      "10/10 [==============================] - 0s 13ms/step - loss: 0.0984 - accuracy: 0.3400 - val_loss: 0.1036 - val_accuracy: 0.4000\n",
      "Epoch 101/200\n",
      "10/10 [==============================] - 0s 12ms/step - loss: 0.0978 - accuracy: 0.3833 - val_loss: 0.1038 - val_accuracy: 0.4300\n",
      "Epoch 102/200\n",
      "10/10 [==============================] - 0s 13ms/step - loss: 0.0974 - accuracy: 0.3667 - val_loss: 0.1030 - val_accuracy: 0.3700\n",
      "Epoch 103/200\n",
      "10/10 [==============================] - 0s 13ms/step - loss: 0.0971 - accuracy: 0.3900 - val_loss: 0.1028 - val_accuracy: 0.4100\n",
      "Epoch 104/200\n",
      "10/10 [==============================] - 0s 13ms/step - loss: 0.0971 - accuracy: 0.3833 - val_loss: 0.1042 - val_accuracy: 0.4200\n",
      "Epoch 105/200\n",
      "10/10 [==============================] - 0s 13ms/step - loss: 0.0978 - accuracy: 0.3633 - val_loss: 0.1033 - val_accuracy: 0.3900\n",
      "Epoch 106/200\n",
      "10/10 [==============================] - 0s 11ms/step - loss: 0.0971 - accuracy: 0.3833 - val_loss: 0.1033 - val_accuracy: 0.3800\n",
      "Epoch 107/200\n",
      "10/10 [==============================] - 0s 13ms/step - loss: 0.0968 - accuracy: 0.3767 - val_loss: 0.1029 - val_accuracy: 0.4000\n",
      "Epoch 108/200\n",
      "10/10 [==============================] - 0s 12ms/step - loss: 0.0964 - accuracy: 0.3800 - val_loss: 0.1023 - val_accuracy: 0.4000\n",
      "Epoch 109/200\n",
      "10/10 [==============================] - 0s 14ms/step - loss: 0.0961 - accuracy: 0.3900 - val_loss: 0.1024 - val_accuracy: 0.3900\n",
      "Epoch 110/200\n",
      "10/10 [==============================] - 0s 12ms/step - loss: 0.0966 - accuracy: 0.3700 - val_loss: 0.1038 - val_accuracy: 0.3900\n",
      "Epoch 111/200\n",
      "10/10 [==============================] - 0s 13ms/step - loss: 0.0962 - accuracy: 0.3767 - val_loss: 0.1030 - val_accuracy: 0.4200\n",
      "Epoch 112/200\n",
      "10/10 [==============================] - 0s 12ms/step - loss: 0.0959 - accuracy: 0.3767 - val_loss: 0.1020 - val_accuracy: 0.4000\n",
      "Epoch 113/200\n",
      "10/10 [==============================] - 0s 12ms/step - loss: 0.0956 - accuracy: 0.3900 - val_loss: 0.1020 - val_accuracy: 0.4200\n",
      "Epoch 114/200\n",
      "10/10 [==============================] - 0s 12ms/step - loss: 0.0960 - accuracy: 0.3600 - val_loss: 0.1023 - val_accuracy: 0.4100\n",
      "Epoch 115/200\n",
      "10/10 [==============================] - 0s 11ms/step - loss: 0.0959 - accuracy: 0.3800 - val_loss: 0.1034 - val_accuracy: 0.4200\n",
      "Epoch 116/200\n",
      "10/10 [==============================] - 0s 13ms/step - loss: 0.0956 - accuracy: 0.3833 - val_loss: 0.1019 - val_accuracy: 0.4100\n",
      "Epoch 117/200\n",
      "10/10 [==============================] - 0s 12ms/step - loss: 0.0949 - accuracy: 0.3700 - val_loss: 0.1019 - val_accuracy: 0.4000\n",
      "Epoch 118/200\n",
      "10/10 [==============================] - 0s 13ms/step - loss: 0.0947 - accuracy: 0.3833 - val_loss: 0.1013 - val_accuracy: 0.4000\n",
      "Epoch 119/200\n",
      "10/10 [==============================] - 0s 11ms/step - loss: 0.0943 - accuracy: 0.3700 - val_loss: 0.1006 - val_accuracy: 0.4000\n",
      "Epoch 120/200\n",
      "10/10 [==============================] - 0s 12ms/step - loss: 0.0940 - accuracy: 0.3867 - val_loss: 0.1007 - val_accuracy: 0.4100\n",
      "Epoch 121/200\n",
      "10/10 [==============================] - 0s 20ms/step - loss: 0.0938 - accuracy: 0.3800 - val_loss: 0.1009 - val_accuracy: 0.4000\n",
      "Epoch 122/200\n",
      "10/10 [==============================] - 0s 12ms/step - loss: 0.0937 - accuracy: 0.3900 - val_loss: 0.1011 - val_accuracy: 0.4100\n",
      "Epoch 123/200\n",
      "10/10 [==============================] - 0s 12ms/step - loss: 0.0937 - accuracy: 0.3800 - val_loss: 0.1003 - val_accuracy: 0.3800\n",
      "Epoch 124/200\n",
      "10/10 [==============================] - 0s 11ms/step - loss: 0.0937 - accuracy: 0.3900 - val_loss: 0.1012 - val_accuracy: 0.4100\n",
      "Epoch 125/200\n",
      "10/10 [==============================] - 0s 13ms/step - loss: 0.0938 - accuracy: 0.3767 - val_loss: 0.1005 - val_accuracy: 0.4100\n",
      "Epoch 126/200\n",
      "10/10 [==============================] - 0s 13ms/step - loss: 0.0940 - accuracy: 0.3667 - val_loss: 0.0998 - val_accuracy: 0.4100\n",
      "Epoch 127/200\n",
      "10/10 [==============================] - 0s 12ms/step - loss: 0.0930 - accuracy: 0.3800 - val_loss: 0.1000 - val_accuracy: 0.4200\n",
      "Epoch 128/200\n",
      "10/10 [==============================] - 0s 12ms/step - loss: 0.0926 - accuracy: 0.3900 - val_loss: 0.0997 - val_accuracy: 0.4100\n",
      "Epoch 129/200\n",
      "10/10 [==============================] - 0s 12ms/step - loss: 0.0926 - accuracy: 0.3733 - val_loss: 0.1003 - val_accuracy: 0.4400\n",
      "Epoch 130/200\n",
      "10/10 [==============================] - 0s 14ms/step - loss: 0.0924 - accuracy: 0.4000 - val_loss: 0.0997 - val_accuracy: 0.4100\n",
      "Epoch 131/200\n",
      "10/10 [==============================] - 0s 20ms/step - loss: 0.0920 - accuracy: 0.3900 - val_loss: 0.0999 - val_accuracy: 0.3900\n",
      "Epoch 132/200\n",
      "10/10 [==============================] - 0s 26ms/step - loss: 0.0917 - accuracy: 0.3767 - val_loss: 0.0996 - val_accuracy: 0.4200\n",
      "Epoch 133/200\n",
      "10/10 [==============================] - 0s 18ms/step - loss: 0.0918 - accuracy: 0.3833 - val_loss: 0.0998 - val_accuracy: 0.4200\n",
      "Epoch 134/200\n",
      "10/10 [==============================] - 0s 13ms/step - loss: 0.0918 - accuracy: 0.4033 - val_loss: 0.0984 - val_accuracy: 0.4300\n",
      "Epoch 135/200\n",
      "10/10 [==============================] - 0s 25ms/step - loss: 0.0911 - accuracy: 0.3700 - val_loss: 0.0982 - val_accuracy: 0.4100\n",
      "Epoch 136/200\n",
      "10/10 [==============================] - 0s 21ms/step - loss: 0.0910 - accuracy: 0.3900 - val_loss: 0.0984 - val_accuracy: 0.4100\n",
      "Epoch 137/200\n",
      "10/10 [==============================] - 0s 14ms/step - loss: 0.0911 - accuracy: 0.4000 - val_loss: 0.0998 - val_accuracy: 0.4100\n",
      "Epoch 138/200\n",
      "10/10 [==============================] - 0s 18ms/step - loss: 0.0911 - accuracy: 0.3900 - val_loss: 0.0988 - val_accuracy: 0.4100\n",
      "Epoch 139/200\n",
      "10/10 [==============================] - 0s 21ms/step - loss: 0.0905 - accuracy: 0.3900 - val_loss: 0.0980 - val_accuracy: 0.4200\n",
      "Epoch 140/200\n",
      "10/10 [==============================] - 0s 24ms/step - loss: 0.0899 - accuracy: 0.3833 - val_loss: 0.0980 - val_accuracy: 0.4200\n",
      "Epoch 141/200\n",
      "10/10 [==============================] - 0s 13ms/step - loss: 0.0899 - accuracy: 0.3867 - val_loss: 0.0978 - val_accuracy: 0.4400\n",
      "Epoch 142/200\n",
      "10/10 [==============================] - 0s 12ms/step - loss: 0.0896 - accuracy: 0.3833 - val_loss: 0.0973 - val_accuracy: 0.4000\n",
      "Epoch 143/200\n",
      "10/10 [==============================] - 0s 12ms/step - loss: 0.0894 - accuracy: 0.3800 - val_loss: 0.0982 - val_accuracy: 0.4400\n",
      "Epoch 144/200\n",
      "10/10 [==============================] - 0s 20ms/step - loss: 0.0898 - accuracy: 0.3767 - val_loss: 0.0991 - val_accuracy: 0.4300\n",
      "Epoch 145/200\n",
      "10/10 [==============================] - 0s 22ms/step - loss: 0.0895 - accuracy: 0.3933 - val_loss: 0.0972 - val_accuracy: 0.4300\n",
      "Epoch 146/200\n",
      "10/10 [==============================] - 0s 21ms/step - loss: 0.0890 - accuracy: 0.3700 - val_loss: 0.0977 - val_accuracy: 0.4300\n",
      "Epoch 147/200\n",
      "10/10 [==============================] - 0s 25ms/step - loss: 0.0892 - accuracy: 0.3800 - val_loss: 0.0974 - val_accuracy: 0.4200\n",
      "Epoch 148/200\n",
      "10/10 [==============================] - 0s 20ms/step - loss: 0.0885 - accuracy: 0.3633 - val_loss: 0.0969 - val_accuracy: 0.3800\n",
      "Epoch 149/200\n",
      "10/10 [==============================] - 0s 24ms/step - loss: 0.0886 - accuracy: 0.3833 - val_loss: 0.0974 - val_accuracy: 0.4100\n",
      "Epoch 150/200\n",
      "10/10 [==============================] - 0s 25ms/step - loss: 0.0883 - accuracy: 0.3833 - val_loss: 0.0967 - val_accuracy: 0.4400\n",
      "Epoch 151/200\n",
      "10/10 [==============================] - 0s 25ms/step - loss: 0.0883 - accuracy: 0.3933 - val_loss: 0.0972 - val_accuracy: 0.4500\n",
      "Epoch 152/200\n",
      "10/10 [==============================] - 0s 15ms/step - loss: 0.0883 - accuracy: 0.3933 - val_loss: 0.0960 - val_accuracy: 0.4100\n",
      "Epoch 153/200\n",
      "10/10 [==============================] - 0s 17ms/step - loss: 0.0879 - accuracy: 0.3733 - val_loss: 0.0976 - val_accuracy: 0.4300\n",
      "Epoch 154/200\n",
      "10/10 [==============================] - 0s 26ms/step - loss: 0.0885 - accuracy: 0.3867 - val_loss: 0.0965 - val_accuracy: 0.4200\n",
      "Epoch 155/200\n",
      "10/10 [==============================] - 0s 24ms/step - loss: 0.0874 - accuracy: 0.3967 - val_loss: 0.0964 - val_accuracy: 0.4400\n",
      "Epoch 156/200\n",
      "10/10 [==============================] - 0s 30ms/step - loss: 0.0873 - accuracy: 0.3800 - val_loss: 0.0970 - val_accuracy: 0.4200\n",
      "Epoch 157/200\n",
      "10/10 [==============================] - 0s 25ms/step - loss: 0.0869 - accuracy: 0.3600 - val_loss: 0.0957 - val_accuracy: 0.4200\n",
      "Epoch 158/200\n",
      "10/10 [==============================] - 0s 26ms/step - loss: 0.0874 - accuracy: 0.4000 - val_loss: 0.0960 - val_accuracy: 0.4000\n",
      "Epoch 159/200\n",
      "10/10 [==============================] - 0s 28ms/step - loss: 0.0868 - accuracy: 0.3700 - val_loss: 0.0964 - val_accuracy: 0.4500\n",
      "Epoch 160/200\n",
      "10/10 [==============================] - 0s 26ms/step - loss: 0.0865 - accuracy: 0.3833 - val_loss: 0.0951 - val_accuracy: 0.4200\n",
      "Epoch 161/200\n",
      "10/10 [==============================] - 0s 21ms/step - loss: 0.0861 - accuracy: 0.3900 - val_loss: 0.0950 - val_accuracy: 0.4000\n",
      "Epoch 162/200\n",
      "10/10 [==============================] - 0s 20ms/step - loss: 0.0861 - accuracy: 0.4000 - val_loss: 0.0956 - val_accuracy: 0.4100\n",
      "Epoch 163/200\n",
      "10/10 [==============================] - 0s 19ms/step - loss: 0.0861 - accuracy: 0.3833 - val_loss: 0.0952 - val_accuracy: 0.4100\n",
      "Epoch 164/200\n",
      "10/10 [==============================] - 0s 17ms/step - loss: 0.0855 - accuracy: 0.3767 - val_loss: 0.0946 - val_accuracy: 0.4000\n",
      "Epoch 165/200\n",
      "10/10 [==============================] - 0s 18ms/step - loss: 0.0855 - accuracy: 0.3867 - val_loss: 0.0956 - val_accuracy: 0.4500\n",
      "Epoch 166/200\n",
      "10/10 [==============================] - 0s 21ms/step - loss: 0.0856 - accuracy: 0.3967 - val_loss: 0.0951 - val_accuracy: 0.4500\n",
      "Epoch 167/200\n",
      "10/10 [==============================] - 0s 14ms/step - loss: 0.0849 - accuracy: 0.3933 - val_loss: 0.0945 - val_accuracy: 0.4300\n",
      "Epoch 168/200\n",
      "10/10 [==============================] - 0s 17ms/step - loss: 0.0846 - accuracy: 0.3967 - val_loss: 0.0941 - val_accuracy: 0.3800\n",
      "Epoch 169/200\n",
      "10/10 [==============================] - 0s 17ms/step - loss: 0.0846 - accuracy: 0.4033 - val_loss: 0.0942 - val_accuracy: 0.4200\n",
      "Epoch 170/200\n",
      "10/10 [==============================] - 0s 18ms/step - loss: 0.0849 - accuracy: 0.3967 - val_loss: 0.0940 - val_accuracy: 0.4200\n",
      "Epoch 171/200\n",
      "10/10 [==============================] - 0s 21ms/step - loss: 0.0846 - accuracy: 0.3900 - val_loss: 0.0951 - val_accuracy: 0.4200\n",
      "Epoch 172/200\n",
      "10/10 [==============================] - 0s 16ms/step - loss: 0.0845 - accuracy: 0.4033 - val_loss: 0.0943 - val_accuracy: 0.4500\n",
      "Epoch 173/200\n",
      "10/10 [==============================] - 0s 16ms/step - loss: 0.0841 - accuracy: 0.3800 - val_loss: 0.0937 - val_accuracy: 0.4500\n",
      "Epoch 174/200\n",
      "10/10 [==============================] - 0s 15ms/step - loss: 0.0837 - accuracy: 0.3867 - val_loss: 0.0943 - val_accuracy: 0.4500\n",
      "Epoch 175/200\n",
      "10/10 [==============================] - 0s 14ms/step - loss: 0.0839 - accuracy: 0.3767 - val_loss: 0.0930 - val_accuracy: 0.4200\n",
      "Epoch 176/200\n",
      "10/10 [==============================] - 0s 18ms/step - loss: 0.0832 - accuracy: 0.3833 - val_loss: 0.0932 - val_accuracy: 0.4500\n",
      "Epoch 177/200\n",
      "10/10 [==============================] - 0s 20ms/step - loss: 0.0828 - accuracy: 0.4000 - val_loss: 0.0933 - val_accuracy: 0.4200\n",
      "Epoch 178/200\n",
      "10/10 [==============================] - 0s 15ms/step - loss: 0.0831 - accuracy: 0.3833 - val_loss: 0.0932 - val_accuracy: 0.4200\n",
      "Epoch 179/200\n",
      "10/10 [==============================] - 0s 17ms/step - loss: 0.0824 - accuracy: 0.3900 - val_loss: 0.0930 - val_accuracy: 0.4500\n",
      "Epoch 180/200\n",
      "10/10 [==============================] - 0s 24ms/step - loss: 0.0826 - accuracy: 0.4000 - val_loss: 0.0945 - val_accuracy: 0.4200\n",
      "Epoch 181/200\n",
      "10/10 [==============================] - 0s 22ms/step - loss: 0.0825 - accuracy: 0.3967 - val_loss: 0.0925 - val_accuracy: 0.4100\n",
      "Epoch 182/200\n",
      "10/10 [==============================] - 0s 21ms/step - loss: 0.0817 - accuracy: 0.3967 - val_loss: 0.0926 - val_accuracy: 0.4600\n",
      "Epoch 183/200\n",
      "10/10 [==============================] - 0s 25ms/step - loss: 0.0818 - accuracy: 0.3967 - val_loss: 0.0935 - val_accuracy: 0.4200\n",
      "Epoch 184/200\n",
      "10/10 [==============================] - 0s 18ms/step - loss: 0.0826 - accuracy: 0.3967 - val_loss: 0.0928 - val_accuracy: 0.4300\n",
      "Epoch 185/200\n",
      "10/10 [==============================] - 0s 17ms/step - loss: 0.0820 - accuracy: 0.3733 - val_loss: 0.0924 - val_accuracy: 0.4500\n",
      "Epoch 186/200\n",
      "10/10 [==============================] - 0s 23ms/step - loss: 0.0819 - accuracy: 0.3667 - val_loss: 0.0926 - val_accuracy: 0.4400\n",
      "Epoch 187/200\n",
      "10/10 [==============================] - 0s 18ms/step - loss: 0.0819 - accuracy: 0.3833 - val_loss: 0.0925 - val_accuracy: 0.4500\n",
      "Epoch 188/200\n",
      "10/10 [==============================] - 0s 18ms/step - loss: 0.0815 - accuracy: 0.3800 - val_loss: 0.0925 - val_accuracy: 0.4500\n",
      "Epoch 189/200\n",
      "10/10 [==============================] - 0s 20ms/step - loss: 0.0821 - accuracy: 0.3800 - val_loss: 0.0923 - val_accuracy: 0.4300\n",
      "Epoch 190/200\n",
      "10/10 [==============================] - 0s 18ms/step - loss: 0.0809 - accuracy: 0.3933 - val_loss: 0.0914 - val_accuracy: 0.4300\n",
      "Epoch 191/200\n",
      "10/10 [==============================] - 0s 24ms/step - loss: 0.0806 - accuracy: 0.3967 - val_loss: 0.0917 - val_accuracy: 0.4500\n",
      "Epoch 192/200\n",
      "10/10 [==============================] - 0s 21ms/step - loss: 0.0800 - accuracy: 0.4000 - val_loss: 0.0916 - val_accuracy: 0.4300\n",
      "Epoch 193/200\n",
      "10/10 [==============================] - 0s 20ms/step - loss: 0.0800 - accuracy: 0.3900 - val_loss: 0.0916 - val_accuracy: 0.4400\n",
      "Epoch 194/200\n",
      "10/10 [==============================] - 0s 16ms/step - loss: 0.0803 - accuracy: 0.3833 - val_loss: 0.0922 - val_accuracy: 0.4300\n",
      "Epoch 195/200\n",
      "10/10 [==============================] - 0s 19ms/step - loss: 0.0799 - accuracy: 0.3767 - val_loss: 0.0918 - val_accuracy: 0.4400\n",
      "Epoch 196/200\n",
      "10/10 [==============================] - 0s 22ms/step - loss: 0.0801 - accuracy: 0.3967 - val_loss: 0.0917 - val_accuracy: 0.4300\n",
      "Epoch 197/200\n",
      "10/10 [==============================] - 0s 17ms/step - loss: 0.0801 - accuracy: 0.4033 - val_loss: 0.0908 - val_accuracy: 0.4200\n",
      "Epoch 198/200\n",
      "10/10 [==============================] - 0s 19ms/step - loss: 0.0792 - accuracy: 0.3767 - val_loss: 0.0933 - val_accuracy: 0.4400\n",
      "Epoch 199/200\n",
      "10/10 [==============================] - 0s 17ms/step - loss: 0.0798 - accuracy: 0.3633 - val_loss: 0.0905 - val_accuracy: 0.4400\n",
      "Epoch 200/200\n",
      "10/10 [==============================] - 0s 27ms/step - loss: 0.0789 - accuracy: 0.3900 - val_loss: 0.0909 - val_accuracy: 0.4300\n",
      "10/10 [==============================] - 0s 4ms/step\n",
      "10/10 [==============================] - 0s 5ms/step\n",
      "4/4 [==============================] - 0s 5ms/step\n"
     ]
    },
    {
     "name": "stderr",
     "output_type": "stream",
     "text": [
      "c:\\Users\\nahomw\\Anaconda3\\envs\\alzhymer\\lib\\site-packages\\sklearn\\utils\\validation.py:63: DataConversionWarning: A column-vector y was passed when a 1d array was expected. Please change the shape of y to (n_samples, ), for example using ravel().\n",
      "  return f(*args, **kwargs)\n"
     ]
    }
   ],
   "source": [
    "ac1 = comp_ae(57)"
   ]
  },
  {
   "cell_type": "code",
   "execution_count": null,
   "metadata": {},
   "outputs": [],
   "source": [
    "# accur = []\n",
    "# for i in dim:\n",
    "#     pca = PCA(n_components=i)\n",
    "#     # pca.fit_transform(x)\n",
    "#     x_pca_train = pca.fit_transform(x_train)\n",
    "#     x_pca_valid = pca.transform(x_valid)\n",
    "#     model_logit = LogisticRegression(solver='liblinear', random_state=0).fit(x_pca_train,y_train)\n",
    "#     accur.append(accuracy_score(model_logit.predict(x_pca_valid),y_valid)) "
   ]
  },
  {
   "cell_type": "code",
   "execution_count": 121,
   "metadata": {},
   "outputs": [
    {
     "data": {
      "text/plain": [
       "(28, 1)"
      ]
     },
     "execution_count": 121,
     "metadata": {},
     "output_type": "execute_result"
    }
   ],
   "source": [
    "dim = pd.DataFrame(dim)\n",
    "dim.shape"
   ]
  },
  {
   "cell_type": "code",
   "execution_count": 178,
   "metadata": {},
   "outputs": [],
   "source": [
    "# accur_ae_\n"
   ]
  },
  {
   "cell_type": "code",
   "execution_count": 148,
   "metadata": {},
   "outputs": [],
   "source": [
    "accur_ae_ = pd.DataFrame(accur_ae)\n",
    "accur_ae_ = accur_ae_.iloc[:28]\n"
   ]
  },
  {
   "cell_type": "code",
   "execution_count": 177,
   "metadata": {},
   "outputs": [
    {
     "data": {
      "text/plain": [
       "Text(0, 0.5, 'accuracy using logistic regresion')"
      ]
     },
     "execution_count": 177,
     "metadata": {},
     "output_type": "execute_result"
    },
    {
     "data": {
      "image/png": "[encoded data removed]",
      "text/plain": [
       "<Figure size 640x480 with 1 Axes>"
      ]
     },
     "metadata": {},
     "output_type": "display_data"
    }
   ],
   "source": [
    "plt.plot(dim, accur_ae_)\n",
    "plt.xlabel(\"# of dimensions\")\n",
    "plt.ylabel(\"accuracy using logistic regresion\")"
   ]
  },
  {
   "cell_type": "code",
   "execution_count": 2,
   "metadata": {},
   "outputs": [],
   "source": [
    "# [accur_ae.append(comp_ae(i)) for i in dim]\n",
    "for i in dim:\n",
    "    ac1 = comp_ae(i)\n",
    "    accur_ae.append(ac1)\n"
   ]
  },
  {
   "cell_type": "code",
   "execution_count": 296,
   "metadata": {},
   "outputs": [
    {
     "name": "stdout",
     "output_type": "stream",
     "text": [
      "classification_report:               precision    recall  f1-score   support\n",
      "\n",
      "           0       0.82      0.95      0.88        66\n",
      "           1       0.99      0.94      0.96       234\n",
      "\n",
      "    accuracy                           0.94       300\n",
      "   macro avg       0.90      0.95      0.92       300\n",
      "weighted avg       0.95      0.94      0.94       300\n",
      "\n",
      "classification_report:               precision    recall  f1-score   support\n",
      "\n",
      "           0       0.90      1.00      0.95        18\n",
      "           1       1.00      0.98      0.99        82\n",
      "\n",
      "    accuracy                           0.98       100\n",
      "   macro avg       0.95      0.99      0.97       100\n",
      "weighted avg       0.98      0.98      0.98       100\n",
      "\n"
     ]
    },
    {
     "name": "stderr",
     "output_type": "stream",
     "text": [
      "c:\\Users\\nahomw\\Anaconda3\\envs\\alzhymer\\lib\\site-packages\\sklearn\\utils\\validation.py:63: DataConversionWarning: A column-vector y was passed when a 1d array was expected. Please change the shape of y to (n_samples, ), for example using ravel().\n",
      "  return f(*args, **kwargs)\n"
     ]
    }
   ],
   "source": [
    "\n",
    "model_logit_ae = LogisticRegression(solver='liblinear', random_state=0).fit(train_encoded,y_train)\n",
    "print('classification_report:',classification_report(model_logit_ae.predict(train_encoded),y_train))\n",
    "print('classification_report:',classification_report(model_logit_ae.predict(test_encoded),y_valid))"
   ]
  },
  {
   "cell_type": "code",
   "execution_count": null,
   "metadata": {},
   "outputs": [],
   "source": []
  },
  {
   "cell_type": "code",
   "execution_count": 264,
   "metadata": {},
   "outputs": [
    {
     "name": "stdout",
     "output_type": "stream",
     "text": [
      "classification_report:               precision    recall  f1-score   support\n",
      "\n",
      "           0       1.00      0.87      0.93        77\n",
      "           1       0.96      1.00      0.98       223\n",
      "\n",
      "    accuracy                           0.97       300\n",
      "   macro avg       0.98      0.94      0.95       300\n",
      "weighted avg       0.97      0.97      0.97       300\n",
      "\n",
      "classification_report:               precision    recall  f1-score   support\n",
      "\n",
      "           0       1.00      0.90      0.95        20\n",
      "           1       0.98      1.00      0.99        80\n",
      "\n",
      "    accuracy                           0.98       100\n",
      "   macro avg       0.99      0.95      0.97       100\n",
      "weighted avg       0.98      0.98      0.98       100\n",
      "\n"
     ]
    },
    {
     "name": "stderr",
     "output_type": "stream",
     "text": [
      "c:\\Users\\nahomw\\Anaconda3\\envs\\alzhymer\\lib\\site-packages\\sklearn\\utils\\validation.py:63: DataConversionWarning: A column-vector y was passed when a 1d array was expected. Please change the shape of y to (n_samples, ), for example using ravel().\n",
      "  return f(*args, **kwargs)\n"
     ]
    }
   ],
   "source": [
    "from sklearn import svm\n",
    "ae_svc = svm.SVC()\n",
    "ae_svc.fit(x_pca_train, y_train)\n",
    "print('classification_report:',classification_report(y_train, ae_svc.predict(x_pca_train)))\n",
    "print('classification_report:',classification_report(y_valid, ae_svc.predict(x_pca_valid)))"
   ]
  },
  {
   "cell_type": "code",
   "execution_count": 299,
   "metadata": {},
   "outputs": [
    {
     "name": "stdout",
     "output_type": "stream",
     "text": [
      "classification_report:               precision    recall  f1-score   support\n",
      "\n",
      "           0       0.98      0.71      0.83        77\n",
      "           1       0.91      1.00      0.95       223\n",
      "\n",
      "    accuracy                           0.92       300\n",
      "   macro avg       0.95      0.85      0.89       300\n",
      "weighted avg       0.93      0.92      0.92       300\n",
      "\n",
      "classification_report:               precision    recall  f1-score   support\n",
      "\n",
      "           0       1.00      0.65      0.79        20\n",
      "           1       0.92      1.00      0.96        80\n",
      "\n",
      "    accuracy                           0.93       100\n",
      "   macro avg       0.96      0.82      0.87       100\n",
      "weighted avg       0.94      0.93      0.92       100\n",
      "\n"
     ]
    },
    {
     "name": "stderr",
     "output_type": "stream",
     "text": [
      "c:\\Users\\nahomw\\Anaconda3\\envs\\alzhymer\\lib\\site-packages\\sklearn\\utils\\validation.py:63: DataConversionWarning: A column-vector y was passed when a 1d array was expected. Please change the shape of y to (n_samples, ), for example using ravel().\n",
      "  return f(*args, **kwargs)\n"
     ]
    }
   ],
   "source": [
    "from sklearn import svm\n",
    "ae_svc = svm.SVC()\n",
    "ae_svc.fit(train_encoded, y_train)\n",
    "print('classification_report:',classification_report(y_train, ae_svc.predict(train_encoded)))\n",
    "print('classification_report:',classification_report(y_valid, ae_svc.predict(test_encoded)))"
   ]
  },
  {
   "cell_type": "code",
   "execution_count": 298,
   "metadata": {},
   "outputs": [
    {
     "name": "stdout",
     "output_type": "stream",
     "text": [
      "classification_report:               precision    recall  f1-score   support\n",
      "\n",
      "           0       1.00      0.84      0.92        77\n",
      "           1       0.95      1.00      0.97       223\n",
      "\n",
      "    accuracy                           0.96       300\n",
      "   macro avg       0.97      0.92      0.94       300\n",
      "weighted avg       0.96      0.96      0.96       300\n",
      "\n",
      "classification_report:               precision    recall  f1-score   support\n",
      "\n",
      "           0       1.00      0.90      0.95        20\n",
      "           1       0.98      1.00      0.99        80\n",
      "\n",
      "    accuracy                           0.98       100\n",
      "   macro avg       0.99      0.95      0.97       100\n",
      "weighted avg       0.98      0.98      0.98       100\n",
      "\n"
     ]
    },
    {
     "name": "stderr",
     "output_type": "stream",
     "text": [
      "c:\\Users\\nahomw\\Anaconda3\\envs\\alzhymer\\lib\\site-packages\\sklearn\\utils\\validation.py:63: DataConversionWarning: A column-vector y was passed when a 1d array was expected. Please change the shape of y to (n_samples, ), for example using ravel().\n",
      "  return f(*args, **kwargs)\n"
     ]
    }
   ],
   "source": [
    "from sklearn import svm\n",
    "norm_svc = svm.SVC()\n",
    "norm_svc.fit(x_train, y_train)\n",
    "print('classification_report:',classification_report(y_train, norm_svc.predict(x_train)))\n",
    "print('classification_report:',classification_report(y_valid, norm_svc.predict(x_valid)))"
   ]
  },
  {
   "cell_type": "code",
   "execution_count": 307,
   "metadata": {},
   "outputs": [
    {
     "name": "stdout",
     "output_type": "stream",
     "text": [
      "classification_report:               precision    recall  f1-score   support\n",
      "\n",
      "           0       0.98      0.71      0.83        77\n",
      "           1       0.91      1.00      0.95       223\n",
      "\n",
      "    accuracy                           0.92       300\n",
      "   macro avg       0.95      0.85      0.89       300\n",
      "weighted avg       0.93      0.92      0.92       300\n",
      "\n",
      "classification_report:               precision    recall  f1-score   support\n",
      "\n",
      "           0       1.00      0.65      0.79        20\n",
      "           1       0.92      1.00      0.96        80\n",
      "\n",
      "    accuracy                           0.93       100\n",
      "   macro avg       0.96      0.82      0.87       100\n",
      "weighted avg       0.94      0.93      0.92       100\n",
      "\n"
     ]
    },
    {
     "name": "stderr",
     "output_type": "stream",
     "text": [
      "c:\\Users\\nahomw\\Anaconda3\\envs\\alzhymer\\lib\\site-packages\\sklearn\\utils\\validation.py:63: DataConversionWarning: A column-vector y was passed when a 1d array was expected. Please change the shape of y to (n_samples, ), for example using ravel().\n",
      "  return f(*args, **kwargs)\n"
     ]
    }
   ],
   "source": [
    "\n",
    "ae_svc_prob = svm.SVC()\n",
    "ae_svc_prob.probability = True\n",
    "ae_svc_prob.fit(train_encoded, y_train)\n",
    "print('classification_report:',classification_report(y_train, ae_svc_prob.predict(train_encoded)))\n",
    "print('classification_report:',classification_report(y_valid, ae_svc_prob.predict(test_encoded)))"
   ]
  },
  {
   "cell_type": "markdown",
   "metadata": {},
   "source": [
    "### METHOD 3: RF OR XGBOOST"
   ]
  },
  {
   "cell_type": "markdown",
   "metadata": {},
   "source": [
    "#### Grid-search CV"
   ]
  },
  {
   "cell_type": "markdown",
   "metadata": {},
   "source": [
    "from sklearn.model_selection import GridSearchCV\n",
    "estimator = XGBClassifier(\n",
    "    objective= 'binary:logistic',\n",
    "    nthread=4,\n",
    "    seed=42\n",
    ")\n",
    "parameters = {\n",
    "    'max_depth': range (2, 7, 1),\n",
    "    'n_estimators': range(60, 220, 40),\n",
    "    'learning_rate': [0.1, 0.05, 0.01, 0.001]\n",
    "    # 'alpha':[0.01,0.1,1,10]\n",
    "}\n"
   ]
  },
  {
   "cell_type": "code",
   "execution_count": 284,
   "metadata": {},
   "outputs": [],
   "source": [
    "from sklearn.model_selection import GridSearchCV\n",
    "estimator = XGBClassifier(\n",
    "    objective= 'binary:logistic',\n",
    "    nthread=4,\n",
    "    seed=42\n",
    ")\n",
    "parameters = {\n",
    "    'max_depth': range (2, 4, 1),\n",
    "    'n_estimators': range(60, 220, 40),\n",
    "    'learning_rate': [0.1, 0.05, 0.01, 0.001]\n",
    "    # 'alpha':[0.0001,0.01,0.1,1,10]\n",
    "}\n"
   ]
  },
  {
   "cell_type": "code",
   "execution_count": 285,
   "metadata": {},
   "outputs": [],
   "source": [
    "grid_search = GridSearchCV(\n",
    "    estimator=estimator,\n",
    "    param_grid=parameters,\n",
    "    scoring = 'roc_auc',\n",
    "    n_jobs = 10,\n",
    "    cv = 10,\n",
    "    verbose=True\n",
    ")"
   ]
  },
  {
   "cell_type": "code",
   "execution_count": 3,
   "metadata": {},
   "outputs": [],
   "source": [
    "# grid_search.fit(x_train,y_train)"
   ]
  },
  {
   "cell_type": "code",
   "execution_count": 49,
   "metadata": {},
   "outputs": [
    {
     "data": {
      "text/plain": [
       "{'alpha': 0.1, 'learning_rate': 0.1, 'max_depth': 2, 'n_estimators': 180}"
      ]
     },
     "execution_count": 49,
     "metadata": {},
     "output_type": "execute_result"
    }
   ],
   "source": [
    "grid_search.best_params_"
   ]
  },
  {
   "cell_type": "code",
   "execution_count": 266,
   "metadata": {},
   "outputs": [
    {
     "data": {
      "text/plain": [
       "XGBClassifier(alpha=0.1, base_score=None, booster=None, callbacks=None,\n",
       "              colsample_bylevel=None, colsample_bynode=None,\n",
       "              colsample_bytree=None, early_stopping_rounds=None,\n",
       "              enable_categorical=False, eval_metric=None, feature_types=None,\n",
       "              gamma=None, gpu_id=None, grow_policy=None, importance_type=None,\n",
       "              interaction_constraints=None, learning_rate=0.1, max_bin=None,\n",
       "              max_cat_threshold=None, max_cat_to_onehot=None,\n",
       "              max_delta_step=None, max_depth=2, max_leaves=None,\n",
       "              min_child_weight=None, missing=nan, monotone_constraints=None,\n",
       "              n_estimators=180, n_jobs=None, num_parallel_tree=None,\n",
       "              predictor=None, ...)"
      ]
     },
     "execution_count": 266,
     "metadata": {},
     "output_type": "execute_result"
    }
   ],
   "source": [
    "xgb_unbalanced = XGBClassifier(n_estimators=180,max_depth=2, learning_rate=0.1, alpha = 0.1)\n",
    "xgb_unbalanced.fit(x_train,y_train)"
   ]
  },
  {
   "cell_type": "code",
   "execution_count": 267,
   "metadata": {},
   "outputs": [
    {
     "name": "stdout",
     "output_type": "stream",
     "text": [
      "classification_report:               precision    recall  f1-score   support\n",
      "\n",
      "           0       1.00      1.00      1.00        77\n",
      "           1       1.00      1.00      1.00       223\n",
      "\n",
      "    accuracy                           1.00       300\n",
      "   macro avg       1.00      1.00      1.00       300\n",
      "weighted avg       1.00      1.00      1.00       300\n",
      "\n",
      "classification_report:               precision    recall  f1-score   support\n",
      "\n",
      "           0       0.94      0.80      0.86        20\n",
      "           1       0.95      0.99      0.97        80\n",
      "\n",
      "    accuracy                           0.95       100\n",
      "   macro avg       0.95      0.89      0.92       100\n",
      "weighted avg       0.95      0.95      0.95       100\n",
      "\n"
     ]
    }
   ],
   "source": [
    "print('classification_report:',classification_report(y_train, xgb_unbalanced.predict(x_train)))\n",
    "print('classification_report:',classification_report(y_valid, xgb_unbalanced.predict(x_valid)))"
   ]
  },
  {
   "cell_type": "markdown",
   "metadata": {},
   "source": [
    "### Autoencoder and PCA for XGBoost"
   ]
  },
  {
   "cell_type": "markdown",
   "metadata": {},
   "source": [
    "### Autoencoder"
   ]
  },
  {
   "cell_type": "code",
   "execution_count": 286,
   "metadata": {},
   "outputs": [
    {
     "name": "stdout",
     "output_type": "stream",
     "text": [
      "Fitting 10 folds for each of 32 candidates, totalling 320 fits\n"
     ]
    },
    {
     "data": {
      "text/plain": [
       "GridSearchCV(cv=10,\n",
       "             estimator=XGBClassifier(base_score=None, booster=None,\n",
       "                                     callbacks=None, colsample_bylevel=None,\n",
       "                                     colsample_bynode=None,\n",
       "                                     colsample_bytree=None,\n",
       "                                     early_stopping_rounds=None,\n",
       "                                     enable_categorical=False, eval_metric=None,\n",
       "                                     feature_types=None, gamma=None,\n",
       "                                     gpu_id=None, grow_policy=None,\n",
       "                                     importance_type=None,\n",
       "                                     interaction_constraints=None,\n",
       "                                     learning_rate=None...\n",
       "                                     max_cat_to_onehot=None,\n",
       "                                     max_delta_step=None, max_depth=None,\n",
       "                                     max_leaves=None, min_child_weight=None,\n",
       "                                     missing=nan, monotone_constraints=None,\n",
       "                                     n_estimators=100, n_jobs=None, nthread=4,\n",
       "                                     num_parallel_tree=None, predictor=None, ...),\n",
       "             n_jobs=10,\n",
       "             param_grid={'learning_rate': [0.1, 0.05, 0.01, 0.001],\n",
       "                         'max_depth': range(2, 4),\n",
       "                         'n_estimators': range(60, 220, 40)},\n",
       "             scoring='roc_auc', verbose=True)"
      ]
     },
     "execution_count": 286,
     "metadata": {},
     "output_type": "execute_result"
    }
   ],
   "source": [
    "grid_search.fit(train_encoded,y_train)"
   ]
  },
  {
   "cell_type": "code",
   "execution_count": 287,
   "metadata": {},
   "outputs": [
    {
     "data": {
      "text/plain": [
       "{'learning_rate': 0.1, 'max_depth': 2, 'n_estimators': 180}"
      ]
     },
     "execution_count": 287,
     "metadata": {},
     "output_type": "execute_result"
    }
   ],
   "source": [
    "grid_search.best_params_"
   ]
  },
  {
   "cell_type": "code",
   "execution_count": 300,
   "metadata": {},
   "outputs": [
    {
     "data": {
      "text/plain": [
       "XGBClassifier(base_score=None, booster=None, callbacks=None,\n",
       "              colsample_bylevel=None, colsample_bynode=None,\n",
       "              colsample_bytree=None, early_stopping_rounds=None,\n",
       "              enable_categorical=False, eval_metric=None, feature_types=None,\n",
       "              gamma=None, gpu_id=None, grow_policy=None, importance_type=None,\n",
       "              interaction_constraints=None, learning_rate=0.1, max_bin=None,\n",
       "              max_cat_threshold=None, max_cat_to_onehot=None,\n",
       "              max_delta_step=None, max_depth=2, max_leaves=None,\n",
       "              min_child_weight=None, missing=nan, monotone_constraints=None,\n",
       "              n_estimators=180, n_jobs=None, num_parallel_tree=None,\n",
       "              predictor=None, random_state=None, ...)"
      ]
     },
     "execution_count": 300,
     "metadata": {},
     "output_type": "execute_result"
    }
   ],
   "source": [
    "xgb_unbalanced = XGBClassifier(n_estimators=180,max_depth=2, learning_rate=0.1)\n",
    "xgb_unbalanced.fit(train_encoded,y_train)"
   ]
  },
  {
   "cell_type": "code",
   "execution_count": 301,
   "metadata": {},
   "outputs": [
    {
     "name": "stdout",
     "output_type": "stream",
     "text": [
      "classification_report:               precision    recall  f1-score   support\n",
      "\n",
      "           0       1.00      1.00      1.00        77\n",
      "           1       1.00      1.00      1.00       223\n",
      "\n",
      "    accuracy                           1.00       300\n",
      "   macro avg       1.00      1.00      1.00       300\n",
      "weighted avg       1.00      1.00      1.00       300\n",
      "\n",
      "classification_report:               precision    recall  f1-score   support\n",
      "\n",
      "           0       0.94      0.80      0.86        20\n",
      "           1       0.95      0.99      0.97        80\n",
      "\n",
      "    accuracy                           0.95       100\n",
      "   macro avg       0.95      0.89      0.92       100\n",
      "weighted avg       0.95      0.95      0.95       100\n",
      "\n"
     ]
    }
   ],
   "source": [
    "print('classification_report:',classification_report(y_train, xgb_unbalanced.predict(train_encoded)))\n",
    "print('classification_report:',classification_report(y_valid, xgb_unbalanced.predict(test_encoded)))"
   ]
  },
  {
   "cell_type": "markdown",
   "metadata": {},
   "source": [
    "### Random Forest (Autoencoder)"
   ]
  },
  {
   "cell_type": "code",
   "execution_count": null,
   "metadata": {},
   "outputs": [],
   "source": [
    "# 'max_depth': range (2, 4, 1),\n",
    "#     'n_estimators': range(60, 220, 40),\n",
    "#     'learning_rate': [0.1, 0.05, 0.01, 0.001]\n",
    "#     # 'alpha':[0.01,0.1,1,10]"
   ]
  },
  {
   "cell_type": "code",
   "execution_count": 291,
   "metadata": {},
   "outputs": [],
   "source": [
    "param_grid = {\n",
    "\t'n_estimators': [25, 50, 100, 150,200],\n",
    "\t'max_depth': range (2, 7, 1),\n",
    "\t'max_leaf_nodes': [3, 6, 9]\n",
    "}\n"
   ]
  },
  {
   "cell_type": "code",
   "execution_count": 292,
   "metadata": {},
   "outputs": [
    {
     "name": "stderr",
     "output_type": "stream",
     "text": [
      "c:\\Users\\nahomw\\Anaconda3\\envs\\alzhymer\\lib\\site-packages\\sklearn\\model_selection\\_validation.py:598: DataConversionWarning: A column-vector y was passed when a 1d array was expected. Please change the shape of y to (n_samples,), for example using ravel().\n",
      "  estimator.fit(X_train, y_train, **fit_params)\n",
      "c:\\Users\\nahomw\\Anaconda3\\envs\\alzhymer\\lib\\site-packages\\sklearn\\model_selection\\_validation.py:598: DataConversionWarning: A column-vector y was passed when a 1d array was expected. Please change the shape of y to (n_samples,), for example using ravel().\n",
      "  estimator.fit(X_train, y_train, **fit_params)\n",
      "c:\\Users\\nahomw\\Anaconda3\\envs\\alzhymer\\lib\\site-packages\\sklearn\\model_selection\\_validation.py:598: DataConversionWarning: A column-vector y was passed when a 1d array was expected. Please change the shape of y to (n_samples,), for example using ravel().\n",
      "  estimator.fit(X_train, y_train, **fit_params)\n",
      "c:\\Users\\nahomw\\Anaconda3\\envs\\alzhymer\\lib\\site-packages\\sklearn\\model_selection\\_validation.py:598: DataConversionWarning: A column-vector y was passed when a 1d array was expected. Please change the shape of y to (n_samples,), for example using ravel().\n",
      "  estimator.fit(X_train, y_train, **fit_params)\n",
      "c:\\Users\\nahomw\\Anaconda3\\envs\\alzhymer\\lib\\site-packages\\sklearn\\model_selection\\_validation.py:598: DataConversionWarning: A column-vector y was passed when a 1d array was expected. Please change the shape of y to (n_samples,), for example using ravel().\n",
      "  estimator.fit(X_train, y_train, **fit_params)\n",
      "c:\\Users\\nahomw\\Anaconda3\\envs\\alzhymer\\lib\\site-packages\\sklearn\\model_selection\\_validation.py:598: DataConversionWarning: A column-vector y was passed when a 1d array was expected. Please change the shape of y to (n_samples,), for example using ravel().\n",
      "  estimator.fit(X_train, y_train, **fit_params)\n",
      "c:\\Users\\nahomw\\Anaconda3\\envs\\alzhymer\\lib\\site-packages\\sklearn\\model_selection\\_validation.py:598: DataConversionWarning: A column-vector y was passed when a 1d array was expected. Please change the shape of y to (n_samples,), for example using ravel().\n",
      "  estimator.fit(X_train, y_train, **fit_params)\n",
      "c:\\Users\\nahomw\\Anaconda3\\envs\\alzhymer\\lib\\site-packages\\sklearn\\model_selection\\_validation.py:598: DataConversionWarning: A column-vector y was passed when a 1d array was expected. Please change the shape of y to (n_samples,), for example using ravel().\n",
      "  estimator.fit(X_train, y_train, **fit_params)\n",
      "c:\\Users\\nahomw\\Anaconda3\\envs\\alzhymer\\lib\\site-packages\\sklearn\\model_selection\\_validation.py:598: DataConversionWarning: A column-vector y was passed when a 1d array was expected. Please change the shape of y to (n_samples,), for example using ravel().\n",
      "  estimator.fit(X_train, y_train, **fit_params)\n",
      "c:\\Users\\nahomw\\Anaconda3\\envs\\alzhymer\\lib\\site-packages\\sklearn\\model_selection\\_validation.py:598: DataConversionWarning: A column-vector y was passed when a 1d array was expected. Please change the shape of y to (n_samples,), for example using ravel().\n",
      "  estimator.fit(X_train, y_train, **fit_params)\n",
      "c:\\Users\\nahomw\\Anaconda3\\envs\\alzhymer\\lib\\site-packages\\sklearn\\model_selection\\_validation.py:598: DataConversionWarning: A column-vector y was passed when a 1d array was expected. Please change the shape of y to (n_samples,), for example using ravel().\n",
      "  estimator.fit(X_train, y_train, **fit_params)\n",
      "c:\\Users\\nahomw\\Anaconda3\\envs\\alzhymer\\lib\\site-packages\\sklearn\\model_selection\\_validation.py:598: DataConversionWarning: A column-vector y was passed when a 1d array was expected. Please change the shape of y to (n_samples,), for example using ravel().\n",
      "  estimator.fit(X_train, y_train, **fit_params)\n",
      "c:\\Users\\nahomw\\Anaconda3\\envs\\alzhymer\\lib\\site-packages\\sklearn\\model_selection\\_validation.py:598: DataConversionWarning: A column-vector y was passed when a 1d array was expected. Please change the shape of y to (n_samples,), for example using ravel().\n",
      "  estimator.fit(X_train, y_train, **fit_params)\n",
      "c:\\Users\\nahomw\\Anaconda3\\envs\\alzhymer\\lib\\site-packages\\sklearn\\model_selection\\_validation.py:598: DataConversionWarning: A column-vector y was passed when a 1d array was expected. Please change the shape of y to (n_samples,), for example using ravel().\n",
      "  estimator.fit(X_train, y_train, **fit_params)\n",
      "c:\\Users\\nahomw\\Anaconda3\\envs\\alzhymer\\lib\\site-packages\\sklearn\\model_selection\\_validation.py:598: DataConversionWarning: A column-vector y was passed when a 1d array was expected. Please change the shape of y to (n_samples,), for example using ravel().\n",
      "  estimator.fit(X_train, y_train, **fit_params)\n",
      "c:\\Users\\nahomw\\Anaconda3\\envs\\alzhymer\\lib\\site-packages\\sklearn\\model_selection\\_validation.py:598: DataConversionWarning: A column-vector y was passed when a 1d array was expected. Please change the shape of y to (n_samples,), for example using ravel().\n",
      "  estimator.fit(X_train, y_train, **fit_params)\n",
      "c:\\Users\\nahomw\\Anaconda3\\envs\\alzhymer\\lib\\site-packages\\sklearn\\model_selection\\_validation.py:598: DataConversionWarning: A column-vector y was passed when a 1d array was expected. Please change the shape of y to (n_samples,), for example using ravel().\n",
      "  estimator.fit(X_train, y_train, **fit_params)\n",
      "c:\\Users\\nahomw\\Anaconda3\\envs\\alzhymer\\lib\\site-packages\\sklearn\\model_selection\\_validation.py:598: DataConversionWarning: A column-vector y was passed when a 1d array was expected. Please change the shape of y to (n_samples,), for example using ravel().\n",
      "  estimator.fit(X_train, y_train, **fit_params)\n",
      "c:\\Users\\nahomw\\Anaconda3\\envs\\alzhymer\\lib\\site-packages\\sklearn\\model_selection\\_validation.py:598: DataConversionWarning: A column-vector y was passed when a 1d array was expected. Please change the shape of y to (n_samples,), for example using ravel().\n",
      "  estimator.fit(X_train, y_train, **fit_params)\n",
      "c:\\Users\\nahomw\\Anaconda3\\envs\\alzhymer\\lib\\site-packages\\sklearn\\model_selection\\_validation.py:598: DataConversionWarning: A column-vector y was passed when a 1d array was expected. Please change the shape of y to (n_samples,), for example using ravel().\n",
      "  estimator.fit(X_train, y_train, **fit_params)\n",
      "c:\\Users\\nahomw\\Anaconda3\\envs\\alzhymer\\lib\\site-packages\\sklearn\\model_selection\\_validation.py:598: DataConversionWarning: A column-vector y was passed when a 1d array was expected. Please change the shape of y to (n_samples,), for example using ravel().\n",
      "  estimator.fit(X_train, y_train, **fit_params)\n",
      "c:\\Users\\nahomw\\Anaconda3\\envs\\alzhymer\\lib\\site-packages\\sklearn\\model_selection\\_validation.py:598: DataConversionWarning: A column-vector y was passed when a 1d array was expected. Please change the shape of y to (n_samples,), for example using ravel().\n",
      "  estimator.fit(X_train, y_train, **fit_params)\n",
      "c:\\Users\\nahomw\\Anaconda3\\envs\\alzhymer\\lib\\site-packages\\sklearn\\model_selection\\_validation.py:598: DataConversionWarning: A column-vector y was passed when a 1d array was expected. Please change the shape of y to (n_samples,), for example using ravel().\n",
      "  estimator.fit(X_train, y_train, **fit_params)\n",
      "c:\\Users\\nahomw\\Anaconda3\\envs\\alzhymer\\lib\\site-packages\\sklearn\\model_selection\\_validation.py:598: DataConversionWarning: A column-vector y was passed when a 1d array was expected. Please change the shape of y to (n_samples,), for example using ravel().\n",
      "  estimator.fit(X_train, y_train, **fit_params)\n",
      "c:\\Users\\nahomw\\Anaconda3\\envs\\alzhymer\\lib\\site-packages\\sklearn\\model_selection\\_validation.py:598: DataConversionWarning: A column-vector y was passed when a 1d array was expected. Please change the shape of y to (n_samples,), for example using ravel().\n",
      "  estimator.fit(X_train, y_train, **fit_params)\n",
      "c:\\Users\\nahomw\\Anaconda3\\envs\\alzhymer\\lib\\site-packages\\sklearn\\model_selection\\_validation.py:598: DataConversionWarning: A column-vector y was passed when a 1d array was expected. Please change the shape of y to (n_samples,), for example using ravel().\n",
      "  estimator.fit(X_train, y_train, **fit_params)\n",
      "c:\\Users\\nahomw\\Anaconda3\\envs\\alzhymer\\lib\\site-packages\\sklearn\\model_selection\\_validation.py:598: DataConversionWarning: A column-vector y was passed when a 1d array was expected. Please change the shape of y to (n_samples,), for example using ravel().\n",
      "  estimator.fit(X_train, y_train, **fit_params)\n",
      "c:\\Users\\nahomw\\Anaconda3\\envs\\alzhymer\\lib\\site-packages\\sklearn\\model_selection\\_validation.py:598: DataConversionWarning: A column-vector y was passed when a 1d array was expected. Please change the shape of y to (n_samples,), for example using ravel().\n",
      "  estimator.fit(X_train, y_train, **fit_params)\n",
      "c:\\Users\\nahomw\\Anaconda3\\envs\\alzhymer\\lib\\site-packages\\sklearn\\model_selection\\_validation.py:598: DataConversionWarning: A column-vector y was passed when a 1d array was expected. Please change the shape of y to (n_samples,), for example using ravel().\n",
      "  estimator.fit(X_train, y_train, **fit_params)\n",
      "c:\\Users\\nahomw\\Anaconda3\\envs\\alzhymer\\lib\\site-packages\\sklearn\\model_selection\\_validation.py:598: DataConversionWarning: A column-vector y was passed when a 1d array was expected. Please change the shape of y to (n_samples,), for example using ravel().\n",
      "  estimator.fit(X_train, y_train, **fit_params)\n",
      "c:\\Users\\nahomw\\Anaconda3\\envs\\alzhymer\\lib\\site-packages\\sklearn\\model_selection\\_validation.py:598: DataConversionWarning: A column-vector y was passed when a 1d array was expected. Please change the shape of y to (n_samples,), for example using ravel().\n",
      "  estimator.fit(X_train, y_train, **fit_params)\n",
      "c:\\Users\\nahomw\\Anaconda3\\envs\\alzhymer\\lib\\site-packages\\sklearn\\model_selection\\_validation.py:598: DataConversionWarning: A column-vector y was passed when a 1d array was expected. Please change the shape of y to (n_samples,), for example using ravel().\n",
      "  estimator.fit(X_train, y_train, **fit_params)\n",
      "c:\\Users\\nahomw\\Anaconda3\\envs\\alzhymer\\lib\\site-packages\\sklearn\\model_selection\\_validation.py:598: DataConversionWarning: A column-vector y was passed when a 1d array was expected. Please change the shape of y to (n_samples,), for example using ravel().\n",
      "  estimator.fit(X_train, y_train, **fit_params)\n",
      "c:\\Users\\nahomw\\Anaconda3\\envs\\alzhymer\\lib\\site-packages\\sklearn\\model_selection\\_validation.py:598: DataConversionWarning: A column-vector y was passed when a 1d array was expected. Please change the shape of y to (n_samples,), for example using ravel().\n",
      "  estimator.fit(X_train, y_train, **fit_params)\n",
      "c:\\Users\\nahomw\\Anaconda3\\envs\\alzhymer\\lib\\site-packages\\sklearn\\model_selection\\_validation.py:598: DataConversionWarning: A column-vector y was passed when a 1d array was expected. Please change the shape of y to (n_samples,), for example using ravel().\n",
      "  estimator.fit(X_train, y_train, **fit_params)\n",
      "c:\\Users\\nahomw\\Anaconda3\\envs\\alzhymer\\lib\\site-packages\\sklearn\\model_selection\\_validation.py:598: DataConversionWarning: A column-vector y was passed when a 1d array was expected. Please change the shape of y to (n_samples,), for example using ravel().\n",
      "  estimator.fit(X_train, y_train, **fit_params)\n",
      "c:\\Users\\nahomw\\Anaconda3\\envs\\alzhymer\\lib\\site-packages\\sklearn\\model_selection\\_validation.py:598: DataConversionWarning: A column-vector y was passed when a 1d array was expected. Please change the shape of y to (n_samples,), for example using ravel().\n",
      "  estimator.fit(X_train, y_train, **fit_params)\n",
      "c:\\Users\\nahomw\\Anaconda3\\envs\\alzhymer\\lib\\site-packages\\sklearn\\model_selection\\_validation.py:598: DataConversionWarning: A column-vector y was passed when a 1d array was expected. Please change the shape of y to (n_samples,), for example using ravel().\n",
      "  estimator.fit(X_train, y_train, **fit_params)\n",
      "c:\\Users\\nahomw\\Anaconda3\\envs\\alzhymer\\lib\\site-packages\\sklearn\\model_selection\\_validation.py:598: DataConversionWarning: A column-vector y was passed when a 1d array was expected. Please change the shape of y to (n_samples,), for example using ravel().\n",
      "  estimator.fit(X_train, y_train, **fit_params)\n",
      "c:\\Users\\nahomw\\Anaconda3\\envs\\alzhymer\\lib\\site-packages\\sklearn\\model_selection\\_validation.py:598: DataConversionWarning: A column-vector y was passed when a 1d array was expected. Please change the shape of y to (n_samples,), for example using ravel().\n",
      "  estimator.fit(X_train, y_train, **fit_params)\n",
      "c:\\Users\\nahomw\\Anaconda3\\envs\\alzhymer\\lib\\site-packages\\sklearn\\model_selection\\_validation.py:598: DataConversionWarning: A column-vector y was passed when a 1d array was expected. Please change the shape of y to (n_samples,), for example using ravel().\n",
      "  estimator.fit(X_train, y_train, **fit_params)\n",
      "c:\\Users\\nahomw\\Anaconda3\\envs\\alzhymer\\lib\\site-packages\\sklearn\\model_selection\\_validation.py:598: DataConversionWarning: A column-vector y was passed when a 1d array was expected. Please change the shape of y to (n_samples,), for example using ravel().\n",
      "  estimator.fit(X_train, y_train, **fit_params)\n",
      "c:\\Users\\nahomw\\Anaconda3\\envs\\alzhymer\\lib\\site-packages\\sklearn\\model_selection\\_validation.py:598: DataConversionWarning: A column-vector y was passed when a 1d array was expected. Please change the shape of y to (n_samples,), for example using ravel().\n",
      "  estimator.fit(X_train, y_train, **fit_params)\n",
      "c:\\Users\\nahomw\\Anaconda3\\envs\\alzhymer\\lib\\site-packages\\sklearn\\model_selection\\_validation.py:598: DataConversionWarning: A column-vector y was passed when a 1d array was expected. Please change the shape of y to (n_samples,), for example using ravel().\n",
      "  estimator.fit(X_train, y_train, **fit_params)\n",
      "c:\\Users\\nahomw\\Anaconda3\\envs\\alzhymer\\lib\\site-packages\\sklearn\\model_selection\\_validation.py:598: DataConversionWarning: A column-vector y was passed when a 1d array was expected. Please change the shape of y to (n_samples,), for example using ravel().\n",
      "  estimator.fit(X_train, y_train, **fit_params)\n",
      "c:\\Users\\nahomw\\Anaconda3\\envs\\alzhymer\\lib\\site-packages\\sklearn\\model_selection\\_validation.py:598: DataConversionWarning: A column-vector y was passed when a 1d array was expected. Please change the shape of y to (n_samples,), for example using ravel().\n",
      "  estimator.fit(X_train, y_train, **fit_params)\n",
      "c:\\Users\\nahomw\\Anaconda3\\envs\\alzhymer\\lib\\site-packages\\sklearn\\model_selection\\_validation.py:598: DataConversionWarning: A column-vector y was passed when a 1d array was expected. Please change the shape of y to (n_samples,), for example using ravel().\n",
      "  estimator.fit(X_train, y_train, **fit_params)\n",
      "c:\\Users\\nahomw\\Anaconda3\\envs\\alzhymer\\lib\\site-packages\\sklearn\\model_selection\\_validation.py:598: DataConversionWarning: A column-vector y was passed when a 1d array was expected. Please change the shape of y to (n_samples,), for example using ravel().\n",
      "  estimator.fit(X_train, y_train, **fit_params)\n",
      "c:\\Users\\nahomw\\Anaconda3\\envs\\alzhymer\\lib\\site-packages\\sklearn\\model_selection\\_validation.py:598: DataConversionWarning: A column-vector y was passed when a 1d array was expected. Please change the shape of y to (n_samples,), for example using ravel().\n",
      "  estimator.fit(X_train, y_train, **fit_params)\n",
      "c:\\Users\\nahomw\\Anaconda3\\envs\\alzhymer\\lib\\site-packages\\sklearn\\model_selection\\_validation.py:598: DataConversionWarning: A column-vector y was passed when a 1d array was expected. Please change the shape of y to (n_samples,), for example using ravel().\n",
      "  estimator.fit(X_train, y_train, **fit_params)\n",
      "c:\\Users\\nahomw\\Anaconda3\\envs\\alzhymer\\lib\\site-packages\\sklearn\\model_selection\\_validation.py:598: DataConversionWarning: A column-vector y was passed when a 1d array was expected. Please change the shape of y to (n_samples,), for example using ravel().\n",
      "  estimator.fit(X_train, y_train, **fit_params)\n",
      "c:\\Users\\nahomw\\Anaconda3\\envs\\alzhymer\\lib\\site-packages\\sklearn\\model_selection\\_validation.py:598: DataConversionWarning: A column-vector y was passed when a 1d array was expected. Please change the shape of y to (n_samples,), for example using ravel().\n",
      "  estimator.fit(X_train, y_train, **fit_params)\n",
      "c:\\Users\\nahomw\\Anaconda3\\envs\\alzhymer\\lib\\site-packages\\sklearn\\model_selection\\_validation.py:598: DataConversionWarning: A column-vector y was passed when a 1d array was expected. Please change the shape of y to (n_samples,), for example using ravel().\n",
      "  estimator.fit(X_train, y_train, **fit_params)\n",
      "c:\\Users\\nahomw\\Anaconda3\\envs\\alzhymer\\lib\\site-packages\\sklearn\\model_selection\\_validation.py:598: DataConversionWarning: A column-vector y was passed when a 1d array was expected. Please change the shape of y to (n_samples,), for example using ravel().\n",
      "  estimator.fit(X_train, y_train, **fit_params)\n",
      "c:\\Users\\nahomw\\Anaconda3\\envs\\alzhymer\\lib\\site-packages\\sklearn\\model_selection\\_validation.py:598: DataConversionWarning: A column-vector y was passed when a 1d array was expected. Please change the shape of y to (n_samples,), for example using ravel().\n",
      "  estimator.fit(X_train, y_train, **fit_params)\n",
      "c:\\Users\\nahomw\\Anaconda3\\envs\\alzhymer\\lib\\site-packages\\sklearn\\model_selection\\_validation.py:598: DataConversionWarning: A column-vector y was passed when a 1d array was expected. Please change the shape of y to (n_samples,), for example using ravel().\n",
      "  estimator.fit(X_train, y_train, **fit_params)\n",
      "c:\\Users\\nahomw\\Anaconda3\\envs\\alzhymer\\lib\\site-packages\\sklearn\\model_selection\\_validation.py:598: DataConversionWarning: A column-vector y was passed when a 1d array was expected. Please change the shape of y to (n_samples,), for example using ravel().\n",
      "  estimator.fit(X_train, y_train, **fit_params)\n",
      "c:\\Users\\nahomw\\Anaconda3\\envs\\alzhymer\\lib\\site-packages\\sklearn\\model_selection\\_validation.py:598: DataConversionWarning: A column-vector y was passed when a 1d array was expected. Please change the shape of y to (n_samples,), for example using ravel().\n",
      "  estimator.fit(X_train, y_train, **fit_params)\n",
      "c:\\Users\\nahomw\\Anaconda3\\envs\\alzhymer\\lib\\site-packages\\sklearn\\model_selection\\_validation.py:598: DataConversionWarning: A column-vector y was passed when a 1d array was expected. Please change the shape of y to (n_samples,), for example using ravel().\n",
      "  estimator.fit(X_train, y_train, **fit_params)\n",
      "c:\\Users\\nahomw\\Anaconda3\\envs\\alzhymer\\lib\\site-packages\\sklearn\\model_selection\\_validation.py:598: DataConversionWarning: A column-vector y was passed when a 1d array was expected. Please change the shape of y to (n_samples,), for example using ravel().\n",
      "  estimator.fit(X_train, y_train, **fit_params)\n",
      "c:\\Users\\nahomw\\Anaconda3\\envs\\alzhymer\\lib\\site-packages\\sklearn\\model_selection\\_validation.py:598: DataConversionWarning: A column-vector y was passed when a 1d array was expected. Please change the shape of y to (n_samples,), for example using ravel().\n",
      "  estimator.fit(X_train, y_train, **fit_params)\n",
      "c:\\Users\\nahomw\\Anaconda3\\envs\\alzhymer\\lib\\site-packages\\sklearn\\model_selection\\_validation.py:598: DataConversionWarning: A column-vector y was passed when a 1d array was expected. Please change the shape of y to (n_samples,), for example using ravel().\n",
      "  estimator.fit(X_train, y_train, **fit_params)\n",
      "c:\\Users\\nahomw\\Anaconda3\\envs\\alzhymer\\lib\\site-packages\\sklearn\\model_selection\\_validation.py:598: DataConversionWarning: A column-vector y was passed when a 1d array was expected. Please change the shape of y to (n_samples,), for example using ravel().\n",
      "  estimator.fit(X_train, y_train, **fit_params)\n",
      "c:\\Users\\nahomw\\Anaconda3\\envs\\alzhymer\\lib\\site-packages\\sklearn\\model_selection\\_validation.py:598: DataConversionWarning: A column-vector y was passed when a 1d array was expected. Please change the shape of y to (n_samples,), for example using ravel().\n",
      "  estimator.fit(X_train, y_train, **fit_params)\n",
      "c:\\Users\\nahomw\\Anaconda3\\envs\\alzhymer\\lib\\site-packages\\sklearn\\model_selection\\_validation.py:598: DataConversionWarning: A column-vector y was passed when a 1d array was expected. Please change the shape of y to (n_samples,), for example using ravel().\n",
      "  estimator.fit(X_train, y_train, **fit_params)\n",
      "c:\\Users\\nahomw\\Anaconda3\\envs\\alzhymer\\lib\\site-packages\\sklearn\\model_selection\\_validation.py:598: DataConversionWarning: A column-vector y was passed when a 1d array was expected. Please change the shape of y to (n_samples,), for example using ravel().\n",
      "  estimator.fit(X_train, y_train, **fit_params)\n",
      "c:\\Users\\nahomw\\Anaconda3\\envs\\alzhymer\\lib\\site-packages\\sklearn\\model_selection\\_validation.py:598: DataConversionWarning: A column-vector y was passed when a 1d array was expected. Please change the shape of y to (n_samples,), for example using ravel().\n",
      "  estimator.fit(X_train, y_train, **fit_params)\n",
      "c:\\Users\\nahomw\\Anaconda3\\envs\\alzhymer\\lib\\site-packages\\sklearn\\model_selection\\_validation.py:598: DataConversionWarning: A column-vector y was passed when a 1d array was expected. Please change the shape of y to (n_samples,), for example using ravel().\n",
      "  estimator.fit(X_train, y_train, **fit_params)\n",
      "c:\\Users\\nahomw\\Anaconda3\\envs\\alzhymer\\lib\\site-packages\\sklearn\\model_selection\\_validation.py:598: DataConversionWarning: A column-vector y was passed when a 1d array was expected. Please change the shape of y to (n_samples,), for example using ravel().\n",
      "  estimator.fit(X_train, y_train, **fit_params)\n",
      "c:\\Users\\nahomw\\Anaconda3\\envs\\alzhymer\\lib\\site-packages\\sklearn\\model_selection\\_validation.py:598: DataConversionWarning: A column-vector y was passed when a 1d array was expected. Please change the shape of y to (n_samples,), for example using ravel().\n",
      "  estimator.fit(X_train, y_train, **fit_params)\n",
      "c:\\Users\\nahomw\\Anaconda3\\envs\\alzhymer\\lib\\site-packages\\sklearn\\model_selection\\_validation.py:598: DataConversionWarning: A column-vector y was passed when a 1d array was expected. Please change the shape of y to (n_samples,), for example using ravel().\n",
      "  estimator.fit(X_train, y_train, **fit_params)\n",
      "c:\\Users\\nahomw\\Anaconda3\\envs\\alzhymer\\lib\\site-packages\\sklearn\\model_selection\\_validation.py:598: DataConversionWarning: A column-vector y was passed when a 1d array was expected. Please change the shape of y to (n_samples,), for example using ravel().\n",
      "  estimator.fit(X_train, y_train, **fit_params)\n",
      "c:\\Users\\nahomw\\Anaconda3\\envs\\alzhymer\\lib\\site-packages\\sklearn\\model_selection\\_validation.py:598: DataConversionWarning: A column-vector y was passed when a 1d array was expected. Please change the shape of y to (n_samples,), for example using ravel().\n",
      "  estimator.fit(X_train, y_train, **fit_params)\n",
      "c:\\Users\\nahomw\\Anaconda3\\envs\\alzhymer\\lib\\site-packages\\sklearn\\model_selection\\_validation.py:598: DataConversionWarning: A column-vector y was passed when a 1d array was expected. Please change the shape of y to (n_samples,), for example using ravel().\n",
      "  estimator.fit(X_train, y_train, **fit_params)\n",
      "c:\\Users\\nahomw\\Anaconda3\\envs\\alzhymer\\lib\\site-packages\\sklearn\\model_selection\\_validation.py:598: DataConversionWarning: A column-vector y was passed when a 1d array was expected. Please change the shape of y to (n_samples,), for example using ravel().\n",
      "  estimator.fit(X_train, y_train, **fit_params)\n",
      "c:\\Users\\nahomw\\Anaconda3\\envs\\alzhymer\\lib\\site-packages\\sklearn\\model_selection\\_validation.py:598: DataConversionWarning: A column-vector y was passed when a 1d array was expected. Please change the shape of y to (n_samples,), for example using ravel().\n",
      "  estimator.fit(X_train, y_train, **fit_params)\n",
      "c:\\Users\\nahomw\\Anaconda3\\envs\\alzhymer\\lib\\site-packages\\sklearn\\model_selection\\_validation.py:598: DataConversionWarning: A column-vector y was passed when a 1d array was expected. Please change the shape of y to (n_samples,), for example using ravel().\n",
      "  estimator.fit(X_train, y_train, **fit_params)\n",
      "c:\\Users\\nahomw\\Anaconda3\\envs\\alzhymer\\lib\\site-packages\\sklearn\\model_selection\\_validation.py:598: DataConversionWarning: A column-vector y was passed when a 1d array was expected. Please change the shape of y to (n_samples,), for example using ravel().\n",
      "  estimator.fit(X_train, y_train, **fit_params)\n",
      "c:\\Users\\nahomw\\Anaconda3\\envs\\alzhymer\\lib\\site-packages\\sklearn\\model_selection\\_validation.py:598: DataConversionWarning: A column-vector y was passed when a 1d array was expected. Please change the shape of y to (n_samples,), for example using ravel().\n",
      "  estimator.fit(X_train, y_train, **fit_params)\n",
      "c:\\Users\\nahomw\\Anaconda3\\envs\\alzhymer\\lib\\site-packages\\sklearn\\model_selection\\_validation.py:598: DataConversionWarning: A column-vector y was passed when a 1d array was expected. Please change the shape of y to (n_samples,), for example using ravel().\n",
      "  estimator.fit(X_train, y_train, **fit_params)\n",
      "c:\\Users\\nahomw\\Anaconda3\\envs\\alzhymer\\lib\\site-packages\\sklearn\\model_selection\\_validation.py:598: DataConversionWarning: A column-vector y was passed when a 1d array was expected. Please change the shape of y to (n_samples,), for example using ravel().\n",
      "  estimator.fit(X_train, y_train, **fit_params)\n",
      "c:\\Users\\nahomw\\Anaconda3\\envs\\alzhymer\\lib\\site-packages\\sklearn\\model_selection\\_validation.py:598: DataConversionWarning: A column-vector y was passed when a 1d array was expected. Please change the shape of y to (n_samples,), for example using ravel().\n",
      "  estimator.fit(X_train, y_train, **fit_params)\n",
      "c:\\Users\\nahomw\\Anaconda3\\envs\\alzhymer\\lib\\site-packages\\sklearn\\model_selection\\_validation.py:598: DataConversionWarning: A column-vector y was passed when a 1d array was expected. Please change the shape of y to (n_samples,), for example using ravel().\n",
      "  estimator.fit(X_train, y_train, **fit_params)\n",
      "c:\\Users\\nahomw\\Anaconda3\\envs\\alzhymer\\lib\\site-packages\\sklearn\\model_selection\\_validation.py:598: DataConversionWarning: A column-vector y was passed when a 1d array was expected. Please change the shape of y to (n_samples,), for example using ravel().\n",
      "  estimator.fit(X_train, y_train, **fit_params)\n",
      "c:\\Users\\nahomw\\Anaconda3\\envs\\alzhymer\\lib\\site-packages\\sklearn\\model_selection\\_validation.py:598: DataConversionWarning: A column-vector y was passed when a 1d array was expected. Please change the shape of y to (n_samples,), for example using ravel().\n",
      "  estimator.fit(X_train, y_train, **fit_params)\n",
      "c:\\Users\\nahomw\\Anaconda3\\envs\\alzhymer\\lib\\site-packages\\sklearn\\model_selection\\_validation.py:598: DataConversionWarning: A column-vector y was passed when a 1d array was expected. Please change the shape of y to (n_samples,), for example using ravel().\n",
      "  estimator.fit(X_train, y_train, **fit_params)\n",
      "c:\\Users\\nahomw\\Anaconda3\\envs\\alzhymer\\lib\\site-packages\\sklearn\\model_selection\\_validation.py:598: DataConversionWarning: A column-vector y was passed when a 1d array was expected. Please change the shape of y to (n_samples,), for example using ravel().\n",
      "  estimator.fit(X_train, y_train, **fit_params)\n",
      "c:\\Users\\nahomw\\Anaconda3\\envs\\alzhymer\\lib\\site-packages\\sklearn\\model_selection\\_validation.py:598: DataConversionWarning: A column-vector y was passed when a 1d array was expected. Please change the shape of y to (n_samples,), for example using ravel().\n",
      "  estimator.fit(X_train, y_train, **fit_params)\n",
      "c:\\Users\\nahomw\\Anaconda3\\envs\\alzhymer\\lib\\site-packages\\sklearn\\model_selection\\_validation.py:598: DataConversionWarning: A column-vector y was passed when a 1d array was expected. Please change the shape of y to (n_samples,), for example using ravel().\n",
      "  estimator.fit(X_train, y_train, **fit_params)\n",
      "c:\\Users\\nahomw\\Anaconda3\\envs\\alzhymer\\lib\\site-packages\\sklearn\\model_selection\\_validation.py:598: DataConversionWarning: A column-vector y was passed when a 1d array was expected. Please change the shape of y to (n_samples,), for example using ravel().\n",
      "  estimator.fit(X_train, y_train, **fit_params)\n",
      "c:\\Users\\nahomw\\Anaconda3\\envs\\alzhymer\\lib\\site-packages\\sklearn\\model_selection\\_validation.py:598: DataConversionWarning: A column-vector y was passed when a 1d array was expected. Please change the shape of y to (n_samples,), for example using ravel().\n",
      "  estimator.fit(X_train, y_train, **fit_params)\n",
      "c:\\Users\\nahomw\\Anaconda3\\envs\\alzhymer\\lib\\site-packages\\sklearn\\model_selection\\_validation.py:598: DataConversionWarning: A column-vector y was passed when a 1d array was expected. Please change the shape of y to (n_samples,), for example using ravel().\n",
      "  estimator.fit(X_train, y_train, **fit_params)\n",
      "c:\\Users\\nahomw\\Anaconda3\\envs\\alzhymer\\lib\\site-packages\\sklearn\\model_selection\\_validation.py:598: DataConversionWarning: A column-vector y was passed when a 1d array was expected. Please change the shape of y to (n_samples,), for example using ravel().\n",
      "  estimator.fit(X_train, y_train, **fit_params)\n",
      "c:\\Users\\nahomw\\Anaconda3\\envs\\alzhymer\\lib\\site-packages\\sklearn\\model_selection\\_validation.py:598: DataConversionWarning: A column-vector y was passed when a 1d array was expected. Please change the shape of y to (n_samples,), for example using ravel().\n",
      "  estimator.fit(X_train, y_train, **fit_params)\n",
      "c:\\Users\\nahomw\\Anaconda3\\envs\\alzhymer\\lib\\site-packages\\sklearn\\model_selection\\_validation.py:598: DataConversionWarning: A column-vector y was passed when a 1d array was expected. Please change the shape of y to (n_samples,), for example using ravel().\n",
      "  estimator.fit(X_train, y_train, **fit_params)\n",
      "c:\\Users\\nahomw\\Anaconda3\\envs\\alzhymer\\lib\\site-packages\\sklearn\\model_selection\\_validation.py:598: DataConversionWarning: A column-vector y was passed when a 1d array was expected. Please change the shape of y to (n_samples,), for example using ravel().\n",
      "  estimator.fit(X_train, y_train, **fit_params)\n",
      "c:\\Users\\nahomw\\Anaconda3\\envs\\alzhymer\\lib\\site-packages\\sklearn\\model_selection\\_validation.py:598: DataConversionWarning: A column-vector y was passed when a 1d array was expected. Please change the shape of y to (n_samples,), for example using ravel().\n",
      "  estimator.fit(X_train, y_train, **fit_params)\n",
      "c:\\Users\\nahomw\\Anaconda3\\envs\\alzhymer\\lib\\site-packages\\sklearn\\model_selection\\_validation.py:598: DataConversionWarning: A column-vector y was passed when a 1d array was expected. Please change the shape of y to (n_samples,), for example using ravel().\n",
      "  estimator.fit(X_train, y_train, **fit_params)\n",
      "c:\\Users\\nahomw\\Anaconda3\\envs\\alzhymer\\lib\\site-packages\\sklearn\\model_selection\\_validation.py:598: DataConversionWarning: A column-vector y was passed when a 1d array was expected. Please change the shape of y to (n_samples,), for example using ravel().\n",
      "  estimator.fit(X_train, y_train, **fit_params)\n",
      "c:\\Users\\nahomw\\Anaconda3\\envs\\alzhymer\\lib\\site-packages\\sklearn\\model_selection\\_validation.py:598: DataConversionWarning: A column-vector y was passed when a 1d array was expected. Please change the shape of y to (n_samples,), for example using ravel().\n",
      "  estimator.fit(X_train, y_train, **fit_params)\n",
      "c:\\Users\\nahomw\\Anaconda3\\envs\\alzhymer\\lib\\site-packages\\sklearn\\model_selection\\_validation.py:598: DataConversionWarning: A column-vector y was passed when a 1d array was expected. Please change the shape of y to (n_samples,), for example using ravel().\n",
      "  estimator.fit(X_train, y_train, **fit_params)\n",
      "c:\\Users\\nahomw\\Anaconda3\\envs\\alzhymer\\lib\\site-packages\\sklearn\\model_selection\\_validation.py:598: DataConversionWarning: A column-vector y was passed when a 1d array was expected. Please change the shape of y to (n_samples,), for example using ravel().\n",
      "  estimator.fit(X_train, y_train, **fit_params)\n",
      "c:\\Users\\nahomw\\Anaconda3\\envs\\alzhymer\\lib\\site-packages\\sklearn\\model_selection\\_validation.py:598: DataConversionWarning: A column-vector y was passed when a 1d array was expected. Please change the shape of y to (n_samples,), for example using ravel().\n",
      "  estimator.fit(X_train, y_train, **fit_params)\n",
      "c:\\Users\\nahomw\\Anaconda3\\envs\\alzhymer\\lib\\site-packages\\sklearn\\model_selection\\_validation.py:598: DataConversionWarning: A column-vector y was passed when a 1d array was expected. Please change the shape of y to (n_samples,), for example using ravel().\n",
      "  estimator.fit(X_train, y_train, **fit_params)\n",
      "c:\\Users\\nahomw\\Anaconda3\\envs\\alzhymer\\lib\\site-packages\\sklearn\\model_selection\\_validation.py:598: DataConversionWarning: A column-vector y was passed when a 1d array was expected. Please change the shape of y to (n_samples,), for example using ravel().\n",
      "  estimator.fit(X_train, y_train, **fit_params)\n",
      "c:\\Users\\nahomw\\Anaconda3\\envs\\alzhymer\\lib\\site-packages\\sklearn\\model_selection\\_validation.py:598: DataConversionWarning: A column-vector y was passed when a 1d array was expected. Please change the shape of y to (n_samples,), for example using ravel().\n",
      "  estimator.fit(X_train, y_train, **fit_params)\n",
      "c:\\Users\\nahomw\\Anaconda3\\envs\\alzhymer\\lib\\site-packages\\sklearn\\model_selection\\_validation.py:598: DataConversionWarning: A column-vector y was passed when a 1d array was expected. Please change the shape of y to (n_samples,), for example using ravel().\n",
      "  estimator.fit(X_train, y_train, **fit_params)\n",
      "c:\\Users\\nahomw\\Anaconda3\\envs\\alzhymer\\lib\\site-packages\\sklearn\\model_selection\\_validation.py:598: DataConversionWarning: A column-vector y was passed when a 1d array was expected. Please change the shape of y to (n_samples,), for example using ravel().\n",
      "  estimator.fit(X_train, y_train, **fit_params)\n",
      "c:\\Users\\nahomw\\Anaconda3\\envs\\alzhymer\\lib\\site-packages\\sklearn\\model_selection\\_validation.py:598: DataConversionWarning: A column-vector y was passed when a 1d array was expected. Please change the shape of y to (n_samples,), for example using ravel().\n",
      "  estimator.fit(X_train, y_train, **fit_params)\n",
      "c:\\Users\\nahomw\\Anaconda3\\envs\\alzhymer\\lib\\site-packages\\sklearn\\model_selection\\_validation.py:598: DataConversionWarning: A column-vector y was passed when a 1d array was expected. Please change the shape of y to (n_samples,), for example using ravel().\n",
      "  estimator.fit(X_train, y_train, **fit_params)\n",
      "c:\\Users\\nahomw\\Anaconda3\\envs\\alzhymer\\lib\\site-packages\\sklearn\\model_selection\\_validation.py:598: DataConversionWarning: A column-vector y was passed when a 1d array was expected. Please change the shape of y to (n_samples,), for example using ravel().\n",
      "  estimator.fit(X_train, y_train, **fit_params)\n",
      "c:\\Users\\nahomw\\Anaconda3\\envs\\alzhymer\\lib\\site-packages\\sklearn\\model_selection\\_validation.py:598: DataConversionWarning: A column-vector y was passed when a 1d array was expected. Please change the shape of y to (n_samples,), for example using ravel().\n",
      "  estimator.fit(X_train, y_train, **fit_params)\n",
      "c:\\Users\\nahomw\\Anaconda3\\envs\\alzhymer\\lib\\site-packages\\sklearn\\model_selection\\_validation.py:598: DataConversionWarning: A column-vector y was passed when a 1d array was expected. Please change the shape of y to (n_samples,), for example using ravel().\n",
      "  estimator.fit(X_train, y_train, **fit_params)\n",
      "c:\\Users\\nahomw\\Anaconda3\\envs\\alzhymer\\lib\\site-packages\\sklearn\\model_selection\\_validation.py:598: DataConversionWarning: A column-vector y was passed when a 1d array was expected. Please change the shape of y to (n_samples,), for example using ravel().\n",
      "  estimator.fit(X_train, y_train, **fit_params)\n",
      "c:\\Users\\nahomw\\Anaconda3\\envs\\alzhymer\\lib\\site-packages\\sklearn\\model_selection\\_validation.py:598: DataConversionWarning: A column-vector y was passed when a 1d array was expected. Please change the shape of y to (n_samples,), for example using ravel().\n",
      "  estimator.fit(X_train, y_train, **fit_params)\n",
      "c:\\Users\\nahomw\\Anaconda3\\envs\\alzhymer\\lib\\site-packages\\sklearn\\model_selection\\_validation.py:598: DataConversionWarning: A column-vector y was passed when a 1d array was expected. Please change the shape of y to (n_samples,), for example using ravel().\n",
      "  estimator.fit(X_train, y_train, **fit_params)\n",
      "c:\\Users\\nahomw\\Anaconda3\\envs\\alzhymer\\lib\\site-packages\\sklearn\\model_selection\\_validation.py:598: DataConversionWarning: A column-vector y was passed when a 1d array was expected. Please change the shape of y to (n_samples,), for example using ravel().\n",
      "  estimator.fit(X_train, y_train, **fit_params)\n",
      "c:\\Users\\nahomw\\Anaconda3\\envs\\alzhymer\\lib\\site-packages\\sklearn\\model_selection\\_validation.py:598: DataConversionWarning: A column-vector y was passed when a 1d array was expected. Please change the shape of y to (n_samples,), for example using ravel().\n",
      "  estimator.fit(X_train, y_train, **fit_params)\n",
      "c:\\Users\\nahomw\\Anaconda3\\envs\\alzhymer\\lib\\site-packages\\sklearn\\model_selection\\_validation.py:598: DataConversionWarning: A column-vector y was passed when a 1d array was expected. Please change the shape of y to (n_samples,), for example using ravel().\n",
      "  estimator.fit(X_train, y_train, **fit_params)\n",
      "c:\\Users\\nahomw\\Anaconda3\\envs\\alzhymer\\lib\\site-packages\\sklearn\\model_selection\\_validation.py:598: DataConversionWarning: A column-vector y was passed when a 1d array was expected. Please change the shape of y to (n_samples,), for example using ravel().\n",
      "  estimator.fit(X_train, y_train, **fit_params)\n",
      "c:\\Users\\nahomw\\Anaconda3\\envs\\alzhymer\\lib\\site-packages\\sklearn\\model_selection\\_validation.py:598: DataConversionWarning: A column-vector y was passed when a 1d array was expected. Please change the shape of y to (n_samples,), for example using ravel().\n",
      "  estimator.fit(X_train, y_train, **fit_params)\n",
      "c:\\Users\\nahomw\\Anaconda3\\envs\\alzhymer\\lib\\site-packages\\sklearn\\model_selection\\_validation.py:598: DataConversionWarning: A column-vector y was passed when a 1d array was expected. Please change the shape of y to (n_samples,), for example using ravel().\n",
      "  estimator.fit(X_train, y_train, **fit_params)\n",
      "c:\\Users\\nahomw\\Anaconda3\\envs\\alzhymer\\lib\\site-packages\\sklearn\\model_selection\\_validation.py:598: DataConversionWarning: A column-vector y was passed when a 1d array was expected. Please change the shape of y to (n_samples,), for example using ravel().\n",
      "  estimator.fit(X_train, y_train, **fit_params)\n",
      "c:\\Users\\nahomw\\Anaconda3\\envs\\alzhymer\\lib\\site-packages\\sklearn\\model_selection\\_validation.py:598: DataConversionWarning: A column-vector y was passed when a 1d array was expected. Please change the shape of y to (n_samples,), for example using ravel().\n",
      "  estimator.fit(X_train, y_train, **fit_params)\n",
      "c:\\Users\\nahomw\\Anaconda3\\envs\\alzhymer\\lib\\site-packages\\sklearn\\model_selection\\_validation.py:598: DataConversionWarning: A column-vector y was passed when a 1d array was expected. Please change the shape of y to (n_samples,), for example using ravel().\n",
      "  estimator.fit(X_train, y_train, **fit_params)\n",
      "c:\\Users\\nahomw\\Anaconda3\\envs\\alzhymer\\lib\\site-packages\\sklearn\\model_selection\\_validation.py:598: DataConversionWarning: A column-vector y was passed when a 1d array was expected. Please change the shape of y to (n_samples,), for example using ravel().\n",
      "  estimator.fit(X_train, y_train, **fit_params)\n",
      "c:\\Users\\nahomw\\Anaconda3\\envs\\alzhymer\\lib\\site-packages\\sklearn\\model_selection\\_validation.py:598: DataConversionWarning: A column-vector y was passed when a 1d array was expected. Please change the shape of y to (n_samples,), for example using ravel().\n",
      "  estimator.fit(X_train, y_train, **fit_params)\n",
      "c:\\Users\\nahomw\\Anaconda3\\envs\\alzhymer\\lib\\site-packages\\sklearn\\model_selection\\_validation.py:598: DataConversionWarning: A column-vector y was passed when a 1d array was expected. Please change the shape of y to (n_samples,), for example using ravel().\n",
      "  estimator.fit(X_train, y_train, **fit_params)\n",
      "c:\\Users\\nahomw\\Anaconda3\\envs\\alzhymer\\lib\\site-packages\\sklearn\\model_selection\\_validation.py:598: DataConversionWarning: A column-vector y was passed when a 1d array was expected. Please change the shape of y to (n_samples,), for example using ravel().\n",
      "  estimator.fit(X_train, y_train, **fit_params)\n",
      "c:\\Users\\nahomw\\Anaconda3\\envs\\alzhymer\\lib\\site-packages\\sklearn\\model_selection\\_validation.py:598: DataConversionWarning: A column-vector y was passed when a 1d array was expected. Please change the shape of y to (n_samples,), for example using ravel().\n",
      "  estimator.fit(X_train, y_train, **fit_params)\n",
      "c:\\Users\\nahomw\\Anaconda3\\envs\\alzhymer\\lib\\site-packages\\sklearn\\model_selection\\_validation.py:598: DataConversionWarning: A column-vector y was passed when a 1d array was expected. Please change the shape of y to (n_samples,), for example using ravel().\n",
      "  estimator.fit(X_train, y_train, **fit_params)\n",
      "c:\\Users\\nahomw\\Anaconda3\\envs\\alzhymer\\lib\\site-packages\\sklearn\\model_selection\\_validation.py:598: DataConversionWarning: A column-vector y was passed when a 1d array was expected. Please change the shape of y to (n_samples,), for example using ravel().\n",
      "  estimator.fit(X_train, y_train, **fit_params)\n",
      "c:\\Users\\nahomw\\Anaconda3\\envs\\alzhymer\\lib\\site-packages\\sklearn\\model_selection\\_validation.py:598: DataConversionWarning: A column-vector y was passed when a 1d array was expected. Please change the shape of y to (n_samples,), for example using ravel().\n",
      "  estimator.fit(X_train, y_train, **fit_params)\n",
      "c:\\Users\\nahomw\\Anaconda3\\envs\\alzhymer\\lib\\site-packages\\sklearn\\model_selection\\_validation.py:598: DataConversionWarning: A column-vector y was passed when a 1d array was expected. Please change the shape of y to (n_samples,), for example using ravel().\n",
      "  estimator.fit(X_train, y_train, **fit_params)\n",
      "c:\\Users\\nahomw\\Anaconda3\\envs\\alzhymer\\lib\\site-packages\\sklearn\\model_selection\\_validation.py:598: DataConversionWarning: A column-vector y was passed when a 1d array was expected. Please change the shape of y to (n_samples,), for example using ravel().\n",
      "  estimator.fit(X_train, y_train, **fit_params)\n",
      "c:\\Users\\nahomw\\Anaconda3\\envs\\alzhymer\\lib\\site-packages\\sklearn\\model_selection\\_validation.py:598: DataConversionWarning: A column-vector y was passed when a 1d array was expected. Please change the shape of y to (n_samples,), for example using ravel().\n",
      "  estimator.fit(X_train, y_train, **fit_params)\n",
      "c:\\Users\\nahomw\\Anaconda3\\envs\\alzhymer\\lib\\site-packages\\sklearn\\model_selection\\_validation.py:598: DataConversionWarning: A column-vector y was passed when a 1d array was expected. Please change the shape of y to (n_samples,), for example using ravel().\n",
      "  estimator.fit(X_train, y_train, **fit_params)\n",
      "c:\\Users\\nahomw\\Anaconda3\\envs\\alzhymer\\lib\\site-packages\\sklearn\\model_selection\\_validation.py:598: DataConversionWarning: A column-vector y was passed when a 1d array was expected. Please change the shape of y to (n_samples,), for example using ravel().\n",
      "  estimator.fit(X_train, y_train, **fit_params)\n",
      "c:\\Users\\nahomw\\Anaconda3\\envs\\alzhymer\\lib\\site-packages\\sklearn\\model_selection\\_validation.py:598: DataConversionWarning: A column-vector y was passed when a 1d array was expected. Please change the shape of y to (n_samples,), for example using ravel().\n",
      "  estimator.fit(X_train, y_train, **fit_params)\n",
      "c:\\Users\\nahomw\\Anaconda3\\envs\\alzhymer\\lib\\site-packages\\sklearn\\model_selection\\_validation.py:598: DataConversionWarning: A column-vector y was passed when a 1d array was expected. Please change the shape of y to (n_samples,), for example using ravel().\n",
      "  estimator.fit(X_train, y_train, **fit_params)\n",
      "c:\\Users\\nahomw\\Anaconda3\\envs\\alzhymer\\lib\\site-packages\\sklearn\\model_selection\\_validation.py:598: DataConversionWarning: A column-vector y was passed when a 1d array was expected. Please change the shape of y to (n_samples,), for example using ravel().\n",
      "  estimator.fit(X_train, y_train, **fit_params)\n",
      "c:\\Users\\nahomw\\Anaconda3\\envs\\alzhymer\\lib\\site-packages\\sklearn\\model_selection\\_validation.py:598: DataConversionWarning: A column-vector y was passed when a 1d array was expected. Please change the shape of y to (n_samples,), for example using ravel().\n",
      "  estimator.fit(X_train, y_train, **fit_params)\n",
      "c:\\Users\\nahomw\\Anaconda3\\envs\\alzhymer\\lib\\site-packages\\sklearn\\model_selection\\_validation.py:598: DataConversionWarning: A column-vector y was passed when a 1d array was expected. Please change the shape of y to (n_samples,), for example using ravel().\n",
      "  estimator.fit(X_train, y_train, **fit_params)\n",
      "c:\\Users\\nahomw\\Anaconda3\\envs\\alzhymer\\lib\\site-packages\\sklearn\\model_selection\\_validation.py:598: DataConversionWarning: A column-vector y was passed when a 1d array was expected. Please change the shape of y to (n_samples,), for example using ravel().\n",
      "  estimator.fit(X_train, y_train, **fit_params)\n",
      "c:\\Users\\nahomw\\Anaconda3\\envs\\alzhymer\\lib\\site-packages\\sklearn\\model_selection\\_validation.py:598: DataConversionWarning: A column-vector y was passed when a 1d array was expected. Please change the shape of y to (n_samples,), for example using ravel().\n",
      "  estimator.fit(X_train, y_train, **fit_params)\n",
      "c:\\Users\\nahomw\\Anaconda3\\envs\\alzhymer\\lib\\site-packages\\sklearn\\model_selection\\_validation.py:598: DataConversionWarning: A column-vector y was passed when a 1d array was expected. Please change the shape of y to (n_samples,), for example using ravel().\n",
      "  estimator.fit(X_train, y_train, **fit_params)\n",
      "c:\\Users\\nahomw\\Anaconda3\\envs\\alzhymer\\lib\\site-packages\\sklearn\\model_selection\\_validation.py:598: DataConversionWarning: A column-vector y was passed when a 1d array was expected. Please change the shape of y to (n_samples,), for example using ravel().\n",
      "  estimator.fit(X_train, y_train, **fit_params)\n",
      "c:\\Users\\nahomw\\Anaconda3\\envs\\alzhymer\\lib\\site-packages\\sklearn\\model_selection\\_validation.py:598: DataConversionWarning: A column-vector y was passed when a 1d array was expected. Please change the shape of y to (n_samples,), for example using ravel().\n",
      "  estimator.fit(X_train, y_train, **fit_params)\n",
      "c:\\Users\\nahomw\\Anaconda3\\envs\\alzhymer\\lib\\site-packages\\sklearn\\model_selection\\_validation.py:598: DataConversionWarning: A column-vector y was passed when a 1d array was expected. Please change the shape of y to (n_samples,), for example using ravel().\n",
      "  estimator.fit(X_train, y_train, **fit_params)\n",
      "c:\\Users\\nahomw\\Anaconda3\\envs\\alzhymer\\lib\\site-packages\\sklearn\\model_selection\\_validation.py:598: DataConversionWarning: A column-vector y was passed when a 1d array was expected. Please change the shape of y to (n_samples,), for example using ravel().\n",
      "  estimator.fit(X_train, y_train, **fit_params)\n",
      "c:\\Users\\nahomw\\Anaconda3\\envs\\alzhymer\\lib\\site-packages\\sklearn\\model_selection\\_validation.py:598: DataConversionWarning: A column-vector y was passed when a 1d array was expected. Please change the shape of y to (n_samples,), for example using ravel().\n",
      "  estimator.fit(X_train, y_train, **fit_params)\n",
      "c:\\Users\\nahomw\\Anaconda3\\envs\\alzhymer\\lib\\site-packages\\sklearn\\model_selection\\_validation.py:598: DataConversionWarning: A column-vector y was passed when a 1d array was expected. Please change the shape of y to (n_samples,), for example using ravel().\n",
      "  estimator.fit(X_train, y_train, **fit_params)\n",
      "c:\\Users\\nahomw\\Anaconda3\\envs\\alzhymer\\lib\\site-packages\\sklearn\\model_selection\\_validation.py:598: DataConversionWarning: A column-vector y was passed when a 1d array was expected. Please change the shape of y to (n_samples,), for example using ravel().\n",
      "  estimator.fit(X_train, y_train, **fit_params)\n",
      "c:\\Users\\nahomw\\Anaconda3\\envs\\alzhymer\\lib\\site-packages\\sklearn\\model_selection\\_validation.py:598: DataConversionWarning: A column-vector y was passed when a 1d array was expected. Please change the shape of y to (n_samples,), for example using ravel().\n",
      "  estimator.fit(X_train, y_train, **fit_params)\n",
      "c:\\Users\\nahomw\\Anaconda3\\envs\\alzhymer\\lib\\site-packages\\sklearn\\model_selection\\_validation.py:598: DataConversionWarning: A column-vector y was passed when a 1d array was expected. Please change the shape of y to (n_samples,), for example using ravel().\n",
      "  estimator.fit(X_train, y_train, **fit_params)\n",
      "c:\\Users\\nahomw\\Anaconda3\\envs\\alzhymer\\lib\\site-packages\\sklearn\\model_selection\\_validation.py:598: DataConversionWarning: A column-vector y was passed when a 1d array was expected. Please change the shape of y to (n_samples,), for example using ravel().\n",
      "  estimator.fit(X_train, y_train, **fit_params)\n",
      "c:\\Users\\nahomw\\Anaconda3\\envs\\alzhymer\\lib\\site-packages\\sklearn\\model_selection\\_validation.py:598: DataConversionWarning: A column-vector y was passed when a 1d array was expected. Please change the shape of y to (n_samples,), for example using ravel().\n",
      "  estimator.fit(X_train, y_train, **fit_params)\n",
      "c:\\Users\\nahomw\\Anaconda3\\envs\\alzhymer\\lib\\site-packages\\sklearn\\model_selection\\_validation.py:598: DataConversionWarning: A column-vector y was passed when a 1d array was expected. Please change the shape of y to (n_samples,), for example using ravel().\n",
      "  estimator.fit(X_train, y_train, **fit_params)\n",
      "c:\\Users\\nahomw\\Anaconda3\\envs\\alzhymer\\lib\\site-packages\\sklearn\\model_selection\\_validation.py:598: DataConversionWarning: A column-vector y was passed when a 1d array was expected. Please change the shape of y to (n_samples,), for example using ravel().\n",
      "  estimator.fit(X_train, y_train, **fit_params)\n",
      "c:\\Users\\nahomw\\Anaconda3\\envs\\alzhymer\\lib\\site-packages\\sklearn\\model_selection\\_validation.py:598: DataConversionWarning: A column-vector y was passed when a 1d array was expected. Please change the shape of y to (n_samples,), for example using ravel().\n",
      "  estimator.fit(X_train, y_train, **fit_params)\n",
      "c:\\Users\\nahomw\\Anaconda3\\envs\\alzhymer\\lib\\site-packages\\sklearn\\model_selection\\_validation.py:598: DataConversionWarning: A column-vector y was passed when a 1d array was expected. Please change the shape of y to (n_samples,), for example using ravel().\n",
      "  estimator.fit(X_train, y_train, **fit_params)\n",
      "c:\\Users\\nahomw\\Anaconda3\\envs\\alzhymer\\lib\\site-packages\\sklearn\\model_selection\\_validation.py:598: DataConversionWarning: A column-vector y was passed when a 1d array was expected. Please change the shape of y to (n_samples,), for example using ravel().\n",
      "  estimator.fit(X_train, y_train, **fit_params)\n",
      "c:\\Users\\nahomw\\Anaconda3\\envs\\alzhymer\\lib\\site-packages\\sklearn\\model_selection\\_validation.py:598: DataConversionWarning: A column-vector y was passed when a 1d array was expected. Please change the shape of y to (n_samples,), for example using ravel().\n",
      "  estimator.fit(X_train, y_train, **fit_params)\n",
      "c:\\Users\\nahomw\\Anaconda3\\envs\\alzhymer\\lib\\site-packages\\sklearn\\model_selection\\_validation.py:598: DataConversionWarning: A column-vector y was passed when a 1d array was expected. Please change the shape of y to (n_samples,), for example using ravel().\n",
      "  estimator.fit(X_train, y_train, **fit_params)\n",
      "c:\\Users\\nahomw\\Anaconda3\\envs\\alzhymer\\lib\\site-packages\\sklearn\\model_selection\\_validation.py:598: DataConversionWarning: A column-vector y was passed when a 1d array was expected. Please change the shape of y to (n_samples,), for example using ravel().\n",
      "  estimator.fit(X_train, y_train, **fit_params)\n",
      "c:\\Users\\nahomw\\Anaconda3\\envs\\alzhymer\\lib\\site-packages\\sklearn\\model_selection\\_validation.py:598: DataConversionWarning: A column-vector y was passed when a 1d array was expected. Please change the shape of y to (n_samples,), for example using ravel().\n",
      "  estimator.fit(X_train, y_train, **fit_params)\n",
      "c:\\Users\\nahomw\\Anaconda3\\envs\\alzhymer\\lib\\site-packages\\sklearn\\model_selection\\_validation.py:598: DataConversionWarning: A column-vector y was passed when a 1d array was expected. Please change the shape of y to (n_samples,), for example using ravel().\n",
      "  estimator.fit(X_train, y_train, **fit_params)\n",
      "c:\\Users\\nahomw\\Anaconda3\\envs\\alzhymer\\lib\\site-packages\\sklearn\\model_selection\\_validation.py:598: DataConversionWarning: A column-vector y was passed when a 1d array was expected. Please change the shape of y to (n_samples,), for example using ravel().\n",
      "  estimator.fit(X_train, y_train, **fit_params)\n",
      "c:\\Users\\nahomw\\Anaconda3\\envs\\alzhymer\\lib\\site-packages\\sklearn\\model_selection\\_validation.py:598: DataConversionWarning: A column-vector y was passed when a 1d array was expected. Please change the shape of y to (n_samples,), for example using ravel().\n",
      "  estimator.fit(X_train, y_train, **fit_params)\n",
      "c:\\Users\\nahomw\\Anaconda3\\envs\\alzhymer\\lib\\site-packages\\sklearn\\model_selection\\_validation.py:598: DataConversionWarning: A column-vector y was passed when a 1d array was expected. Please change the shape of y to (n_samples,), for example using ravel().\n",
      "  estimator.fit(X_train, y_train, **fit_params)\n",
      "c:\\Users\\nahomw\\Anaconda3\\envs\\alzhymer\\lib\\site-packages\\sklearn\\model_selection\\_validation.py:598: DataConversionWarning: A column-vector y was passed when a 1d array was expected. Please change the shape of y to (n_samples,), for example using ravel().\n",
      "  estimator.fit(X_train, y_train, **fit_params)\n",
      "c:\\Users\\nahomw\\Anaconda3\\envs\\alzhymer\\lib\\site-packages\\sklearn\\model_selection\\_validation.py:598: DataConversionWarning: A column-vector y was passed when a 1d array was expected. Please change the shape of y to (n_samples,), for example using ravel().\n",
      "  estimator.fit(X_train, y_train, **fit_params)\n",
      "c:\\Users\\nahomw\\Anaconda3\\envs\\alzhymer\\lib\\site-packages\\sklearn\\model_selection\\_validation.py:598: DataConversionWarning: A column-vector y was passed when a 1d array was expected. Please change the shape of y to (n_samples,), for example using ravel().\n",
      "  estimator.fit(X_train, y_train, **fit_params)\n",
      "c:\\Users\\nahomw\\Anaconda3\\envs\\alzhymer\\lib\\site-packages\\sklearn\\model_selection\\_validation.py:598: DataConversionWarning: A column-vector y was passed when a 1d array was expected. Please change the shape of y to (n_samples,), for example using ravel().\n",
      "  estimator.fit(X_train, y_train, **fit_params)\n",
      "c:\\Users\\nahomw\\Anaconda3\\envs\\alzhymer\\lib\\site-packages\\sklearn\\model_selection\\_validation.py:598: DataConversionWarning: A column-vector y was passed when a 1d array was expected. Please change the shape of y to (n_samples,), for example using ravel().\n",
      "  estimator.fit(X_train, y_train, **fit_params)\n",
      "c:\\Users\\nahomw\\Anaconda3\\envs\\alzhymer\\lib\\site-packages\\sklearn\\model_selection\\_validation.py:598: DataConversionWarning: A column-vector y was passed when a 1d array was expected. Please change the shape of y to (n_samples,), for example using ravel().\n",
      "  estimator.fit(X_train, y_train, **fit_params)\n",
      "c:\\Users\\nahomw\\Anaconda3\\envs\\alzhymer\\lib\\site-packages\\sklearn\\model_selection\\_validation.py:598: DataConversionWarning: A column-vector y was passed when a 1d array was expected. Please change the shape of y to (n_samples,), for example using ravel().\n",
      "  estimator.fit(X_train, y_train, **fit_params)\n",
      "c:\\Users\\nahomw\\Anaconda3\\envs\\alzhymer\\lib\\site-packages\\sklearn\\model_selection\\_validation.py:598: DataConversionWarning: A column-vector y was passed when a 1d array was expected. Please change the shape of y to (n_samples,), for example using ravel().\n",
      "  estimator.fit(X_train, y_train, **fit_params)\n",
      "c:\\Users\\nahomw\\Anaconda3\\envs\\alzhymer\\lib\\site-packages\\sklearn\\model_selection\\_validation.py:598: DataConversionWarning: A column-vector y was passed when a 1d array was expected. Please change the shape of y to (n_samples,), for example using ravel().\n",
      "  estimator.fit(X_train, y_train, **fit_params)\n",
      "c:\\Users\\nahomw\\Anaconda3\\envs\\alzhymer\\lib\\site-packages\\sklearn\\model_selection\\_validation.py:598: DataConversionWarning: A column-vector y was passed when a 1d array was expected. Please change the shape of y to (n_samples,), for example using ravel().\n",
      "  estimator.fit(X_train, y_train, **fit_params)\n",
      "c:\\Users\\nahomw\\Anaconda3\\envs\\alzhymer\\lib\\site-packages\\sklearn\\model_selection\\_validation.py:598: DataConversionWarning: A column-vector y was passed when a 1d array was expected. Please change the shape of y to (n_samples,), for example using ravel().\n",
      "  estimator.fit(X_train, y_train, **fit_params)\n",
      "c:\\Users\\nahomw\\Anaconda3\\envs\\alzhymer\\lib\\site-packages\\sklearn\\model_selection\\_validation.py:598: DataConversionWarning: A column-vector y was passed when a 1d array was expected. Please change the shape of y to (n_samples,), for example using ravel().\n",
      "  estimator.fit(X_train, y_train, **fit_params)\n",
      "c:\\Users\\nahomw\\Anaconda3\\envs\\alzhymer\\lib\\site-packages\\sklearn\\model_selection\\_validation.py:598: DataConversionWarning: A column-vector y was passed when a 1d array was expected. Please change the shape of y to (n_samples,), for example using ravel().\n",
      "  estimator.fit(X_train, y_train, **fit_params)\n",
      "c:\\Users\\nahomw\\Anaconda3\\envs\\alzhymer\\lib\\site-packages\\sklearn\\model_selection\\_validation.py:598: DataConversionWarning: A column-vector y was passed when a 1d array was expected. Please change the shape of y to (n_samples,), for example using ravel().\n",
      "  estimator.fit(X_train, y_train, **fit_params)\n",
      "c:\\Users\\nahomw\\Anaconda3\\envs\\alzhymer\\lib\\site-packages\\sklearn\\model_selection\\_validation.py:598: DataConversionWarning: A column-vector y was passed when a 1d array was expected. Please change the shape of y to (n_samples,), for example using ravel().\n",
      "  estimator.fit(X_train, y_train, **fit_params)\n",
      "c:\\Users\\nahomw\\Anaconda3\\envs\\alzhymer\\lib\\site-packages\\sklearn\\model_selection\\_validation.py:598: DataConversionWarning: A column-vector y was passed when a 1d array was expected. Please change the shape of y to (n_samples,), for example using ravel().\n",
      "  estimator.fit(X_train, y_train, **fit_params)\n",
      "c:\\Users\\nahomw\\Anaconda3\\envs\\alzhymer\\lib\\site-packages\\sklearn\\model_selection\\_validation.py:598: DataConversionWarning: A column-vector y was passed when a 1d array was expected. Please change the shape of y to (n_samples,), for example using ravel().\n",
      "  estimator.fit(X_train, y_train, **fit_params)\n",
      "c:\\Users\\nahomw\\Anaconda3\\envs\\alzhymer\\lib\\site-packages\\sklearn\\model_selection\\_validation.py:598: DataConversionWarning: A column-vector y was passed when a 1d array was expected. Please change the shape of y to (n_samples,), for example using ravel().\n",
      "  estimator.fit(X_train, y_train, **fit_params)\n",
      "c:\\Users\\nahomw\\Anaconda3\\envs\\alzhymer\\lib\\site-packages\\sklearn\\model_selection\\_validation.py:598: DataConversionWarning: A column-vector y was passed when a 1d array was expected. Please change the shape of y to (n_samples,), for example using ravel().\n",
      "  estimator.fit(X_train, y_train, **fit_params)\n",
      "c:\\Users\\nahomw\\Anaconda3\\envs\\alzhymer\\lib\\site-packages\\sklearn\\model_selection\\_validation.py:598: DataConversionWarning: A column-vector y was passed when a 1d array was expected. Please change the shape of y to (n_samples,), for example using ravel().\n",
      "  estimator.fit(X_train, y_train, **fit_params)\n",
      "c:\\Users\\nahomw\\Anaconda3\\envs\\alzhymer\\lib\\site-packages\\sklearn\\model_selection\\_validation.py:598: DataConversionWarning: A column-vector y was passed when a 1d array was expected. Please change the shape of y to (n_samples,), for example using ravel().\n",
      "  estimator.fit(X_train, y_train, **fit_params)\n",
      "c:\\Users\\nahomw\\Anaconda3\\envs\\alzhymer\\lib\\site-packages\\sklearn\\model_selection\\_validation.py:598: DataConversionWarning: A column-vector y was passed when a 1d array was expected. Please change the shape of y to (n_samples,), for example using ravel().\n",
      "  estimator.fit(X_train, y_train, **fit_params)\n",
      "c:\\Users\\nahomw\\Anaconda3\\envs\\alzhymer\\lib\\site-packages\\sklearn\\model_selection\\_validation.py:598: DataConversionWarning: A column-vector y was passed when a 1d array was expected. Please change the shape of y to (n_samples,), for example using ravel().\n",
      "  estimator.fit(X_train, y_train, **fit_params)\n",
      "c:\\Users\\nahomw\\Anaconda3\\envs\\alzhymer\\lib\\site-packages\\sklearn\\model_selection\\_validation.py:598: DataConversionWarning: A column-vector y was passed when a 1d array was expected. Please change the shape of y to (n_samples,), for example using ravel().\n",
      "  estimator.fit(X_train, y_train, **fit_params)\n",
      "c:\\Users\\nahomw\\Anaconda3\\envs\\alzhymer\\lib\\site-packages\\sklearn\\model_selection\\_validation.py:598: DataConversionWarning: A column-vector y was passed when a 1d array was expected. Please change the shape of y to (n_samples,), for example using ravel().\n",
      "  estimator.fit(X_train, y_train, **fit_params)\n",
      "c:\\Users\\nahomw\\Anaconda3\\envs\\alzhymer\\lib\\site-packages\\sklearn\\model_selection\\_validation.py:598: DataConversionWarning: A column-vector y was passed when a 1d array was expected. Please change the shape of y to (n_samples,), for example using ravel().\n",
      "  estimator.fit(X_train, y_train, **fit_params)\n",
      "c:\\Users\\nahomw\\Anaconda3\\envs\\alzhymer\\lib\\site-packages\\sklearn\\model_selection\\_validation.py:598: DataConversionWarning: A column-vector y was passed when a 1d array was expected. Please change the shape of y to (n_samples,), for example using ravel().\n",
      "  estimator.fit(X_train, y_train, **fit_params)\n",
      "c:\\Users\\nahomw\\Anaconda3\\envs\\alzhymer\\lib\\site-packages\\sklearn\\model_selection\\_validation.py:598: DataConversionWarning: A column-vector y was passed when a 1d array was expected. Please change the shape of y to (n_samples,), for example using ravel().\n",
      "  estimator.fit(X_train, y_train, **fit_params)\n",
      "c:\\Users\\nahomw\\Anaconda3\\envs\\alzhymer\\lib\\site-packages\\sklearn\\model_selection\\_validation.py:598: DataConversionWarning: A column-vector y was passed when a 1d array was expected. Please change the shape of y to (n_samples,), for example using ravel().\n",
      "  estimator.fit(X_train, y_train, **fit_params)\n",
      "c:\\Users\\nahomw\\Anaconda3\\envs\\alzhymer\\lib\\site-packages\\sklearn\\model_selection\\_validation.py:598: DataConversionWarning: A column-vector y was passed when a 1d array was expected. Please change the shape of y to (n_samples,), for example using ravel().\n",
      "  estimator.fit(X_train, y_train, **fit_params)\n",
      "c:\\Users\\nahomw\\Anaconda3\\envs\\alzhymer\\lib\\site-packages\\sklearn\\model_selection\\_validation.py:598: DataConversionWarning: A column-vector y was passed when a 1d array was expected. Please change the shape of y to (n_samples,), for example using ravel().\n",
      "  estimator.fit(X_train, y_train, **fit_params)\n",
      "c:\\Users\\nahomw\\Anaconda3\\envs\\alzhymer\\lib\\site-packages\\sklearn\\model_selection\\_validation.py:598: DataConversionWarning: A column-vector y was passed when a 1d array was expected. Please change the shape of y to (n_samples,), for example using ravel().\n",
      "  estimator.fit(X_train, y_train, **fit_params)\n",
      "c:\\Users\\nahomw\\Anaconda3\\envs\\alzhymer\\lib\\site-packages\\sklearn\\model_selection\\_validation.py:598: DataConversionWarning: A column-vector y was passed when a 1d array was expected. Please change the shape of y to (n_samples,), for example using ravel().\n",
      "  estimator.fit(X_train, y_train, **fit_params)\n",
      "c:\\Users\\nahomw\\Anaconda3\\envs\\alzhymer\\lib\\site-packages\\sklearn\\model_selection\\_validation.py:598: DataConversionWarning: A column-vector y was passed when a 1d array was expected. Please change the shape of y to (n_samples,), for example using ravel().\n",
      "  estimator.fit(X_train, y_train, **fit_params)\n",
      "c:\\Users\\nahomw\\Anaconda3\\envs\\alzhymer\\lib\\site-packages\\sklearn\\model_selection\\_validation.py:598: DataConversionWarning: A column-vector y was passed when a 1d array was expected. Please change the shape of y to (n_samples,), for example using ravel().\n",
      "  estimator.fit(X_train, y_train, **fit_params)\n",
      "c:\\Users\\nahomw\\Anaconda3\\envs\\alzhymer\\lib\\site-packages\\sklearn\\model_selection\\_validation.py:598: DataConversionWarning: A column-vector y was passed when a 1d array was expected. Please change the shape of y to (n_samples,), for example using ravel().\n",
      "  estimator.fit(X_train, y_train, **fit_params)\n",
      "c:\\Users\\nahomw\\Anaconda3\\envs\\alzhymer\\lib\\site-packages\\sklearn\\model_selection\\_validation.py:598: DataConversionWarning: A column-vector y was passed when a 1d array was expected. Please change the shape of y to (n_samples,), for example using ravel().\n",
      "  estimator.fit(X_train, y_train, **fit_params)\n",
      "c:\\Users\\nahomw\\Anaconda3\\envs\\alzhymer\\lib\\site-packages\\sklearn\\model_selection\\_validation.py:598: DataConversionWarning: A column-vector y was passed when a 1d array was expected. Please change the shape of y to (n_samples,), for example using ravel().\n",
      "  estimator.fit(X_train, y_train, **fit_params)\n",
      "c:\\Users\\nahomw\\Anaconda3\\envs\\alzhymer\\lib\\site-packages\\sklearn\\model_selection\\_validation.py:598: DataConversionWarning: A column-vector y was passed when a 1d array was expected. Please change the shape of y to (n_samples,), for example using ravel().\n",
      "  estimator.fit(X_train, y_train, **fit_params)\n",
      "c:\\Users\\nahomw\\Anaconda3\\envs\\alzhymer\\lib\\site-packages\\sklearn\\model_selection\\_validation.py:598: DataConversionWarning: A column-vector y was passed when a 1d array was expected. Please change the shape of y to (n_samples,), for example using ravel().\n",
      "  estimator.fit(X_train, y_train, **fit_params)\n",
      "c:\\Users\\nahomw\\Anaconda3\\envs\\alzhymer\\lib\\site-packages\\sklearn\\model_selection\\_validation.py:598: DataConversionWarning: A column-vector y was passed when a 1d array was expected. Please change the shape of y to (n_samples,), for example using ravel().\n",
      "  estimator.fit(X_train, y_train, **fit_params)\n",
      "c:\\Users\\nahomw\\Anaconda3\\envs\\alzhymer\\lib\\site-packages\\sklearn\\model_selection\\_validation.py:598: DataConversionWarning: A column-vector y was passed when a 1d array was expected. Please change the shape of y to (n_samples,), for example using ravel().\n",
      "  estimator.fit(X_train, y_train, **fit_params)\n",
      "c:\\Users\\nahomw\\Anaconda3\\envs\\alzhymer\\lib\\site-packages\\sklearn\\model_selection\\_validation.py:598: DataConversionWarning: A column-vector y was passed when a 1d array was expected. Please change the shape of y to (n_samples,), for example using ravel().\n",
      "  estimator.fit(X_train, y_train, **fit_params)\n",
      "c:\\Users\\nahomw\\Anaconda3\\envs\\alzhymer\\lib\\site-packages\\sklearn\\model_selection\\_validation.py:598: DataConversionWarning: A column-vector y was passed when a 1d array was expected. Please change the shape of y to (n_samples,), for example using ravel().\n",
      "  estimator.fit(X_train, y_train, **fit_params)\n",
      "c:\\Users\\nahomw\\Anaconda3\\envs\\alzhymer\\lib\\site-packages\\sklearn\\model_selection\\_validation.py:598: DataConversionWarning: A column-vector y was passed when a 1d array was expected. Please change the shape of y to (n_samples,), for example using ravel().\n",
      "  estimator.fit(X_train, y_train, **fit_params)\n",
      "c:\\Users\\nahomw\\Anaconda3\\envs\\alzhymer\\lib\\site-packages\\sklearn\\model_selection\\_validation.py:598: DataConversionWarning: A column-vector y was passed when a 1d array was expected. Please change the shape of y to (n_samples,), for example using ravel().\n",
      "  estimator.fit(X_train, y_train, **fit_params)\n",
      "c:\\Users\\nahomw\\Anaconda3\\envs\\alzhymer\\lib\\site-packages\\sklearn\\model_selection\\_validation.py:598: DataConversionWarning: A column-vector y was passed when a 1d array was expected. Please change the shape of y to (n_samples,), for example using ravel().\n",
      "  estimator.fit(X_train, y_train, **fit_params)\n",
      "c:\\Users\\nahomw\\Anaconda3\\envs\\alzhymer\\lib\\site-packages\\sklearn\\model_selection\\_validation.py:598: DataConversionWarning: A column-vector y was passed when a 1d array was expected. Please change the shape of y to (n_samples,), for example using ravel().\n",
      "  estimator.fit(X_train, y_train, **fit_params)\n",
      "c:\\Users\\nahomw\\Anaconda3\\envs\\alzhymer\\lib\\site-packages\\sklearn\\model_selection\\_validation.py:598: DataConversionWarning: A column-vector y was passed when a 1d array was expected. Please change the shape of y to (n_samples,), for example using ravel().\n",
      "  estimator.fit(X_train, y_train, **fit_params)\n",
      "c:\\Users\\nahomw\\Anaconda3\\envs\\alzhymer\\lib\\site-packages\\sklearn\\model_selection\\_validation.py:598: DataConversionWarning: A column-vector y was passed when a 1d array was expected. Please change the shape of y to (n_samples,), for example using ravel().\n",
      "  estimator.fit(X_train, y_train, **fit_params)\n",
      "c:\\Users\\nahomw\\Anaconda3\\envs\\alzhymer\\lib\\site-packages\\sklearn\\model_selection\\_validation.py:598: DataConversionWarning: A column-vector y was passed when a 1d array was expected. Please change the shape of y to (n_samples,), for example using ravel().\n",
      "  estimator.fit(X_train, y_train, **fit_params)\n",
      "c:\\Users\\nahomw\\Anaconda3\\envs\\alzhymer\\lib\\site-packages\\sklearn\\model_selection\\_validation.py:598: DataConversionWarning: A column-vector y was passed when a 1d array was expected. Please change the shape of y to (n_samples,), for example using ravel().\n",
      "  estimator.fit(X_train, y_train, **fit_params)\n",
      "c:\\Users\\nahomw\\Anaconda3\\envs\\alzhymer\\lib\\site-packages\\sklearn\\model_selection\\_validation.py:598: DataConversionWarning: A column-vector y was passed when a 1d array was expected. Please change the shape of y to (n_samples,), for example using ravel().\n",
      "  estimator.fit(X_train, y_train, **fit_params)\n",
      "c:\\Users\\nahomw\\Anaconda3\\envs\\alzhymer\\lib\\site-packages\\sklearn\\model_selection\\_validation.py:598: DataConversionWarning: A column-vector y was passed when a 1d array was expected. Please change the shape of y to (n_samples,), for example using ravel().\n",
      "  estimator.fit(X_train, y_train, **fit_params)\n",
      "c:\\Users\\nahomw\\Anaconda3\\envs\\alzhymer\\lib\\site-packages\\sklearn\\model_selection\\_validation.py:598: DataConversionWarning: A column-vector y was passed when a 1d array was expected. Please change the shape of y to (n_samples,), for example using ravel().\n",
      "  estimator.fit(X_train, y_train, **fit_params)\n",
      "c:\\Users\\nahomw\\Anaconda3\\envs\\alzhymer\\lib\\site-packages\\sklearn\\model_selection\\_validation.py:598: DataConversionWarning: A column-vector y was passed when a 1d array was expected. Please change the shape of y to (n_samples,), for example using ravel().\n",
      "  estimator.fit(X_train, y_train, **fit_params)\n",
      "c:\\Users\\nahomw\\Anaconda3\\envs\\alzhymer\\lib\\site-packages\\sklearn\\model_selection\\_validation.py:598: DataConversionWarning: A column-vector y was passed when a 1d array was expected. Please change the shape of y to (n_samples,), for example using ravel().\n",
      "  estimator.fit(X_train, y_train, **fit_params)\n",
      "c:\\Users\\nahomw\\Anaconda3\\envs\\alzhymer\\lib\\site-packages\\sklearn\\model_selection\\_validation.py:598: DataConversionWarning: A column-vector y was passed when a 1d array was expected. Please change the shape of y to (n_samples,), for example using ravel().\n",
      "  estimator.fit(X_train, y_train, **fit_params)\n",
      "c:\\Users\\nahomw\\Anaconda3\\envs\\alzhymer\\lib\\site-packages\\sklearn\\model_selection\\_validation.py:598: DataConversionWarning: A column-vector y was passed when a 1d array was expected. Please change the shape of y to (n_samples,), for example using ravel().\n",
      "  estimator.fit(X_train, y_train, **fit_params)\n",
      "c:\\Users\\nahomw\\Anaconda3\\envs\\alzhymer\\lib\\site-packages\\sklearn\\model_selection\\_validation.py:598: DataConversionWarning: A column-vector y was passed when a 1d array was expected. Please change the shape of y to (n_samples,), for example using ravel().\n",
      "  estimator.fit(X_train, y_train, **fit_params)\n",
      "c:\\Users\\nahomw\\Anaconda3\\envs\\alzhymer\\lib\\site-packages\\sklearn\\model_selection\\_validation.py:598: DataConversionWarning: A column-vector y was passed when a 1d array was expected. Please change the shape of y to (n_samples,), for example using ravel().\n",
      "  estimator.fit(X_train, y_train, **fit_params)\n",
      "c:\\Users\\nahomw\\Anaconda3\\envs\\alzhymer\\lib\\site-packages\\sklearn\\model_selection\\_validation.py:598: DataConversionWarning: A column-vector y was passed when a 1d array was expected. Please change the shape of y to (n_samples,), for example using ravel().\n",
      "  estimator.fit(X_train, y_train, **fit_params)\n",
      "c:\\Users\\nahomw\\Anaconda3\\envs\\alzhymer\\lib\\site-packages\\sklearn\\model_selection\\_validation.py:598: DataConversionWarning: A column-vector y was passed when a 1d array was expected. Please change the shape of y to (n_samples,), for example using ravel().\n",
      "  estimator.fit(X_train, y_train, **fit_params)\n",
      "c:\\Users\\nahomw\\Anaconda3\\envs\\alzhymer\\lib\\site-packages\\sklearn\\model_selection\\_validation.py:598: DataConversionWarning: A column-vector y was passed when a 1d array was expected. Please change the shape of y to (n_samples,), for example using ravel().\n",
      "  estimator.fit(X_train, y_train, **fit_params)\n",
      "c:\\Users\\nahomw\\Anaconda3\\envs\\alzhymer\\lib\\site-packages\\sklearn\\model_selection\\_validation.py:598: DataConversionWarning: A column-vector y was passed when a 1d array was expected. Please change the shape of y to (n_samples,), for example using ravel().\n",
      "  estimator.fit(X_train, y_train, **fit_params)\n",
      "c:\\Users\\nahomw\\Anaconda3\\envs\\alzhymer\\lib\\site-packages\\sklearn\\model_selection\\_validation.py:598: DataConversionWarning: A column-vector y was passed when a 1d array was expected. Please change the shape of y to (n_samples,), for example using ravel().\n",
      "  estimator.fit(X_train, y_train, **fit_params)\n",
      "c:\\Users\\nahomw\\Anaconda3\\envs\\alzhymer\\lib\\site-packages\\sklearn\\model_selection\\_validation.py:598: DataConversionWarning: A column-vector y was passed when a 1d array was expected. Please change the shape of y to (n_samples,), for example using ravel().\n",
      "  estimator.fit(X_train, y_train, **fit_params)\n",
      "c:\\Users\\nahomw\\Anaconda3\\envs\\alzhymer\\lib\\site-packages\\sklearn\\model_selection\\_validation.py:598: DataConversionWarning: A column-vector y was passed when a 1d array was expected. Please change the shape of y to (n_samples,), for example using ravel().\n",
      "  estimator.fit(X_train, y_train, **fit_params)\n",
      "c:\\Users\\nahomw\\Anaconda3\\envs\\alzhymer\\lib\\site-packages\\sklearn\\model_selection\\_validation.py:598: DataConversionWarning: A column-vector y was passed when a 1d array was expected. Please change the shape of y to (n_samples,), for example using ravel().\n",
      "  estimator.fit(X_train, y_train, **fit_params)\n",
      "c:\\Users\\nahomw\\Anaconda3\\envs\\alzhymer\\lib\\site-packages\\sklearn\\model_selection\\_validation.py:598: DataConversionWarning: A column-vector y was passed when a 1d array was expected. Please change the shape of y to (n_samples,), for example using ravel().\n",
      "  estimator.fit(X_train, y_train, **fit_params)\n",
      "c:\\Users\\nahomw\\Anaconda3\\envs\\alzhymer\\lib\\site-packages\\sklearn\\model_selection\\_validation.py:598: DataConversionWarning: A column-vector y was passed when a 1d array was expected. Please change the shape of y to (n_samples,), for example using ravel().\n",
      "  estimator.fit(X_train, y_train, **fit_params)\n",
      "c:\\Users\\nahomw\\Anaconda3\\envs\\alzhymer\\lib\\site-packages\\sklearn\\model_selection\\_validation.py:598: DataConversionWarning: A column-vector y was passed when a 1d array was expected. Please change the shape of y to (n_samples,), for example using ravel().\n",
      "  estimator.fit(X_train, y_train, **fit_params)\n",
      "c:\\Users\\nahomw\\Anaconda3\\envs\\alzhymer\\lib\\site-packages\\sklearn\\model_selection\\_validation.py:598: DataConversionWarning: A column-vector y was passed when a 1d array was expected. Please change the shape of y to (n_samples,), for example using ravel().\n",
      "  estimator.fit(X_train, y_train, **fit_params)\n",
      "c:\\Users\\nahomw\\Anaconda3\\envs\\alzhymer\\lib\\site-packages\\sklearn\\model_selection\\_validation.py:598: DataConversionWarning: A column-vector y was passed when a 1d array was expected. Please change the shape of y to (n_samples,), for example using ravel().\n",
      "  estimator.fit(X_train, y_train, **fit_params)\n",
      "c:\\Users\\nahomw\\Anaconda3\\envs\\alzhymer\\lib\\site-packages\\sklearn\\model_selection\\_validation.py:598: DataConversionWarning: A column-vector y was passed when a 1d array was expected. Please change the shape of y to (n_samples,), for example using ravel().\n",
      "  estimator.fit(X_train, y_train, **fit_params)\n",
      "c:\\Users\\nahomw\\Anaconda3\\envs\\alzhymer\\lib\\site-packages\\sklearn\\model_selection\\_validation.py:598: DataConversionWarning: A column-vector y was passed when a 1d array was expected. Please change the shape of y to (n_samples,), for example using ravel().\n",
      "  estimator.fit(X_train, y_train, **fit_params)\n",
      "c:\\Users\\nahomw\\Anaconda3\\envs\\alzhymer\\lib\\site-packages\\sklearn\\model_selection\\_validation.py:598: DataConversionWarning: A column-vector y was passed when a 1d array was expected. Please change the shape of y to (n_samples,), for example using ravel().\n",
      "  estimator.fit(X_train, y_train, **fit_params)\n",
      "c:\\Users\\nahomw\\Anaconda3\\envs\\alzhymer\\lib\\site-packages\\sklearn\\model_selection\\_validation.py:598: DataConversionWarning: A column-vector y was passed when a 1d array was expected. Please change the shape of y to (n_samples,), for example using ravel().\n",
      "  estimator.fit(X_train, y_train, **fit_params)\n",
      "c:\\Users\\nahomw\\Anaconda3\\envs\\alzhymer\\lib\\site-packages\\sklearn\\model_selection\\_validation.py:598: DataConversionWarning: A column-vector y was passed when a 1d array was expected. Please change the shape of y to (n_samples,), for example using ravel().\n",
      "  estimator.fit(X_train, y_train, **fit_params)\n",
      "c:\\Users\\nahomw\\Anaconda3\\envs\\alzhymer\\lib\\site-packages\\sklearn\\model_selection\\_validation.py:598: DataConversionWarning: A column-vector y was passed when a 1d array was expected. Please change the shape of y to (n_samples,), for example using ravel().\n",
      "  estimator.fit(X_train, y_train, **fit_params)\n",
      "c:\\Users\\nahomw\\Anaconda3\\envs\\alzhymer\\lib\\site-packages\\sklearn\\model_selection\\_validation.py:598: DataConversionWarning: A column-vector y was passed when a 1d array was expected. Please change the shape of y to (n_samples,), for example using ravel().\n",
      "  estimator.fit(X_train, y_train, **fit_params)\n",
      "c:\\Users\\nahomw\\Anaconda3\\envs\\alzhymer\\lib\\site-packages\\sklearn\\model_selection\\_validation.py:598: DataConversionWarning: A column-vector y was passed when a 1d array was expected. Please change the shape of y to (n_samples,), for example using ravel().\n",
      "  estimator.fit(X_train, y_train, **fit_params)\n",
      "c:\\Users\\nahomw\\Anaconda3\\envs\\alzhymer\\lib\\site-packages\\sklearn\\model_selection\\_validation.py:598: DataConversionWarning: A column-vector y was passed when a 1d array was expected. Please change the shape of y to (n_samples,), for example using ravel().\n",
      "  estimator.fit(X_train, y_train, **fit_params)\n",
      "c:\\Users\\nahomw\\Anaconda3\\envs\\alzhymer\\lib\\site-packages\\sklearn\\model_selection\\_validation.py:598: DataConversionWarning: A column-vector y was passed when a 1d array was expected. Please change the shape of y to (n_samples,), for example using ravel().\n",
      "  estimator.fit(X_train, y_train, **fit_params)\n",
      "c:\\Users\\nahomw\\Anaconda3\\envs\\alzhymer\\lib\\site-packages\\sklearn\\model_selection\\_validation.py:598: DataConversionWarning: A column-vector y was passed when a 1d array was expected. Please change the shape of y to (n_samples,), for example using ravel().\n",
      "  estimator.fit(X_train, y_train, **fit_params)\n",
      "c:\\Users\\nahomw\\Anaconda3\\envs\\alzhymer\\lib\\site-packages\\sklearn\\model_selection\\_validation.py:598: DataConversionWarning: A column-vector y was passed when a 1d array was expected. Please change the shape of y to (n_samples,), for example using ravel().\n",
      "  estimator.fit(X_train, y_train, **fit_params)\n",
      "c:\\Users\\nahomw\\Anaconda3\\envs\\alzhymer\\lib\\site-packages\\sklearn\\model_selection\\_validation.py:598: DataConversionWarning: A column-vector y was passed when a 1d array was expected. Please change the shape of y to (n_samples,), for example using ravel().\n",
      "  estimator.fit(X_train, y_train, **fit_params)\n",
      "c:\\Users\\nahomw\\Anaconda3\\envs\\alzhymer\\lib\\site-packages\\sklearn\\model_selection\\_validation.py:598: DataConversionWarning: A column-vector y was passed when a 1d array was expected. Please change the shape of y to (n_samples,), for example using ravel().\n",
      "  estimator.fit(X_train, y_train, **fit_params)\n",
      "c:\\Users\\nahomw\\Anaconda3\\envs\\alzhymer\\lib\\site-packages\\sklearn\\model_selection\\_validation.py:598: DataConversionWarning: A column-vector y was passed when a 1d array was expected. Please change the shape of y to (n_samples,), for example using ravel().\n",
      "  estimator.fit(X_train, y_train, **fit_params)\n",
      "c:\\Users\\nahomw\\Anaconda3\\envs\\alzhymer\\lib\\site-packages\\sklearn\\model_selection\\_validation.py:598: DataConversionWarning: A column-vector y was passed when a 1d array was expected. Please change the shape of y to (n_samples,), for example using ravel().\n",
      "  estimator.fit(X_train, y_train, **fit_params)\n",
      "c:\\Users\\nahomw\\Anaconda3\\envs\\alzhymer\\lib\\site-packages\\sklearn\\model_selection\\_validation.py:598: DataConversionWarning: A column-vector y was passed when a 1d array was expected. Please change the shape of y to (n_samples,), for example using ravel().\n",
      "  estimator.fit(X_train, y_train, **fit_params)\n",
      "c:\\Users\\nahomw\\Anaconda3\\envs\\alzhymer\\lib\\site-packages\\sklearn\\model_selection\\_validation.py:598: DataConversionWarning: A column-vector y was passed when a 1d array was expected. Please change the shape of y to (n_samples,), for example using ravel().\n",
      "  estimator.fit(X_train, y_train, **fit_params)\n",
      "c:\\Users\\nahomw\\Anaconda3\\envs\\alzhymer\\lib\\site-packages\\sklearn\\model_selection\\_validation.py:598: DataConversionWarning: A column-vector y was passed when a 1d array was expected. Please change the shape of y to (n_samples,), for example using ravel().\n",
      "  estimator.fit(X_train, y_train, **fit_params)\n",
      "c:\\Users\\nahomw\\Anaconda3\\envs\\alzhymer\\lib\\site-packages\\sklearn\\model_selection\\_validation.py:598: DataConversionWarning: A column-vector y was passed when a 1d array was expected. Please change the shape of y to (n_samples,), for example using ravel().\n",
      "  estimator.fit(X_train, y_train, **fit_params)\n",
      "c:\\Users\\nahomw\\Anaconda3\\envs\\alzhymer\\lib\\site-packages\\sklearn\\model_selection\\_validation.py:598: DataConversionWarning: A column-vector y was passed when a 1d array was expected. Please change the shape of y to (n_samples,), for example using ravel().\n",
      "  estimator.fit(X_train, y_train, **fit_params)\n",
      "c:\\Users\\nahomw\\Anaconda3\\envs\\alzhymer\\lib\\site-packages\\sklearn\\model_selection\\_validation.py:598: DataConversionWarning: A column-vector y was passed when a 1d array was expected. Please change the shape of y to (n_samples,), for example using ravel().\n",
      "  estimator.fit(X_train, y_train, **fit_params)\n",
      "c:\\Users\\nahomw\\Anaconda3\\envs\\alzhymer\\lib\\site-packages\\sklearn\\model_selection\\_validation.py:598: DataConversionWarning: A column-vector y was passed when a 1d array was expected. Please change the shape of y to (n_samples,), for example using ravel().\n",
      "  estimator.fit(X_train, y_train, **fit_params)\n",
      "c:\\Users\\nahomw\\Anaconda3\\envs\\alzhymer\\lib\\site-packages\\sklearn\\model_selection\\_validation.py:598: DataConversionWarning: A column-vector y was passed when a 1d array was expected. Please change the shape of y to (n_samples,), for example using ravel().\n",
      "  estimator.fit(X_train, y_train, **fit_params)\n",
      "c:\\Users\\nahomw\\Anaconda3\\envs\\alzhymer\\lib\\site-packages\\sklearn\\model_selection\\_validation.py:598: DataConversionWarning: A column-vector y was passed when a 1d array was expected. Please change the shape of y to (n_samples,), for example using ravel().\n",
      "  estimator.fit(X_train, y_train, **fit_params)\n",
      "c:\\Users\\nahomw\\Anaconda3\\envs\\alzhymer\\lib\\site-packages\\sklearn\\model_selection\\_validation.py:598: DataConversionWarning: A column-vector y was passed when a 1d array was expected. Please change the shape of y to (n_samples,), for example using ravel().\n",
      "  estimator.fit(X_train, y_train, **fit_params)\n",
      "c:\\Users\\nahomw\\Anaconda3\\envs\\alzhymer\\lib\\site-packages\\sklearn\\model_selection\\_validation.py:598: DataConversionWarning: A column-vector y was passed when a 1d array was expected. Please change the shape of y to (n_samples,), for example using ravel().\n",
      "  estimator.fit(X_train, y_train, **fit_params)\n",
      "c:\\Users\\nahomw\\Anaconda3\\envs\\alzhymer\\lib\\site-packages\\sklearn\\model_selection\\_validation.py:598: DataConversionWarning: A column-vector y was passed when a 1d array was expected. Please change the shape of y to (n_samples,), for example using ravel().\n",
      "  estimator.fit(X_train, y_train, **fit_params)\n",
      "c:\\Users\\nahomw\\Anaconda3\\envs\\alzhymer\\lib\\site-packages\\sklearn\\model_selection\\_validation.py:598: DataConversionWarning: A column-vector y was passed when a 1d array was expected. Please change the shape of y to (n_samples,), for example using ravel().\n",
      "  estimator.fit(X_train, y_train, **fit_params)\n",
      "c:\\Users\\nahomw\\Anaconda3\\envs\\alzhymer\\lib\\site-packages\\sklearn\\model_selection\\_validation.py:598: DataConversionWarning: A column-vector y was passed when a 1d array was expected. Please change the shape of y to (n_samples,), for example using ravel().\n",
      "  estimator.fit(X_train, y_train, **fit_params)\n",
      "c:\\Users\\nahomw\\Anaconda3\\envs\\alzhymer\\lib\\site-packages\\sklearn\\model_selection\\_validation.py:598: DataConversionWarning: A column-vector y was passed when a 1d array was expected. Please change the shape of y to (n_samples,), for example using ravel().\n",
      "  estimator.fit(X_train, y_train, **fit_params)\n",
      "c:\\Users\\nahomw\\Anaconda3\\envs\\alzhymer\\lib\\site-packages\\sklearn\\model_selection\\_validation.py:598: DataConversionWarning: A column-vector y was passed when a 1d array was expected. Please change the shape of y to (n_samples,), for example using ravel().\n",
      "  estimator.fit(X_train, y_train, **fit_params)\n",
      "c:\\Users\\nahomw\\Anaconda3\\envs\\alzhymer\\lib\\site-packages\\sklearn\\model_selection\\_validation.py:598: DataConversionWarning: A column-vector y was passed when a 1d array was expected. Please change the shape of y to (n_samples,), for example using ravel().\n",
      "  estimator.fit(X_train, y_train, **fit_params)\n",
      "c:\\Users\\nahomw\\Anaconda3\\envs\\alzhymer\\lib\\site-packages\\sklearn\\model_selection\\_validation.py:598: DataConversionWarning: A column-vector y was passed when a 1d array was expected. Please change the shape of y to (n_samples,), for example using ravel().\n",
      "  estimator.fit(X_train, y_train, **fit_params)\n",
      "c:\\Users\\nahomw\\Anaconda3\\envs\\alzhymer\\lib\\site-packages\\sklearn\\model_selection\\_validation.py:598: DataConversionWarning: A column-vector y was passed when a 1d array was expected. Please change the shape of y to (n_samples,), for example using ravel().\n",
      "  estimator.fit(X_train, y_train, **fit_params)\n",
      "c:\\Users\\nahomw\\Anaconda3\\envs\\alzhymer\\lib\\site-packages\\sklearn\\model_selection\\_validation.py:598: DataConversionWarning: A column-vector y was passed when a 1d array was expected. Please change the shape of y to (n_samples,), for example using ravel().\n",
      "  estimator.fit(X_train, y_train, **fit_params)\n",
      "c:\\Users\\nahomw\\Anaconda3\\envs\\alzhymer\\lib\\site-packages\\sklearn\\model_selection\\_validation.py:598: DataConversionWarning: A column-vector y was passed when a 1d array was expected. Please change the shape of y to (n_samples,), for example using ravel().\n",
      "  estimator.fit(X_train, y_train, **fit_params)\n",
      "c:\\Users\\nahomw\\Anaconda3\\envs\\alzhymer\\lib\\site-packages\\sklearn\\model_selection\\_validation.py:598: DataConversionWarning: A column-vector y was passed when a 1d array was expected. Please change the shape of y to (n_samples,), for example using ravel().\n",
      "  estimator.fit(X_train, y_train, **fit_params)\n",
      "c:\\Users\\nahomw\\Anaconda3\\envs\\alzhymer\\lib\\site-packages\\sklearn\\model_selection\\_validation.py:598: DataConversionWarning: A column-vector y was passed when a 1d array was expected. Please change the shape of y to (n_samples,), for example using ravel().\n",
      "  estimator.fit(X_train, y_train, **fit_params)\n",
      "c:\\Users\\nahomw\\Anaconda3\\envs\\alzhymer\\lib\\site-packages\\sklearn\\model_selection\\_validation.py:598: DataConversionWarning: A column-vector y was passed when a 1d array was expected. Please change the shape of y to (n_samples,), for example using ravel().\n",
      "  estimator.fit(X_train, y_train, **fit_params)\n",
      "c:\\Users\\nahomw\\Anaconda3\\envs\\alzhymer\\lib\\site-packages\\sklearn\\model_selection\\_validation.py:598: DataConversionWarning: A column-vector y was passed when a 1d array was expected. Please change the shape of y to (n_samples,), for example using ravel().\n",
      "  estimator.fit(X_train, y_train, **fit_params)\n",
      "c:\\Users\\nahomw\\Anaconda3\\envs\\alzhymer\\lib\\site-packages\\sklearn\\model_selection\\_validation.py:598: DataConversionWarning: A column-vector y was passed when a 1d array was expected. Please change the shape of y to (n_samples,), for example using ravel().\n",
      "  estimator.fit(X_train, y_train, **fit_params)\n",
      "c:\\Users\\nahomw\\Anaconda3\\envs\\alzhymer\\lib\\site-packages\\sklearn\\model_selection\\_validation.py:598: DataConversionWarning: A column-vector y was passed when a 1d array was expected. Please change the shape of y to (n_samples,), for example using ravel().\n",
      "  estimator.fit(X_train, y_train, **fit_params)\n",
      "c:\\Users\\nahomw\\Anaconda3\\envs\\alzhymer\\lib\\site-packages\\sklearn\\model_selection\\_validation.py:598: DataConversionWarning: A column-vector y was passed when a 1d array was expected. Please change the shape of y to (n_samples,), for example using ravel().\n",
      "  estimator.fit(X_train, y_train, **fit_params)\n",
      "c:\\Users\\nahomw\\Anaconda3\\envs\\alzhymer\\lib\\site-packages\\sklearn\\model_selection\\_validation.py:598: DataConversionWarning: A column-vector y was passed when a 1d array was expected. Please change the shape of y to (n_samples,), for example using ravel().\n",
      "  estimator.fit(X_train, y_train, **fit_params)\n",
      "c:\\Users\\nahomw\\Anaconda3\\envs\\alzhymer\\lib\\site-packages\\sklearn\\model_selection\\_validation.py:598: DataConversionWarning: A column-vector y was passed when a 1d array was expected. Please change the shape of y to (n_samples,), for example using ravel().\n",
      "  estimator.fit(X_train, y_train, **fit_params)\n",
      "c:\\Users\\nahomw\\Anaconda3\\envs\\alzhymer\\lib\\site-packages\\sklearn\\model_selection\\_validation.py:598: DataConversionWarning: A column-vector y was passed when a 1d array was expected. Please change the shape of y to (n_samples,), for example using ravel().\n",
      "  estimator.fit(X_train, y_train, **fit_params)\n",
      "c:\\Users\\nahomw\\Anaconda3\\envs\\alzhymer\\lib\\site-packages\\sklearn\\model_selection\\_validation.py:598: DataConversionWarning: A column-vector y was passed when a 1d array was expected. Please change the shape of y to (n_samples,), for example using ravel().\n",
      "  estimator.fit(X_train, y_train, **fit_params)\n",
      "c:\\Users\\nahomw\\Anaconda3\\envs\\alzhymer\\lib\\site-packages\\sklearn\\model_selection\\_validation.py:598: DataConversionWarning: A column-vector y was passed when a 1d array was expected. Please change the shape of y to (n_samples,), for example using ravel().\n",
      "  estimator.fit(X_train, y_train, **fit_params)\n",
      "c:\\Users\\nahomw\\Anaconda3\\envs\\alzhymer\\lib\\site-packages\\sklearn\\model_selection\\_validation.py:598: DataConversionWarning: A column-vector y was passed when a 1d array was expected. Please change the shape of y to (n_samples,), for example using ravel().\n",
      "  estimator.fit(X_train, y_train, **fit_params)\n",
      "c:\\Users\\nahomw\\Anaconda3\\envs\\alzhymer\\lib\\site-packages\\sklearn\\model_selection\\_validation.py:598: DataConversionWarning: A column-vector y was passed when a 1d array was expected. Please change the shape of y to (n_samples,), for example using ravel().\n",
      "  estimator.fit(X_train, y_train, **fit_params)\n",
      "c:\\Users\\nahomw\\Anaconda3\\envs\\alzhymer\\lib\\site-packages\\sklearn\\model_selection\\_validation.py:598: DataConversionWarning: A column-vector y was passed when a 1d array was expected. Please change the shape of y to (n_samples,), for example using ravel().\n",
      "  estimator.fit(X_train, y_train, **fit_params)\n",
      "c:\\Users\\nahomw\\Anaconda3\\envs\\alzhymer\\lib\\site-packages\\sklearn\\model_selection\\_validation.py:598: DataConversionWarning: A column-vector y was passed when a 1d array was expected. Please change the shape of y to (n_samples,), for example using ravel().\n",
      "  estimator.fit(X_train, y_train, **fit_params)\n",
      "c:\\Users\\nahomw\\Anaconda3\\envs\\alzhymer\\lib\\site-packages\\sklearn\\model_selection\\_validation.py:598: DataConversionWarning: A column-vector y was passed when a 1d array was expected. Please change the shape of y to (n_samples,), for example using ravel().\n",
      "  estimator.fit(X_train, y_train, **fit_params)\n",
      "c:\\Users\\nahomw\\Anaconda3\\envs\\alzhymer\\lib\\site-packages\\sklearn\\model_selection\\_validation.py:598: DataConversionWarning: A column-vector y was passed when a 1d array was expected. Please change the shape of y to (n_samples,), for example using ravel().\n",
      "  estimator.fit(X_train, y_train, **fit_params)\n",
      "c:\\Users\\nahomw\\Anaconda3\\envs\\alzhymer\\lib\\site-packages\\sklearn\\model_selection\\_validation.py:598: DataConversionWarning: A column-vector y was passed when a 1d array was expected. Please change the shape of y to (n_samples,), for example using ravel().\n",
      "  estimator.fit(X_train, y_train, **fit_params)\n",
      "c:\\Users\\nahomw\\Anaconda3\\envs\\alzhymer\\lib\\site-packages\\sklearn\\model_selection\\_validation.py:598: DataConversionWarning: A column-vector y was passed when a 1d array was expected. Please change the shape of y to (n_samples,), for example using ravel().\n",
      "  estimator.fit(X_train, y_train, **fit_params)\n",
      "c:\\Users\\nahomw\\Anaconda3\\envs\\alzhymer\\lib\\site-packages\\sklearn\\model_selection\\_validation.py:598: DataConversionWarning: A column-vector y was passed when a 1d array was expected. Please change the shape of y to (n_samples,), for example using ravel().\n",
      "  estimator.fit(X_train, y_train, **fit_params)\n",
      "c:\\Users\\nahomw\\Anaconda3\\envs\\alzhymer\\lib\\site-packages\\sklearn\\model_selection\\_validation.py:598: DataConversionWarning: A column-vector y was passed when a 1d array was expected. Please change the shape of y to (n_samples,), for example using ravel().\n",
      "  estimator.fit(X_train, y_train, **fit_params)\n",
      "c:\\Users\\nahomw\\Anaconda3\\envs\\alzhymer\\lib\\site-packages\\sklearn\\model_selection\\_validation.py:598: DataConversionWarning: A column-vector y was passed when a 1d array was expected. Please change the shape of y to (n_samples,), for example using ravel().\n",
      "  estimator.fit(X_train, y_train, **fit_params)\n",
      "c:\\Users\\nahomw\\Anaconda3\\envs\\alzhymer\\lib\\site-packages\\sklearn\\model_selection\\_validation.py:598: DataConversionWarning: A column-vector y was passed when a 1d array was expected. Please change the shape of y to (n_samples,), for example using ravel().\n",
      "  estimator.fit(X_train, y_train, **fit_params)\n",
      "c:\\Users\\nahomw\\Anaconda3\\envs\\alzhymer\\lib\\site-packages\\sklearn\\model_selection\\_validation.py:598: DataConversionWarning: A column-vector y was passed when a 1d array was expected. Please change the shape of y to (n_samples,), for example using ravel().\n",
      "  estimator.fit(X_train, y_train, **fit_params)\n",
      "c:\\Users\\nahomw\\Anaconda3\\envs\\alzhymer\\lib\\site-packages\\sklearn\\model_selection\\_validation.py:598: DataConversionWarning: A column-vector y was passed when a 1d array was expected. Please change the shape of y to (n_samples,), for example using ravel().\n",
      "  estimator.fit(X_train, y_train, **fit_params)\n",
      "c:\\Users\\nahomw\\Anaconda3\\envs\\alzhymer\\lib\\site-packages\\sklearn\\model_selection\\_validation.py:598: DataConversionWarning: A column-vector y was passed when a 1d array was expected. Please change the shape of y to (n_samples,), for example using ravel().\n",
      "  estimator.fit(X_train, y_train, **fit_params)\n",
      "c:\\Users\\nahomw\\Anaconda3\\envs\\alzhymer\\lib\\site-packages\\sklearn\\model_selection\\_validation.py:598: DataConversionWarning: A column-vector y was passed when a 1d array was expected. Please change the shape of y to (n_samples,), for example using ravel().\n",
      "  estimator.fit(X_train, y_train, **fit_params)\n",
      "c:\\Users\\nahomw\\Anaconda3\\envs\\alzhymer\\lib\\site-packages\\sklearn\\model_selection\\_validation.py:598: DataConversionWarning: A column-vector y was passed when a 1d array was expected. Please change the shape of y to (n_samples,), for example using ravel().\n",
      "  estimator.fit(X_train, y_train, **fit_params)\n",
      "c:\\Users\\nahomw\\Anaconda3\\envs\\alzhymer\\lib\\site-packages\\sklearn\\model_selection\\_validation.py:598: DataConversionWarning: A column-vector y was passed when a 1d array was expected. Please change the shape of y to (n_samples,), for example using ravel().\n",
      "  estimator.fit(X_train, y_train, **fit_params)\n",
      "c:\\Users\\nahomw\\Anaconda3\\envs\\alzhymer\\lib\\site-packages\\sklearn\\model_selection\\_validation.py:598: DataConversionWarning: A column-vector y was passed when a 1d array was expected. Please change the shape of y to (n_samples,), for example using ravel().\n",
      "  estimator.fit(X_train, y_train, **fit_params)\n",
      "c:\\Users\\nahomw\\Anaconda3\\envs\\alzhymer\\lib\\site-packages\\sklearn\\model_selection\\_validation.py:598: DataConversionWarning: A column-vector y was passed when a 1d array was expected. Please change the shape of y to (n_samples,), for example using ravel().\n",
      "  estimator.fit(X_train, y_train, **fit_params)\n",
      "c:\\Users\\nahomw\\Anaconda3\\envs\\alzhymer\\lib\\site-packages\\sklearn\\model_selection\\_validation.py:598: DataConversionWarning: A column-vector y was passed when a 1d array was expected. Please change the shape of y to (n_samples,), for example using ravel().\n",
      "  estimator.fit(X_train, y_train, **fit_params)\n",
      "c:\\Users\\nahomw\\Anaconda3\\envs\\alzhymer\\lib\\site-packages\\sklearn\\model_selection\\_validation.py:598: DataConversionWarning: A column-vector y was passed when a 1d array was expected. Please change the shape of y to (n_samples,), for example using ravel().\n",
      "  estimator.fit(X_train, y_train, **fit_params)\n",
      "c:\\Users\\nahomw\\Anaconda3\\envs\\alzhymer\\lib\\site-packages\\sklearn\\model_selection\\_validation.py:598: DataConversionWarning: A column-vector y was passed when a 1d array was expected. Please change the shape of y to (n_samples,), for example using ravel().\n",
      "  estimator.fit(X_train, y_train, **fit_params)\n",
      "c:\\Users\\nahomw\\Anaconda3\\envs\\alzhymer\\lib\\site-packages\\sklearn\\model_selection\\_validation.py:598: DataConversionWarning: A column-vector y was passed when a 1d array was expected. Please change the shape of y to (n_samples,), for example using ravel().\n",
      "  estimator.fit(X_train, y_train, **fit_params)\n",
      "c:\\Users\\nahomw\\Anaconda3\\envs\\alzhymer\\lib\\site-packages\\sklearn\\model_selection\\_validation.py:598: DataConversionWarning: A column-vector y was passed when a 1d array was expected. Please change the shape of y to (n_samples,), for example using ravel().\n",
      "  estimator.fit(X_train, y_train, **fit_params)\n",
      "c:\\Users\\nahomw\\Anaconda3\\envs\\alzhymer\\lib\\site-packages\\sklearn\\model_selection\\_validation.py:598: DataConversionWarning: A column-vector y was passed when a 1d array was expected. Please change the shape of y to (n_samples,), for example using ravel().\n",
      "  estimator.fit(X_train, y_train, **fit_params)\n",
      "c:\\Users\\nahomw\\Anaconda3\\envs\\alzhymer\\lib\\site-packages\\sklearn\\model_selection\\_validation.py:598: DataConversionWarning: A column-vector y was passed when a 1d array was expected. Please change the shape of y to (n_samples,), for example using ravel().\n",
      "  estimator.fit(X_train, y_train, **fit_params)\n",
      "c:\\Users\\nahomw\\Anaconda3\\envs\\alzhymer\\lib\\site-packages\\sklearn\\model_selection\\_validation.py:598: DataConversionWarning: A column-vector y was passed when a 1d array was expected. Please change the shape of y to (n_samples,), for example using ravel().\n",
      "  estimator.fit(X_train, y_train, **fit_params)\n",
      "c:\\Users\\nahomw\\Anaconda3\\envs\\alzhymer\\lib\\site-packages\\sklearn\\model_selection\\_validation.py:598: DataConversionWarning: A column-vector y was passed when a 1d array was expected. Please change the shape of y to (n_samples,), for example using ravel().\n",
      "  estimator.fit(X_train, y_train, **fit_params)\n",
      "c:\\Users\\nahomw\\Anaconda3\\envs\\alzhymer\\lib\\site-packages\\sklearn\\model_selection\\_validation.py:598: DataConversionWarning: A column-vector y was passed when a 1d array was expected. Please change the shape of y to (n_samples,), for example using ravel().\n",
      "  estimator.fit(X_train, y_train, **fit_params)\n",
      "c:\\Users\\nahomw\\Anaconda3\\envs\\alzhymer\\lib\\site-packages\\sklearn\\model_selection\\_validation.py:598: DataConversionWarning: A column-vector y was passed when a 1d array was expected. Please change the shape of y to (n_samples,), for example using ravel().\n",
      "  estimator.fit(X_train, y_train, **fit_params)\n",
      "c:\\Users\\nahomw\\Anaconda3\\envs\\alzhymer\\lib\\site-packages\\sklearn\\model_selection\\_validation.py:598: DataConversionWarning: A column-vector y was passed when a 1d array was expected. Please change the shape of y to (n_samples,), for example using ravel().\n",
      "  estimator.fit(X_train, y_train, **fit_params)\n",
      "c:\\Users\\nahomw\\Anaconda3\\envs\\alzhymer\\lib\\site-packages\\sklearn\\model_selection\\_validation.py:598: DataConversionWarning: A column-vector y was passed when a 1d array was expected. Please change the shape of y to (n_samples,), for example using ravel().\n",
      "  estimator.fit(X_train, y_train, **fit_params)\n",
      "c:\\Users\\nahomw\\Anaconda3\\envs\\alzhymer\\lib\\site-packages\\sklearn\\model_selection\\_validation.py:598: DataConversionWarning: A column-vector y was passed when a 1d array was expected. Please change the shape of y to (n_samples,), for example using ravel().\n",
      "  estimator.fit(X_train, y_train, **fit_params)\n",
      "c:\\Users\\nahomw\\Anaconda3\\envs\\alzhymer\\lib\\site-packages\\sklearn\\model_selection\\_validation.py:598: DataConversionWarning: A column-vector y was passed when a 1d array was expected. Please change the shape of y to (n_samples,), for example using ravel().\n",
      "  estimator.fit(X_train, y_train, **fit_params)\n",
      "c:\\Users\\nahomw\\Anaconda3\\envs\\alzhymer\\lib\\site-packages\\sklearn\\model_selection\\_validation.py:598: DataConversionWarning: A column-vector y was passed when a 1d array was expected. Please change the shape of y to (n_samples,), for example using ravel().\n",
      "  estimator.fit(X_train, y_train, **fit_params)\n",
      "c:\\Users\\nahomw\\Anaconda3\\envs\\alzhymer\\lib\\site-packages\\sklearn\\model_selection\\_validation.py:598: DataConversionWarning: A column-vector y was passed when a 1d array was expected. Please change the shape of y to (n_samples,), for example using ravel().\n",
      "  estimator.fit(X_train, y_train, **fit_params)\n",
      "c:\\Users\\nahomw\\Anaconda3\\envs\\alzhymer\\lib\\site-packages\\sklearn\\model_selection\\_validation.py:598: DataConversionWarning: A column-vector y was passed when a 1d array was expected. Please change the shape of y to (n_samples,), for example using ravel().\n",
      "  estimator.fit(X_train, y_train, **fit_params)\n",
      "c:\\Users\\nahomw\\Anaconda3\\envs\\alzhymer\\lib\\site-packages\\sklearn\\model_selection\\_validation.py:598: DataConversionWarning: A column-vector y was passed when a 1d array was expected. Please change the shape of y to (n_samples,), for example using ravel().\n",
      "  estimator.fit(X_train, y_train, **fit_params)\n",
      "c:\\Users\\nahomw\\Anaconda3\\envs\\alzhymer\\lib\\site-packages\\sklearn\\model_selection\\_validation.py:598: DataConversionWarning: A column-vector y was passed when a 1d array was expected. Please change the shape of y to (n_samples,), for example using ravel().\n",
      "  estimator.fit(X_train, y_train, **fit_params)\n",
      "c:\\Users\\nahomw\\Anaconda3\\envs\\alzhymer\\lib\\site-packages\\sklearn\\model_selection\\_validation.py:598: DataConversionWarning: A column-vector y was passed when a 1d array was expected. Please change the shape of y to (n_samples,), for example using ravel().\n",
      "  estimator.fit(X_train, y_train, **fit_params)\n",
      "c:\\Users\\nahomw\\Anaconda3\\envs\\alzhymer\\lib\\site-packages\\sklearn\\model_selection\\_validation.py:598: DataConversionWarning: A column-vector y was passed when a 1d array was expected. Please change the shape of y to (n_samples,), for example using ravel().\n",
      "  estimator.fit(X_train, y_train, **fit_params)\n",
      "c:\\Users\\nahomw\\Anaconda3\\envs\\alzhymer\\lib\\site-packages\\sklearn\\model_selection\\_validation.py:598: DataConversionWarning: A column-vector y was passed when a 1d array was expected. Please change the shape of y to (n_samples,), for example using ravel().\n",
      "  estimator.fit(X_train, y_train, **fit_params)\n",
      "c:\\Users\\nahomw\\Anaconda3\\envs\\alzhymer\\lib\\site-packages\\sklearn\\model_selection\\_validation.py:598: DataConversionWarning: A column-vector y was passed when a 1d array was expected. Please change the shape of y to (n_samples,), for example using ravel().\n",
      "  estimator.fit(X_train, y_train, **fit_params)\n",
      "c:\\Users\\nahomw\\Anaconda3\\envs\\alzhymer\\lib\\site-packages\\sklearn\\model_selection\\_validation.py:598: DataConversionWarning: A column-vector y was passed when a 1d array was expected. Please change the shape of y to (n_samples,), for example using ravel().\n",
      "  estimator.fit(X_train, y_train, **fit_params)\n",
      "c:\\Users\\nahomw\\Anaconda3\\envs\\alzhymer\\lib\\site-packages\\sklearn\\model_selection\\_validation.py:598: DataConversionWarning: A column-vector y was passed when a 1d array was expected. Please change the shape of y to (n_samples,), for example using ravel().\n",
      "  estimator.fit(X_train, y_train, **fit_params)\n",
      "c:\\Users\\nahomw\\Anaconda3\\envs\\alzhymer\\lib\\site-packages\\sklearn\\model_selection\\_validation.py:598: DataConversionWarning: A column-vector y was passed when a 1d array was expected. Please change the shape of y to (n_samples,), for example using ravel().\n",
      "  estimator.fit(X_train, y_train, **fit_params)\n",
      "c:\\Users\\nahomw\\Anaconda3\\envs\\alzhymer\\lib\\site-packages\\sklearn\\model_selection\\_validation.py:598: DataConversionWarning: A column-vector y was passed when a 1d array was expected. Please change the shape of y to (n_samples,), for example using ravel().\n",
      "  estimator.fit(X_train, y_train, **fit_params)\n",
      "c:\\Users\\nahomw\\Anaconda3\\envs\\alzhymer\\lib\\site-packages\\sklearn\\model_selection\\_validation.py:598: DataConversionWarning: A column-vector y was passed when a 1d array was expected. Please change the shape of y to (n_samples,), for example using ravel().\n",
      "  estimator.fit(X_train, y_train, **fit_params)\n",
      "c:\\Users\\nahomw\\Anaconda3\\envs\\alzhymer\\lib\\site-packages\\sklearn\\model_selection\\_validation.py:598: DataConversionWarning: A column-vector y was passed when a 1d array was expected. Please change the shape of y to (n_samples,), for example using ravel().\n",
      "  estimator.fit(X_train, y_train, **fit_params)\n",
      "c:\\Users\\nahomw\\Anaconda3\\envs\\alzhymer\\lib\\site-packages\\sklearn\\model_selection\\_validation.py:598: DataConversionWarning: A column-vector y was passed when a 1d array was expected. Please change the shape of y to (n_samples,), for example using ravel().\n",
      "  estimator.fit(X_train, y_train, **fit_params)\n",
      "c:\\Users\\nahomw\\Anaconda3\\envs\\alzhymer\\lib\\site-packages\\sklearn\\model_selection\\_validation.py:598: DataConversionWarning: A column-vector y was passed when a 1d array was expected. Please change the shape of y to (n_samples,), for example using ravel().\n",
      "  estimator.fit(X_train, y_train, **fit_params)\n",
      "c:\\Users\\nahomw\\Anaconda3\\envs\\alzhymer\\lib\\site-packages\\sklearn\\model_selection\\_validation.py:598: DataConversionWarning: A column-vector y was passed when a 1d array was expected. Please change the shape of y to (n_samples,), for example using ravel().\n",
      "  estimator.fit(X_train, y_train, **fit_params)\n",
      "c:\\Users\\nahomw\\Anaconda3\\envs\\alzhymer\\lib\\site-packages\\sklearn\\model_selection\\_validation.py:598: DataConversionWarning: A column-vector y was passed when a 1d array was expected. Please change the shape of y to (n_samples,), for example using ravel().\n",
      "  estimator.fit(X_train, y_train, **fit_params)\n",
      "c:\\Users\\nahomw\\Anaconda3\\envs\\alzhymer\\lib\\site-packages\\sklearn\\model_selection\\_validation.py:598: DataConversionWarning: A column-vector y was passed when a 1d array was expected. Please change the shape of y to (n_samples,), for example using ravel().\n",
      "  estimator.fit(X_train, y_train, **fit_params)\n",
      "c:\\Users\\nahomw\\Anaconda3\\envs\\alzhymer\\lib\\site-packages\\sklearn\\model_selection\\_validation.py:598: DataConversionWarning: A column-vector y was passed when a 1d array was expected. Please change the shape of y to (n_samples,), for example using ravel().\n",
      "  estimator.fit(X_train, y_train, **fit_params)\n",
      "c:\\Users\\nahomw\\Anaconda3\\envs\\alzhymer\\lib\\site-packages\\sklearn\\model_selection\\_validation.py:598: DataConversionWarning: A column-vector y was passed when a 1d array was expected. Please change the shape of y to (n_samples,), for example using ravel().\n",
      "  estimator.fit(X_train, y_train, **fit_params)\n",
      "c:\\Users\\nahomw\\Anaconda3\\envs\\alzhymer\\lib\\site-packages\\sklearn\\model_selection\\_validation.py:598: DataConversionWarning: A column-vector y was passed when a 1d array was expected. Please change the shape of y to (n_samples,), for example using ravel().\n",
      "  estimator.fit(X_train, y_train, **fit_params)\n",
      "c:\\Users\\nahomw\\Anaconda3\\envs\\alzhymer\\lib\\site-packages\\sklearn\\model_selection\\_validation.py:598: DataConversionWarning: A column-vector y was passed when a 1d array was expected. Please change the shape of y to (n_samples,), for example using ravel().\n",
      "  estimator.fit(X_train, y_train, **fit_params)\n",
      "c:\\Users\\nahomw\\Anaconda3\\envs\\alzhymer\\lib\\site-packages\\sklearn\\model_selection\\_validation.py:598: DataConversionWarning: A column-vector y was passed when a 1d array was expected. Please change the shape of y to (n_samples,), for example using ravel().\n",
      "  estimator.fit(X_train, y_train, **fit_params)\n",
      "c:\\Users\\nahomw\\Anaconda3\\envs\\alzhymer\\lib\\site-packages\\sklearn\\model_selection\\_validation.py:598: DataConversionWarning: A column-vector y was passed when a 1d array was expected. Please change the shape of y to (n_samples,), for example using ravel().\n",
      "  estimator.fit(X_train, y_train, **fit_params)\n",
      "c:\\Users\\nahomw\\Anaconda3\\envs\\alzhymer\\lib\\site-packages\\sklearn\\model_selection\\_validation.py:598: DataConversionWarning: A column-vector y was passed when a 1d array was expected. Please change the shape of y to (n_samples,), for example using ravel().\n",
      "  estimator.fit(X_train, y_train, **fit_params)\n",
      "c:\\Users\\nahomw\\Anaconda3\\envs\\alzhymer\\lib\\site-packages\\sklearn\\model_selection\\_validation.py:598: DataConversionWarning: A column-vector y was passed when a 1d array was expected. Please change the shape of y to (n_samples,), for example using ravel().\n",
      "  estimator.fit(X_train, y_train, **fit_params)\n",
      "c:\\Users\\nahomw\\Anaconda3\\envs\\alzhymer\\lib\\site-packages\\sklearn\\model_selection\\_validation.py:598: DataConversionWarning: A column-vector y was passed when a 1d array was expected. Please change the shape of y to (n_samples,), for example using ravel().\n",
      "  estimator.fit(X_train, y_train, **fit_params)\n",
      "c:\\Users\\nahomw\\Anaconda3\\envs\\alzhymer\\lib\\site-packages\\sklearn\\model_selection\\_validation.py:598: DataConversionWarning: A column-vector y was passed when a 1d array was expected. Please change the shape of y to (n_samples,), for example using ravel().\n",
      "  estimator.fit(X_train, y_train, **fit_params)\n",
      "c:\\Users\\nahomw\\Anaconda3\\envs\\alzhymer\\lib\\site-packages\\sklearn\\model_selection\\_validation.py:598: DataConversionWarning: A column-vector y was passed when a 1d array was expected. Please change the shape of y to (n_samples,), for example using ravel().\n",
      "  estimator.fit(X_train, y_train, **fit_params)\n",
      "c:\\Users\\nahomw\\Anaconda3\\envs\\alzhymer\\lib\\site-packages\\sklearn\\model_selection\\_validation.py:598: DataConversionWarning: A column-vector y was passed when a 1d array was expected. Please change the shape of y to (n_samples,), for example using ravel().\n",
      "  estimator.fit(X_train, y_train, **fit_params)\n",
      "c:\\Users\\nahomw\\Anaconda3\\envs\\alzhymer\\lib\\site-packages\\sklearn\\model_selection\\_validation.py:598: DataConversionWarning: A column-vector y was passed when a 1d array was expected. Please change the shape of y to (n_samples,), for example using ravel().\n",
      "  estimator.fit(X_train, y_train, **fit_params)\n",
      "c:\\Users\\nahomw\\Anaconda3\\envs\\alzhymer\\lib\\site-packages\\sklearn\\model_selection\\_validation.py:598: DataConversionWarning: A column-vector y was passed when a 1d array was expected. Please change the shape of y to (n_samples,), for example using ravel().\n",
      "  estimator.fit(X_train, y_train, **fit_params)\n",
      "c:\\Users\\nahomw\\Anaconda3\\envs\\alzhymer\\lib\\site-packages\\sklearn\\model_selection\\_validation.py:598: DataConversionWarning: A column-vector y was passed when a 1d array was expected. Please change the shape of y to (n_samples,), for example using ravel().\n",
      "  estimator.fit(X_train, y_train, **fit_params)\n",
      "c:\\Users\\nahomw\\Anaconda3\\envs\\alzhymer\\lib\\site-packages\\sklearn\\model_selection\\_validation.py:598: DataConversionWarning: A column-vector y was passed when a 1d array was expected. Please change the shape of y to (n_samples,), for example using ravel().\n",
      "  estimator.fit(X_train, y_train, **fit_params)\n",
      "c:\\Users\\nahomw\\Anaconda3\\envs\\alzhymer\\lib\\site-packages\\sklearn\\model_selection\\_validation.py:598: DataConversionWarning: A column-vector y was passed when a 1d array was expected. Please change the shape of y to (n_samples,), for example using ravel().\n",
      "  estimator.fit(X_train, y_train, **fit_params)\n",
      "c:\\Users\\nahomw\\Anaconda3\\envs\\alzhymer\\lib\\site-packages\\sklearn\\model_selection\\_validation.py:598: DataConversionWarning: A column-vector y was passed when a 1d array was expected. Please change the shape of y to (n_samples,), for example using ravel().\n",
      "  estimator.fit(X_train, y_train, **fit_params)\n",
      "c:\\Users\\nahomw\\Anaconda3\\envs\\alzhymer\\lib\\site-packages\\sklearn\\model_selection\\_validation.py:598: DataConversionWarning: A column-vector y was passed when a 1d array was expected. Please change the shape of y to (n_samples,), for example using ravel().\n",
      "  estimator.fit(X_train, y_train, **fit_params)\n",
      "c:\\Users\\nahomw\\Anaconda3\\envs\\alzhymer\\lib\\site-packages\\sklearn\\model_selection\\_validation.py:598: DataConversionWarning: A column-vector y was passed when a 1d array was expected. Please change the shape of y to (n_samples,), for example using ravel().\n",
      "  estimator.fit(X_train, y_train, **fit_params)\n",
      "c:\\Users\\nahomw\\Anaconda3\\envs\\alzhymer\\lib\\site-packages\\sklearn\\model_selection\\_validation.py:598: DataConversionWarning: A column-vector y was passed when a 1d array was expected. Please change the shape of y to (n_samples,), for example using ravel().\n",
      "  estimator.fit(X_train, y_train, **fit_params)\n",
      "c:\\Users\\nahomw\\Anaconda3\\envs\\alzhymer\\lib\\site-packages\\sklearn\\model_selection\\_validation.py:598: DataConversionWarning: A column-vector y was passed when a 1d array was expected. Please change the shape of y to (n_samples,), for example using ravel().\n",
      "  estimator.fit(X_train, y_train, **fit_params)\n",
      "c:\\Users\\nahomw\\Anaconda3\\envs\\alzhymer\\lib\\site-packages\\sklearn\\model_selection\\_validation.py:598: DataConversionWarning: A column-vector y was passed when a 1d array was expected. Please change the shape of y to (n_samples,), for example using ravel().\n",
      "  estimator.fit(X_train, y_train, **fit_params)\n",
      "c:\\Users\\nahomw\\Anaconda3\\envs\\alzhymer\\lib\\site-packages\\sklearn\\model_selection\\_validation.py:598: DataConversionWarning: A column-vector y was passed when a 1d array was expected. Please change the shape of y to (n_samples,), for example using ravel().\n",
      "  estimator.fit(X_train, y_train, **fit_params)\n",
      "c:\\Users\\nahomw\\Anaconda3\\envs\\alzhymer\\lib\\site-packages\\sklearn\\model_selection\\_validation.py:598: DataConversionWarning: A column-vector y was passed when a 1d array was expected. Please change the shape of y to (n_samples,), for example using ravel().\n",
      "  estimator.fit(X_train, y_train, **fit_params)\n",
      "c:\\Users\\nahomw\\Anaconda3\\envs\\alzhymer\\lib\\site-packages\\sklearn\\model_selection\\_validation.py:598: DataConversionWarning: A column-vector y was passed when a 1d array was expected. Please change the shape of y to (n_samples,), for example using ravel().\n",
      "  estimator.fit(X_train, y_train, **fit_params)\n",
      "c:\\Users\\nahomw\\Anaconda3\\envs\\alzhymer\\lib\\site-packages\\sklearn\\model_selection\\_validation.py:598: DataConversionWarning: A column-vector y was passed when a 1d array was expected. Please change the shape of y to (n_samples,), for example using ravel().\n",
      "  estimator.fit(X_train, y_train, **fit_params)\n",
      "c:\\Users\\nahomw\\Anaconda3\\envs\\alzhymer\\lib\\site-packages\\sklearn\\model_selection\\_search.py:880: DataConversionWarning: A column-vector y was passed when a 1d array was expected. Please change the shape of y to (n_samples,), for example using ravel().\n",
      "  self.best_estimator_.fit(X, y, **fit_params)\n"
     ]
    },
    {
     "name": "stdout",
     "output_type": "stream",
     "text": [
      "RandomForestClassifier(max_depth=6, max_leaf_nodes=9)\n"
     ]
    }
   ],
   "source": [
    "from sklearn.ensemble import RandomForestClassifier\n",
    "rfc_mod = RandomForestClassifier()\n",
    "grid_search = GridSearchCV(rfc_mod,\n",
    "\t\t\t\t\t\tparam_grid=param_grid)\n",
    "grid_search.fit(x_pca_train, y_train)\n",
    "print(grid_search.best_estimator_)\n"
   ]
  },
  {
   "cell_type": "code",
   "execution_count": 293,
   "metadata": {},
   "outputs": [
    {
     "name": "stderr",
     "output_type": "stream",
     "text": [
      "C:\\Users\\nahomw\\AppData\\Local\\Temp\\ipykernel_22380\\4260328783.py:3: DataConversionWarning: A column-vector y was passed when a 1d array was expected. Please change the shape of y to (n_samples,), for example using ravel().\n",
      "  rf_mod.fit(train_encoded,y_train)\n"
     ]
    },
    {
     "data": {
      "text/plain": [
       "RandomForestClassifier(max_depth=6, max_leaf_nodes=9)"
      ]
     },
     "execution_count": 293,
     "metadata": {},
     "output_type": "execute_result"
    }
   ],
   "source": [
    "from sklearn.ensemble import RandomForestClassifier\n",
    "rf_mod = RandomForestClassifier(max_depth=6,max_leaf_nodes=9)\n",
    "rf_mod.fit(train_encoded,y_train)\n"
   ]
  },
  {
   "cell_type": "code",
   "execution_count": 302,
   "metadata": {},
   "outputs": [
    {
     "name": "stdout",
     "output_type": "stream",
     "text": [
      "classification_report:               precision    recall  f1-score   support\n",
      "\n",
      "           0       1.00      0.78      0.88        77\n",
      "           1       0.93      1.00      0.96       223\n",
      "\n",
      "    accuracy                           0.94       300\n",
      "   macro avg       0.96      0.89      0.92       300\n",
      "weighted avg       0.95      0.94      0.94       300\n",
      "\n",
      "classification_report:               precision    recall  f1-score   support\n",
      "\n",
      "           0       1.00      0.70      0.82        20\n",
      "           1       0.93      1.00      0.96        80\n",
      "\n",
      "    accuracy                           0.94       100\n",
      "   macro avg       0.97      0.85      0.89       100\n",
      "weighted avg       0.94      0.94      0.94       100\n",
      "\n"
     ]
    }
   ],
   "source": [
    "print('classification_report:',classification_report(y_train, rf_mod.predict(train_encoded)))\n",
    "print('classification_report:',classification_report(y_valid, rf_mod.predict(test_encoded)))"
   ]
  },
  {
   "cell_type": "markdown",
   "metadata": {},
   "source": [
    "### Random Forest PCA"
   ]
  },
  {
   "cell_type": "code",
   "execution_count": 278,
   "metadata": {},
   "outputs": [
    {
     "name": "stderr",
     "output_type": "stream",
     "text": [
      "C:\\Users\\nahomw\\AppData\\Local\\Temp\\ipykernel_22380\\93800195.py:3: DataConversionWarning: A column-vector y was passed when a 1d array was expected. Please change the shape of y to (n_samples,), for example using ravel().\n",
      "  rf_mod.fit(x_pca_train,y_train)\n"
     ]
    },
    {
     "name": "stdout",
     "output_type": "stream",
     "text": [
      "classification_report:               precision    recall  f1-score   support\n",
      "\n",
      "           0       1.00      0.81      0.89        77\n",
      "           1       0.94      1.00      0.97       223\n",
      "\n",
      "    accuracy                           0.95       300\n",
      "   macro avg       0.97      0.90      0.93       300\n",
      "weighted avg       0.95      0.95      0.95       300\n",
      "\n",
      "classification_report:               precision    recall  f1-score   support\n",
      "\n",
      "           0       1.00      0.60      0.75        20\n",
      "           1       0.91      1.00      0.95        80\n",
      "\n",
      "    accuracy                           0.92       100\n",
      "   macro avg       0.95      0.80      0.85       100\n",
      "weighted avg       0.93      0.92      0.91       100\n",
      "\n"
     ]
    }
   ],
   "source": [
    "from sklearn.ensemble import RandomForestClassifier\n",
    "rf_mod = RandomForestClassifier(max_depth=6,max_leaf_nodes=9)\n",
    "rf_mod.fit(x_pca_train,y_train)\n",
    "print('classification_report:',classification_report(y_train, rf_mod.predict(x_pca_train)))\n",
    "print('classification_report:',classification_report(y_valid, rf_mod.predict(x_pca_valid)))"
   ]
  },
  {
   "cell_type": "code",
   "execution_count": 22,
   "metadata": {},
   "outputs": [],
   "source": [
    "from sklearn.ensemble import RandomForestClassifier\n",
    "rf_mod = RandomForestClassifier(max_depth=6, n_estimators=150,max_leaf_nodes=9, oob_score=True)\n",
    "rf_mod.fit(x_train_pca,y_train)\n",
    "# print('classification_report:',classification_report(y_train, rf_mod.predict(train_encoded)))\n",
    "print('classification_report:',classification_report(y_valid, rf_mod.predict(x_test_pca)))\n"
   ]
  },
  {
   "cell_type": "markdown",
   "metadata": {},
   "source": [
    "### METHOD 4: FEATURE SELECTION USING PCA OR VAE, THEN USING GRAPH NEURAL NET"
   ]
  },
  {
   "cell_type": "code",
   "execution_count": 184,
   "metadata": {},
   "outputs": [
    {
     "data": {
      "text/plain": [
       "(400, 57)"
      ]
     },
     "execution_count": 184,
     "metadata": {},
     "output_type": "execute_result"
    }
   ],
   "source": [
    "x_pca_test = pca.transform(x_test)\n",
    "x_pca_test.shape"
   ]
  },
  {
   "cell_type": "code",
   "execution_count": 186,
   "metadata": {},
   "outputs": [],
   "source": [
    "to_file = pca_svc.predict(x_pca_test)\n"
   ]
  },
  {
   "cell_type": "code",
   "execution_count": null,
   "metadata": {},
   "outputs": [],
   "source": [
    "# model_logit = LogisticRegression(solver='liblinear', random_state=0).fit(x_pca_train,y_train)\n",
    "# print('classification_report:',classification_report(model_logit.predict(x_pca_train),y_train))\n",
    "# print('classification_report:',classification_report(model_logit.predict(x_pca_valid),y_valid))\n",
    "# print('accuracy:', accuracy_score(model_logit.predict(x_pca_valid),y_valid))"
   ]
  },
  {
   "cell_type": "code",
   "execution_count": 188,
   "metadata": {},
   "outputs": [],
   "source": [
    "import pandas as pd\n",
    "df_prev = pd.DataFrame(to_file)\n",
    "df_prev.replace({0:'C',1:'AD'}, inplace = True)"
   ]
  },
  {
   "cell_type": "code",
   "execution_count": 189,
   "metadata": {},
   "outputs": [],
   "source": [
    "df_prev.to_csv('test_alz_pred_2.csv',index = False)"
   ]
  },
  {
   "cell_type": "code",
   "execution_count": 191,
   "metadata": {},
   "outputs": [
    {
     "data": {
      "text/plain": [
       "AD    308\n",
       "C      92\n",
       "dtype: int64"
      ]
     },
     "execution_count": 191,
     "metadata": {},
     "output_type": "execute_result"
    }
   ],
   "source": [
    "df_prev.value_counts()"
   ]
  },
  {
   "cell_type": "code",
   "execution_count": 217,
   "metadata": {},
   "outputs": [
    {
     "data": {
      "text/plain": [
       "1.0"
      ]
     },
     "execution_count": 217,
     "metadata": {},
     "output_type": "execute_result"
    }
   ],
   "source": [
    "accuracy_score(df_read,df_prev)"
   ]
  },
  {
   "cell_type": "code",
   "execution_count": 153,
   "metadata": {},
   "outputs": [
    {
     "ename": "ValueError",
     "evalue": "X has 360 features per sample; expecting 300",
     "output_type": "error",
     "traceback": [
      "\u001b[1;31m---------------------------------------------------------------------------\u001b[0m",
      "\u001b[1;31mValueError\u001b[0m                                Traceback (most recent call last)",
      "Cell \u001b[1;32mIn[153], line 1\u001b[0m\n\u001b[1;32m----> 1\u001b[0m tt \u001b[38;5;241m=\u001b[39m \u001b[43mmodel_logit\u001b[49m\u001b[38;5;241;43m.\u001b[39;49m\u001b[43mpredict\u001b[49m\u001b[43m(\u001b[49m\u001b[43mx\u001b[49m\u001b[43m)\u001b[49m\n\u001b[0;32m      2\u001b[0m tt \u001b[38;5;241m=\u001b[39m pd\u001b[38;5;241m.\u001b[39mDataFrame(tt)\n\u001b[0;32m      3\u001b[0m tt\u001b[38;5;241m.\u001b[39mvalue_counts()\n",
      "File \u001b[1;32mc:\\Users\\nahomw\\Anaconda3\\envs\\alzhymer\\lib\\site-packages\\sklearn\\linear_model\\_base.py:309\u001b[0m, in \u001b[0;36mLinearClassifierMixin.predict\u001b[1;34m(self, X)\u001b[0m\n\u001b[0;32m    295\u001b[0m \u001b[39mdef\u001b[39;00m \u001b[39mpredict\u001b[39m(\u001b[39mself\u001b[39m, X):\n\u001b[0;32m    296\u001b[0m \u001b[39m    \u001b[39m\u001b[39m\"\"\"\u001b[39;00m\n\u001b[0;32m    297\u001b[0m \u001b[39m    Predict class labels for samples in X.\u001b[39;00m\n\u001b[0;32m    298\u001b[0m \n\u001b[1;32m   (...)\u001b[0m\n\u001b[0;32m    307\u001b[0m \u001b[39m        Predicted class label per sample.\u001b[39;00m\n\u001b[0;32m    308\u001b[0m \u001b[39m    \"\"\"\u001b[39;00m\n\u001b[1;32m--> 309\u001b[0m     scores \u001b[39m=\u001b[39m \u001b[39mself\u001b[39;49m\u001b[39m.\u001b[39;49mdecision_function(X)\n\u001b[0;32m    310\u001b[0m     \u001b[39mif\u001b[39;00m \u001b[39mlen\u001b[39m(scores\u001b[39m.\u001b[39mshape) \u001b[39m==\u001b[39m \u001b[39m1\u001b[39m:\n\u001b[0;32m    311\u001b[0m         indices \u001b[39m=\u001b[39m (scores \u001b[39m>\u001b[39m \u001b[39m0\u001b[39m)\u001b[39m.\u001b[39mastype(\u001b[39mint\u001b[39m)\n",
      "File \u001b[1;32mc:\\Users\\nahomw\\Anaconda3\\envs\\alzhymer\\lib\\site-packages\\sklearn\\linear_model\\_base.py:288\u001b[0m, in \u001b[0;36mLinearClassifierMixin.decision_function\u001b[1;34m(self, X)\u001b[0m\n\u001b[0;32m    286\u001b[0m n_features \u001b[39m=\u001b[39m \u001b[39mself\u001b[39m\u001b[39m.\u001b[39mcoef_\u001b[39m.\u001b[39mshape[\u001b[39m1\u001b[39m]\n\u001b[0;32m    287\u001b[0m \u001b[39mif\u001b[39;00m X\u001b[39m.\u001b[39mshape[\u001b[39m1\u001b[39m] \u001b[39m!=\u001b[39m n_features:\n\u001b[1;32m--> 288\u001b[0m     \u001b[39mraise\u001b[39;00m \u001b[39mValueError\u001b[39;00m(\u001b[39m\"\u001b[39m\u001b[39mX has \u001b[39m\u001b[39m%d\u001b[39;00m\u001b[39m features per sample; expecting \u001b[39m\u001b[39m%d\u001b[39;00m\u001b[39m\"\u001b[39m\n\u001b[0;32m    289\u001b[0m                      \u001b[39m%\u001b[39m (X\u001b[39m.\u001b[39mshape[\u001b[39m1\u001b[39m], n_features))\n\u001b[0;32m    291\u001b[0m scores \u001b[39m=\u001b[39m safe_sparse_dot(X, \u001b[39mself\u001b[39m\u001b[39m.\u001b[39mcoef_\u001b[39m.\u001b[39mT,\n\u001b[0;32m    292\u001b[0m                          dense_output\u001b[39m=\u001b[39m\u001b[39mTrue\u001b[39;00m) \u001b[39m+\u001b[39m \u001b[39mself\u001b[39m\u001b[39m.\u001b[39mintercept_\n\u001b[0;32m    293\u001b[0m \u001b[39mreturn\u001b[39;00m scores\u001b[39m.\u001b[39mravel() \u001b[39mif\u001b[39;00m scores\u001b[39m.\u001b[39mshape[\u001b[39m1\u001b[39m] \u001b[39m==\u001b[39m \u001b[39m1\u001b[39m \u001b[39melse\u001b[39;00m scores\n",
      "\u001b[1;31mValueError\u001b[0m: X has 360 features per sample; expecting 300"
     ]
    }
   ],
   "source": [
    "tt = model_logit.predict(x)\n",
    "tt = pd.DataFrame(tt)\n",
    "tt.value_counts()"
   ]
  },
  {
   "cell_type": "code",
   "execution_count": 23,
   "metadata": {},
   "outputs": [],
   "source": [
    "from sklearn.metrics import roc_auc_score, roc_curve\n",
    "from sklearn.discriminant_analysis import LinearDiscriminantAnalysis, QuadraticDiscriminantAnalysis\n",
    "model_lda = LinearDiscriminantAnalysis()\n",
    "model_lda.fit(train_encoded, y_train)\n",
    "print('classification_report:',classification_report(model_lda.predict(train_encoded),y_train))\n",
    "print('classification_report:',classification_report(model_lda.predict(test_encoded),y_valid))"
   ]
  },
  {
   "cell_type": "code",
   "execution_count": 305,
   "metadata": {},
   "outputs": [
    {
     "ename": "NameError",
     "evalue": "name 'pca_svc_prob' is not defined",
     "output_type": "error",
     "traceback": [
      "\u001b[1;31m---------------------------------------------------------------------------\u001b[0m",
      "\u001b[1;31mNameError\u001b[0m                                 Traceback (most recent call last)",
      "Cell \u001b[1;32mIn[305], line 8\u001b[0m\n\u001b[0;32m      6\u001b[0m y_pred_proba_RF \u001b[38;5;241m=\u001b[39m rf_mod\u001b[38;5;241m.\u001b[39mpredict_proba(test_encoded)[::,\u001b[38;5;241m1\u001b[39m]\n\u001b[0;32m      7\u001b[0m y_pred_proba_xgb \u001b[38;5;241m=\u001b[39m xgb_unbalanced\u001b[38;5;241m.\u001b[39mpredict_proba(test_encoded)[::,\u001b[38;5;241m1\u001b[39m]\n\u001b[1;32m----> 8\u001b[0m y_pred_proba_svm \u001b[38;5;241m=\u001b[39m \u001b[43mpca_svc_prob\u001b[49m\u001b[38;5;241m.\u001b[39mpredict_proba(test_encoded)[::,\u001b[38;5;241m1\u001b[39m]\n\u001b[0;32m      9\u001b[0m y_pred_proba_lda\u001b[38;5;241m=\u001b[39m model_lda\u001b[38;5;241m.\u001b[39mpredict_proba(test_encoded)[::,\u001b[38;5;241m1\u001b[39m]\n\u001b[0;32m     11\u001b[0m fpr_logit, tpr_logit, _ \u001b[38;5;241m=\u001b[39m roc_curve(y_valid,  y_pred_proba_logit)\n",
      "\u001b[1;31mNameError\u001b[0m: name 'pca_svc_prob' is not defined"
     ]
    }
   ],
   "source": [
    "#define metrics\n",
    "from sklearn.metrics import roc_auc_score, roc_curve\n",
    "from sklearn.discriminant_analysis import LinearDiscriminantAnalysis, QuadraticDiscriminantAnalysis\n",
    "\n",
    "y_pred_proba_logit = model_logit_ae.predict_proba(test_encoded)[::,1]\n",
    "y_pred_proba_RF = rf_mod.predict_proba(test_encoded)[::,1]\n",
    "y_pred_proba_xgb = xgb_unbalanced.predict_proba(test_encoded)[::,1]\n",
    "y_pred_proba_svm = pca_svc_prob.predict_proba(test_encoded)[::,1]\n",
    "y_pred_proba_lda= model_lda.predict_proba(test_encoded)[::,1]\n",
    "\n",
    "fpr_logit, tpr_logit, _ = roc_curve(y_valid,  y_pred_proba_logit)\n",
    "fpr_rf, tpr_rf, _ = roc_curve(y_valid,  y_pred_proba_RF)\n",
    "fpr_xgb, tpr_xgb, _ = roc_curve(y_valid,  y_pred_proba_xgb)\n",
    "fpr_svm, tpr_svm, _ = roc_curve(y_valid,  y_pred_proba_svm)\n",
    "fpr_lda, tpr_lda, _ = roc_curve(y_valid,  y_pred_proba_lda)\n",
    "\n",
    "auc_logit = roc_auc_score(y_valid, y_pred_proba_logit)\n",
    "auc_RF = roc_auc_score(y_valid, y_pred_proba_RF)\n",
    "auc_xgb = roc_auc_score(y_valid, y_pred_proba_xgb)\n",
    "auc_svm = roc_auc_score(y_valid, y_pred_proba_svm)\n",
    "auc_lda = roc_auc_score(y_valid, y_pred_proba_lda)\n",
    "\n"
   ]
  },
  {
   "cell_type": "code",
   "execution_count": 95,
   "metadata": {},
   "outputs": [
    {
     "data": {
      "image/png": "[encoded data removed]",
      "text/plain": [
       "<Figure size 640x480 with 1 Axes>"
      ]
     },
     "metadata": {},
     "output_type": "display_data"
    }
   ],
   "source": [
    "\n",
    "#create ROC curve\n",
    "import matplotlib.pyplot as plt\n",
    "plt.plot(fpr_logit, tpr_logit,label=\"AUC_logit=\"+str(auc_logit))\n",
    "plt.plot(fpr_lda, tpr_lda,label=\"AUC_lda=\"+str(auc_lda))\n",
    "plt.plot(fpr_rf, tpr_rf,label=\"AUC_RF=\"+str(auc_RF))\n",
    "plt.plot(fpr_svm, tpr_svm,label=\"AUC_SVM=\"+str(auc_svm))\n",
    "plt.plot(fpr_xgb, tpr_xgb,label=\"AUC_XGB=\"+str(auc_xgb))\n",
    "\n",
    "\n",
    "# plt.plot(fpr_elas, tpr_elas,label=\"AUC=\"+str(auc))\n",
    "plt.ylabel('True Positive Rate')\n",
    "plt.xlabel('False Positive Rate')\n",
    "plt.legend(loc=4)\n",
    "plt.show()"
   ]
  },
  {
   "cell_type": "code",
   "execution_count": 270,
   "metadata": {},
   "outputs": [
    {
     "name": "stdout",
     "output_type": "stream",
     "text": [
      "classification_report:               precision    recall  f1-score   support\n",
      "\n",
      "           0       0.95      0.90      0.92        20\n",
      "           1       0.98      0.99      0.98        80\n",
      "\n",
      "    accuracy                           0.97       100\n",
      "   macro avg       0.96      0.94      0.95       100\n",
      "weighted avg       0.97      0.97      0.97       100\n",
      "\n"
     ]
    },
    {
     "name": "stderr",
     "output_type": "stream",
     "text": [
      "c:\\Users\\nahomw\\Anaconda3\\envs\\alzhymer\\lib\\site-packages\\sklearn\\utils\\validation.py:63: DataConversionWarning: A column-vector y was passed when a 1d array was expected. Please change the shape of y to (n_samples, ), for example using ravel().\n",
      "  return f(*args, **kwargs)\n"
     ]
    }
   ],
   "source": [
    "from sklearn.discriminant_analysis import LinearDiscriminantAnalysis, QuadraticDiscriminantAnalysis\n",
    "model_qda = QuadraticDiscriminantAnalysis()\n",
    "model_lda = LinearDiscriminantAnalysis()\n",
    "model_lda.predict_proba\n",
    "# model_qda.fit(train_encoded, y_train)\n",
    "model_lda.fit(x_pca_train, y_train)\n",
    "print('classification_report:',classification_report(y_valid, model_lda.predict(x_pca_valid)))\n"
   ]
  },
  {
   "cell_type": "code",
   "execution_count": 271,
   "metadata": {},
   "outputs": [
    {
     "name": "stdout",
     "output_type": "stream",
     "text": [
      "classification_report:               precision    recall  f1-score   support\n",
      "\n",
      "           0       0.95      0.90      0.92        20\n",
      "           1       0.98      0.99      0.98        80\n",
      "\n",
      "    accuracy                           0.97       100\n",
      "   macro avg       0.96      0.94      0.95       100\n",
      "weighted avg       0.97      0.97      0.97       100\n",
      "\n"
     ]
    },
    {
     "name": "stderr",
     "output_type": "stream",
     "text": [
      "c:\\Users\\nahomw\\Anaconda3\\envs\\alzhymer\\lib\\site-packages\\sklearn\\utils\\validation.py:63: DataConversionWarning: A column-vector y was passed when a 1d array was expected. Please change the shape of y to (n_samples, ), for example using ravel().\n",
      "  return f(*args, **kwargs)\n"
     ]
    }
   ],
   "source": [
    "from sklearn.discriminant_analysis import LinearDiscriminantAnalysis, QuadraticDiscriminantAnalysis\n",
    "model_qda = QuadraticDiscriminantAnalysis()\n",
    "model_lda = LinearDiscriminantAnalysis()\n",
    "model_lda.predict_proba\n",
    "# model_qda.fit(train_encoded, y_train)\n",
    "model_lda.fit(train_encoded, y_train)\n",
    "print('classification_report:',classification_report(y_valid, model_lda.predict(test_encoded)))\n"
   ]
  },
  {
   "cell_type": "code",
   "execution_count": null,
   "metadata": {},
   "outputs": [],
   "source": []
  }
 ],
 "metadata": {
  "kernelspec": {
   "display_name": "Python 3.8.13 ('alzhymer')",
   "language": "python",
   "name": "python3"
  },
  "language_info": {
   "codemirror_mode": {
    "name": "ipython",
    "version": 3
   },
   "file_extension": ".py",
   "mimetype": "text/x-python",
   "name": "python",
   "nbconvert_exporter": "python",
   "pygments_lexer": "ipython3",
   "version": "3.8.13"
  },
  "orig_nbformat": 4,
  "vscode": {
   "interpreter": {
    "hash": "3f1032128968871d824ee9c779ab00a79d70df1ba9e588c74f3e40dbe0492ce7"
   }
  }
 },
 "nbformat": 4,
 "nbformat_minor": 2
}
